{
 "cells": [
  {
   "cell_type": "markdown",
   "id": "7080db01",
   "metadata": {
    "id": "t5XfQh5Jz6-v",
    "papermill": {
     "duration": 0.019025,
     "end_time": "2022-11-26T14:46:21.326405",
     "exception": false,
     "start_time": "2022-11-26T14:46:21.307380",
     "status": "completed"
    },
    "tags": []
   },
   "source": [
    "# **ANALYSIS OF STROKE DATASET**"
   ]
  },
  {
   "cell_type": "markdown",
   "id": "5f3fbd4b",
   "metadata": {
    "id": "ESoLH919z6-0",
    "papermill": {
     "duration": 0.016661,
     "end_time": "2022-11-26T14:46:21.360215",
     "exception": false,
     "start_time": "2022-11-26T14:46:21.343554",
     "status": "completed"
    },
    "tags": []
   },
   "source": [
    "# **EDA**"
   ]
  },
  {
   "cell_type": "code",
   "execution_count": 1,
   "id": "71903bbf",
   "metadata": {
    "execution": {
     "iopub.execute_input": "2022-11-26T14:46:21.397249Z",
     "iopub.status.busy": "2022-11-26T14:46:21.396463Z",
     "iopub.status.idle": "2022-11-26T14:46:22.511316Z",
     "shell.execute_reply": "2022-11-26T14:46:22.509870Z"
    },
    "id": "u-CO51huz6-2",
    "papermill": {
     "duration": 1.137561,
     "end_time": "2022-11-26T14:46:22.514798",
     "exception": false,
     "start_time": "2022-11-26T14:46:21.377237",
     "status": "completed"
    },
    "tags": []
   },
   "outputs": [],
   "source": [
    "import pandas as pd\n",
    "import matplotlib.pyplot as plt\n",
    "import seaborn as sns\n",
    "%matplotlib inline\n",
    "plt.style.use('ggplot')"
   ]
  },
  {
   "cell_type": "code",
   "execution_count": 2,
   "id": "39e3b9da",
   "metadata": {
    "execution": {
     "iopub.execute_input": "2022-11-26T14:46:22.550739Z",
     "iopub.status.busy": "2022-11-26T14:46:22.550003Z",
     "iopub.status.idle": "2022-11-26T14:46:22.613008Z",
     "shell.execute_reply": "2022-11-26T14:46:22.611707Z"
    },
    "id": "IGltlQulz6-5",
    "outputId": "9866cca2-3f07-4504-defb-c27fc4d3415c",
    "papermill": {
     "duration": 0.083816,
     "end_time": "2022-11-26T14:46:22.615744",
     "exception": false,
     "start_time": "2022-11-26T14:46:22.531928",
     "status": "completed"
    },
    "tags": []
   },
   "outputs": [
    {
     "data": {
      "text/html": [
       "<div>\n",
       "<style scoped>\n",
       "    .dataframe tbody tr th:only-of-type {\n",
       "        vertical-align: middle;\n",
       "    }\n",
       "\n",
       "    .dataframe tbody tr th {\n",
       "        vertical-align: top;\n",
       "    }\n",
       "\n",
       "    .dataframe thead th {\n",
       "        text-align: right;\n",
       "    }\n",
       "</style>\n",
       "<table border=\"1\" class=\"dataframe\">\n",
       "  <thead>\n",
       "    <tr style=\"text-align: right;\">\n",
       "      <th></th>\n",
       "      <th>id</th>\n",
       "      <th>gender</th>\n",
       "      <th>age</th>\n",
       "      <th>hypertension</th>\n",
       "      <th>heart_disease</th>\n",
       "      <th>ever_married</th>\n",
       "      <th>work_type</th>\n",
       "      <th>Residence_type</th>\n",
       "      <th>avg_glucose_level</th>\n",
       "      <th>bmi</th>\n",
       "      <th>smoking_status</th>\n",
       "      <th>stroke</th>\n",
       "    </tr>\n",
       "  </thead>\n",
       "  <tbody>\n",
       "    <tr>\n",
       "      <th>0</th>\n",
       "      <td>9046</td>\n",
       "      <td>Male</td>\n",
       "      <td>67.0</td>\n",
       "      <td>0</td>\n",
       "      <td>1</td>\n",
       "      <td>Yes</td>\n",
       "      <td>Private</td>\n",
       "      <td>Urban</td>\n",
       "      <td>228.69</td>\n",
       "      <td>36.6</td>\n",
       "      <td>formerly smoked</td>\n",
       "      <td>1</td>\n",
       "    </tr>\n",
       "    <tr>\n",
       "      <th>1</th>\n",
       "      <td>51676</td>\n",
       "      <td>Female</td>\n",
       "      <td>61.0</td>\n",
       "      <td>0</td>\n",
       "      <td>0</td>\n",
       "      <td>Yes</td>\n",
       "      <td>Self-employed</td>\n",
       "      <td>Rural</td>\n",
       "      <td>202.21</td>\n",
       "      <td>NaN</td>\n",
       "      <td>never smoked</td>\n",
       "      <td>1</td>\n",
       "    </tr>\n",
       "    <tr>\n",
       "      <th>2</th>\n",
       "      <td>31112</td>\n",
       "      <td>Male</td>\n",
       "      <td>80.0</td>\n",
       "      <td>0</td>\n",
       "      <td>1</td>\n",
       "      <td>Yes</td>\n",
       "      <td>Private</td>\n",
       "      <td>Rural</td>\n",
       "      <td>105.92</td>\n",
       "      <td>32.5</td>\n",
       "      <td>never smoked</td>\n",
       "      <td>1</td>\n",
       "    </tr>\n",
       "    <tr>\n",
       "      <th>3</th>\n",
       "      <td>60182</td>\n",
       "      <td>Female</td>\n",
       "      <td>49.0</td>\n",
       "      <td>0</td>\n",
       "      <td>0</td>\n",
       "      <td>Yes</td>\n",
       "      <td>Private</td>\n",
       "      <td>Urban</td>\n",
       "      <td>171.23</td>\n",
       "      <td>34.4</td>\n",
       "      <td>smokes</td>\n",
       "      <td>1</td>\n",
       "    </tr>\n",
       "    <tr>\n",
       "      <th>4</th>\n",
       "      <td>1665</td>\n",
       "      <td>Female</td>\n",
       "      <td>79.0</td>\n",
       "      <td>1</td>\n",
       "      <td>0</td>\n",
       "      <td>Yes</td>\n",
       "      <td>Self-employed</td>\n",
       "      <td>Rural</td>\n",
       "      <td>174.12</td>\n",
       "      <td>24.0</td>\n",
       "      <td>never smoked</td>\n",
       "      <td>1</td>\n",
       "    </tr>\n",
       "  </tbody>\n",
       "</table>\n",
       "</div>"
      ],
      "text/plain": [
       "      id  gender   age  hypertension  heart_disease ever_married  \\\n",
       "0   9046    Male  67.0             0              1          Yes   \n",
       "1  51676  Female  61.0             0              0          Yes   \n",
       "2  31112    Male  80.0             0              1          Yes   \n",
       "3  60182  Female  49.0             0              0          Yes   \n",
       "4   1665  Female  79.0             1              0          Yes   \n",
       "\n",
       "       work_type Residence_type  avg_glucose_level   bmi   smoking_status  \\\n",
       "0        Private          Urban             228.69  36.6  formerly smoked   \n",
       "1  Self-employed          Rural             202.21   NaN     never smoked   \n",
       "2        Private          Rural             105.92  32.5     never smoked   \n",
       "3        Private          Urban             171.23  34.4           smokes   \n",
       "4  Self-employed          Rural             174.12  24.0     never smoked   \n",
       "\n",
       "   stroke  \n",
       "0       1  \n",
       "1       1  \n",
       "2       1  \n",
       "3       1  \n",
       "4       1  "
      ]
     },
     "execution_count": 2,
     "metadata": {},
     "output_type": "execute_result"
    }
   ],
   "source": [
    "data = pd.read_csv('../input/stroke/healthcare-dataset-stroke-data.csv')\n",
    "data.head()"
   ]
  },
  {
   "cell_type": "code",
   "execution_count": 3,
   "id": "7af05f04",
   "metadata": {
    "execution": {
     "iopub.execute_input": "2022-11-26T14:46:22.652529Z",
     "iopub.status.busy": "2022-11-26T14:46:22.651841Z",
     "iopub.status.idle": "2022-11-26T14:46:22.655592Z",
     "shell.execute_reply": "2022-11-26T14:46:22.654758Z"
    },
    "id": "nQG-Owgq0mga",
    "outputId": "e6025a55-a7b0-4f61-e1ea-16cb2da46218",
    "papermill": {
     "duration": 0.024689,
     "end_time": "2022-11-26T14:46:22.657967",
     "exception": false,
     "start_time": "2022-11-26T14:46:22.633278",
     "status": "completed"
    },
    "tags": []
   },
   "outputs": [],
   "source": [
    "#from google.colab import drive\n",
    "#drive.mount('/content/drive')"
   ]
  },
  {
   "cell_type": "code",
   "execution_count": 4,
   "id": "0141fd8c",
   "metadata": {
    "execution": {
     "iopub.execute_input": "2022-11-26T14:46:22.694474Z",
     "iopub.status.busy": "2022-11-26T14:46:22.694006Z",
     "iopub.status.idle": "2022-11-26T14:46:22.701783Z",
     "shell.execute_reply": "2022-11-26T14:46:22.700500Z"
    },
    "id": "68b1jcuDz6-7",
    "outputId": "f547f42d-c89d-417d-c982-505af646d98d",
    "papermill": {
     "duration": 0.028999,
     "end_time": "2022-11-26T14:46:22.704150",
     "exception": false,
     "start_time": "2022-11-26T14:46:22.675151",
     "status": "completed"
    },
    "tags": []
   },
   "outputs": [
    {
     "data": {
      "text/plain": [
       "(5110, 12)"
      ]
     },
     "execution_count": 4,
     "metadata": {},
     "output_type": "execute_result"
    }
   ],
   "source": [
    "data.shape"
   ]
  },
  {
   "cell_type": "code",
   "execution_count": 5,
   "id": "d6a8f48b",
   "metadata": {
    "execution": {
     "iopub.execute_input": "2022-11-26T14:46:22.741461Z",
     "iopub.status.busy": "2022-11-26T14:46:22.740779Z",
     "iopub.status.idle": "2022-11-26T14:46:22.767516Z",
     "shell.execute_reply": "2022-11-26T14:46:22.765879Z"
    },
    "id": "dHQlkwaEz6-9",
    "outputId": "0ba93b2d-af65-4901-ada3-6010e59c9cc0",
    "papermill": {
     "duration": 0.048518,
     "end_time": "2022-11-26T14:46:22.770666",
     "exception": false,
     "start_time": "2022-11-26T14:46:22.722148",
     "status": "completed"
    },
    "tags": []
   },
   "outputs": [
    {
     "name": "stdout",
     "output_type": "stream",
     "text": [
      "<class 'pandas.core.frame.DataFrame'>\n",
      "RangeIndex: 5110 entries, 0 to 5109\n",
      "Data columns (total 12 columns):\n",
      " #   Column             Non-Null Count  Dtype  \n",
      "---  ------             --------------  -----  \n",
      " 0   id                 5110 non-null   int64  \n",
      " 1   gender             5110 non-null   object \n",
      " 2   age                5110 non-null   float64\n",
      " 3   hypertension       5110 non-null   int64  \n",
      " 4   heart_disease      5110 non-null   int64  \n",
      " 5   ever_married       5110 non-null   object \n",
      " 6   work_type          5110 non-null   object \n",
      " 7   Residence_type     5110 non-null   object \n",
      " 8   avg_glucose_level  5110 non-null   float64\n",
      " 9   bmi                4909 non-null   float64\n",
      " 10  smoking_status     5110 non-null   object \n",
      " 11  stroke             5110 non-null   int64  \n",
      "dtypes: float64(3), int64(4), object(5)\n",
      "memory usage: 479.2+ KB\n"
     ]
    }
   ],
   "source": [
    "data.info()"
   ]
  },
  {
   "cell_type": "code",
   "execution_count": 6,
   "id": "1f1f70fe",
   "metadata": {
    "execution": {
     "iopub.execute_input": "2022-11-26T14:46:22.808279Z",
     "iopub.status.busy": "2022-11-26T14:46:22.807171Z",
     "iopub.status.idle": "2022-11-26T14:46:22.854340Z",
     "shell.execute_reply": "2022-11-26T14:46:22.852966Z"
    },
    "id": "vN0tVc-Bz6--",
    "outputId": "8da559d9-1d18-482b-ad29-d813ba044056",
    "papermill": {
     "duration": 0.069066,
     "end_time": "2022-11-26T14:46:22.857699",
     "exception": false,
     "start_time": "2022-11-26T14:46:22.788633",
     "status": "completed"
    },
    "tags": []
   },
   "outputs": [
    {
     "data": {
      "text/html": [
       "<div>\n",
       "<style scoped>\n",
       "    .dataframe tbody tr th:only-of-type {\n",
       "        vertical-align: middle;\n",
       "    }\n",
       "\n",
       "    .dataframe tbody tr th {\n",
       "        vertical-align: top;\n",
       "    }\n",
       "\n",
       "    .dataframe thead th {\n",
       "        text-align: right;\n",
       "    }\n",
       "</style>\n",
       "<table border=\"1\" class=\"dataframe\">\n",
       "  <thead>\n",
       "    <tr style=\"text-align: right;\">\n",
       "      <th></th>\n",
       "      <th>id</th>\n",
       "      <th>age</th>\n",
       "      <th>hypertension</th>\n",
       "      <th>heart_disease</th>\n",
       "      <th>avg_glucose_level</th>\n",
       "      <th>bmi</th>\n",
       "      <th>stroke</th>\n",
       "    </tr>\n",
       "  </thead>\n",
       "  <tbody>\n",
       "    <tr>\n",
       "      <th>count</th>\n",
       "      <td>5110.000000</td>\n",
       "      <td>5110.000000</td>\n",
       "      <td>5110.000000</td>\n",
       "      <td>5110.000000</td>\n",
       "      <td>5110.000000</td>\n",
       "      <td>4909.000000</td>\n",
       "      <td>5110.000000</td>\n",
       "    </tr>\n",
       "    <tr>\n",
       "      <th>mean</th>\n",
       "      <td>36517.829354</td>\n",
       "      <td>43.226614</td>\n",
       "      <td>0.097456</td>\n",
       "      <td>0.054012</td>\n",
       "      <td>106.147677</td>\n",
       "      <td>28.893237</td>\n",
       "      <td>0.048728</td>\n",
       "    </tr>\n",
       "    <tr>\n",
       "      <th>std</th>\n",
       "      <td>21161.721625</td>\n",
       "      <td>22.612647</td>\n",
       "      <td>0.296607</td>\n",
       "      <td>0.226063</td>\n",
       "      <td>45.283560</td>\n",
       "      <td>7.854067</td>\n",
       "      <td>0.215320</td>\n",
       "    </tr>\n",
       "    <tr>\n",
       "      <th>min</th>\n",
       "      <td>67.000000</td>\n",
       "      <td>0.080000</td>\n",
       "      <td>0.000000</td>\n",
       "      <td>0.000000</td>\n",
       "      <td>55.120000</td>\n",
       "      <td>10.300000</td>\n",
       "      <td>0.000000</td>\n",
       "    </tr>\n",
       "    <tr>\n",
       "      <th>25%</th>\n",
       "      <td>17741.250000</td>\n",
       "      <td>25.000000</td>\n",
       "      <td>0.000000</td>\n",
       "      <td>0.000000</td>\n",
       "      <td>77.245000</td>\n",
       "      <td>23.500000</td>\n",
       "      <td>0.000000</td>\n",
       "    </tr>\n",
       "    <tr>\n",
       "      <th>50%</th>\n",
       "      <td>36932.000000</td>\n",
       "      <td>45.000000</td>\n",
       "      <td>0.000000</td>\n",
       "      <td>0.000000</td>\n",
       "      <td>91.885000</td>\n",
       "      <td>28.100000</td>\n",
       "      <td>0.000000</td>\n",
       "    </tr>\n",
       "    <tr>\n",
       "      <th>75%</th>\n",
       "      <td>54682.000000</td>\n",
       "      <td>61.000000</td>\n",
       "      <td>0.000000</td>\n",
       "      <td>0.000000</td>\n",
       "      <td>114.090000</td>\n",
       "      <td>33.100000</td>\n",
       "      <td>0.000000</td>\n",
       "    </tr>\n",
       "    <tr>\n",
       "      <th>max</th>\n",
       "      <td>72940.000000</td>\n",
       "      <td>82.000000</td>\n",
       "      <td>1.000000</td>\n",
       "      <td>1.000000</td>\n",
       "      <td>271.740000</td>\n",
       "      <td>97.600000</td>\n",
       "      <td>1.000000</td>\n",
       "    </tr>\n",
       "  </tbody>\n",
       "</table>\n",
       "</div>"
      ],
      "text/plain": [
       "                 id          age  hypertension  heart_disease  \\\n",
       "count   5110.000000  5110.000000   5110.000000    5110.000000   \n",
       "mean   36517.829354    43.226614      0.097456       0.054012   \n",
       "std    21161.721625    22.612647      0.296607       0.226063   \n",
       "min       67.000000     0.080000      0.000000       0.000000   \n",
       "25%    17741.250000    25.000000      0.000000       0.000000   \n",
       "50%    36932.000000    45.000000      0.000000       0.000000   \n",
       "75%    54682.000000    61.000000      0.000000       0.000000   \n",
       "max    72940.000000    82.000000      1.000000       1.000000   \n",
       "\n",
       "       avg_glucose_level          bmi       stroke  \n",
       "count        5110.000000  4909.000000  5110.000000  \n",
       "mean          106.147677    28.893237     0.048728  \n",
       "std            45.283560     7.854067     0.215320  \n",
       "min            55.120000    10.300000     0.000000  \n",
       "25%            77.245000    23.500000     0.000000  \n",
       "50%            91.885000    28.100000     0.000000  \n",
       "75%           114.090000    33.100000     0.000000  \n",
       "max           271.740000    97.600000     1.000000  "
      ]
     },
     "execution_count": 6,
     "metadata": {},
     "output_type": "execute_result"
    }
   ],
   "source": [
    "data.describe()"
   ]
  },
  {
   "cell_type": "markdown",
   "id": "2f066669",
   "metadata": {
    "id": "u85HUWrvz6-_",
    "papermill": {
     "duration": 0.02053,
     "end_time": "2022-11-26T14:46:22.901776",
     "exception": false,
     "start_time": "2022-11-26T14:46:22.881246",
     "status": "completed"
    },
    "tags": []
   },
   "source": [
    "# Data Cleaning"
   ]
  },
  {
   "cell_type": "code",
   "execution_count": 7,
   "id": "85d431ce",
   "metadata": {
    "execution": {
     "iopub.execute_input": "2022-11-26T14:46:22.944740Z",
     "iopub.status.busy": "2022-11-26T14:46:22.944313Z",
     "iopub.status.idle": "2022-11-26T14:46:22.956662Z",
     "shell.execute_reply": "2022-11-26T14:46:22.955478Z"
    },
    "id": "sUCg9PBdz6_A",
    "outputId": "31ce8344-9a4f-487c-9440-125a0b1c8c61",
    "papermill": {
     "duration": 0.034854,
     "end_time": "2022-11-26T14:46:22.959099",
     "exception": false,
     "start_time": "2022-11-26T14:46:22.924245",
     "status": "completed"
    },
    "tags": []
   },
   "outputs": [
    {
     "data": {
      "text/plain": [
       "id                     0\n",
       "gender                 0\n",
       "age                    0\n",
       "hypertension           0\n",
       "heart_disease          0\n",
       "ever_married           0\n",
       "work_type              0\n",
       "Residence_type         0\n",
       "avg_glucose_level      0\n",
       "bmi                  201\n",
       "smoking_status         0\n",
       "stroke                 0\n",
       "dtype: int64"
      ]
     },
     "execution_count": 7,
     "metadata": {},
     "output_type": "execute_result"
    }
   ],
   "source": [
    "data.isnull().sum()"
   ]
  },
  {
   "cell_type": "markdown",
   "id": "4e28c976",
   "metadata": {
    "id": "CsqyQuWRz6_B",
    "papermill": {
     "duration": 0.019085,
     "end_time": "2022-11-26T14:46:22.996994",
     "exception": false,
     "start_time": "2022-11-26T14:46:22.977909",
     "status": "completed"
    },
    "tags": []
   },
   "source": [
    "BMI has **201** missing values, replacing them by mode"
   ]
  },
  {
   "cell_type": "code",
   "execution_count": 8,
   "id": "d7014126",
   "metadata": {
    "execution": {
     "iopub.execute_input": "2022-11-26T14:46:23.035367Z",
     "iopub.status.busy": "2022-11-26T14:46:23.034174Z",
     "iopub.status.idle": "2022-11-26T14:46:23.039830Z",
     "shell.execute_reply": "2022-11-26T14:46:23.038688Z"
    },
    "id": "njATzlqOz6_C",
    "papermill": {
     "duration": 0.027085,
     "end_time": "2022-11-26T14:46:23.042208",
     "exception": false,
     "start_time": "2022-11-26T14:46:23.015123",
     "status": "completed"
    },
    "tags": []
   },
   "outputs": [],
   "source": [
    "df = data"
   ]
  },
  {
   "cell_type": "code",
   "execution_count": 9,
   "id": "e64688e8",
   "metadata": {
    "execution": {
     "iopub.execute_input": "2022-11-26T14:46:23.079716Z",
     "iopub.status.busy": "2022-11-26T14:46:23.078974Z",
     "iopub.status.idle": "2022-11-26T14:46:23.104583Z",
     "shell.execute_reply": "2022-11-26T14:46:23.103360Z"
    },
    "id": "0wyWDvnVz6_D",
    "outputId": "fffc2e07-fc77-4515-edd5-c61ee9bd788c",
    "papermill": {
     "duration": 0.047182,
     "end_time": "2022-11-26T14:46:23.107234",
     "exception": false,
     "start_time": "2022-11-26T14:46:23.060052",
     "status": "completed"
    },
    "tags": []
   },
   "outputs": [
    {
     "data": {
      "text/html": [
       "<div>\n",
       "<style scoped>\n",
       "    .dataframe tbody tr th:only-of-type {\n",
       "        vertical-align: middle;\n",
       "    }\n",
       "\n",
       "    .dataframe tbody tr th {\n",
       "        vertical-align: top;\n",
       "    }\n",
       "\n",
       "    .dataframe thead th {\n",
       "        text-align: right;\n",
       "    }\n",
       "</style>\n",
       "<table border=\"1\" class=\"dataframe\">\n",
       "  <thead>\n",
       "    <tr style=\"text-align: right;\">\n",
       "      <th></th>\n",
       "      <th>id</th>\n",
       "      <th>gender</th>\n",
       "      <th>age</th>\n",
       "      <th>hypertension</th>\n",
       "      <th>heart_disease</th>\n",
       "      <th>ever_married</th>\n",
       "      <th>work_type</th>\n",
       "      <th>Residence_type</th>\n",
       "      <th>avg_glucose_level</th>\n",
       "      <th>bmi</th>\n",
       "      <th>smoking_status</th>\n",
       "      <th>stroke</th>\n",
       "    </tr>\n",
       "  </thead>\n",
       "  <tbody>\n",
       "    <tr>\n",
       "      <th>20</th>\n",
       "      <td>70630</td>\n",
       "      <td>Female</td>\n",
       "      <td>71.0</td>\n",
       "      <td>0</td>\n",
       "      <td>0</td>\n",
       "      <td>Yes</td>\n",
       "      <td>Govt_job</td>\n",
       "      <td>Rural</td>\n",
       "      <td>193.94</td>\n",
       "      <td>22.4</td>\n",
       "      <td>smokes</td>\n",
       "      <td>1</td>\n",
       "    </tr>\n",
       "    <tr>\n",
       "      <th>21</th>\n",
       "      <td>13861</td>\n",
       "      <td>Female</td>\n",
       "      <td>52.0</td>\n",
       "      <td>1</td>\n",
       "      <td>0</td>\n",
       "      <td>Yes</td>\n",
       "      <td>Self-employed</td>\n",
       "      <td>Urban</td>\n",
       "      <td>233.29</td>\n",
       "      <td>48.9</td>\n",
       "      <td>never smoked</td>\n",
       "      <td>1</td>\n",
       "    </tr>\n",
       "    <tr>\n",
       "      <th>22</th>\n",
       "      <td>68794</td>\n",
       "      <td>Female</td>\n",
       "      <td>79.0</td>\n",
       "      <td>0</td>\n",
       "      <td>0</td>\n",
       "      <td>Yes</td>\n",
       "      <td>Self-employed</td>\n",
       "      <td>Urban</td>\n",
       "      <td>228.70</td>\n",
       "      <td>26.6</td>\n",
       "      <td>never smoked</td>\n",
       "      <td>1</td>\n",
       "    </tr>\n",
       "    <tr>\n",
       "      <th>23</th>\n",
       "      <td>64778</td>\n",
       "      <td>Male</td>\n",
       "      <td>82.0</td>\n",
       "      <td>0</td>\n",
       "      <td>1</td>\n",
       "      <td>Yes</td>\n",
       "      <td>Private</td>\n",
       "      <td>Rural</td>\n",
       "      <td>208.30</td>\n",
       "      <td>32.5</td>\n",
       "      <td>Unknown</td>\n",
       "      <td>1</td>\n",
       "    </tr>\n",
       "    <tr>\n",
       "      <th>24</th>\n",
       "      <td>4219</td>\n",
       "      <td>Male</td>\n",
       "      <td>71.0</td>\n",
       "      <td>0</td>\n",
       "      <td>0</td>\n",
       "      <td>Yes</td>\n",
       "      <td>Private</td>\n",
       "      <td>Urban</td>\n",
       "      <td>102.87</td>\n",
       "      <td>27.2</td>\n",
       "      <td>formerly smoked</td>\n",
       "      <td>1</td>\n",
       "    </tr>\n",
       "    <tr>\n",
       "      <th>25</th>\n",
       "      <td>70822</td>\n",
       "      <td>Male</td>\n",
       "      <td>80.0</td>\n",
       "      <td>0</td>\n",
       "      <td>0</td>\n",
       "      <td>Yes</td>\n",
       "      <td>Self-employed</td>\n",
       "      <td>Rural</td>\n",
       "      <td>104.12</td>\n",
       "      <td>23.5</td>\n",
       "      <td>never smoked</td>\n",
       "      <td>1</td>\n",
       "    </tr>\n",
       "    <tr>\n",
       "      <th>26</th>\n",
       "      <td>38047</td>\n",
       "      <td>Female</td>\n",
       "      <td>65.0</td>\n",
       "      <td>0</td>\n",
       "      <td>0</td>\n",
       "      <td>Yes</td>\n",
       "      <td>Private</td>\n",
       "      <td>Rural</td>\n",
       "      <td>100.98</td>\n",
       "      <td>28.2</td>\n",
       "      <td>formerly smoked</td>\n",
       "      <td>1</td>\n",
       "    </tr>\n",
       "    <tr>\n",
       "      <th>27</th>\n",
       "      <td>61843</td>\n",
       "      <td>Male</td>\n",
       "      <td>58.0</td>\n",
       "      <td>0</td>\n",
       "      <td>0</td>\n",
       "      <td>Yes</td>\n",
       "      <td>Private</td>\n",
       "      <td>Rural</td>\n",
       "      <td>189.84</td>\n",
       "      <td>NaN</td>\n",
       "      <td>Unknown</td>\n",
       "      <td>1</td>\n",
       "    </tr>\n",
       "    <tr>\n",
       "      <th>28</th>\n",
       "      <td>54827</td>\n",
       "      <td>Male</td>\n",
       "      <td>69.0</td>\n",
       "      <td>0</td>\n",
       "      <td>1</td>\n",
       "      <td>Yes</td>\n",
       "      <td>Self-employed</td>\n",
       "      <td>Urban</td>\n",
       "      <td>195.23</td>\n",
       "      <td>28.3</td>\n",
       "      <td>smokes</td>\n",
       "      <td>1</td>\n",
       "    </tr>\n",
       "    <tr>\n",
       "      <th>29</th>\n",
       "      <td>69160</td>\n",
       "      <td>Male</td>\n",
       "      <td>59.0</td>\n",
       "      <td>0</td>\n",
       "      <td>0</td>\n",
       "      <td>Yes</td>\n",
       "      <td>Private</td>\n",
       "      <td>Rural</td>\n",
       "      <td>211.78</td>\n",
       "      <td>NaN</td>\n",
       "      <td>formerly smoked</td>\n",
       "      <td>1</td>\n",
       "    </tr>\n",
       "    <tr>\n",
       "      <th>30</th>\n",
       "      <td>43717</td>\n",
       "      <td>Male</td>\n",
       "      <td>57.0</td>\n",
       "      <td>1</td>\n",
       "      <td>0</td>\n",
       "      <td>Yes</td>\n",
       "      <td>Private</td>\n",
       "      <td>Urban</td>\n",
       "      <td>212.08</td>\n",
       "      <td>44.2</td>\n",
       "      <td>smokes</td>\n",
       "      <td>1</td>\n",
       "    </tr>\n",
       "    <tr>\n",
       "      <th>31</th>\n",
       "      <td>33879</td>\n",
       "      <td>Male</td>\n",
       "      <td>42.0</td>\n",
       "      <td>0</td>\n",
       "      <td>0</td>\n",
       "      <td>Yes</td>\n",
       "      <td>Private</td>\n",
       "      <td>Rural</td>\n",
       "      <td>83.41</td>\n",
       "      <td>25.4</td>\n",
       "      <td>Unknown</td>\n",
       "      <td>1</td>\n",
       "    </tr>\n",
       "    <tr>\n",
       "      <th>32</th>\n",
       "      <td>39373</td>\n",
       "      <td>Female</td>\n",
       "      <td>82.0</td>\n",
       "      <td>1</td>\n",
       "      <td>0</td>\n",
       "      <td>Yes</td>\n",
       "      <td>Self-employed</td>\n",
       "      <td>Urban</td>\n",
       "      <td>196.92</td>\n",
       "      <td>22.2</td>\n",
       "      <td>never smoked</td>\n",
       "      <td>1</td>\n",
       "    </tr>\n",
       "    <tr>\n",
       "      <th>33</th>\n",
       "      <td>54401</td>\n",
       "      <td>Male</td>\n",
       "      <td>80.0</td>\n",
       "      <td>0</td>\n",
       "      <td>1</td>\n",
       "      <td>Yes</td>\n",
       "      <td>Self-employed</td>\n",
       "      <td>Urban</td>\n",
       "      <td>252.72</td>\n",
       "      <td>30.5</td>\n",
       "      <td>formerly smoked</td>\n",
       "      <td>1</td>\n",
       "    </tr>\n",
       "    <tr>\n",
       "      <th>34</th>\n",
       "      <td>14248</td>\n",
       "      <td>Male</td>\n",
       "      <td>48.0</td>\n",
       "      <td>0</td>\n",
       "      <td>0</td>\n",
       "      <td>No</td>\n",
       "      <td>Govt_job</td>\n",
       "      <td>Urban</td>\n",
       "      <td>84.20</td>\n",
       "      <td>29.7</td>\n",
       "      <td>never smoked</td>\n",
       "      <td>1</td>\n",
       "    </tr>\n",
       "    <tr>\n",
       "      <th>35</th>\n",
       "      <td>712</td>\n",
       "      <td>Female</td>\n",
       "      <td>82.0</td>\n",
       "      <td>1</td>\n",
       "      <td>1</td>\n",
       "      <td>No</td>\n",
       "      <td>Private</td>\n",
       "      <td>Rural</td>\n",
       "      <td>84.03</td>\n",
       "      <td>26.5</td>\n",
       "      <td>formerly smoked</td>\n",
       "      <td>1</td>\n",
       "    </tr>\n",
       "    <tr>\n",
       "      <th>36</th>\n",
       "      <td>47269</td>\n",
       "      <td>Male</td>\n",
       "      <td>74.0</td>\n",
       "      <td>0</td>\n",
       "      <td>0</td>\n",
       "      <td>Yes</td>\n",
       "      <td>Private</td>\n",
       "      <td>Rural</td>\n",
       "      <td>219.72</td>\n",
       "      <td>33.7</td>\n",
       "      <td>formerly smoked</td>\n",
       "      <td>1</td>\n",
       "    </tr>\n",
       "    <tr>\n",
       "      <th>37</th>\n",
       "      <td>24977</td>\n",
       "      <td>Female</td>\n",
       "      <td>72.0</td>\n",
       "      <td>1</td>\n",
       "      <td>0</td>\n",
       "      <td>Yes</td>\n",
       "      <td>Private</td>\n",
       "      <td>Rural</td>\n",
       "      <td>74.63</td>\n",
       "      <td>23.1</td>\n",
       "      <td>formerly smoked</td>\n",
       "      <td>1</td>\n",
       "    </tr>\n",
       "    <tr>\n",
       "      <th>38</th>\n",
       "      <td>47306</td>\n",
       "      <td>Male</td>\n",
       "      <td>58.0</td>\n",
       "      <td>0</td>\n",
       "      <td>0</td>\n",
       "      <td>No</td>\n",
       "      <td>Private</td>\n",
       "      <td>Rural</td>\n",
       "      <td>92.62</td>\n",
       "      <td>32.0</td>\n",
       "      <td>Unknown</td>\n",
       "      <td>1</td>\n",
       "    </tr>\n",
       "    <tr>\n",
       "      <th>39</th>\n",
       "      <td>62602</td>\n",
       "      <td>Female</td>\n",
       "      <td>49.0</td>\n",
       "      <td>0</td>\n",
       "      <td>0</td>\n",
       "      <td>Yes</td>\n",
       "      <td>Private</td>\n",
       "      <td>Urban</td>\n",
       "      <td>60.91</td>\n",
       "      <td>29.9</td>\n",
       "      <td>never smoked</td>\n",
       "      <td>1</td>\n",
       "    </tr>\n",
       "  </tbody>\n",
       "</table>\n",
       "</div>"
      ],
      "text/plain": [
       "       id  gender   age  hypertension  heart_disease ever_married  \\\n",
       "20  70630  Female  71.0             0              0          Yes   \n",
       "21  13861  Female  52.0             1              0          Yes   \n",
       "22  68794  Female  79.0             0              0          Yes   \n",
       "23  64778    Male  82.0             0              1          Yes   \n",
       "24   4219    Male  71.0             0              0          Yes   \n",
       "25  70822    Male  80.0             0              0          Yes   \n",
       "26  38047  Female  65.0             0              0          Yes   \n",
       "27  61843    Male  58.0             0              0          Yes   \n",
       "28  54827    Male  69.0             0              1          Yes   \n",
       "29  69160    Male  59.0             0              0          Yes   \n",
       "30  43717    Male  57.0             1              0          Yes   \n",
       "31  33879    Male  42.0             0              0          Yes   \n",
       "32  39373  Female  82.0             1              0          Yes   \n",
       "33  54401    Male  80.0             0              1          Yes   \n",
       "34  14248    Male  48.0             0              0           No   \n",
       "35    712  Female  82.0             1              1           No   \n",
       "36  47269    Male  74.0             0              0          Yes   \n",
       "37  24977  Female  72.0             1              0          Yes   \n",
       "38  47306    Male  58.0             0              0           No   \n",
       "39  62602  Female  49.0             0              0          Yes   \n",
       "\n",
       "        work_type Residence_type  avg_glucose_level   bmi   smoking_status  \\\n",
       "20       Govt_job          Rural             193.94  22.4           smokes   \n",
       "21  Self-employed          Urban             233.29  48.9     never smoked   \n",
       "22  Self-employed          Urban             228.70  26.6     never smoked   \n",
       "23        Private          Rural             208.30  32.5          Unknown   \n",
       "24        Private          Urban             102.87  27.2  formerly smoked   \n",
       "25  Self-employed          Rural             104.12  23.5     never smoked   \n",
       "26        Private          Rural             100.98  28.2  formerly smoked   \n",
       "27        Private          Rural             189.84   NaN          Unknown   \n",
       "28  Self-employed          Urban             195.23  28.3           smokes   \n",
       "29        Private          Rural             211.78   NaN  formerly smoked   \n",
       "30        Private          Urban             212.08  44.2           smokes   \n",
       "31        Private          Rural              83.41  25.4          Unknown   \n",
       "32  Self-employed          Urban             196.92  22.2     never smoked   \n",
       "33  Self-employed          Urban             252.72  30.5  formerly smoked   \n",
       "34       Govt_job          Urban              84.20  29.7     never smoked   \n",
       "35        Private          Rural              84.03  26.5  formerly smoked   \n",
       "36        Private          Rural             219.72  33.7  formerly smoked   \n",
       "37        Private          Rural              74.63  23.1  formerly smoked   \n",
       "38        Private          Rural              92.62  32.0          Unknown   \n",
       "39        Private          Urban              60.91  29.9     never smoked   \n",
       "\n",
       "    stroke  \n",
       "20       1  \n",
       "21       1  \n",
       "22       1  \n",
       "23       1  \n",
       "24       1  \n",
       "25       1  \n",
       "26       1  \n",
       "27       1  \n",
       "28       1  \n",
       "29       1  \n",
       "30       1  \n",
       "31       1  \n",
       "32       1  \n",
       "33       1  \n",
       "34       1  \n",
       "35       1  \n",
       "36       1  \n",
       "37       1  \n",
       "38       1  \n",
       "39       1  "
      ]
     },
     "execution_count": 9,
     "metadata": {},
     "output_type": "execute_result"
    }
   ],
   "source": [
    "data[20:40]"
   ]
  },
  {
   "cell_type": "code",
   "execution_count": 10,
   "id": "d5436f78",
   "metadata": {
    "execution": {
     "iopub.execute_input": "2022-11-26T14:46:23.147154Z",
     "iopub.status.busy": "2022-11-26T14:46:23.146731Z",
     "iopub.status.idle": "2022-11-26T14:46:23.155705Z",
     "shell.execute_reply": "2022-11-26T14:46:23.154755Z"
    },
    "id": "fHgbLGkwz6_E",
    "papermill": {
     "duration": 0.031772,
     "end_time": "2022-11-26T14:46:23.158183",
     "exception": false,
     "start_time": "2022-11-26T14:46:23.126411",
     "status": "completed"
    },
    "tags": []
   },
   "outputs": [],
   "source": [
    "df['bmi'] = df['bmi'].fillna(df['bmi'].mode()[0])"
   ]
  },
  {
   "cell_type": "code",
   "execution_count": 11,
   "id": "12ad4338",
   "metadata": {
    "execution": {
     "iopub.execute_input": "2022-11-26T14:46:23.196579Z",
     "iopub.status.busy": "2022-11-26T14:46:23.196143Z",
     "iopub.status.idle": "2022-11-26T14:46:23.222135Z",
     "shell.execute_reply": "2022-11-26T14:46:23.220976Z"
    },
    "id": "ZtpbQ-ooz6_F",
    "outputId": "13e37fcb-ea4f-4ed5-9af1-c4c01126d1d9",
    "papermill": {
     "duration": 0.04802,
     "end_time": "2022-11-26T14:46:23.224490",
     "exception": false,
     "start_time": "2022-11-26T14:46:23.176470",
     "status": "completed"
    },
    "tags": []
   },
   "outputs": [
    {
     "data": {
      "text/html": [
       "<div>\n",
       "<style scoped>\n",
       "    .dataframe tbody tr th:only-of-type {\n",
       "        vertical-align: middle;\n",
       "    }\n",
       "\n",
       "    .dataframe tbody tr th {\n",
       "        vertical-align: top;\n",
       "    }\n",
       "\n",
       "    .dataframe thead th {\n",
       "        text-align: right;\n",
       "    }\n",
       "</style>\n",
       "<table border=\"1\" class=\"dataframe\">\n",
       "  <thead>\n",
       "    <tr style=\"text-align: right;\">\n",
       "      <th></th>\n",
       "      <th>id</th>\n",
       "      <th>gender</th>\n",
       "      <th>age</th>\n",
       "      <th>hypertension</th>\n",
       "      <th>heart_disease</th>\n",
       "      <th>ever_married</th>\n",
       "      <th>work_type</th>\n",
       "      <th>Residence_type</th>\n",
       "      <th>avg_glucose_level</th>\n",
       "      <th>bmi</th>\n",
       "      <th>smoking_status</th>\n",
       "      <th>stroke</th>\n",
       "    </tr>\n",
       "  </thead>\n",
       "  <tbody>\n",
       "    <tr>\n",
       "      <th>20</th>\n",
       "      <td>70630</td>\n",
       "      <td>Female</td>\n",
       "      <td>71.0</td>\n",
       "      <td>0</td>\n",
       "      <td>0</td>\n",
       "      <td>Yes</td>\n",
       "      <td>Govt_job</td>\n",
       "      <td>Rural</td>\n",
       "      <td>193.94</td>\n",
       "      <td>22.4</td>\n",
       "      <td>smokes</td>\n",
       "      <td>1</td>\n",
       "    </tr>\n",
       "    <tr>\n",
       "      <th>21</th>\n",
       "      <td>13861</td>\n",
       "      <td>Female</td>\n",
       "      <td>52.0</td>\n",
       "      <td>1</td>\n",
       "      <td>0</td>\n",
       "      <td>Yes</td>\n",
       "      <td>Self-employed</td>\n",
       "      <td>Urban</td>\n",
       "      <td>233.29</td>\n",
       "      <td>48.9</td>\n",
       "      <td>never smoked</td>\n",
       "      <td>1</td>\n",
       "    </tr>\n",
       "    <tr>\n",
       "      <th>22</th>\n",
       "      <td>68794</td>\n",
       "      <td>Female</td>\n",
       "      <td>79.0</td>\n",
       "      <td>0</td>\n",
       "      <td>0</td>\n",
       "      <td>Yes</td>\n",
       "      <td>Self-employed</td>\n",
       "      <td>Urban</td>\n",
       "      <td>228.70</td>\n",
       "      <td>26.6</td>\n",
       "      <td>never smoked</td>\n",
       "      <td>1</td>\n",
       "    </tr>\n",
       "    <tr>\n",
       "      <th>23</th>\n",
       "      <td>64778</td>\n",
       "      <td>Male</td>\n",
       "      <td>82.0</td>\n",
       "      <td>0</td>\n",
       "      <td>1</td>\n",
       "      <td>Yes</td>\n",
       "      <td>Private</td>\n",
       "      <td>Rural</td>\n",
       "      <td>208.30</td>\n",
       "      <td>32.5</td>\n",
       "      <td>Unknown</td>\n",
       "      <td>1</td>\n",
       "    </tr>\n",
       "    <tr>\n",
       "      <th>24</th>\n",
       "      <td>4219</td>\n",
       "      <td>Male</td>\n",
       "      <td>71.0</td>\n",
       "      <td>0</td>\n",
       "      <td>0</td>\n",
       "      <td>Yes</td>\n",
       "      <td>Private</td>\n",
       "      <td>Urban</td>\n",
       "      <td>102.87</td>\n",
       "      <td>27.2</td>\n",
       "      <td>formerly smoked</td>\n",
       "      <td>1</td>\n",
       "    </tr>\n",
       "    <tr>\n",
       "      <th>25</th>\n",
       "      <td>70822</td>\n",
       "      <td>Male</td>\n",
       "      <td>80.0</td>\n",
       "      <td>0</td>\n",
       "      <td>0</td>\n",
       "      <td>Yes</td>\n",
       "      <td>Self-employed</td>\n",
       "      <td>Rural</td>\n",
       "      <td>104.12</td>\n",
       "      <td>23.5</td>\n",
       "      <td>never smoked</td>\n",
       "      <td>1</td>\n",
       "    </tr>\n",
       "    <tr>\n",
       "      <th>26</th>\n",
       "      <td>38047</td>\n",
       "      <td>Female</td>\n",
       "      <td>65.0</td>\n",
       "      <td>0</td>\n",
       "      <td>0</td>\n",
       "      <td>Yes</td>\n",
       "      <td>Private</td>\n",
       "      <td>Rural</td>\n",
       "      <td>100.98</td>\n",
       "      <td>28.2</td>\n",
       "      <td>formerly smoked</td>\n",
       "      <td>1</td>\n",
       "    </tr>\n",
       "    <tr>\n",
       "      <th>27</th>\n",
       "      <td>61843</td>\n",
       "      <td>Male</td>\n",
       "      <td>58.0</td>\n",
       "      <td>0</td>\n",
       "      <td>0</td>\n",
       "      <td>Yes</td>\n",
       "      <td>Private</td>\n",
       "      <td>Rural</td>\n",
       "      <td>189.84</td>\n",
       "      <td>28.7</td>\n",
       "      <td>Unknown</td>\n",
       "      <td>1</td>\n",
       "    </tr>\n",
       "    <tr>\n",
       "      <th>28</th>\n",
       "      <td>54827</td>\n",
       "      <td>Male</td>\n",
       "      <td>69.0</td>\n",
       "      <td>0</td>\n",
       "      <td>1</td>\n",
       "      <td>Yes</td>\n",
       "      <td>Self-employed</td>\n",
       "      <td>Urban</td>\n",
       "      <td>195.23</td>\n",
       "      <td>28.3</td>\n",
       "      <td>smokes</td>\n",
       "      <td>1</td>\n",
       "    </tr>\n",
       "    <tr>\n",
       "      <th>29</th>\n",
       "      <td>69160</td>\n",
       "      <td>Male</td>\n",
       "      <td>59.0</td>\n",
       "      <td>0</td>\n",
       "      <td>0</td>\n",
       "      <td>Yes</td>\n",
       "      <td>Private</td>\n",
       "      <td>Rural</td>\n",
       "      <td>211.78</td>\n",
       "      <td>28.7</td>\n",
       "      <td>formerly smoked</td>\n",
       "      <td>1</td>\n",
       "    </tr>\n",
       "    <tr>\n",
       "      <th>30</th>\n",
       "      <td>43717</td>\n",
       "      <td>Male</td>\n",
       "      <td>57.0</td>\n",
       "      <td>1</td>\n",
       "      <td>0</td>\n",
       "      <td>Yes</td>\n",
       "      <td>Private</td>\n",
       "      <td>Urban</td>\n",
       "      <td>212.08</td>\n",
       "      <td>44.2</td>\n",
       "      <td>smokes</td>\n",
       "      <td>1</td>\n",
       "    </tr>\n",
       "    <tr>\n",
       "      <th>31</th>\n",
       "      <td>33879</td>\n",
       "      <td>Male</td>\n",
       "      <td>42.0</td>\n",
       "      <td>0</td>\n",
       "      <td>0</td>\n",
       "      <td>Yes</td>\n",
       "      <td>Private</td>\n",
       "      <td>Rural</td>\n",
       "      <td>83.41</td>\n",
       "      <td>25.4</td>\n",
       "      <td>Unknown</td>\n",
       "      <td>1</td>\n",
       "    </tr>\n",
       "    <tr>\n",
       "      <th>32</th>\n",
       "      <td>39373</td>\n",
       "      <td>Female</td>\n",
       "      <td>82.0</td>\n",
       "      <td>1</td>\n",
       "      <td>0</td>\n",
       "      <td>Yes</td>\n",
       "      <td>Self-employed</td>\n",
       "      <td>Urban</td>\n",
       "      <td>196.92</td>\n",
       "      <td>22.2</td>\n",
       "      <td>never smoked</td>\n",
       "      <td>1</td>\n",
       "    </tr>\n",
       "    <tr>\n",
       "      <th>33</th>\n",
       "      <td>54401</td>\n",
       "      <td>Male</td>\n",
       "      <td>80.0</td>\n",
       "      <td>0</td>\n",
       "      <td>1</td>\n",
       "      <td>Yes</td>\n",
       "      <td>Self-employed</td>\n",
       "      <td>Urban</td>\n",
       "      <td>252.72</td>\n",
       "      <td>30.5</td>\n",
       "      <td>formerly smoked</td>\n",
       "      <td>1</td>\n",
       "    </tr>\n",
       "    <tr>\n",
       "      <th>34</th>\n",
       "      <td>14248</td>\n",
       "      <td>Male</td>\n",
       "      <td>48.0</td>\n",
       "      <td>0</td>\n",
       "      <td>0</td>\n",
       "      <td>No</td>\n",
       "      <td>Govt_job</td>\n",
       "      <td>Urban</td>\n",
       "      <td>84.20</td>\n",
       "      <td>29.7</td>\n",
       "      <td>never smoked</td>\n",
       "      <td>1</td>\n",
       "    </tr>\n",
       "    <tr>\n",
       "      <th>35</th>\n",
       "      <td>712</td>\n",
       "      <td>Female</td>\n",
       "      <td>82.0</td>\n",
       "      <td>1</td>\n",
       "      <td>1</td>\n",
       "      <td>No</td>\n",
       "      <td>Private</td>\n",
       "      <td>Rural</td>\n",
       "      <td>84.03</td>\n",
       "      <td>26.5</td>\n",
       "      <td>formerly smoked</td>\n",
       "      <td>1</td>\n",
       "    </tr>\n",
       "    <tr>\n",
       "      <th>36</th>\n",
       "      <td>47269</td>\n",
       "      <td>Male</td>\n",
       "      <td>74.0</td>\n",
       "      <td>0</td>\n",
       "      <td>0</td>\n",
       "      <td>Yes</td>\n",
       "      <td>Private</td>\n",
       "      <td>Rural</td>\n",
       "      <td>219.72</td>\n",
       "      <td>33.7</td>\n",
       "      <td>formerly smoked</td>\n",
       "      <td>1</td>\n",
       "    </tr>\n",
       "    <tr>\n",
       "      <th>37</th>\n",
       "      <td>24977</td>\n",
       "      <td>Female</td>\n",
       "      <td>72.0</td>\n",
       "      <td>1</td>\n",
       "      <td>0</td>\n",
       "      <td>Yes</td>\n",
       "      <td>Private</td>\n",
       "      <td>Rural</td>\n",
       "      <td>74.63</td>\n",
       "      <td>23.1</td>\n",
       "      <td>formerly smoked</td>\n",
       "      <td>1</td>\n",
       "    </tr>\n",
       "    <tr>\n",
       "      <th>38</th>\n",
       "      <td>47306</td>\n",
       "      <td>Male</td>\n",
       "      <td>58.0</td>\n",
       "      <td>0</td>\n",
       "      <td>0</td>\n",
       "      <td>No</td>\n",
       "      <td>Private</td>\n",
       "      <td>Rural</td>\n",
       "      <td>92.62</td>\n",
       "      <td>32.0</td>\n",
       "      <td>Unknown</td>\n",
       "      <td>1</td>\n",
       "    </tr>\n",
       "    <tr>\n",
       "      <th>39</th>\n",
       "      <td>62602</td>\n",
       "      <td>Female</td>\n",
       "      <td>49.0</td>\n",
       "      <td>0</td>\n",
       "      <td>0</td>\n",
       "      <td>Yes</td>\n",
       "      <td>Private</td>\n",
       "      <td>Urban</td>\n",
       "      <td>60.91</td>\n",
       "      <td>29.9</td>\n",
       "      <td>never smoked</td>\n",
       "      <td>1</td>\n",
       "    </tr>\n",
       "  </tbody>\n",
       "</table>\n",
       "</div>"
      ],
      "text/plain": [
       "       id  gender   age  hypertension  heart_disease ever_married  \\\n",
       "20  70630  Female  71.0             0              0          Yes   \n",
       "21  13861  Female  52.0             1              0          Yes   \n",
       "22  68794  Female  79.0             0              0          Yes   \n",
       "23  64778    Male  82.0             0              1          Yes   \n",
       "24   4219    Male  71.0             0              0          Yes   \n",
       "25  70822    Male  80.0             0              0          Yes   \n",
       "26  38047  Female  65.0             0              0          Yes   \n",
       "27  61843    Male  58.0             0              0          Yes   \n",
       "28  54827    Male  69.0             0              1          Yes   \n",
       "29  69160    Male  59.0             0              0          Yes   \n",
       "30  43717    Male  57.0             1              0          Yes   \n",
       "31  33879    Male  42.0             0              0          Yes   \n",
       "32  39373  Female  82.0             1              0          Yes   \n",
       "33  54401    Male  80.0             0              1          Yes   \n",
       "34  14248    Male  48.0             0              0           No   \n",
       "35    712  Female  82.0             1              1           No   \n",
       "36  47269    Male  74.0             0              0          Yes   \n",
       "37  24977  Female  72.0             1              0          Yes   \n",
       "38  47306    Male  58.0             0              0           No   \n",
       "39  62602  Female  49.0             0              0          Yes   \n",
       "\n",
       "        work_type Residence_type  avg_glucose_level   bmi   smoking_status  \\\n",
       "20       Govt_job          Rural             193.94  22.4           smokes   \n",
       "21  Self-employed          Urban             233.29  48.9     never smoked   \n",
       "22  Self-employed          Urban             228.70  26.6     never smoked   \n",
       "23        Private          Rural             208.30  32.5          Unknown   \n",
       "24        Private          Urban             102.87  27.2  formerly smoked   \n",
       "25  Self-employed          Rural             104.12  23.5     never smoked   \n",
       "26        Private          Rural             100.98  28.2  formerly smoked   \n",
       "27        Private          Rural             189.84  28.7          Unknown   \n",
       "28  Self-employed          Urban             195.23  28.3           smokes   \n",
       "29        Private          Rural             211.78  28.7  formerly smoked   \n",
       "30        Private          Urban             212.08  44.2           smokes   \n",
       "31        Private          Rural              83.41  25.4          Unknown   \n",
       "32  Self-employed          Urban             196.92  22.2     never smoked   \n",
       "33  Self-employed          Urban             252.72  30.5  formerly smoked   \n",
       "34       Govt_job          Urban              84.20  29.7     never smoked   \n",
       "35        Private          Rural              84.03  26.5  formerly smoked   \n",
       "36        Private          Rural             219.72  33.7  formerly smoked   \n",
       "37        Private          Rural              74.63  23.1  formerly smoked   \n",
       "38        Private          Rural              92.62  32.0          Unknown   \n",
       "39        Private          Urban              60.91  29.9     never smoked   \n",
       "\n",
       "    stroke  \n",
       "20       1  \n",
       "21       1  \n",
       "22       1  \n",
       "23       1  \n",
       "24       1  \n",
       "25       1  \n",
       "26       1  \n",
       "27       1  \n",
       "28       1  \n",
       "29       1  \n",
       "30       1  \n",
       "31       1  \n",
       "32       1  \n",
       "33       1  \n",
       "34       1  \n",
       "35       1  \n",
       "36       1  \n",
       "37       1  \n",
       "38       1  \n",
       "39       1  "
      ]
     },
     "execution_count": 11,
     "metadata": {},
     "output_type": "execute_result"
    }
   ],
   "source": [
    "df[20:40]"
   ]
  },
  {
   "cell_type": "code",
   "execution_count": 12,
   "id": "d416c47d",
   "metadata": {
    "execution": {
     "iopub.execute_input": "2022-11-26T14:46:23.264172Z",
     "iopub.status.busy": "2022-11-26T14:46:23.263285Z",
     "iopub.status.idle": "2022-11-26T14:46:23.282958Z",
     "shell.execute_reply": "2022-11-26T14:46:23.281920Z"
    },
    "id": "hjku4PtMz6_G",
    "outputId": "73ee7589-fc0d-4454-c124-11fe55d70b86",
    "papermill": {
     "duration": 0.042321,
     "end_time": "2022-11-26T14:46:23.285565",
     "exception": false,
     "start_time": "2022-11-26T14:46:23.243244",
     "status": "completed"
    },
    "tags": []
   },
   "outputs": [
    {
     "data": {
      "text/html": [
       "<div>\n",
       "<style scoped>\n",
       "    .dataframe tbody tr th:only-of-type {\n",
       "        vertical-align: middle;\n",
       "    }\n",
       "\n",
       "    .dataframe tbody tr th {\n",
       "        vertical-align: top;\n",
       "    }\n",
       "\n",
       "    .dataframe thead th {\n",
       "        text-align: right;\n",
       "    }\n",
       "</style>\n",
       "<table border=\"1\" class=\"dataframe\">\n",
       "  <thead>\n",
       "    <tr style=\"text-align: right;\">\n",
       "      <th></th>\n",
       "      <th>gender</th>\n",
       "      <th>age</th>\n",
       "      <th>hypertension</th>\n",
       "      <th>heart_disease</th>\n",
       "      <th>ever_married</th>\n",
       "      <th>work_type</th>\n",
       "      <th>Residence_type</th>\n",
       "      <th>avg_glucose_level</th>\n",
       "      <th>bmi</th>\n",
       "      <th>smoking_status</th>\n",
       "      <th>stroke</th>\n",
       "    </tr>\n",
       "  </thead>\n",
       "  <tbody>\n",
       "    <tr>\n",
       "      <th>0</th>\n",
       "      <td>Male</td>\n",
       "      <td>67.0</td>\n",
       "      <td>0</td>\n",
       "      <td>1</td>\n",
       "      <td>Yes</td>\n",
       "      <td>Private</td>\n",
       "      <td>Urban</td>\n",
       "      <td>228.69</td>\n",
       "      <td>36.6</td>\n",
       "      <td>formerly smoked</td>\n",
       "      <td>1</td>\n",
       "    </tr>\n",
       "    <tr>\n",
       "      <th>1</th>\n",
       "      <td>Female</td>\n",
       "      <td>61.0</td>\n",
       "      <td>0</td>\n",
       "      <td>0</td>\n",
       "      <td>Yes</td>\n",
       "      <td>Self-employed</td>\n",
       "      <td>Rural</td>\n",
       "      <td>202.21</td>\n",
       "      <td>28.7</td>\n",
       "      <td>never smoked</td>\n",
       "      <td>1</td>\n",
       "    </tr>\n",
       "    <tr>\n",
       "      <th>2</th>\n",
       "      <td>Male</td>\n",
       "      <td>80.0</td>\n",
       "      <td>0</td>\n",
       "      <td>1</td>\n",
       "      <td>Yes</td>\n",
       "      <td>Private</td>\n",
       "      <td>Rural</td>\n",
       "      <td>105.92</td>\n",
       "      <td>32.5</td>\n",
       "      <td>never smoked</td>\n",
       "      <td>1</td>\n",
       "    </tr>\n",
       "    <tr>\n",
       "      <th>3</th>\n",
       "      <td>Female</td>\n",
       "      <td>49.0</td>\n",
       "      <td>0</td>\n",
       "      <td>0</td>\n",
       "      <td>Yes</td>\n",
       "      <td>Private</td>\n",
       "      <td>Urban</td>\n",
       "      <td>171.23</td>\n",
       "      <td>34.4</td>\n",
       "      <td>smokes</td>\n",
       "      <td>1</td>\n",
       "    </tr>\n",
       "    <tr>\n",
       "      <th>4</th>\n",
       "      <td>Female</td>\n",
       "      <td>79.0</td>\n",
       "      <td>1</td>\n",
       "      <td>0</td>\n",
       "      <td>Yes</td>\n",
       "      <td>Self-employed</td>\n",
       "      <td>Rural</td>\n",
       "      <td>174.12</td>\n",
       "      <td>24.0</td>\n",
       "      <td>never smoked</td>\n",
       "      <td>1</td>\n",
       "    </tr>\n",
       "  </tbody>\n",
       "</table>\n",
       "</div>"
      ],
      "text/plain": [
       "   gender   age  hypertension  heart_disease ever_married      work_type  \\\n",
       "0    Male  67.0             0              1          Yes        Private   \n",
       "1  Female  61.0             0              0          Yes  Self-employed   \n",
       "2    Male  80.0             0              1          Yes        Private   \n",
       "3  Female  49.0             0              0          Yes        Private   \n",
       "4  Female  79.0             1              0          Yes  Self-employed   \n",
       "\n",
       "  Residence_type  avg_glucose_level   bmi   smoking_status  stroke  \n",
       "0          Urban             228.69  36.6  formerly smoked       1  \n",
       "1          Rural             202.21  28.7     never smoked       1  \n",
       "2          Rural             105.92  32.5     never smoked       1  \n",
       "3          Urban             171.23  34.4           smokes       1  \n",
       "4          Rural             174.12  24.0     never smoked       1  "
      ]
     },
     "execution_count": 12,
     "metadata": {},
     "output_type": "execute_result"
    }
   ],
   "source": [
    "#Removing id column as it is ineffective\n",
    "df.drop(\"id\",inplace=True,axis=1)\n",
    "df.head()"
   ]
  },
  {
   "cell_type": "code",
   "execution_count": 13,
   "id": "344b62dd",
   "metadata": {
    "execution": {
     "iopub.execute_input": "2022-11-26T14:46:23.326820Z",
     "iopub.status.busy": "2022-11-26T14:46:23.325888Z",
     "iopub.status.idle": "2022-11-26T14:46:23.339930Z",
     "shell.execute_reply": "2022-11-26T14:46:23.338944Z"
    },
    "id": "nY-8c9BOz6_H",
    "outputId": "e06af5a1-2d68-4110-f16f-68ab17e05fcd",
    "papermill": {
     "duration": 0.037349,
     "end_time": "2022-11-26T14:46:23.342151",
     "exception": false,
     "start_time": "2022-11-26T14:46:23.304802",
     "status": "completed"
    },
    "tags": []
   },
   "outputs": [
    {
     "data": {
      "text/plain": [
       "0"
      ]
     },
     "execution_count": 13,
     "metadata": {},
     "output_type": "execute_result"
    }
   ],
   "source": [
    "df.duplicated().sum()"
   ]
  },
  {
   "cell_type": "markdown",
   "id": "36e35280",
   "metadata": {
    "id": "mZ19ifmKz6_I",
    "papermill": {
     "duration": 0.019533,
     "end_time": "2022-11-26T14:46:23.381643",
     "exception": false,
     "start_time": "2022-11-26T14:46:23.362110",
     "status": "completed"
    },
    "tags": []
   },
   "source": [
    "No duplicate records"
   ]
  },
  {
   "cell_type": "code",
   "execution_count": 14,
   "id": "56070e3e",
   "metadata": {
    "execution": {
     "iopub.execute_input": "2022-11-26T14:46:23.423577Z",
     "iopub.status.busy": "2022-11-26T14:46:23.423122Z",
     "iopub.status.idle": "2022-11-26T14:46:23.449866Z",
     "shell.execute_reply": "2022-11-26T14:46:23.448746Z"
    },
    "id": "sxd4GHHez6_J",
    "outputId": "29d63c87-2688-48dd-93e1-cdffaf83f85b",
    "papermill": {
     "duration": 0.050492,
     "end_time": "2022-11-26T14:46:23.452224",
     "exception": false,
     "start_time": "2022-11-26T14:46:23.401732",
     "status": "completed"
    },
    "tags": []
   },
   "outputs": [
    {
     "data": {
      "text/html": [
       "<div>\n",
       "<style scoped>\n",
       "    .dataframe tbody tr th:only-of-type {\n",
       "        vertical-align: middle;\n",
       "    }\n",
       "\n",
       "    .dataframe tbody tr th {\n",
       "        vertical-align: top;\n",
       "    }\n",
       "\n",
       "    .dataframe thead th {\n",
       "        text-align: right;\n",
       "    }\n",
       "</style>\n",
       "<table border=\"1\" class=\"dataframe\">\n",
       "  <thead>\n",
       "    <tr style=\"text-align: right;\">\n",
       "      <th></th>\n",
       "      <th>gender</th>\n",
       "      <th>ever_married</th>\n",
       "      <th>work_type</th>\n",
       "      <th>Residence_type</th>\n",
       "      <th>smoking_status</th>\n",
       "    </tr>\n",
       "  </thead>\n",
       "  <tbody>\n",
       "    <tr>\n",
       "      <th>count</th>\n",
       "      <td>5110</td>\n",
       "      <td>5110</td>\n",
       "      <td>5110</td>\n",
       "      <td>5110</td>\n",
       "      <td>5110</td>\n",
       "    </tr>\n",
       "    <tr>\n",
       "      <th>unique</th>\n",
       "      <td>3</td>\n",
       "      <td>2</td>\n",
       "      <td>5</td>\n",
       "      <td>2</td>\n",
       "      <td>4</td>\n",
       "    </tr>\n",
       "    <tr>\n",
       "      <th>top</th>\n",
       "      <td>Female</td>\n",
       "      <td>Yes</td>\n",
       "      <td>Private</td>\n",
       "      <td>Urban</td>\n",
       "      <td>never smoked</td>\n",
       "    </tr>\n",
       "    <tr>\n",
       "      <th>freq</th>\n",
       "      <td>2994</td>\n",
       "      <td>3353</td>\n",
       "      <td>2925</td>\n",
       "      <td>2596</td>\n",
       "      <td>1892</td>\n",
       "    </tr>\n",
       "  </tbody>\n",
       "</table>\n",
       "</div>"
      ],
      "text/plain": [
       "        gender ever_married work_type Residence_type smoking_status\n",
       "count     5110         5110      5110           5110           5110\n",
       "unique       3            2         5              2              4\n",
       "top     Female          Yes   Private          Urban   never smoked\n",
       "freq      2994         3353      2925           2596           1892"
      ]
     },
     "execution_count": 14,
     "metadata": {},
     "output_type": "execute_result"
    }
   ],
   "source": [
    "#Checking Summary of categorical columns\n",
    "df.describe(include=\"object\")"
   ]
  },
  {
   "cell_type": "code",
   "execution_count": 15,
   "id": "bc8383a0",
   "metadata": {
    "execution": {
     "iopub.execute_input": "2022-11-26T14:46:23.494941Z",
     "iopub.status.busy": "2022-11-26T14:46:23.494506Z",
     "iopub.status.idle": "2022-11-26T14:46:23.503124Z",
     "shell.execute_reply": "2022-11-26T14:46:23.502007Z"
    },
    "id": "V5BbIs4Mz6_K",
    "outputId": "656e6863-7b08-471f-cac0-1b2d147bfe49",
    "papermill": {
     "duration": 0.032442,
     "end_time": "2022-11-26T14:46:23.505535",
     "exception": false,
     "start_time": "2022-11-26T14:46:23.473093",
     "status": "completed"
    },
    "tags": []
   },
   "outputs": [
    {
     "data": {
      "text/plain": [
       "['gender', 'ever_married', 'work_type', 'Residence_type', 'smoking_status']"
      ]
     },
     "execution_count": 15,
     "metadata": {},
     "output_type": "execute_result"
    }
   ],
   "source": [
    "categorical = list(df.dtypes[df.dtypes == 'object'].index)\n",
    "categorical"
   ]
  },
  {
   "cell_type": "code",
   "execution_count": 16,
   "id": "f51fc615",
   "metadata": {
    "execution": {
     "iopub.execute_input": "2022-11-26T14:46:23.546830Z",
     "iopub.status.busy": "2022-11-26T14:46:23.546075Z",
     "iopub.status.idle": "2022-11-26T14:46:23.591193Z",
     "shell.execute_reply": "2022-11-26T14:46:23.589597Z"
    },
    "id": "z2aH4Ih5z6_L",
    "outputId": "15939baa-3664-4407-afb6-f1a3c7fffee0",
    "papermill": {
     "duration": 0.068485,
     "end_time": "2022-11-26T14:46:23.593730",
     "exception": false,
     "start_time": "2022-11-26T14:46:23.525245",
     "status": "completed"
    },
    "tags": []
   },
   "outputs": [
    {
     "data": {
      "text/html": [
       "<div>\n",
       "<style scoped>\n",
       "    .dataframe tbody tr th:only-of-type {\n",
       "        vertical-align: middle;\n",
       "    }\n",
       "\n",
       "    .dataframe tbody tr th {\n",
       "        vertical-align: top;\n",
       "    }\n",
       "\n",
       "    .dataframe thead th {\n",
       "        text-align: right;\n",
       "    }\n",
       "</style>\n",
       "<table border=\"1\" class=\"dataframe\">\n",
       "  <thead>\n",
       "    <tr style=\"text-align: right;\">\n",
       "      <th></th>\n",
       "      <th>gender</th>\n",
       "      <th>age</th>\n",
       "      <th>hypertension</th>\n",
       "      <th>heart_disease</th>\n",
       "      <th>ever_married</th>\n",
       "      <th>work_type</th>\n",
       "      <th>Residence_type</th>\n",
       "      <th>avg_glucose_level</th>\n",
       "      <th>bmi</th>\n",
       "      <th>smoking_status</th>\n",
       "      <th>stroke</th>\n",
       "    </tr>\n",
       "  </thead>\n",
       "  <tbody>\n",
       "    <tr>\n",
       "      <th>0</th>\n",
       "      <td>male</td>\n",
       "      <td>67.0</td>\n",
       "      <td>0</td>\n",
       "      <td>1</td>\n",
       "      <td>yes</td>\n",
       "      <td>private</td>\n",
       "      <td>urban</td>\n",
       "      <td>228.69</td>\n",
       "      <td>36.6</td>\n",
       "      <td>formerly_smoked</td>\n",
       "      <td>1</td>\n",
       "    </tr>\n",
       "    <tr>\n",
       "      <th>1</th>\n",
       "      <td>female</td>\n",
       "      <td>61.0</td>\n",
       "      <td>0</td>\n",
       "      <td>0</td>\n",
       "      <td>yes</td>\n",
       "      <td>self-employed</td>\n",
       "      <td>rural</td>\n",
       "      <td>202.21</td>\n",
       "      <td>28.7</td>\n",
       "      <td>never_smoked</td>\n",
       "      <td>1</td>\n",
       "    </tr>\n",
       "    <tr>\n",
       "      <th>2</th>\n",
       "      <td>male</td>\n",
       "      <td>80.0</td>\n",
       "      <td>0</td>\n",
       "      <td>1</td>\n",
       "      <td>yes</td>\n",
       "      <td>private</td>\n",
       "      <td>rural</td>\n",
       "      <td>105.92</td>\n",
       "      <td>32.5</td>\n",
       "      <td>never_smoked</td>\n",
       "      <td>1</td>\n",
       "    </tr>\n",
       "    <tr>\n",
       "      <th>3</th>\n",
       "      <td>female</td>\n",
       "      <td>49.0</td>\n",
       "      <td>0</td>\n",
       "      <td>0</td>\n",
       "      <td>yes</td>\n",
       "      <td>private</td>\n",
       "      <td>urban</td>\n",
       "      <td>171.23</td>\n",
       "      <td>34.4</td>\n",
       "      <td>smokes</td>\n",
       "      <td>1</td>\n",
       "    </tr>\n",
       "    <tr>\n",
       "      <th>4</th>\n",
       "      <td>female</td>\n",
       "      <td>79.0</td>\n",
       "      <td>1</td>\n",
       "      <td>0</td>\n",
       "      <td>yes</td>\n",
       "      <td>self-employed</td>\n",
       "      <td>rural</td>\n",
       "      <td>174.12</td>\n",
       "      <td>24.0</td>\n",
       "      <td>never_smoked</td>\n",
       "      <td>1</td>\n",
       "    </tr>\n",
       "  </tbody>\n",
       "</table>\n",
       "</div>"
      ],
      "text/plain": [
       "   gender   age  hypertension  heart_disease ever_married      work_type  \\\n",
       "0    male  67.0             0              1          yes        private   \n",
       "1  female  61.0             0              0          yes  self-employed   \n",
       "2    male  80.0             0              1          yes        private   \n",
       "3  female  49.0             0              0          yes        private   \n",
       "4  female  79.0             1              0          yes  self-employed   \n",
       "\n",
       "  Residence_type  avg_glucose_level   bmi   smoking_status  stroke  \n",
       "0          urban             228.69  36.6  formerly_smoked       1  \n",
       "1          rural             202.21  28.7     never_smoked       1  \n",
       "2          rural             105.92  32.5     never_smoked       1  \n",
       "3          urban             171.23  34.4           smokes       1  \n",
       "4          rural             174.12  24.0     never_smoked       1  "
      ]
     },
     "execution_count": 16,
     "metadata": {},
     "output_type": "execute_result"
    }
   ],
   "source": [
    "for col in categorical:\n",
    "    df[col] = df[col].str.lower().str.replace(\" \", \"_\")\n",
    "    \n",
    "df.head()"
   ]
  },
  {
   "cell_type": "code",
   "execution_count": 17,
   "id": "0c3ea597",
   "metadata": {
    "execution": {
     "iopub.execute_input": "2022-11-26T14:46:23.635419Z",
     "iopub.status.busy": "2022-11-26T14:46:23.635005Z",
     "iopub.status.idle": "2022-11-26T14:46:23.648907Z",
     "shell.execute_reply": "2022-11-26T14:46:23.647416Z"
    },
    "id": "wuP5P1dIz6_M",
    "outputId": "666d9d3a-1c1c-4326-e2c3-07aea94ee61a",
    "papermill": {
     "duration": 0.038998,
     "end_time": "2022-11-26T14:46:23.652562",
     "exception": false,
     "start_time": "2022-11-26T14:46:23.613564",
     "status": "completed"
    },
    "tags": []
   },
   "outputs": [
    {
     "name": "stdout",
     "output_type": "stream",
     "text": [
      "\n",
      "gender\n",
      "['male' 'female' 'other']\n",
      "No of Unique classes  3\n",
      "\n",
      "ever_married\n",
      "['yes' 'no']\n",
      "No of Unique classes  2\n",
      "\n",
      "work_type\n",
      "['private' 'self-employed' 'govt_job' 'children' 'never_worked']\n",
      "No of Unique classes  5\n",
      "\n",
      "Residence_type\n",
      "['urban' 'rural']\n",
      "No of Unique classes  2\n",
      "\n",
      "smoking_status\n",
      "['formerly_smoked' 'never_smoked' 'smokes' 'unknown']\n",
      "No of Unique classes  4\n"
     ]
    }
   ],
   "source": [
    "for col in categorical:\n",
    "    print('\\n'+col)\n",
    "    print(df[col].unique())\n",
    "    print(\"No of Unique classes \",df[col].nunique())"
   ]
  },
  {
   "cell_type": "code",
   "execution_count": 18,
   "id": "046228fb",
   "metadata": {
    "execution": {
     "iopub.execute_input": "2022-11-26T14:46:23.695157Z",
     "iopub.status.busy": "2022-11-26T14:46:23.694699Z",
     "iopub.status.idle": "2022-11-26T14:46:23.714727Z",
     "shell.execute_reply": "2022-11-26T14:46:23.713482Z"
    },
    "id": "ylaXPtakz6_N",
    "outputId": "d59dc2c1-e53c-4db7-f925-0dad19cf30c3",
    "papermill": {
     "duration": 0.044948,
     "end_time": "2022-11-26T14:46:23.717772",
     "exception": false,
     "start_time": "2022-11-26T14:46:23.672824",
     "status": "completed"
    },
    "tags": []
   },
   "outputs": [
    {
     "data": {
      "text/html": [
       "<div>\n",
       "<style scoped>\n",
       "    .dataframe tbody tr th:only-of-type {\n",
       "        vertical-align: middle;\n",
       "    }\n",
       "\n",
       "    .dataframe tbody tr th {\n",
       "        vertical-align: top;\n",
       "    }\n",
       "\n",
       "    .dataframe thead th {\n",
       "        text-align: right;\n",
       "    }\n",
       "</style>\n",
       "<table border=\"1\" class=\"dataframe\">\n",
       "  <thead>\n",
       "    <tr style=\"text-align: right;\">\n",
       "      <th></th>\n",
       "      <th>gender</th>\n",
       "      <th>age</th>\n",
       "      <th>hypertension</th>\n",
       "      <th>heart_disease</th>\n",
       "      <th>ever_married</th>\n",
       "      <th>work_type</th>\n",
       "      <th>Residence_type</th>\n",
       "      <th>avg_glucose_level</th>\n",
       "      <th>bmi</th>\n",
       "      <th>smoking_status</th>\n",
       "      <th>stroke</th>\n",
       "    </tr>\n",
       "  </thead>\n",
       "  <tbody>\n",
       "    <tr>\n",
       "      <th>0</th>\n",
       "      <td>male</td>\n",
       "      <td>67.0</td>\n",
       "      <td>0</td>\n",
       "      <td>1</td>\n",
       "      <td>yes</td>\n",
       "      <td>private</td>\n",
       "      <td>urban</td>\n",
       "      <td>228.69</td>\n",
       "      <td>36.6</td>\n",
       "      <td>formerly_smoked</td>\n",
       "      <td>1</td>\n",
       "    </tr>\n",
       "    <tr>\n",
       "      <th>1</th>\n",
       "      <td>female</td>\n",
       "      <td>61.0</td>\n",
       "      <td>0</td>\n",
       "      <td>0</td>\n",
       "      <td>yes</td>\n",
       "      <td>self-employed</td>\n",
       "      <td>rural</td>\n",
       "      <td>202.21</td>\n",
       "      <td>28.7</td>\n",
       "      <td>never_smoked</td>\n",
       "      <td>1</td>\n",
       "    </tr>\n",
       "    <tr>\n",
       "      <th>2</th>\n",
       "      <td>male</td>\n",
       "      <td>80.0</td>\n",
       "      <td>0</td>\n",
       "      <td>1</td>\n",
       "      <td>yes</td>\n",
       "      <td>private</td>\n",
       "      <td>rural</td>\n",
       "      <td>105.92</td>\n",
       "      <td>32.5</td>\n",
       "      <td>never_smoked</td>\n",
       "      <td>1</td>\n",
       "    </tr>\n",
       "    <tr>\n",
       "      <th>3</th>\n",
       "      <td>female</td>\n",
       "      <td>49.0</td>\n",
       "      <td>0</td>\n",
       "      <td>0</td>\n",
       "      <td>yes</td>\n",
       "      <td>private</td>\n",
       "      <td>urban</td>\n",
       "      <td>171.23</td>\n",
       "      <td>34.4</td>\n",
       "      <td>smokes</td>\n",
       "      <td>1</td>\n",
       "    </tr>\n",
       "    <tr>\n",
       "      <th>4</th>\n",
       "      <td>female</td>\n",
       "      <td>79.0</td>\n",
       "      <td>1</td>\n",
       "      <td>0</td>\n",
       "      <td>yes</td>\n",
       "      <td>self-employed</td>\n",
       "      <td>rural</td>\n",
       "      <td>174.12</td>\n",
       "      <td>24.0</td>\n",
       "      <td>never_smoked</td>\n",
       "      <td>1</td>\n",
       "    </tr>\n",
       "  </tbody>\n",
       "</table>\n",
       "</div>"
      ],
      "text/plain": [
       "   gender   age  hypertension  heart_disease ever_married      work_type  \\\n",
       "0    male  67.0             0              1          yes        private   \n",
       "1  female  61.0             0              0          yes  self-employed   \n",
       "2    male  80.0             0              1          yes        private   \n",
       "3  female  49.0             0              0          yes        private   \n",
       "4  female  79.0             1              0          yes  self-employed   \n",
       "\n",
       "  Residence_type  avg_glucose_level   bmi   smoking_status  stroke  \n",
       "0          urban             228.69  36.6  formerly_smoked       1  \n",
       "1          rural             202.21  28.7     never_smoked       1  \n",
       "2          rural             105.92  32.5     never_smoked       1  \n",
       "3          urban             171.23  34.4           smokes       1  \n",
       "4          rural             174.12  24.0     never_smoked       1  "
      ]
     },
     "execution_count": 18,
     "metadata": {},
     "output_type": "execute_result"
    }
   ],
   "source": [
    "df = df[df.gender != 'Other']\n",
    "df.head()"
   ]
  },
  {
   "cell_type": "code",
   "execution_count": 19,
   "id": "8f0f9555",
   "metadata": {
    "execution": {
     "iopub.execute_input": "2022-11-26T14:46:23.763854Z",
     "iopub.status.busy": "2022-11-26T14:46:23.763448Z",
     "iopub.status.idle": "2022-11-26T14:46:23.771183Z",
     "shell.execute_reply": "2022-11-26T14:46:23.770029Z"
    },
    "id": "T3UO9elAz6_O",
    "outputId": "f3b831bb-0057-430a-a182-f555bd5ad5a9",
    "papermill": {
     "duration": 0.035155,
     "end_time": "2022-11-26T14:46:23.774031",
     "exception": false,
     "start_time": "2022-11-26T14:46:23.738876",
     "status": "completed"
    },
    "tags": []
   },
   "outputs": [
    {
     "data": {
      "text/plain": [
       "(5110, 11)"
      ]
     },
     "execution_count": 19,
     "metadata": {},
     "output_type": "execute_result"
    }
   ],
   "source": [
    "df.shape"
   ]
  },
  {
   "cell_type": "code",
   "execution_count": 20,
   "id": "b2def09f",
   "metadata": {
    "execution": {
     "iopub.execute_input": "2022-11-26T14:46:23.817452Z",
     "iopub.status.busy": "2022-11-26T14:46:23.817018Z",
     "iopub.status.idle": "2022-11-26T14:46:23.827078Z",
     "shell.execute_reply": "2022-11-26T14:46:23.826012Z"
    },
    "id": "AezaA74Mz6_P",
    "outputId": "5c418669-e076-4dee-85c0-2b722cc4e5fb",
    "papermill": {
     "duration": 0.035439,
     "end_time": "2022-11-26T14:46:23.829657",
     "exception": false,
     "start_time": "2022-11-26T14:46:23.794218",
     "status": "completed"
    },
    "tags": []
   },
   "outputs": [
    {
     "data": {
      "text/plain": [
       "0.32    5\n",
       "0.56    5\n",
       "0.72    5\n",
       "0.88    5\n",
       "0.24    5\n",
       "1.00    5\n",
       "1.56    4\n",
       "1.16    4\n",
       "0.64    4\n",
       "0.80    4\n",
       "1.40    3\n",
       "0.48    3\n",
       "0.16    3\n",
       "0.40    2\n",
       "0.08    2\n",
       "Name: age, dtype: int64"
      ]
     },
     "execution_count": 20,
     "metadata": {},
     "output_type": "execute_result"
    }
   ],
   "source": [
    "df.age.value_counts().iloc[-15:]"
   ]
  },
  {
   "cell_type": "markdown",
   "id": "4b569302",
   "metadata": {
    "id": "YgkIhJFFz6_Q",
    "papermill": {
     "duration": 0.020708,
     "end_time": "2022-11-26T14:46:23.871185",
     "exception": false,
     "start_time": "2022-11-26T14:46:23.850477",
     "status": "completed"
    },
    "tags": []
   },
   "source": [
    "Let's drop rows where age < 18"
   ]
  },
  {
   "cell_type": "code",
   "execution_count": 21,
   "id": "0cdb75b4",
   "metadata": {
    "execution": {
     "iopub.execute_input": "2022-11-26T14:46:23.914972Z",
     "iopub.status.busy": "2022-11-26T14:46:23.914523Z",
     "iopub.status.idle": "2022-11-26T14:46:23.921672Z",
     "shell.execute_reply": "2022-11-26T14:46:23.920462Z"
    },
    "id": "pAR3YsI7z6_S",
    "papermill": {
     "duration": 0.032083,
     "end_time": "2022-11-26T14:46:23.924320",
     "exception": false,
     "start_time": "2022-11-26T14:46:23.892237",
     "status": "completed"
    },
    "tags": []
   },
   "outputs": [],
   "source": [
    "df = df[df.age > 18]"
   ]
  },
  {
   "cell_type": "code",
   "execution_count": 22,
   "id": "94c19c0d",
   "metadata": {
    "execution": {
     "iopub.execute_input": "2022-11-26T14:46:23.969103Z",
     "iopub.status.busy": "2022-11-26T14:46:23.968668Z",
     "iopub.status.idle": "2022-11-26T14:46:23.978157Z",
     "shell.execute_reply": "2022-11-26T14:46:23.976915Z"
    },
    "id": "ceaLQGrfz6_T",
    "outputId": "00d5b9fb-a022-4da5-c139-f048f7c92257",
    "papermill": {
     "duration": 0.035394,
     "end_time": "2022-11-26T14:46:23.980612",
     "exception": false,
     "start_time": "2022-11-26T14:46:23.945218",
     "status": "completed"
    },
    "tags": []
   },
   "outputs": [
    {
     "data": {
      "text/plain": [
       "never_smoked       1727\n",
       "formerly_smoked     857\n",
       "unknown             835\n",
       "smokes              775\n",
       "Name: smoking_status, dtype: int64"
      ]
     },
     "execution_count": 22,
     "metadata": {},
     "output_type": "execute_result"
    }
   ],
   "source": [
    "df.smoking_status.value_counts()"
   ]
  },
  {
   "cell_type": "code",
   "execution_count": 23,
   "id": "f48ab6ba",
   "metadata": {
    "execution": {
     "iopub.execute_input": "2022-11-26T14:46:24.024877Z",
     "iopub.status.busy": "2022-11-26T14:46:24.024453Z",
     "iopub.status.idle": "2022-11-26T14:46:24.034739Z",
     "shell.execute_reply": "2022-11-26T14:46:24.032861Z"
    },
    "id": "zuLsZUKlz6_U",
    "outputId": "1559b350-8209-4ff2-ec6b-0f00772d1259",
    "papermill": {
     "duration": 0.035238,
     "end_time": "2022-11-26T14:46:24.037579",
     "exception": false,
     "start_time": "2022-11-26T14:46:24.002341",
     "status": "completed"
    },
    "tags": []
   },
   "outputs": [
    {
     "data": {
      "text/plain": [
       "urban    2141\n",
       "rural    2053\n",
       "Name: Residence_type, dtype: int64"
      ]
     },
     "execution_count": 23,
     "metadata": {},
     "output_type": "execute_result"
    }
   ],
   "source": [
    "df.Residence_type.value_counts()"
   ]
  },
  {
   "cell_type": "markdown",
   "id": "64fe5112",
   "metadata": {
    "id": "Ju8UQQpXz6_V",
    "papermill": {
     "duration": 0.021417,
     "end_time": "2022-11-26T14:46:24.080221",
     "exception": false,
     "start_time": "2022-11-26T14:46:24.058804",
     "status": "completed"
    },
    "tags": []
   },
   "source": [
    "# Data Visualization"
   ]
  },
  {
   "cell_type": "code",
   "execution_count": 24,
   "id": "d9aefeaa",
   "metadata": {
    "execution": {
     "iopub.execute_input": "2022-11-26T14:46:24.123741Z",
     "iopub.status.busy": "2022-11-26T14:46:24.123321Z",
     "iopub.status.idle": "2022-11-26T14:46:24.657264Z",
     "shell.execute_reply": "2022-11-26T14:46:24.655856Z"
    },
    "id": "aRrxFy-Oz6_V",
    "outputId": "c23375a7-8c4f-4dcb-9ab8-29a78ca5de89",
    "papermill": {
     "duration": 0.558768,
     "end_time": "2022-11-26T14:46:24.660363",
     "exception": false,
     "start_time": "2022-11-26T14:46:24.101595",
     "status": "completed"
    },
    "tags": []
   },
   "outputs": [
    {
     "data": {
      "image/png": "[encoded data removed]",
      "text/plain": [
       "<Figure size 1800x1080 with 2 Axes>"
      ]
     },
     "metadata": {},
     "output_type": "display_data"
    }
   ],
   "source": [
    "corr = df.corr()\n",
    "plt.figure(figsize=(25, 15))\n",
    "sns.heatmap(corr, annot=True)\n",
    "plt.title('Correlation Matrix', fontsize=24)\n",
    "plt.show()"
   ]
  },
  {
   "cell_type": "code",
   "execution_count": 25,
   "id": "6ee18f77",
   "metadata": {
    "execution": {
     "iopub.execute_input": "2022-11-26T14:46:24.705088Z",
     "iopub.status.busy": "2022-11-26T14:46:24.703952Z",
     "iopub.status.idle": "2022-11-26T14:46:24.979171Z",
     "shell.execute_reply": "2022-11-26T14:46:24.978107Z"
    },
    "id": "le76m6_uz6_W",
    "outputId": "7dab4dcb-88d1-47c1-d889-309319e92307",
    "papermill": {
     "duration": 0.300645,
     "end_time": "2022-11-26T14:46:24.982233",
     "exception": false,
     "start_time": "2022-11-26T14:46:24.681588",
     "status": "completed"
    },
    "tags": []
   },
   "outputs": [
    {
     "data": {
      "image/png": "[encoded data removed]",
      "text/plain": [
       "<Figure size 864x288 with 2 Axes>"
      ]
     },
     "metadata": {},
     "output_type": "display_data"
    }
   ],
   "source": [
    "fig, ax = plt.subplots(1,2, figsize=(12,4))\n",
    "\n",
    "sns.countplot(ax=ax[0], data=df[df.hypertension == 1], x='stroke').set(title = 'Hypertension')\n",
    "sns.countplot(ax=ax[1], data=df[df.hypertension == 0], x='stroke').set(title = 'No Hypertension')\n",
    "\n",
    "plt.show()"
   ]
  },
  {
   "cell_type": "code",
   "execution_count": 26,
   "id": "dce9a820",
   "metadata": {
    "execution": {
     "iopub.execute_input": "2022-11-26T14:46:25.029709Z",
     "iopub.status.busy": "2022-11-26T14:46:25.028707Z",
     "iopub.status.idle": "2022-11-26T14:46:25.679550Z",
     "shell.execute_reply": "2022-11-26T14:46:25.678348Z"
    },
    "id": "UVt2SIsCz6_X",
    "outputId": "67453c31-d1b1-44cf-b031-b1adfc4d90cd",
    "papermill": {
     "duration": 0.677047,
     "end_time": "2022-11-26T14:46:25.682072",
     "exception": false,
     "start_time": "2022-11-26T14:46:25.005025",
     "status": "completed"
    },
    "tags": []
   },
   "outputs": [
    {
     "data": {
      "image/png": "[encoded data removed]",
      "text/plain": [
       "<Figure size 864x1152 with 6 Axes>"
      ]
     },
     "metadata": {},
     "output_type": "display_data"
    }
   ],
   "source": [
    "fig, ax = plt.subplots(3,2, figsize=(12,16))\n",
    "\n",
    "sns.countplot(ax=ax[0,0], data=df[df.heart_disease == 1], x='stroke').set(title = 'Heart disease')\n",
    "sns.countplot(ax=ax[0,1], data=df[df.heart_disease == 0], x='stroke').set(title = 'No Heart Disease')\n",
    "\n",
    "sns.countplot(ax=ax[1,0], data=df[df.hypertension == 1], x='stroke').set(title = 'Hypertension')\n",
    "sns.countplot(ax=ax[1,1], data=df[df.hypertension == 0], x='stroke').set(title = 'No Hypertension')\n",
    "\n",
    "sns.countplot(ax=ax[2,0], data=df[(df.heart_disease == 1) & (df.hypertension == 1)], x='stroke').set(title = 'Heart disease & Hypertension')\n",
    "sns.countplot(ax=ax[2,1], data=df[df.heart_disease == 0 & (df.hypertension == 0)], x='stroke').set(title = 'No heart disease & No Hypertension')\n",
    "\n",
    "plt.show()"
   ]
  },
  {
   "cell_type": "markdown",
   "id": "4a2c5c53",
   "metadata": {
    "id": "4qxee3R6z6_Z",
    "papermill": {
     "duration": 0.02355,
     "end_time": "2022-11-26T14:46:25.728861",
     "exception": false,
     "start_time": "2022-11-26T14:46:25.705311",
     "status": "completed"
    },
    "tags": []
   },
   "source": [
    "VISUALING RESIDENCE"
   ]
  },
  {
   "cell_type": "code",
   "execution_count": 27,
   "id": "b90a13bf",
   "metadata": {
    "execution": {
     "iopub.execute_input": "2022-11-26T14:46:25.778570Z",
     "iopub.status.busy": "2022-11-26T14:46:25.778096Z",
     "iopub.status.idle": "2022-11-26T14:46:26.058209Z",
     "shell.execute_reply": "2022-11-26T14:46:26.056911Z"
    },
    "id": "8-0w1FZrz6_b",
    "outputId": "2961037f-2733-423c-8415-eef6d0b59b30",
    "papermill": {
     "duration": 0.308286,
     "end_time": "2022-11-26T14:46:26.061077",
     "exception": false,
     "start_time": "2022-11-26T14:46:25.752791",
     "status": "completed"
    },
    "tags": []
   },
   "outputs": [
    {
     "data": {
      "image/png": "[encoded data removed]",
      "text/plain": [
       "<Figure size 864x288 with 2 Axes>"
      ]
     },
     "metadata": {},
     "output_type": "display_data"
    }
   ],
   "source": [
    "fig, ax = plt.subplots(1,2, figsize=(12,4))\n",
    "\n",
    "sns.countplot(ax=ax[0], data=df[df.Residence_type == 'urban'], x='stroke').set(title = 'Urban Residence')\n",
    "sns.countplot(ax=ax[1], data=df[df.Residence_type == 'rural'], x='stroke').set(title = 'Rural Residence')\n",
    "\n",
    "plt.show()"
   ]
  },
  {
   "cell_type": "code",
   "execution_count": 28,
   "id": "4aa5798b",
   "metadata": {
    "execution": {
     "iopub.execute_input": "2022-11-26T14:46:26.109347Z",
     "iopub.status.busy": "2022-11-26T14:46:26.108898Z",
     "iopub.status.idle": "2022-11-26T14:46:26.976552Z",
     "shell.execute_reply": "2022-11-26T14:46:26.975252Z"
    },
    "id": "R8T5rRITz6_f",
    "outputId": "7716b72e-0ae0-466c-9247-6b1fb06e0307",
    "papermill": {
     "duration": 0.895148,
     "end_time": "2022-11-26T14:46:26.979672",
     "exception": false,
     "start_time": "2022-11-26T14:46:26.084524",
     "status": "completed"
    },
    "tags": []
   },
   "outputs": [
    {
     "data": {
      "image/png": "[encoded data removed]",
      "text/plain": [
       "<Figure size 432x288 with 1 Axes>"
      ]
     },
     "metadata": {},
     "output_type": "display_data"
    }
   ],
   "source": [
    "sns.histplot(data=df, x='bmi', hue='gender', multiple='stack')\n",
    "plt.show()"
   ]
  },
  {
   "cell_type": "code",
   "execution_count": 29,
   "id": "04d976de",
   "metadata": {
    "execution": {
     "iopub.execute_input": "2022-11-26T14:46:27.040672Z",
     "iopub.status.busy": "2022-11-26T14:46:27.039771Z",
     "iopub.status.idle": "2022-11-26T14:46:27.331004Z",
     "shell.execute_reply": "2022-11-26T14:46:27.329056Z"
    },
    "id": "8sy1jm1yz6_f",
    "outputId": "01f1115e-1c3d-4ba0-feb4-354516d6ddd2",
    "papermill": {
     "duration": 0.319586,
     "end_time": "2022-11-26T14:46:27.334369",
     "exception": false,
     "start_time": "2022-11-26T14:46:27.014783",
     "status": "completed"
    },
    "tags": []
   },
   "outputs": [
    {
     "data": {
      "image/png": "[encoded data removed]",
      "text/plain": [
       "<Figure size 864x288 with 2 Axes>"
      ]
     },
     "metadata": {},
     "output_type": "display_data"
    }
   ],
   "source": [
    "fig, ax = plt.subplots(1,2, figsize=(12,4))\n",
    "\n",
    "sns.countplot(ax=ax[0], data=df[df.gender == 'male'], x='stroke').set(title = 'Male')\n",
    "sns.countplot(ax=ax[1], data=df[df.gender == 'female'], x='stroke').set(title = 'Female')\n",
    "\n",
    "plt.show()"
   ]
  },
  {
   "cell_type": "code",
   "execution_count": 30,
   "id": "49b94290",
   "metadata": {
    "execution": {
     "iopub.execute_input": "2022-11-26T14:46:27.383519Z",
     "iopub.status.busy": "2022-11-26T14:46:27.382572Z",
     "iopub.status.idle": "2022-11-26T14:46:27.396801Z",
     "shell.execute_reply": "2022-11-26T14:46:27.394681Z"
    },
    "id": "Qqe4BcCRz6_g",
    "outputId": "ed579168-6d93-42c8-eb6c-182319b2a997",
    "papermill": {
     "duration": 0.041948,
     "end_time": "2022-11-26T14:46:27.399865",
     "exception": false,
     "start_time": "2022-11-26T14:46:27.357917",
     "status": "completed"
    },
    "tags": []
   },
   "outputs": [
    {
     "name": "stdout",
     "output_type": "stream",
     "text": [
      "0    1542\n",
      "1     108\n",
      "Name: stroke, dtype: int64\n",
      "0    2404\n",
      "1     139\n",
      "Name: stroke, dtype: int64\n"
     ]
    }
   ],
   "source": [
    "print(df[df.gender == 'male'].stroke.value_counts())\n",
    "print(df[df.gender == 'female'].stroke.value_counts())"
   ]
  },
  {
   "cell_type": "code",
   "execution_count": 31,
   "id": "d38fad5e",
   "metadata": {
    "execution": {
     "iopub.execute_input": "2022-11-26T14:46:27.449475Z",
     "iopub.status.busy": "2022-11-26T14:46:27.448920Z",
     "iopub.status.idle": "2022-11-26T14:46:27.910761Z",
     "shell.execute_reply": "2022-11-26T14:46:27.908856Z"
    },
    "id": "o82rAL6Cz6_h",
    "outputId": "50671364-a40a-4750-ee24-e2164040c233",
    "papermill": {
     "duration": 0.491579,
     "end_time": "2022-11-26T14:46:27.915332",
     "exception": false,
     "start_time": "2022-11-26T14:46:27.423753",
     "status": "completed"
    },
    "tags": []
   },
   "outputs": [
    {
     "data": {
      "image/png": "[encoded data removed]",
      "text/plain": [
       "<Figure size 864x288 with 2 Axes>"
      ]
     },
     "metadata": {},
     "output_type": "display_data"
    }
   ],
   "source": [
    "fig, ax = plt.subplots(1,2, figsize=(12,4))\n",
    "\n",
    "sns.countplot(ax=ax[0], data=df[df.ever_married == 'yes'], x='stroke')\n",
    "sns.countplot(ax=ax[1], data=df[df.ever_married == 'no'], x='stroke')\n",
    "\n",
    "plt.show()"
   ]
  },
  {
   "cell_type": "code",
   "execution_count": 32,
   "id": "9a8790df",
   "metadata": {
    "execution": {
     "iopub.execute_input": "2022-11-26T14:46:27.967443Z",
     "iopub.status.busy": "2022-11-26T14:46:27.966993Z",
     "iopub.status.idle": "2022-11-26T14:46:28.461149Z",
     "shell.execute_reply": "2022-11-26T14:46:28.459912Z"
    },
    "id": "dXyNEu2iz6_i",
    "outputId": "0d5c8341-7818-4e3f-e679-abc5b2918f0d",
    "papermill": {
     "duration": 0.524128,
     "end_time": "2022-11-26T14:46:28.463945",
     "exception": false,
     "start_time": "2022-11-26T14:46:27.939817",
     "status": "completed"
    },
    "tags": []
   },
   "outputs": [
    {
     "data": {
      "image/png": "[encoded data removed]",
      "text/plain": [
       "<Figure size 864x720 with 4 Axes>"
      ]
     },
     "metadata": {},
     "output_type": "display_data"
    }
   ],
   "source": [
    "fig, ax = plt.subplots(2,2, figsize=(12,10))\n",
    "\n",
    "sns.countplot(ax=ax[0,0], data=df[(df.ever_married == 'yes') & (df.gender == 'male')],\n",
    "              x='stroke').set(title='Married Males')\n",
    "sns.countplot(ax=ax[0,1], data=df[(df.ever_married == 'yes') & (df.gender == 'female')],\n",
    "              x='stroke').set(title='Married Females')\n",
    "sns.countplot(ax=ax[1,0], data=df[(df.ever_married == 'no') & (df.gender == 'male')],\n",
    "              x='stroke').set(title='Unmarried Males')\n",
    "sns.countplot(ax=ax[1,1], data=df[(df.ever_married == 'no') & (df.gender == 'female')],\n",
    "              x='stroke').set(title='Unmarried Females')\n",
    "plt.show()"
   ]
  },
  {
   "cell_type": "code",
   "execution_count": 33,
   "id": "bdf81ad7",
   "metadata": {
    "execution": {
     "iopub.execute_input": "2022-11-26T14:46:28.513997Z",
     "iopub.status.busy": "2022-11-26T14:46:28.513568Z",
     "iopub.status.idle": "2022-11-26T14:46:28.977796Z",
     "shell.execute_reply": "2022-11-26T14:46:28.976570Z"
    },
    "id": "kYenn_34z6_j",
    "outputId": "badbd674-5fae-454a-9e3d-290895b0fbb4",
    "papermill": {
     "duration": 0.492361,
     "end_time": "2022-11-26T14:46:28.980382",
     "exception": false,
     "start_time": "2022-11-26T14:46:28.488021",
     "status": "completed"
    },
    "tags": []
   },
   "outputs": [
    {
     "data": {
      "image/png": "[encoded data removed]",
      "text/plain": [
       "<Figure size 432x288 with 1 Axes>"
      ]
     },
     "metadata": {},
     "output_type": "display_data"
    }
   ],
   "source": [
    "sns.histplot(data=df, x='avg_glucose_level', hue='stroke', multiple='stack')\n",
    "\n",
    "plt.show()"
   ]
  },
  {
   "cell_type": "markdown",
   "id": "f153e7f8",
   "metadata": {
    "id": "9wDgJBwrz6_k",
    "papermill": {
     "duration": 0.02525,
     "end_time": "2022-11-26T14:46:29.030609",
     "exception": false,
     "start_time": "2022-11-26T14:46:29.005359",
     "status": "completed"
    },
    "tags": []
   },
   "source": [
    "People having stroke tends to have a **higher** average blood glucose level"
   ]
  },
  {
   "cell_type": "markdown",
   "id": "c8c352a8",
   "metadata": {
    "id": "vbm2nJMcz6_k",
    "papermill": {
     "duration": 0.024195,
     "end_time": "2022-11-26T14:46:29.080334",
     "exception": false,
     "start_time": "2022-11-26T14:46:29.056139",
     "status": "completed"
    },
    "tags": []
   },
   "source": [
    "# Data Preprocessing for ML model"
   ]
  },
  {
   "cell_type": "markdown",
   "id": "b233780d",
   "metadata": {
    "id": "yULfueCwz6_l",
    "papermill": {
     "duration": 0.024168,
     "end_time": "2022-11-26T14:46:29.129145",
     "exception": false,
     "start_time": "2022-11-26T14:46:29.104977",
     "status": "completed"
    },
    "tags": []
   },
   "source": [
    "### One Hot Encoding"
   ]
  },
  {
   "cell_type": "code",
   "execution_count": 34,
   "id": "2df94e4b",
   "metadata": {
    "execution": {
     "iopub.execute_input": "2022-11-26T14:46:29.180253Z",
     "iopub.status.busy": "2022-11-26T14:46:29.179829Z",
     "iopub.status.idle": "2022-11-26T14:46:29.214974Z",
     "shell.execute_reply": "2022-11-26T14:46:29.213740Z"
    },
    "id": "LDad3XqYz6_l",
    "outputId": "4f6724ef-60ba-4887-c0c3-2dd19a16a2af",
    "papermill": {
     "duration": 0.063717,
     "end_time": "2022-11-26T14:46:29.217470",
     "exception": false,
     "start_time": "2022-11-26T14:46:29.153753",
     "status": "completed"
    },
    "tags": []
   },
   "outputs": [
    {
     "data": {
      "text/html": [
       "<div>\n",
       "<style scoped>\n",
       "    .dataframe tbody tr th:only-of-type {\n",
       "        vertical-align: middle;\n",
       "    }\n",
       "\n",
       "    .dataframe tbody tr th {\n",
       "        vertical-align: top;\n",
       "    }\n",
       "\n",
       "    .dataframe thead th {\n",
       "        text-align: right;\n",
       "    }\n",
       "</style>\n",
       "<table border=\"1\" class=\"dataframe\">\n",
       "  <thead>\n",
       "    <tr style=\"text-align: right;\">\n",
       "      <th></th>\n",
       "      <th>age</th>\n",
       "      <th>hypertension</th>\n",
       "      <th>heart_disease</th>\n",
       "      <th>avg_glucose_level</th>\n",
       "      <th>bmi</th>\n",
       "      <th>stroke</th>\n",
       "      <th>gender_female</th>\n",
       "      <th>gender_male</th>\n",
       "      <th>gender_other</th>\n",
       "      <th>ever_married_no</th>\n",
       "      <th>...</th>\n",
       "      <th>work_type_govt_job</th>\n",
       "      <th>work_type_never_worked</th>\n",
       "      <th>work_type_private</th>\n",
       "      <th>work_type_self-employed</th>\n",
       "      <th>Residence_type_rural</th>\n",
       "      <th>Residence_type_urban</th>\n",
       "      <th>smoking_status_formerly_smoked</th>\n",
       "      <th>smoking_status_never_smoked</th>\n",
       "      <th>smoking_status_smokes</th>\n",
       "      <th>smoking_status_unknown</th>\n",
       "    </tr>\n",
       "  </thead>\n",
       "  <tbody>\n",
       "    <tr>\n",
       "      <th>0</th>\n",
       "      <td>67.0</td>\n",
       "      <td>0</td>\n",
       "      <td>1</td>\n",
       "      <td>228.69</td>\n",
       "      <td>36.6</td>\n",
       "      <td>1</td>\n",
       "      <td>0</td>\n",
       "      <td>1</td>\n",
       "      <td>0</td>\n",
       "      <td>0</td>\n",
       "      <td>...</td>\n",
       "      <td>0</td>\n",
       "      <td>0</td>\n",
       "      <td>1</td>\n",
       "      <td>0</td>\n",
       "      <td>0</td>\n",
       "      <td>1</td>\n",
       "      <td>1</td>\n",
       "      <td>0</td>\n",
       "      <td>0</td>\n",
       "      <td>0</td>\n",
       "    </tr>\n",
       "    <tr>\n",
       "      <th>1</th>\n",
       "      <td>61.0</td>\n",
       "      <td>0</td>\n",
       "      <td>0</td>\n",
       "      <td>202.21</td>\n",
       "      <td>28.7</td>\n",
       "      <td>1</td>\n",
       "      <td>1</td>\n",
       "      <td>0</td>\n",
       "      <td>0</td>\n",
       "      <td>0</td>\n",
       "      <td>...</td>\n",
       "      <td>0</td>\n",
       "      <td>0</td>\n",
       "      <td>0</td>\n",
       "      <td>1</td>\n",
       "      <td>1</td>\n",
       "      <td>0</td>\n",
       "      <td>0</td>\n",
       "      <td>1</td>\n",
       "      <td>0</td>\n",
       "      <td>0</td>\n",
       "    </tr>\n",
       "    <tr>\n",
       "      <th>2</th>\n",
       "      <td>80.0</td>\n",
       "      <td>0</td>\n",
       "      <td>1</td>\n",
       "      <td>105.92</td>\n",
       "      <td>32.5</td>\n",
       "      <td>1</td>\n",
       "      <td>0</td>\n",
       "      <td>1</td>\n",
       "      <td>0</td>\n",
       "      <td>0</td>\n",
       "      <td>...</td>\n",
       "      <td>0</td>\n",
       "      <td>0</td>\n",
       "      <td>1</td>\n",
       "      <td>0</td>\n",
       "      <td>1</td>\n",
       "      <td>0</td>\n",
       "      <td>0</td>\n",
       "      <td>1</td>\n",
       "      <td>0</td>\n",
       "      <td>0</td>\n",
       "    </tr>\n",
       "    <tr>\n",
       "      <th>3</th>\n",
       "      <td>49.0</td>\n",
       "      <td>0</td>\n",
       "      <td>0</td>\n",
       "      <td>171.23</td>\n",
       "      <td>34.4</td>\n",
       "      <td>1</td>\n",
       "      <td>1</td>\n",
       "      <td>0</td>\n",
       "      <td>0</td>\n",
       "      <td>0</td>\n",
       "      <td>...</td>\n",
       "      <td>0</td>\n",
       "      <td>0</td>\n",
       "      <td>1</td>\n",
       "      <td>0</td>\n",
       "      <td>0</td>\n",
       "      <td>1</td>\n",
       "      <td>0</td>\n",
       "      <td>0</td>\n",
       "      <td>1</td>\n",
       "      <td>0</td>\n",
       "    </tr>\n",
       "    <tr>\n",
       "      <th>4</th>\n",
       "      <td>79.0</td>\n",
       "      <td>1</td>\n",
       "      <td>0</td>\n",
       "      <td>174.12</td>\n",
       "      <td>24.0</td>\n",
       "      <td>1</td>\n",
       "      <td>1</td>\n",
       "      <td>0</td>\n",
       "      <td>0</td>\n",
       "      <td>0</td>\n",
       "      <td>...</td>\n",
       "      <td>0</td>\n",
       "      <td>0</td>\n",
       "      <td>0</td>\n",
       "      <td>1</td>\n",
       "      <td>1</td>\n",
       "      <td>0</td>\n",
       "      <td>0</td>\n",
       "      <td>1</td>\n",
       "      <td>0</td>\n",
       "      <td>0</td>\n",
       "    </tr>\n",
       "  </tbody>\n",
       "</table>\n",
       "<p>5 rows × 21 columns</p>\n",
       "</div>"
      ],
      "text/plain": [
       "    age  hypertension  heart_disease  avg_glucose_level   bmi  stroke  \\\n",
       "0  67.0             0              1             228.69  36.6       1   \n",
       "1  61.0             0              0             202.21  28.7       1   \n",
       "2  80.0             0              1             105.92  32.5       1   \n",
       "3  49.0             0              0             171.23  34.4       1   \n",
       "4  79.0             1              0             174.12  24.0       1   \n",
       "\n",
       "   gender_female  gender_male  gender_other  ever_married_no  ...  \\\n",
       "0              0            1             0                0  ...   \n",
       "1              1            0             0                0  ...   \n",
       "2              0            1             0                0  ...   \n",
       "3              1            0             0                0  ...   \n",
       "4              1            0             0                0  ...   \n",
       "\n",
       "   work_type_govt_job  work_type_never_worked  work_type_private  \\\n",
       "0                   0                       0                  1   \n",
       "1                   0                       0                  0   \n",
       "2                   0                       0                  1   \n",
       "3                   0                       0                  1   \n",
       "4                   0                       0                  0   \n",
       "\n",
       "   work_type_self-employed  Residence_type_rural  Residence_type_urban  \\\n",
       "0                        0                     0                     1   \n",
       "1                        1                     1                     0   \n",
       "2                        0                     1                     0   \n",
       "3                        0                     0                     1   \n",
       "4                        1                     1                     0   \n",
       "\n",
       "   smoking_status_formerly_smoked  smoking_status_never_smoked  \\\n",
       "0                               1                            0   \n",
       "1                               0                            1   \n",
       "2                               0                            1   \n",
       "3                               0                            0   \n",
       "4                               0                            1   \n",
       "\n",
       "   smoking_status_smokes  smoking_status_unknown  \n",
       "0                      0                       0  \n",
       "1                      0                       0  \n",
       "2                      0                       0  \n",
       "3                      1                       0  \n",
       "4                      0                       0  \n",
       "\n",
       "[5 rows x 21 columns]"
      ]
     },
     "execution_count": 34,
     "metadata": {},
     "output_type": "execute_result"
    }
   ],
   "source": [
    "df = pd.get_dummies(\n",
    "    df, columns=['gender','ever_married','work_type','Residence_type','smoking_status'])\n",
    "\n",
    "df.head()"
   ]
  },
  {
   "cell_type": "markdown",
   "id": "4d1bda4e",
   "metadata": {
    "id": "DfMLblb9z6_m",
    "papermill": {
     "duration": 0.024439,
     "end_time": "2022-11-26T14:46:29.266595",
     "exception": false,
     "start_time": "2022-11-26T14:46:29.242156",
     "status": "completed"
    },
    "tags": []
   },
   "source": [
    "Correlation after one hot encoding"
   ]
  },
  {
   "cell_type": "code",
   "execution_count": 35,
   "id": "b7240d5e",
   "metadata": {
    "execution": {
     "iopub.execute_input": "2022-11-26T14:46:29.317496Z",
     "iopub.status.busy": "2022-11-26T14:46:29.317059Z",
     "iopub.status.idle": "2022-11-26T14:46:31.722990Z",
     "shell.execute_reply": "2022-11-26T14:46:31.721706Z"
    },
    "id": "yEE4n3mEz6_n",
    "outputId": "93632fdb-4542-4de9-9661-45b0291d1e64",
    "papermill": {
     "duration": 2.438308,
     "end_time": "2022-11-26T14:46:31.729562",
     "exception": false,
     "start_time": "2022-11-26T14:46:29.291254",
     "status": "completed"
    },
    "tags": []
   },
   "outputs": [
    {
     "data": {
      "image/png": "[encoded data removed]",
      "text/plain": [
       "<Figure size 1080x1080 with 2 Axes>"
      ]
     },
     "metadata": {},
     "output_type": "display_data"
    }
   ],
   "source": [
    "plt.figure(figsize=(15, 15))\n",
    "sns.heatmap(df.corr(), annot=True);\n",
    "plt.title('Correlation Matrix', fontsize=20);\n",
    "plt.show()"
   ]
  },
  {
   "cell_type": "code",
   "execution_count": 36,
   "id": "89d8f99d",
   "metadata": {
    "execution": {
     "iopub.execute_input": "2022-11-26T14:46:31.795934Z",
     "iopub.status.busy": "2022-11-26T14:46:31.795206Z",
     "iopub.status.idle": "2022-11-26T14:46:31.813418Z",
     "shell.execute_reply": "2022-11-26T14:46:31.812070Z"
    },
    "id": "0yuoRFpqz6_n",
    "outputId": "712f1ed0-ea7b-4e36-df74-6e5efed7fb73",
    "papermill": {
     "duration": 0.054908,
     "end_time": "2022-11-26T14:46:31.815936",
     "exception": false,
     "start_time": "2022-11-26T14:46:31.761028",
     "status": "completed"
    },
    "tags": []
   },
   "outputs": [
    {
     "data": {
      "text/plain": [
       "age                               0.250469\n",
       "avg_glucose_level                 0.127510\n",
       "heart_disease                     0.126038\n",
       "hypertension                      0.115097\n",
       "ever_married_yes                  0.057112\n",
       "smoking_status_formerly_smoked    0.049050\n",
       "work_type_self-employed           0.045410\n",
       "gender_male                       0.022444\n",
       "Residence_type_urban              0.016023\n",
       "gender_other                     -0.003863\n",
       "work_type_never_worked           -0.005464\n",
       "bmi                              -0.008029\n",
       "smoking_status_smokes            -0.009505\n",
       "smoking_status_unknown           -0.010592\n",
       "work_type_govt_job               -0.014468\n",
       "Residence_type_rural             -0.016023\n",
       "gender_female                    -0.022319\n",
       "smoking_status_never_smoked      -0.024096\n",
       "work_type_private                -0.026321\n",
       "ever_married_no                  -0.057112\n",
       "Name: stroke, dtype: float64"
      ]
     },
     "execution_count": 36,
     "metadata": {},
     "output_type": "execute_result"
    }
   ],
   "source": [
    "df.corr()['stroke'].sort_values(ascending=False)[1:] # importance of all features"
   ]
  },
  {
   "cell_type": "code",
   "execution_count": 37,
   "id": "6629c196",
   "metadata": {
    "execution": {
     "iopub.execute_input": "2022-11-26T14:46:31.878723Z",
     "iopub.status.busy": "2022-11-26T14:46:31.877345Z",
     "iopub.status.idle": "2022-11-26T14:46:31.886088Z",
     "shell.execute_reply": "2022-11-26T14:46:31.884924Z"
    },
    "id": "u_dh3fDfz6_o",
    "outputId": "37e77965-5aa0-4093-fc44-f9973fff8c9a",
    "papermill": {
     "duration": 0.042844,
     "end_time": "2022-11-26T14:46:31.888506",
     "exception": false,
     "start_time": "2022-11-26T14:46:31.845662",
     "status": "completed"
    },
    "tags": []
   },
   "outputs": [
    {
     "data": {
      "text/plain": [
       "Index(['age', 'hypertension', 'heart_disease', 'avg_glucose_level', 'bmi',\n",
       "       'stroke', 'gender_female', 'gender_male', 'gender_other',\n",
       "       'ever_married_no', 'ever_married_yes', 'work_type_govt_job',\n",
       "       'work_type_never_worked', 'work_type_private',\n",
       "       'work_type_self-employed', 'Residence_type_rural',\n",
       "       'Residence_type_urban', 'smoking_status_formerly_smoked',\n",
       "       'smoking_status_never_smoked', 'smoking_status_smokes',\n",
       "       'smoking_status_unknown'],\n",
       "      dtype='object')"
      ]
     },
     "execution_count": 37,
     "metadata": {},
     "output_type": "execute_result"
    }
   ],
   "source": [
    "df.columns"
   ]
  },
  {
   "cell_type": "code",
   "execution_count": 38,
   "id": "1da139fc",
   "metadata": {
    "execution": {
     "iopub.execute_input": "2022-11-26T14:46:31.951180Z",
     "iopub.status.busy": "2022-11-26T14:46:31.949838Z",
     "iopub.status.idle": "2022-11-26T14:46:31.959941Z",
     "shell.execute_reply": "2022-11-26T14:46:31.958821Z"
    },
    "id": "voTPTfykz6_p",
    "papermill": {
     "duration": 0.043685,
     "end_time": "2022-11-26T14:46:31.962508",
     "exception": false,
     "start_time": "2022-11-26T14:46:31.918823",
     "status": "completed"
    },
    "tags": []
   },
   "outputs": [],
   "source": [
    "features = df[['age', 'hypertension', 'heart_disease', 'avg_glucose_level', 'bmi',\n",
    "       'gender_female', 'gender_male',\n",
    "       'ever_married_no', 'ever_married_yes', 'work_type_govt_job',\n",
    "       'work_type_never_worked', 'work_type_private',\n",
    "       'work_type_self-employed', 'Residence_type_rural',\n",
    "       'Residence_type_urban', 'smoking_status_formerly_smoked',\n",
    "       'smoking_status_never_smoked', 'smoking_status_smokes']]\n",
    "\n",
    "y = df[['stroke']]"
   ]
  },
  {
   "cell_type": "markdown",
   "id": "3683e474",
   "metadata": {
    "id": "Pm2eyP0wz6_p",
    "papermill": {
     "duration": 0.030238,
     "end_time": "2022-11-26T14:46:32.022249",
     "exception": false,
     "start_time": "2022-11-26T14:46:31.992011",
     "status": "completed"
    },
    "tags": []
   },
   "source": [
    "Scaling Features"
   ]
  },
  {
   "cell_type": "code",
   "execution_count": 39,
   "id": "d1b71f26",
   "metadata": {
    "execution": {
     "iopub.execute_input": "2022-11-26T14:46:32.085016Z",
     "iopub.status.busy": "2022-11-26T14:46:32.084183Z",
     "iopub.status.idle": "2022-11-26T14:46:32.300378Z",
     "shell.execute_reply": "2022-11-26T14:46:32.299310Z"
    },
    "id": "O-SNBwaVz6_q",
    "papermill": {
     "duration": 0.250164,
     "end_time": "2022-11-26T14:46:32.303218",
     "exception": false,
     "start_time": "2022-11-26T14:46:32.053054",
     "status": "completed"
    },
    "tags": []
   },
   "outputs": [],
   "source": [
    "from sklearn.model_selection import train_test_split\n",
    "from sklearn.preprocessing import MinMaxScaler\n",
    "\n",
    "X_train, X_test, y_train, y_test = train_test_split(features,y,test_size = 0.2,random_state =2)\n",
    "\n",
    "scaler = MinMaxScaler()\n",
    "X_train_scaled = scaler.fit_transform(X_train)\n",
    "X_test_scaled = scaler.transform(X_test)"
   ]
  },
  {
   "cell_type": "code",
   "execution_count": 40,
   "id": "1af1de91",
   "metadata": {
    "execution": {
     "iopub.execute_input": "2022-11-26T14:46:32.366665Z",
     "iopub.status.busy": "2022-11-26T14:46:32.366221Z",
     "iopub.status.idle": "2022-11-26T14:46:32.373810Z",
     "shell.execute_reply": "2022-11-26T14:46:32.372604Z"
    },
    "id": "ZPF29hbxz6_r",
    "outputId": "f884f1c0-15e1-44b8-d0d4-214a83eba437",
    "papermill": {
     "duration": 0.043279,
     "end_time": "2022-11-26T14:46:32.376351",
     "exception": false,
     "start_time": "2022-11-26T14:46:32.333072",
     "status": "completed"
    },
    "tags": []
   },
   "outputs": [
    {
     "data": {
      "text/plain": [
       "(3355, 18)"
      ]
     },
     "execution_count": 40,
     "metadata": {},
     "output_type": "execute_result"
    }
   ],
   "source": [
    "X_train.shape"
   ]
  },
  {
   "cell_type": "code",
   "execution_count": 41,
   "id": "874e34d8",
   "metadata": {
    "execution": {
     "iopub.execute_input": "2022-11-26T14:46:32.438504Z",
     "iopub.status.busy": "2022-11-26T14:46:32.437735Z",
     "iopub.status.idle": "2022-11-26T14:46:32.444017Z",
     "shell.execute_reply": "2022-11-26T14:46:32.443091Z"
    },
    "id": "uEo8l1wzz6_r",
    "outputId": "debb2bab-e0b9-4796-c6ff-11cafb9d175b",
    "papermill": {
     "duration": 0.040001,
     "end_time": "2022-11-26T14:46:32.446247",
     "exception": false,
     "start_time": "2022-11-26T14:46:32.406246",
     "status": "completed"
    },
    "tags": []
   },
   "outputs": [
    {
     "data": {
      "text/plain": [
       "(839, 18)"
      ]
     },
     "execution_count": 41,
     "metadata": {},
     "output_type": "execute_result"
    }
   ],
   "source": [
    "X_test.shape"
   ]
  },
  {
   "cell_type": "code",
   "execution_count": 42,
   "id": "47c5fd49",
   "metadata": {
    "execution": {
     "iopub.execute_input": "2022-11-26T14:46:32.509582Z",
     "iopub.status.busy": "2022-11-26T14:46:32.508769Z",
     "iopub.status.idle": "2022-11-26T14:46:32.515146Z",
     "shell.execute_reply": "2022-11-26T14:46:32.514194Z"
    },
    "id": "-IJfYi80z6_s",
    "outputId": "b5c1bb5e-72b6-45dd-9923-eb27424079c1",
    "papermill": {
     "duration": 0.040403,
     "end_time": "2022-11-26T14:46:32.517609",
     "exception": false,
     "start_time": "2022-11-26T14:46:32.477206",
     "status": "completed"
    },
    "tags": []
   },
   "outputs": [
    {
     "data": {
      "text/plain": [
       "(839, 1)"
      ]
     },
     "execution_count": 42,
     "metadata": {},
     "output_type": "execute_result"
    }
   ],
   "source": [
    "y_test.shape"
   ]
  },
  {
   "cell_type": "markdown",
   "id": "2f5aa0ee",
   "metadata": {
    "papermill": {
     "duration": 0.029752,
     "end_time": "2022-11-26T14:46:32.577955",
     "exception": false,
     "start_time": "2022-11-26T14:46:32.548203",
     "status": "completed"
    },
    "tags": []
   },
   "source": [
    "# **DEFINING MODELS**"
   ]
  },
  {
   "cell_type": "code",
   "execution_count": 43,
   "id": "5a62f813",
   "metadata": {
    "execution": {
     "iopub.execute_input": "2022-11-26T14:46:32.642776Z",
     "iopub.status.busy": "2022-11-26T14:46:32.642299Z",
     "iopub.status.idle": "2022-11-26T14:46:33.053167Z",
     "shell.execute_reply": "2022-11-26T14:46:33.051825Z"
    },
    "id": "O8YdzNt56Znb",
    "papermill": {
     "duration": 0.446581,
     "end_time": "2022-11-26T14:46:33.056032",
     "exception": false,
     "start_time": "2022-11-26T14:46:32.609451",
     "status": "completed"
    },
    "tags": []
   },
   "outputs": [],
   "source": [
    "from sklearn import model_selection\n",
    "from sklearn.neighbors import KNeighborsClassifier\n",
    "from sklearn.naive_bayes import GaussianNB\n",
    "from sklearn.svm import SVC\n",
    "from sklearn.linear_model import LogisticRegression\n",
    "from sklearn.ensemble import RandomForestClassifier\n",
    "from sklearn.tree import DecisionTreeClassifier\n",
    "from sklearn.ensemble import VotingClassifier\n",
    "from sklearn.ensemble import StackingClassifier\n",
    "\n",
    "models = []\n",
    "models.append(('KNN', KNeighborsClassifier()))\n",
    "models.append(('NB', GaussianNB()))\n",
    "models.append(('SVM-Linear', SVC(kernel=\"linear\", C=1.0)))\n",
    "models.append(('SVM-RBF',SVC(kernel=\"rbf\",gamma=0.7, C=1.0)))\n",
    "models.append(('SVM-Poly deg 3',SVC(kernel=\"poly\",degree = 3 ,gamma=\"auto\", C=1.0)))\n"
   ]
  },
  {
   "cell_type": "code",
   "execution_count": 44,
   "id": "141c348b",
   "metadata": {
    "execution": {
     "iopub.execute_input": "2022-11-26T14:46:33.118674Z",
     "iopub.status.busy": "2022-11-26T14:46:33.118210Z",
     "iopub.status.idle": "2022-11-26T14:46:33.124173Z",
     "shell.execute_reply": "2022-11-26T14:46:33.122921Z"
    },
    "papermill": {
     "duration": 0.040506,
     "end_time": "2022-11-26T14:46:33.126835",
     "exception": false,
     "start_time": "2022-11-26T14:46:33.086329",
     "status": "completed"
    },
    "tags": []
   },
   "outputs": [],
   "source": [
    "lr = LogisticRegression()\n",
    "rf = RandomForestClassifier(n_estimators=100)\n",
    "dt = DecisionTreeClassifier()"
   ]
  },
  {
   "cell_type": "code",
   "execution_count": 45,
   "id": "a1f9c50e",
   "metadata": {
    "execution": {
     "iopub.execute_input": "2022-11-26T14:46:33.192787Z",
     "iopub.status.busy": "2022-11-26T14:46:33.191608Z",
     "iopub.status.idle": "2022-11-26T14:46:33.198827Z",
     "shell.execute_reply": "2022-11-26T14:46:33.197514Z"
    },
    "papermill": {
     "duration": 0.043193,
     "end_time": "2022-11-26T14:46:33.201612",
     "exception": false,
     "start_time": "2022-11-26T14:46:33.158419",
     "status": "completed"
    },
    "tags": []
   },
   "outputs": [],
   "source": [
    "models.append(('Ensemble Learning',\n",
    "               StackingClassifier(\n",
    "                   estimators=[('logistics_regression', lr),  ('decision_tree', dt)], \n",
    "                   final_estimator= rf)\n",
    "              ))"
   ]
  },
  {
   "cell_type": "code",
   "execution_count": 46,
   "id": "35e096f9",
   "metadata": {
    "execution": {
     "iopub.execute_input": "2022-11-26T14:46:33.264810Z",
     "iopub.status.busy": "2022-11-26T14:46:33.264325Z",
     "iopub.status.idle": "2022-11-26T14:46:33.269385Z",
     "shell.execute_reply": "2022-11-26T14:46:33.268139Z"
    },
    "papermill": {
     "duration": 0.039546,
     "end_time": "2022-11-26T14:46:33.271852",
     "exception": false,
     "start_time": "2022-11-26T14:46:33.232306",
     "status": "completed"
    },
    "tags": []
   },
   "outputs": [],
   "source": [
    "#  models.append(('Ensemble Learning',VotingClassifier(\n",
    "#     estimators=[('logistics_regression', lr), ('random_forest', rf), ('decision_tree', dt)],\n",
    "#     voting='soft')\n",
    "#               ))"
   ]
  },
  {
   "cell_type": "markdown",
   "id": "b7c974ee",
   "metadata": {
    "papermill": {
     "duration": 0.029634,
     "end_time": "2022-11-26T14:46:33.331408",
     "exception": false,
     "start_time": "2022-11-26T14:46:33.301774",
     "status": "completed"
    },
    "tags": []
   },
   "source": [
    "# **TRAINING MODELS**"
   ]
  },
  {
   "cell_type": "code",
   "execution_count": 47,
   "id": "7c19b847",
   "metadata": {
    "execution": {
     "iopub.execute_input": "2022-11-26T14:46:33.393371Z",
     "iopub.status.busy": "2022-11-26T14:46:33.392914Z",
     "iopub.status.idle": "2022-11-26T14:46:39.826777Z",
     "shell.execute_reply": "2022-11-26T14:46:39.825444Z"
    },
    "id": "TLUgq1PA61-W",
    "outputId": "43864fac-2447-4fe7-edff-2ff93b9d46e8",
    "papermill": {
     "duration": 6.469098,
     "end_time": "2022-11-26T14:46:39.830401",
     "exception": false,
     "start_time": "2022-11-26T14:46:33.361303",
     "status": "completed"
    },
    "tags": []
   },
   "outputs": [
    {
     "name": "stdout",
     "output_type": "stream",
     "text": [
      "KNN: 0.943964 (0.009547)\n",
      "NB: 0.441729 (0.213723)\n"
     ]
    },
    {
     "name": "stderr",
     "output_type": "stream",
     "text": [
      "/opt/conda/lib/python3.7/site-packages/sklearn/metrics/_classification.py:1318: UndefinedMetricWarning: Precision is ill-defined and being set to 0.0 due to no predicted samples. Use `zero_division` parameter to control this behavior.\n",
      "  _warn_prf(average, modifier, msg_start, len(result))\n"
     ]
    },
    {
     "name": "stdout",
     "output_type": "stream",
     "text": [
      "SVM-Linear: 0.943070 (0.008504)\n",
      "SVM-RBF: 0.943666 (0.009011)\n"
     ]
    },
    {
     "name": "stderr",
     "output_type": "stream",
     "text": [
      "/opt/conda/lib/python3.7/site-packages/sklearn/metrics/_classification.py:1318: UndefinedMetricWarning: Precision is ill-defined and being set to 0.0 due to no predicted samples. Use `zero_division` parameter to control this behavior.\n",
      "  _warn_prf(average, modifier, msg_start, len(result))\n"
     ]
    },
    {
     "name": "stdout",
     "output_type": "stream",
     "text": [
      "SVM-Poly deg 3: 0.943070 (0.008504)\n",
      "Ensemble Learning: 0.898659 (0.003651)\n"
     ]
    }
   ],
   "source": [
    "from sklearn import metrics\n",
    "from sklearn.metrics import roc_curve, roc_auc_score,accuracy_score, precision_score, recall_score, f1_score, plot_roc_curve\n",
    "\n",
    "results = []  # accuracy\n",
    "CM = []\n",
    "names = []\n",
    "scoring = 'accuracy'\n",
    "seed = 5\n",
    "\n",
    "# Defining model_performance as a DataFrame to store evaluation metrics\n",
    "\n",
    "model_performance = pd.DataFrame(columns=['Classifiers', 'fpr','tpr','auc','Accuracy','Precision','Recall','F1-Score'])\n",
    "\n",
    "for name, model in models:\n",
    "    \n",
    "    mod = model.fit(X_train_scaled, y_train.values.ravel())\n",
    "    y_pred = mod.predict(X_test_scaled)\n",
    "\n",
    "    CM.append([name, metrics.confusion_matrix(y_test, y_pred)])   # maintaining list of confusion matrix for each model\n",
    "    \n",
    "    kfold = model_selection.KFold(n_splits=5, random_state=seed, shuffle = True)\n",
    "    cv_results = model_selection.cross_val_score(model, X_train_scaled, y_train.values.ravel(), cv=kfold, scoring=scoring)\n",
    "    \n",
    "    fpr, tpr, _ = roc_curve(y_test,  y_pred)\n",
    "    auc = roc_auc_score(y_test, y_pred)\n",
    "\n",
    "    model_performance = model_performance.append({'Classifiers':name,\n",
    "                    'fpr':fpr, \n",
    "                    'tpr':tpr, \n",
    "                    'auc':auc,\n",
    "                    'Accuracy':cv_results.mean(),\n",
    "                    'Precision': precision_score(y_test, y_pred),\n",
    "                    'Recall': recall_score(y_test, y_pred),\n",
    "                    'F1-Score': f1_score(y_test, y_pred)}, ignore_index=True)\n",
    "\n",
    "    results.append(cv_results)\n",
    "    names.append(name)\n",
    "    msg = \"%s: %f (%f)\" % (name, cv_results.mean(), cv_results.std())\n",
    "    print(msg)\n",
    "    \n",
    "# Set name of the classifiers as index labels\n",
    "model_performance.set_index('Classifiers', inplace=True)"
   ]
  },
  {
   "cell_type": "markdown",
   "id": "21aeb60d",
   "metadata": {
    "papermill": {
     "duration": 0.036695,
     "end_time": "2022-11-26T14:46:39.918497",
     "exception": false,
     "start_time": "2022-11-26T14:46:39.881802",
     "status": "completed"
    },
    "tags": []
   },
   "source": [
    "# **EVALUATING MODELS**"
   ]
  },
  {
   "cell_type": "markdown",
   "id": "af6cf68b",
   "metadata": {
    "papermill": {
     "duration": 0.030981,
     "end_time": "2022-11-26T14:46:39.980272",
     "exception": false,
     "start_time": "2022-11-26T14:46:39.949291",
     "status": "completed"
    },
    "tags": []
   },
   "source": [
    "# Comparision on the basis of accuracy"
   ]
  },
  {
   "cell_type": "code",
   "execution_count": 48,
   "id": "6c5d500a",
   "metadata": {
    "execution": {
     "iopub.execute_input": "2022-11-26T14:46:40.044670Z",
     "iopub.status.busy": "2022-11-26T14:46:40.043456Z",
     "iopub.status.idle": "2022-11-26T14:46:40.318076Z",
     "shell.execute_reply": "2022-11-26T14:46:40.316503Z"
    },
    "id": "irSCuh3z-Wip",
    "papermill": {
     "duration": 0.309971,
     "end_time": "2022-11-26T14:46:40.320777",
     "exception": false,
     "start_time": "2022-11-26T14:46:40.010806",
     "status": "completed"
    },
    "tags": []
   },
   "outputs": [
    {
     "data": {
      "image/png": "[encoded data removed]",
      "text/plain": [
       "<Figure size 1440x720 with 1 Axes>"
      ]
     },
     "metadata": {},
     "output_type": "display_data"
    }
   ],
   "source": [
    "fig = plt.figure(figsize=(20,10))\n",
    "fig.suptitle('Comparision of classification algorithms')\n",
    "ax = fig.add_subplot(111)\n",
    "plt.boxplot(results)\n",
    "ax.set_xticklabels(names)\n",
    "plt.show()"
   ]
  },
  {
   "cell_type": "markdown",
   "id": "09ccc612",
   "metadata": {
    "papermill": {
     "duration": 0.030873,
     "end_time": "2022-11-26T14:46:40.383195",
     "exception": false,
     "start_time": "2022-11-26T14:46:40.352322",
     "status": "completed"
    },
    "tags": []
   },
   "source": [
    "# Confusion Matrix"
   ]
  },
  {
   "cell_type": "code",
   "execution_count": 49,
   "id": "75c32aad",
   "metadata": {
    "execution": {
     "iopub.execute_input": "2022-11-26T14:46:40.448518Z",
     "iopub.status.busy": "2022-11-26T14:46:40.448022Z",
     "iopub.status.idle": "2022-11-26T14:46:42.575603Z",
     "shell.execute_reply": "2022-11-26T14:46:42.573353Z"
    },
    "papermill": {
     "duration": 2.164732,
     "end_time": "2022-11-26T14:46:42.578848",
     "exception": false,
     "start_time": "2022-11-26T14:46:40.414116",
     "status": "completed"
    },
    "tags": []
   },
   "outputs": [
    {
     "data": {
      "image/png": "[encoded data removed]",
      "text/plain": [
       "<Figure size 1080x864 with 12 Axes>"
      ]
     },
     "metadata": {},
     "output_type": "display_data"
    }
   ],
   "source": [
    "sns.set()\n",
    "\n",
    "fig, axs = plt.subplots(2, 3, figsize=(15,12))\n",
    "sns.heatmap(CM[0][1], annot=True, fmt=\".0f\", linewidths=.5, square = True, cmap = 'Blues', ax = axs[0,0]);\n",
    "axs[0, 0].set_title(CM[0][0])\n",
    "sns.heatmap(CM[1][1], annot=True, fmt=\".0f\", linewidths=.5, square = True, cmap = 'YlGnBu',ax = axs[0,1]);\n",
    "axs[0, 1].set_title(CM[1][0])\n",
    "sns.heatmap(CM[2][1], annot=True, fmt=\".0f\", linewidths=.5, square = True, cmap = 'BuPu',ax = axs[0,2]);\n",
    "axs[0, 2].set_title(CM[2][0])\n",
    "sns.heatmap(CM[3][1], annot=True, fmt=\".0f\", linewidths=.5, square = True, cmap = 'Greens' ,ax = axs[1,0]);\n",
    "axs[1, 0].set_title(CM[3][0])\n",
    "sns.heatmap(CM[4][1], annot=True, fmt=\".0f\", linewidths=.5, square = True, cmap = 'YlGnBu' ,ax = axs[1,1]);\n",
    "axs[1, 1].set_title(CM[4][0])\n",
    "sns.heatmap(CM[5][1], annot=True, fmt=\".0f\", linewidths=.5, square = True, cmap = 'YlGnBu' ,ax = axs[1,2]);\n",
    "axs[1, 2].set_title(CM[5][0])\n",
    "\n",
    "\n",
    "for ax in axs.flat:\n",
    "    ax.set(xlabel='Predicted', ylabel='Actual')\n",
    "\n",
    "# Hide x labels and tick labels for top plots and y ticks for right plots.\n",
    "for ax in axs.flat:\n",
    "    ax.label_outer()"
   ]
  },
  {
   "cell_type": "markdown",
   "id": "126e2a5f",
   "metadata": {
    "papermill": {
     "duration": 0.031541,
     "end_time": "2022-11-26T14:46:42.642356",
     "exception": false,
     "start_time": "2022-11-26T14:46:42.610815",
     "status": "completed"
    },
    "tags": []
   },
   "source": [
    "# ROC_AUC CURVE ANALYSIS"
   ]
  },
  {
   "cell_type": "code",
   "execution_count": 50,
   "id": "b41c6a97",
   "metadata": {
    "execution": {
     "iopub.execute_input": "2022-11-26T14:46:42.707253Z",
     "iopub.status.busy": "2022-11-26T14:46:42.706848Z",
     "iopub.status.idle": "2022-11-26T14:46:43.142952Z",
     "shell.execute_reply": "2022-11-26T14:46:43.141645Z"
    },
    "id": "awUtvzCrV5SO",
    "papermill": {
     "duration": 0.472169,
     "end_time": "2022-11-26T14:46:43.146040",
     "exception": false,
     "start_time": "2022-11-26T14:46:42.673871",
     "status": "completed"
    },
    "tags": []
   },
   "outputs": [
    {
     "data": {
      "image/png": "[encoded data removed]",
      "text/plain": [
       "<Figure size 1440x1080 with 1 Axes>"
      ]
     },
     "metadata": {},
     "output_type": "display_data"
    }
   ],
   "source": [
    "import numpy as np\n",
    "\n",
    "model_performance['auc']= round(model_performance['auc'],3)\n",
    "\n",
    "sns.set_theme(style = 'white')\n",
    "\n",
    "fig = plt.figure(figsize=(20,15))\n",
    "\n",
    "for i in model_performance.index:\n",
    "    plt.plot(model_performance.loc[i]['fpr'], \n",
    "             model_performance.loc[i]['tpr'], \n",
    "             label=\"{}, AUC={:.3f}\".format(i, model_performance.loc[i]['auc']))\n",
    "    \n",
    "plt.plot([0,1], [0,1], color='black', linestyle='--')\n",
    "\n",
    "plt.xticks(np.arange(0.0, 1.1, step=0.1))\n",
    "plt.xlabel(\"Flase Positive Rate\", fontsize=15)\n",
    "\n",
    "plt.yticks(np.arange(0.0, 1.1, step=0.1))\n",
    "plt.ylabel(\"True Positive Rate\", fontsize=15)\n",
    "\n",
    "plt.title('ROC Curve Analysis', fontweight='bold', fontsize=15)\n",
    "plt.legend(prop={'size':13}, loc='lower right')\n",
    "\n",
    "plt.show()"
   ]
  },
  {
   "cell_type": "code",
   "execution_count": 51,
   "id": "8507169c",
   "metadata": {
    "execution": {
     "iopub.execute_input": "2022-11-26T14:46:43.218021Z",
     "iopub.status.busy": "2022-11-26T14:46:43.217589Z",
     "iopub.status.idle": "2022-11-26T14:46:43.225595Z",
     "shell.execute_reply": "2022-11-26T14:46:43.224334Z"
    },
    "papermill": {
     "duration": 0.047588,
     "end_time": "2022-11-26T14:46:43.228295",
     "exception": false,
     "start_time": "2022-11-26T14:46:43.180707",
     "status": "completed"
    },
    "tags": []
   },
   "outputs": [],
   "source": [
    "performance = model_performance.reset_index()\n",
    "performance = performance[['Classifiers','auc','Accuracy','Precision','Recall','F1-Score']]"
   ]
  },
  {
   "cell_type": "code",
   "execution_count": 52,
   "id": "3b1bbab3",
   "metadata": {
    "execution": {
     "iopub.execute_input": "2022-11-26T14:46:43.297538Z",
     "iopub.status.busy": "2022-11-26T14:46:43.297109Z",
     "iopub.status.idle": "2022-11-26T14:46:43.310857Z",
     "shell.execute_reply": "2022-11-26T14:46:43.309931Z"
    },
    "papermill": {
     "duration": 0.050731,
     "end_time": "2022-11-26T14:46:43.312929",
     "exception": false,
     "start_time": "2022-11-26T14:46:43.262198",
     "status": "completed"
    },
    "tags": []
   },
   "outputs": [
    {
     "data": {
      "text/html": [
       "<div>\n",
       "<style scoped>\n",
       "    .dataframe tbody tr th:only-of-type {\n",
       "        vertical-align: middle;\n",
       "    }\n",
       "\n",
       "    .dataframe tbody tr th {\n",
       "        vertical-align: top;\n",
       "    }\n",
       "\n",
       "    .dataframe thead th {\n",
       "        text-align: right;\n",
       "    }\n",
       "</style>\n",
       "<table border=\"1\" class=\"dataframe\">\n",
       "  <thead>\n",
       "    <tr style=\"text-align: right;\">\n",
       "      <th></th>\n",
       "      <th>Classifiers</th>\n",
       "      <th>auc</th>\n",
       "      <th>Accuracy</th>\n",
       "      <th>Precision</th>\n",
       "      <th>Recall</th>\n",
       "      <th>F1-Score</th>\n",
       "    </tr>\n",
       "  </thead>\n",
       "  <tbody>\n",
       "    <tr>\n",
       "      <th>0</th>\n",
       "      <td>KNN</td>\n",
       "      <td>0.508</td>\n",
       "      <td>0.943964</td>\n",
       "      <td>0.500000</td>\n",
       "      <td>0.017857</td>\n",
       "      <td>0.034483</td>\n",
       "    </tr>\n",
       "    <tr>\n",
       "      <th>1</th>\n",
       "      <td>NB</td>\n",
       "      <td>0.630</td>\n",
       "      <td>0.441729</td>\n",
       "      <td>0.089256</td>\n",
       "      <td>0.964286</td>\n",
       "      <td>0.163389</td>\n",
       "    </tr>\n",
       "    <tr>\n",
       "      <th>2</th>\n",
       "      <td>SVM-Linear</td>\n",
       "      <td>0.500</td>\n",
       "      <td>0.943070</td>\n",
       "      <td>0.000000</td>\n",
       "      <td>0.000000</td>\n",
       "      <td>0.000000</td>\n",
       "    </tr>\n",
       "    <tr>\n",
       "      <th>3</th>\n",
       "      <td>SVM-RBF</td>\n",
       "      <td>0.508</td>\n",
       "      <td>0.943666</td>\n",
       "      <td>0.500000</td>\n",
       "      <td>0.017857</td>\n",
       "      <td>0.034483</td>\n",
       "    </tr>\n",
       "    <tr>\n",
       "      <th>4</th>\n",
       "      <td>SVM-Poly deg 3</td>\n",
       "      <td>0.500</td>\n",
       "      <td>0.943070</td>\n",
       "      <td>0.000000</td>\n",
       "      <td>0.000000</td>\n",
       "      <td>0.000000</td>\n",
       "    </tr>\n",
       "    <tr>\n",
       "      <th>5</th>\n",
       "      <td>Ensemble Learning</td>\n",
       "      <td>0.553</td>\n",
       "      <td>0.898659</td>\n",
       "      <td>0.216216</td>\n",
       "      <td>0.142857</td>\n",
       "      <td>0.172043</td>\n",
       "    </tr>\n",
       "  </tbody>\n",
       "</table>\n",
       "</div>"
      ],
      "text/plain": [
       "         Classifiers    auc  Accuracy  Precision    Recall  F1-Score\n",
       "0                KNN  0.508  0.943964   0.500000  0.017857  0.034483\n",
       "1                 NB  0.630  0.441729   0.089256  0.964286  0.163389\n",
       "2         SVM-Linear  0.500  0.943070   0.000000  0.000000  0.000000\n",
       "3            SVM-RBF  0.508  0.943666   0.500000  0.017857  0.034483\n",
       "4     SVM-Poly deg 3  0.500  0.943070   0.000000  0.000000  0.000000\n",
       "5  Ensemble Learning  0.553  0.898659   0.216216  0.142857  0.172043"
      ]
     },
     "execution_count": 52,
     "metadata": {},
     "output_type": "execute_result"
    }
   ],
   "source": [
    "performance"
   ]
  },
  {
   "cell_type": "code",
   "execution_count": 53,
   "id": "ffdddd34",
   "metadata": {
    "execution": {
     "iopub.execute_input": "2022-11-26T14:46:43.382921Z",
     "iopub.status.busy": "2022-11-26T14:46:43.382154Z",
     "iopub.status.idle": "2022-11-26T14:46:43.387267Z",
     "shell.execute_reply": "2022-11-26T14:46:43.386453Z"
    },
    "papermill": {
     "duration": 0.042983,
     "end_time": "2022-11-26T14:46:43.389478",
     "exception": false,
     "start_time": "2022-11-26T14:46:43.346495",
     "status": "completed"
    },
    "tags": []
   },
   "outputs": [],
   "source": [
    "performance['Accuracy'] = round(performance['Accuracy'],3)"
   ]
  },
  {
   "cell_type": "code",
   "execution_count": 54,
   "id": "8d6de7f8",
   "metadata": {
    "execution": {
     "iopub.execute_input": "2022-11-26T14:46:43.459386Z",
     "iopub.status.busy": "2022-11-26T14:46:43.458564Z",
     "iopub.status.idle": "2022-11-26T14:46:43.473338Z",
     "shell.execute_reply": "2022-11-26T14:46:43.472177Z"
    },
    "papermill": {
     "duration": 0.053057,
     "end_time": "2022-11-26T14:46:43.475963",
     "exception": false,
     "start_time": "2022-11-26T14:46:43.422906",
     "status": "completed"
    },
    "tags": []
   },
   "outputs": [
    {
     "data": {
      "text/html": [
       "<div>\n",
       "<style scoped>\n",
       "    .dataframe tbody tr th:only-of-type {\n",
       "        vertical-align: middle;\n",
       "    }\n",
       "\n",
       "    .dataframe tbody tr th {\n",
       "        vertical-align: top;\n",
       "    }\n",
       "\n",
       "    .dataframe thead th {\n",
       "        text-align: right;\n",
       "    }\n",
       "</style>\n",
       "<table border=\"1\" class=\"dataframe\">\n",
       "  <thead>\n",
       "    <tr style=\"text-align: right;\">\n",
       "      <th></th>\n",
       "      <th>Classifiers</th>\n",
       "      <th>auc</th>\n",
       "      <th>Accuracy</th>\n",
       "      <th>Precision</th>\n",
       "      <th>Recall</th>\n",
       "      <th>F1-Score</th>\n",
       "    </tr>\n",
       "  </thead>\n",
       "  <tbody>\n",
       "    <tr>\n",
       "      <th>0</th>\n",
       "      <td>KNN</td>\n",
       "      <td>0.508</td>\n",
       "      <td>0.944</td>\n",
       "      <td>0.500000</td>\n",
       "      <td>0.017857</td>\n",
       "      <td>0.034483</td>\n",
       "    </tr>\n",
       "    <tr>\n",
       "      <th>3</th>\n",
       "      <td>SVM-RBF</td>\n",
       "      <td>0.508</td>\n",
       "      <td>0.944</td>\n",
       "      <td>0.500000</td>\n",
       "      <td>0.017857</td>\n",
       "      <td>0.034483</td>\n",
       "    </tr>\n",
       "    <tr>\n",
       "      <th>2</th>\n",
       "      <td>SVM-Linear</td>\n",
       "      <td>0.500</td>\n",
       "      <td>0.943</td>\n",
       "      <td>0.000000</td>\n",
       "      <td>0.000000</td>\n",
       "      <td>0.000000</td>\n",
       "    </tr>\n",
       "    <tr>\n",
       "      <th>4</th>\n",
       "      <td>SVM-Poly deg 3</td>\n",
       "      <td>0.500</td>\n",
       "      <td>0.943</td>\n",
       "      <td>0.000000</td>\n",
       "      <td>0.000000</td>\n",
       "      <td>0.000000</td>\n",
       "    </tr>\n",
       "    <tr>\n",
       "      <th>5</th>\n",
       "      <td>Ensemble Learning</td>\n",
       "      <td>0.553</td>\n",
       "      <td>0.899</td>\n",
       "      <td>0.216216</td>\n",
       "      <td>0.142857</td>\n",
       "      <td>0.172043</td>\n",
       "    </tr>\n",
       "  </tbody>\n",
       "</table>\n",
       "</div>"
      ],
      "text/plain": [
       "         Classifiers    auc  Accuracy  Precision    Recall  F1-Score\n",
       "0                KNN  0.508     0.944   0.500000  0.017857  0.034483\n",
       "3            SVM-RBF  0.508     0.944   0.500000  0.017857  0.034483\n",
       "2         SVM-Linear  0.500     0.943   0.000000  0.000000  0.000000\n",
       "4     SVM-Poly deg 3  0.500     0.943   0.000000  0.000000  0.000000\n",
       "5  Ensemble Learning  0.553     0.899   0.216216  0.142857  0.172043"
      ]
     },
     "execution_count": 54,
     "metadata": {},
     "output_type": "execute_result"
    }
   ],
   "source": [
    "performance.sort_values('Accuracy',ascending = False).head()"
   ]
  },
  {
   "cell_type": "code",
   "execution_count": 55,
   "id": "424af104",
   "metadata": {
    "execution": {
     "iopub.execute_input": "2022-11-26T14:46:43.546315Z",
     "iopub.status.busy": "2022-11-26T14:46:43.545512Z",
     "iopub.status.idle": "2022-11-26T14:46:43.561370Z",
     "shell.execute_reply": "2022-11-26T14:46:43.560220Z"
    },
    "papermill": {
     "duration": 0.054027,
     "end_time": "2022-11-26T14:46:43.563876",
     "exception": false,
     "start_time": "2022-11-26T14:46:43.509849",
     "status": "completed"
    },
    "tags": []
   },
   "outputs": [
    {
     "data": {
      "text/html": [
       "<div>\n",
       "<style scoped>\n",
       "    .dataframe tbody tr th:only-of-type {\n",
       "        vertical-align: middle;\n",
       "    }\n",
       "\n",
       "    .dataframe tbody tr th {\n",
       "        vertical-align: top;\n",
       "    }\n",
       "\n",
       "    .dataframe thead th {\n",
       "        text-align: right;\n",
       "    }\n",
       "</style>\n",
       "<table border=\"1\" class=\"dataframe\">\n",
       "  <thead>\n",
       "    <tr style=\"text-align: right;\">\n",
       "      <th></th>\n",
       "      <th>Classifiers</th>\n",
       "      <th>auc</th>\n",
       "      <th>Accuracy</th>\n",
       "      <th>Precision</th>\n",
       "      <th>Recall</th>\n",
       "      <th>F1-Score</th>\n",
       "    </tr>\n",
       "  </thead>\n",
       "  <tbody>\n",
       "    <tr>\n",
       "      <th>1</th>\n",
       "      <td>NB</td>\n",
       "      <td>0.630</td>\n",
       "      <td>0.442</td>\n",
       "      <td>0.089256</td>\n",
       "      <td>0.964286</td>\n",
       "      <td>0.163389</td>\n",
       "    </tr>\n",
       "    <tr>\n",
       "      <th>5</th>\n",
       "      <td>Ensemble Learning</td>\n",
       "      <td>0.553</td>\n",
       "      <td>0.899</td>\n",
       "      <td>0.216216</td>\n",
       "      <td>0.142857</td>\n",
       "      <td>0.172043</td>\n",
       "    </tr>\n",
       "    <tr>\n",
       "      <th>0</th>\n",
       "      <td>KNN</td>\n",
       "      <td>0.508</td>\n",
       "      <td>0.944</td>\n",
       "      <td>0.500000</td>\n",
       "      <td>0.017857</td>\n",
       "      <td>0.034483</td>\n",
       "    </tr>\n",
       "    <tr>\n",
       "      <th>3</th>\n",
       "      <td>SVM-RBF</td>\n",
       "      <td>0.508</td>\n",
       "      <td>0.944</td>\n",
       "      <td>0.500000</td>\n",
       "      <td>0.017857</td>\n",
       "      <td>0.034483</td>\n",
       "    </tr>\n",
       "    <tr>\n",
       "      <th>2</th>\n",
       "      <td>SVM-Linear</td>\n",
       "      <td>0.500</td>\n",
       "      <td>0.943</td>\n",
       "      <td>0.000000</td>\n",
       "      <td>0.000000</td>\n",
       "      <td>0.000000</td>\n",
       "    </tr>\n",
       "  </tbody>\n",
       "</table>\n",
       "</div>"
      ],
      "text/plain": [
       "         Classifiers    auc  Accuracy  Precision    Recall  F1-Score\n",
       "1                 NB  0.630     0.442   0.089256  0.964286  0.163389\n",
       "5  Ensemble Learning  0.553     0.899   0.216216  0.142857  0.172043\n",
       "0                KNN  0.508     0.944   0.500000  0.017857  0.034483\n",
       "3            SVM-RBF  0.508     0.944   0.500000  0.017857  0.034483\n",
       "2         SVM-Linear  0.500     0.943   0.000000  0.000000  0.000000"
      ]
     },
     "execution_count": 55,
     "metadata": {},
     "output_type": "execute_result"
    }
   ],
   "source": [
    "performance.sort_values(['auc','Accuracy'],ascending = False).head()"
   ]
  },
  {
   "cell_type": "markdown",
   "id": "86032b80",
   "metadata": {
    "papermill": {
     "duration": 0.03456,
     "end_time": "2022-11-26T14:46:43.632548",
     "exception": false,
     "start_time": "2022-11-26T14:46:43.597988",
     "status": "completed"
    },
    "tags": []
   },
   "source": [
    "# Evaluating Models using different Metrics"
   ]
  },
  {
   "cell_type": "code",
   "execution_count": 56,
   "id": "862384c6",
   "metadata": {
    "execution": {
     "iopub.execute_input": "2022-11-26T14:46:43.703343Z",
     "iopub.status.busy": "2022-11-26T14:46:43.702894Z",
     "iopub.status.idle": "2022-11-26T14:46:44.138552Z",
     "shell.execute_reply": "2022-11-26T14:46:44.137551Z"
    },
    "papermill": {
     "duration": 0.473741,
     "end_time": "2022-11-26T14:46:44.140854",
     "exception": false,
     "start_time": "2022-11-26T14:46:43.667113",
     "status": "completed"
    },
    "tags": []
   },
   "outputs": [
    {
     "data": {
      "text/plain": [
       "<AxesSubplot:title={'center':'Classifiers Performance'}, xlabel='Classifiers'>"
      ]
     },
     "execution_count": 56,
     "metadata": {},
     "output_type": "execute_result"
    },
    {
     "data": {
      "text/plain": [
       "<Figure size 432x288 with 0 Axes>"
      ]
     },
     "metadata": {},
     "output_type": "display_data"
    },
    {
     "data": {
      "image/png": "[encoded data removed]",
      "text/plain": [
       "<Figure size 1440x720 with 1 Axes>"
      ]
     },
     "metadata": {},
     "output_type": "display_data"
    }
   ],
   "source": [
    "plt.figure()\n",
    "plt.rcParams.update({'font.size': 22}) \n",
    "\n",
    "performance.plot(x='Classifiers',\n",
    "        kind='bar',\n",
    "        stacked=False,\n",
    "        title='Classifiers Performance',\n",
    "        figsize = (20,10))"
   ]
  },
  {
   "cell_type": "markdown",
   "id": "72c6de1d",
   "metadata": {
    "papermill": {
     "duration": 0.034334,
     "end_time": "2022-11-26T14:46:44.209857",
     "exception": false,
     "start_time": "2022-11-26T14:46:44.175523",
     "status": "completed"
    },
    "tags": []
   },
   "source": [
    "# **CONCLUSION**"
   ]
  },
  {
   "cell_type": "markdown",
   "id": "958c6d13",
   "metadata": {
    "papermill": {
     "duration": 0.034389,
     "end_time": "2022-11-26T14:46:44.279037",
     "exception": false,
     "start_time": "2022-11-26T14:46:44.244648",
     "status": "completed"
    },
    "tags": []
   },
   "source": [
    "#### Accuracy score is misleading; both SVM and KNN trained with high accuracy but when evaluated using precision, recall, F1-score and AUC didn't perform well. "
   ]
  },
  {
   "cell_type": "markdown",
   "id": "c67e4d21",
   "metadata": {
    "papermill": {
     "duration": 0.034693,
     "end_time": "2022-11-26T14:46:44.349068",
     "exception": false,
     "start_time": "2022-11-26T14:46:44.314375",
     "status": "completed"
    },
    "tags": []
   },
   "source": [
    "#### KNN and SVM both having AUC 0.5 it means that both are predicting randomly. So none of both is good."
   ]
  },
  {
   "cell_type": "code",
   "execution_count": null,
   "id": "5d0416bd",
   "metadata": {
    "papermill": {
     "duration": 0.035856,
     "end_time": "2022-11-26T14:46:44.420208",
     "exception": false,
     "start_time": "2022-11-26T14:46:44.384352",
     "status": "completed"
    },
    "tags": []
   },
   "outputs": [],
   "source": []
  }
 ],
 "metadata": {
  "kernelspec": {
   "display_name": "Python 3",
   "language": "python",
   "name": "python3"
  },
  "language_info": {
   "codemirror_mode": {
    "name": "ipython",
    "version": 3
   },
   "file_extension": ".py",
   "mimetype": "text/x-python",
   "name": "python",
   "nbconvert_exporter": "python",
   "pygments_lexer": "ipython3",
   "version": "3.7.12"
  },
  "papermill": {
   "default_parameters": {},
   "duration": 33.57167,
   "end_time": "2022-11-26T14:46:45.378630",
   "environment_variables": {},
   "exception": null,
   "input_path": "__notebook__.ipynb",
   "output_path": "__notebook__.ipynb",
   "parameters": {},
   "start_time": "2022-11-26T14:46:11.806960",
   "version": "2.3.4"
  }
 },
 "nbformat": 4,
 "nbformat_minor": 5
}
