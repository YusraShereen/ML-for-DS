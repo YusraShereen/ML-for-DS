{
 "cells": [
  {
   "cell_type": "markdown",
   "id": "3297d213",
   "metadata": {
    "papermill": {
     "duration": 0.017784,
     "end_time": "2022-10-01T17:41:42.377595",
     "exception": false,
     "start_time": "2022-10-01T17:41:42.359811",
     "status": "completed"
    },
    "tags": []
   },
   "source": [
    "# **ANALYSIS OF STROKE DATASET**"
   ]
  },
  {
   "cell_type": "markdown",
   "id": "81b8ab4b",
   "metadata": {
    "papermill": {
     "duration": 0.015242,
     "end_time": "2022-10-01T17:41:42.408695",
     "exception": false,
     "start_time": "2022-10-01T17:41:42.393453",
     "status": "completed"
    },
    "tags": []
   },
   "source": [
    "# **EDA**"
   ]
  },
  {
   "cell_type": "code",
   "execution_count": 1,
   "id": "eb386774",
   "metadata": {
    "execution": {
     "iopub.execute_input": "2022-10-01T17:41:42.438026Z",
     "iopub.status.busy": "2022-10-01T17:41:42.437340Z",
     "iopub.status.idle": "2022-10-01T17:41:43.514348Z",
     "shell.execute_reply": "2022-10-01T17:41:43.513417Z"
    },
    "papermill": {
     "duration": 1.095105,
     "end_time": "2022-10-01T17:41:43.517213",
     "exception": false,
     "start_time": "2022-10-01T17:41:42.422108",
     "status": "completed"
    },
    "tags": []
   },
   "outputs": [],
   "source": [
    "import pandas as pd\n",
    "import matplotlib.pyplot as plt\n",
    "import seaborn as sns\n",
    "%matplotlib inline\n",
    "plt.style.use('ggplot')"
   ]
  },
  {
   "cell_type": "code",
   "execution_count": 2,
   "id": "029b4f00",
   "metadata": {
    "execution": {
     "iopub.execute_input": "2022-10-01T17:41:43.546977Z",
     "iopub.status.busy": "2022-10-01T17:41:43.545876Z",
     "iopub.status.idle": "2022-10-01T17:41:43.608039Z",
     "shell.execute_reply": "2022-10-01T17:41:43.606954Z"
    },
    "papermill": {
     "duration": 0.079891,
     "end_time": "2022-10-01T17:41:43.610923",
     "exception": false,
     "start_time": "2022-10-01T17:41:43.531032",
     "status": "completed"
    },
    "tags": []
   },
   "outputs": [
    {
     "data": {
      "text/html": [
       "<div>\n",
       "<style scoped>\n",
       "    .dataframe tbody tr th:only-of-type {\n",
       "        vertical-align: middle;\n",
       "    }\n",
       "\n",
       "    .dataframe tbody tr th {\n",
       "        vertical-align: top;\n",
       "    }\n",
       "\n",
       "    .dataframe thead th {\n",
       "        text-align: right;\n",
       "    }\n",
       "</style>\n",
       "<table border=\"1\" class=\"dataframe\">\n",
       "  <thead>\n",
       "    <tr style=\"text-align: right;\">\n",
       "      <th></th>\n",
       "      <th>id</th>\n",
       "      <th>gender</th>\n",
       "      <th>age</th>\n",
       "      <th>hypertension</th>\n",
       "      <th>heart_disease</th>\n",
       "      <th>ever_married</th>\n",
       "      <th>work_type</th>\n",
       "      <th>Residence_type</th>\n",
       "      <th>avg_glucose_level</th>\n",
       "      <th>bmi</th>\n",
       "      <th>smoking_status</th>\n",
       "      <th>stroke</th>\n",
       "    </tr>\n",
       "  </thead>\n",
       "  <tbody>\n",
       "    <tr>\n",
       "      <th>0</th>\n",
       "      <td>9046</td>\n",
       "      <td>Male</td>\n",
       "      <td>67.0</td>\n",
       "      <td>0</td>\n",
       "      <td>1</td>\n",
       "      <td>Yes</td>\n",
       "      <td>Private</td>\n",
       "      <td>Urban</td>\n",
       "      <td>228.69</td>\n",
       "      <td>36.6</td>\n",
       "      <td>formerly smoked</td>\n",
       "      <td>1</td>\n",
       "    </tr>\n",
       "    <tr>\n",
       "      <th>1</th>\n",
       "      <td>51676</td>\n",
       "      <td>Female</td>\n",
       "      <td>61.0</td>\n",
       "      <td>0</td>\n",
       "      <td>0</td>\n",
       "      <td>Yes</td>\n",
       "      <td>Self-employed</td>\n",
       "      <td>Rural</td>\n",
       "      <td>202.21</td>\n",
       "      <td>NaN</td>\n",
       "      <td>never smoked</td>\n",
       "      <td>1</td>\n",
       "    </tr>\n",
       "    <tr>\n",
       "      <th>2</th>\n",
       "      <td>31112</td>\n",
       "      <td>Male</td>\n",
       "      <td>80.0</td>\n",
       "      <td>0</td>\n",
       "      <td>1</td>\n",
       "      <td>Yes</td>\n",
       "      <td>Private</td>\n",
       "      <td>Rural</td>\n",
       "      <td>105.92</td>\n",
       "      <td>32.5</td>\n",
       "      <td>never smoked</td>\n",
       "      <td>1</td>\n",
       "    </tr>\n",
       "    <tr>\n",
       "      <th>3</th>\n",
       "      <td>60182</td>\n",
       "      <td>Female</td>\n",
       "      <td>49.0</td>\n",
       "      <td>0</td>\n",
       "      <td>0</td>\n",
       "      <td>Yes</td>\n",
       "      <td>Private</td>\n",
       "      <td>Urban</td>\n",
       "      <td>171.23</td>\n",
       "      <td>34.4</td>\n",
       "      <td>smokes</td>\n",
       "      <td>1</td>\n",
       "    </tr>\n",
       "    <tr>\n",
       "      <th>4</th>\n",
       "      <td>1665</td>\n",
       "      <td>Female</td>\n",
       "      <td>79.0</td>\n",
       "      <td>1</td>\n",
       "      <td>0</td>\n",
       "      <td>Yes</td>\n",
       "      <td>Self-employed</td>\n",
       "      <td>Rural</td>\n",
       "      <td>174.12</td>\n",
       "      <td>24.0</td>\n",
       "      <td>never smoked</td>\n",
       "      <td>1</td>\n",
       "    </tr>\n",
       "  </tbody>\n",
       "</table>\n",
       "</div>"
      ],
      "text/plain": [
       "      id  gender   age  hypertension  heart_disease ever_married  \\\n",
       "0   9046    Male  67.0             0              1          Yes   \n",
       "1  51676  Female  61.0             0              0          Yes   \n",
       "2  31112    Male  80.0             0              1          Yes   \n",
       "3  60182  Female  49.0             0              0          Yes   \n",
       "4   1665  Female  79.0             1              0          Yes   \n",
       "\n",
       "       work_type Residence_type  avg_glucose_level   bmi   smoking_status  \\\n",
       "0        Private          Urban             228.69  36.6  formerly smoked   \n",
       "1  Self-employed          Rural             202.21   NaN     never smoked   \n",
       "2        Private          Rural             105.92  32.5     never smoked   \n",
       "3        Private          Urban             171.23  34.4           smokes   \n",
       "4  Self-employed          Rural             174.12  24.0     never smoked   \n",
       "\n",
       "   stroke  \n",
       "0       1  \n",
       "1       1  \n",
       "2       1  \n",
       "3       1  \n",
       "4       1  "
      ]
     },
     "execution_count": 2,
     "metadata": {},
     "output_type": "execute_result"
    }
   ],
   "source": [
    "data = pd.read_csv(\"../input/stroke/healthcare-dataset-stroke-data.csv\")\n",
    "data.head()"
   ]
  },
  {
   "cell_type": "code",
   "execution_count": 3,
   "id": "0163063c",
   "metadata": {
    "execution": {
     "iopub.execute_input": "2022-10-01T17:41:43.641167Z",
     "iopub.status.busy": "2022-10-01T17:41:43.640345Z",
     "iopub.status.idle": "2022-10-01T17:41:43.647593Z",
     "shell.execute_reply": "2022-10-01T17:41:43.646525Z"
    },
    "papermill": {
     "duration": 0.024868,
     "end_time": "2022-10-01T17:41:43.649872",
     "exception": false,
     "start_time": "2022-10-01T17:41:43.625004",
     "status": "completed"
    },
    "tags": []
   },
   "outputs": [
    {
     "data": {
      "text/plain": [
       "(5110, 12)"
      ]
     },
     "execution_count": 3,
     "metadata": {},
     "output_type": "execute_result"
    }
   ],
   "source": [
    "data.shape"
   ]
  },
  {
   "cell_type": "code",
   "execution_count": 4,
   "id": "46ad7804",
   "metadata": {
    "execution": {
     "iopub.execute_input": "2022-10-01T17:41:43.679529Z",
     "iopub.status.busy": "2022-10-01T17:41:43.679092Z",
     "iopub.status.idle": "2022-10-01T17:41:43.709266Z",
     "shell.execute_reply": "2022-10-01T17:41:43.707849Z"
    },
    "papermill": {
     "duration": 0.049097,
     "end_time": "2022-10-01T17:41:43.712915",
     "exception": false,
     "start_time": "2022-10-01T17:41:43.663818",
     "status": "completed"
    },
    "tags": []
   },
   "outputs": [
    {
     "name": "stdout",
     "output_type": "stream",
     "text": [
      "<class 'pandas.core.frame.DataFrame'>\n",
      "RangeIndex: 5110 entries, 0 to 5109\n",
      "Data columns (total 12 columns):\n",
      " #   Column             Non-Null Count  Dtype  \n",
      "---  ------             --------------  -----  \n",
      " 0   id                 5110 non-null   int64  \n",
      " 1   gender             5110 non-null   object \n",
      " 2   age                5110 non-null   float64\n",
      " 3   hypertension       5110 non-null   int64  \n",
      " 4   heart_disease      5110 non-null   int64  \n",
      " 5   ever_married       5110 non-null   object \n",
      " 6   work_type          5110 non-null   object \n",
      " 7   Residence_type     5110 non-null   object \n",
      " 8   avg_glucose_level  5110 non-null   float64\n",
      " 9   bmi                4909 non-null   float64\n",
      " 10  smoking_status     5110 non-null   object \n",
      " 11  stroke             5110 non-null   int64  \n",
      "dtypes: float64(3), int64(4), object(5)\n",
      "memory usage: 479.2+ KB\n"
     ]
    }
   ],
   "source": [
    "data.info()"
   ]
  },
  {
   "cell_type": "code",
   "execution_count": 5,
   "id": "fd25367e",
   "metadata": {
    "execution": {
     "iopub.execute_input": "2022-10-01T17:41:43.743911Z",
     "iopub.status.busy": "2022-10-01T17:41:43.743495Z",
     "iopub.status.idle": "2022-10-01T17:41:43.781172Z",
     "shell.execute_reply": "2022-10-01T17:41:43.779967Z"
    },
    "papermill": {
     "duration": 0.055829,
     "end_time": "2022-10-01T17:41:43.783812",
     "exception": false,
     "start_time": "2022-10-01T17:41:43.727983",
     "status": "completed"
    },
    "tags": []
   },
   "outputs": [
    {
     "data": {
      "text/html": [
       "<div>\n",
       "<style scoped>\n",
       "    .dataframe tbody tr th:only-of-type {\n",
       "        vertical-align: middle;\n",
       "    }\n",
       "\n",
       "    .dataframe tbody tr th {\n",
       "        vertical-align: top;\n",
       "    }\n",
       "\n",
       "    .dataframe thead th {\n",
       "        text-align: right;\n",
       "    }\n",
       "</style>\n",
       "<table border=\"1\" class=\"dataframe\">\n",
       "  <thead>\n",
       "    <tr style=\"text-align: right;\">\n",
       "      <th></th>\n",
       "      <th>id</th>\n",
       "      <th>age</th>\n",
       "      <th>hypertension</th>\n",
       "      <th>heart_disease</th>\n",
       "      <th>avg_glucose_level</th>\n",
       "      <th>bmi</th>\n",
       "      <th>stroke</th>\n",
       "    </tr>\n",
       "  </thead>\n",
       "  <tbody>\n",
       "    <tr>\n",
       "      <th>count</th>\n",
       "      <td>5110.000000</td>\n",
       "      <td>5110.000000</td>\n",
       "      <td>5110.000000</td>\n",
       "      <td>5110.000000</td>\n",
       "      <td>5110.000000</td>\n",
       "      <td>4909.000000</td>\n",
       "      <td>5110.000000</td>\n",
       "    </tr>\n",
       "    <tr>\n",
       "      <th>mean</th>\n",
       "      <td>36517.829354</td>\n",
       "      <td>43.226614</td>\n",
       "      <td>0.097456</td>\n",
       "      <td>0.054012</td>\n",
       "      <td>106.147677</td>\n",
       "      <td>28.893237</td>\n",
       "      <td>0.048728</td>\n",
       "    </tr>\n",
       "    <tr>\n",
       "      <th>std</th>\n",
       "      <td>21161.721625</td>\n",
       "      <td>22.612647</td>\n",
       "      <td>0.296607</td>\n",
       "      <td>0.226063</td>\n",
       "      <td>45.283560</td>\n",
       "      <td>7.854067</td>\n",
       "      <td>0.215320</td>\n",
       "    </tr>\n",
       "    <tr>\n",
       "      <th>min</th>\n",
       "      <td>67.000000</td>\n",
       "      <td>0.080000</td>\n",
       "      <td>0.000000</td>\n",
       "      <td>0.000000</td>\n",
       "      <td>55.120000</td>\n",
       "      <td>10.300000</td>\n",
       "      <td>0.000000</td>\n",
       "    </tr>\n",
       "    <tr>\n",
       "      <th>25%</th>\n",
       "      <td>17741.250000</td>\n",
       "      <td>25.000000</td>\n",
       "      <td>0.000000</td>\n",
       "      <td>0.000000</td>\n",
       "      <td>77.245000</td>\n",
       "      <td>23.500000</td>\n",
       "      <td>0.000000</td>\n",
       "    </tr>\n",
       "    <tr>\n",
       "      <th>50%</th>\n",
       "      <td>36932.000000</td>\n",
       "      <td>45.000000</td>\n",
       "      <td>0.000000</td>\n",
       "      <td>0.000000</td>\n",
       "      <td>91.885000</td>\n",
       "      <td>28.100000</td>\n",
       "      <td>0.000000</td>\n",
       "    </tr>\n",
       "    <tr>\n",
       "      <th>75%</th>\n",
       "      <td>54682.000000</td>\n",
       "      <td>61.000000</td>\n",
       "      <td>0.000000</td>\n",
       "      <td>0.000000</td>\n",
       "      <td>114.090000</td>\n",
       "      <td>33.100000</td>\n",
       "      <td>0.000000</td>\n",
       "    </tr>\n",
       "    <tr>\n",
       "      <th>max</th>\n",
       "      <td>72940.000000</td>\n",
       "      <td>82.000000</td>\n",
       "      <td>1.000000</td>\n",
       "      <td>1.000000</td>\n",
       "      <td>271.740000</td>\n",
       "      <td>97.600000</td>\n",
       "      <td>1.000000</td>\n",
       "    </tr>\n",
       "  </tbody>\n",
       "</table>\n",
       "</div>"
      ],
      "text/plain": [
       "                 id          age  hypertension  heart_disease  \\\n",
       "count   5110.000000  5110.000000   5110.000000    5110.000000   \n",
       "mean   36517.829354    43.226614      0.097456       0.054012   \n",
       "std    21161.721625    22.612647      0.296607       0.226063   \n",
       "min       67.000000     0.080000      0.000000       0.000000   \n",
       "25%    17741.250000    25.000000      0.000000       0.000000   \n",
       "50%    36932.000000    45.000000      0.000000       0.000000   \n",
       "75%    54682.000000    61.000000      0.000000       0.000000   \n",
       "max    72940.000000    82.000000      1.000000       1.000000   \n",
       "\n",
       "       avg_glucose_level          bmi       stroke  \n",
       "count        5110.000000  4909.000000  5110.000000  \n",
       "mean          106.147677    28.893237     0.048728  \n",
       "std            45.283560     7.854067     0.215320  \n",
       "min            55.120000    10.300000     0.000000  \n",
       "25%            77.245000    23.500000     0.000000  \n",
       "50%            91.885000    28.100000     0.000000  \n",
       "75%           114.090000    33.100000     0.000000  \n",
       "max           271.740000    97.600000     1.000000  "
      ]
     },
     "execution_count": 5,
     "metadata": {},
     "output_type": "execute_result"
    }
   ],
   "source": [
    "data.describe()"
   ]
  },
  {
   "cell_type": "markdown",
   "id": "7fb42f46",
   "metadata": {
    "papermill": {
     "duration": 0.014079,
     "end_time": "2022-10-01T17:41:43.811985",
     "exception": false,
     "start_time": "2022-10-01T17:41:43.797906",
     "status": "completed"
    },
    "tags": []
   },
   "source": [
    "# Data Cleaning"
   ]
  },
  {
   "cell_type": "code",
   "execution_count": 6,
   "id": "5e6f214b",
   "metadata": {
    "execution": {
     "iopub.execute_input": "2022-10-01T17:41:43.842288Z",
     "iopub.status.busy": "2022-10-01T17:41:43.841629Z",
     "iopub.status.idle": "2022-10-01T17:41:43.852363Z",
     "shell.execute_reply": "2022-10-01T17:41:43.851252Z"
    },
    "papermill": {
     "duration": 0.028457,
     "end_time": "2022-10-01T17:41:43.854637",
     "exception": false,
     "start_time": "2022-10-01T17:41:43.826180",
     "status": "completed"
    },
    "tags": []
   },
   "outputs": [
    {
     "data": {
      "text/plain": [
       "id                     0\n",
       "gender                 0\n",
       "age                    0\n",
       "hypertension           0\n",
       "heart_disease          0\n",
       "ever_married           0\n",
       "work_type              0\n",
       "Residence_type         0\n",
       "avg_glucose_level      0\n",
       "bmi                  201\n",
       "smoking_status         0\n",
       "stroke                 0\n",
       "dtype: int64"
      ]
     },
     "execution_count": 6,
     "metadata": {},
     "output_type": "execute_result"
    }
   ],
   "source": [
    "data.isnull().sum()"
   ]
  },
  {
   "cell_type": "markdown",
   "id": "0e9f8c4c",
   "metadata": {
    "papermill": {
     "duration": 0.0137,
     "end_time": "2022-10-01T17:41:43.882339",
     "exception": false,
     "start_time": "2022-10-01T17:41:43.868639",
     "status": "completed"
    },
    "tags": []
   },
   "source": [
    "BMI has **201** missing values, replacing them by mode"
   ]
  },
  {
   "cell_type": "code",
   "execution_count": 7,
   "id": "9dc6c0e7",
   "metadata": {
    "execution": {
     "iopub.execute_input": "2022-10-01T17:41:43.918347Z",
     "iopub.status.busy": "2022-10-01T17:41:43.917538Z",
     "iopub.status.idle": "2022-10-01T17:41:43.924275Z",
     "shell.execute_reply": "2022-10-01T17:41:43.922550Z"
    },
    "papermill": {
     "duration": 0.031259,
     "end_time": "2022-10-01T17:41:43.927773",
     "exception": false,
     "start_time": "2022-10-01T17:41:43.896514",
     "status": "completed"
    },
    "tags": []
   },
   "outputs": [],
   "source": [
    "df = data"
   ]
  },
  {
   "cell_type": "code",
   "execution_count": 8,
   "id": "4d155ef7",
   "metadata": {
    "execution": {
     "iopub.execute_input": "2022-10-01T17:41:43.972157Z",
     "iopub.status.busy": "2022-10-01T17:41:43.970123Z",
     "iopub.status.idle": "2022-10-01T17:41:43.998108Z",
     "shell.execute_reply": "2022-10-01T17:41:43.996995Z"
    },
    "papermill": {
     "duration": 0.05536,
     "end_time": "2022-10-01T17:41:44.000571",
     "exception": false,
     "start_time": "2022-10-01T17:41:43.945211",
     "status": "completed"
    },
    "tags": []
   },
   "outputs": [
    {
     "data": {
      "text/html": [
       "<div>\n",
       "<style scoped>\n",
       "    .dataframe tbody tr th:only-of-type {\n",
       "        vertical-align: middle;\n",
       "    }\n",
       "\n",
       "    .dataframe tbody tr th {\n",
       "        vertical-align: top;\n",
       "    }\n",
       "\n",
       "    .dataframe thead th {\n",
       "        text-align: right;\n",
       "    }\n",
       "</style>\n",
       "<table border=\"1\" class=\"dataframe\">\n",
       "  <thead>\n",
       "    <tr style=\"text-align: right;\">\n",
       "      <th></th>\n",
       "      <th>id</th>\n",
       "      <th>gender</th>\n",
       "      <th>age</th>\n",
       "      <th>hypertension</th>\n",
       "      <th>heart_disease</th>\n",
       "      <th>ever_married</th>\n",
       "      <th>work_type</th>\n",
       "      <th>Residence_type</th>\n",
       "      <th>avg_glucose_level</th>\n",
       "      <th>bmi</th>\n",
       "      <th>smoking_status</th>\n",
       "      <th>stroke</th>\n",
       "    </tr>\n",
       "  </thead>\n",
       "  <tbody>\n",
       "    <tr>\n",
       "      <th>20</th>\n",
       "      <td>70630</td>\n",
       "      <td>Female</td>\n",
       "      <td>71.0</td>\n",
       "      <td>0</td>\n",
       "      <td>0</td>\n",
       "      <td>Yes</td>\n",
       "      <td>Govt_job</td>\n",
       "      <td>Rural</td>\n",
       "      <td>193.94</td>\n",
       "      <td>22.4</td>\n",
       "      <td>smokes</td>\n",
       "      <td>1</td>\n",
       "    </tr>\n",
       "    <tr>\n",
       "      <th>21</th>\n",
       "      <td>13861</td>\n",
       "      <td>Female</td>\n",
       "      <td>52.0</td>\n",
       "      <td>1</td>\n",
       "      <td>0</td>\n",
       "      <td>Yes</td>\n",
       "      <td>Self-employed</td>\n",
       "      <td>Urban</td>\n",
       "      <td>233.29</td>\n",
       "      <td>48.9</td>\n",
       "      <td>never smoked</td>\n",
       "      <td>1</td>\n",
       "    </tr>\n",
       "    <tr>\n",
       "      <th>22</th>\n",
       "      <td>68794</td>\n",
       "      <td>Female</td>\n",
       "      <td>79.0</td>\n",
       "      <td>0</td>\n",
       "      <td>0</td>\n",
       "      <td>Yes</td>\n",
       "      <td>Self-employed</td>\n",
       "      <td>Urban</td>\n",
       "      <td>228.70</td>\n",
       "      <td>26.6</td>\n",
       "      <td>never smoked</td>\n",
       "      <td>1</td>\n",
       "    </tr>\n",
       "    <tr>\n",
       "      <th>23</th>\n",
       "      <td>64778</td>\n",
       "      <td>Male</td>\n",
       "      <td>82.0</td>\n",
       "      <td>0</td>\n",
       "      <td>1</td>\n",
       "      <td>Yes</td>\n",
       "      <td>Private</td>\n",
       "      <td>Rural</td>\n",
       "      <td>208.30</td>\n",
       "      <td>32.5</td>\n",
       "      <td>Unknown</td>\n",
       "      <td>1</td>\n",
       "    </tr>\n",
       "    <tr>\n",
       "      <th>24</th>\n",
       "      <td>4219</td>\n",
       "      <td>Male</td>\n",
       "      <td>71.0</td>\n",
       "      <td>0</td>\n",
       "      <td>0</td>\n",
       "      <td>Yes</td>\n",
       "      <td>Private</td>\n",
       "      <td>Urban</td>\n",
       "      <td>102.87</td>\n",
       "      <td>27.2</td>\n",
       "      <td>formerly smoked</td>\n",
       "      <td>1</td>\n",
       "    </tr>\n",
       "    <tr>\n",
       "      <th>25</th>\n",
       "      <td>70822</td>\n",
       "      <td>Male</td>\n",
       "      <td>80.0</td>\n",
       "      <td>0</td>\n",
       "      <td>0</td>\n",
       "      <td>Yes</td>\n",
       "      <td>Self-employed</td>\n",
       "      <td>Rural</td>\n",
       "      <td>104.12</td>\n",
       "      <td>23.5</td>\n",
       "      <td>never smoked</td>\n",
       "      <td>1</td>\n",
       "    </tr>\n",
       "    <tr>\n",
       "      <th>26</th>\n",
       "      <td>38047</td>\n",
       "      <td>Female</td>\n",
       "      <td>65.0</td>\n",
       "      <td>0</td>\n",
       "      <td>0</td>\n",
       "      <td>Yes</td>\n",
       "      <td>Private</td>\n",
       "      <td>Rural</td>\n",
       "      <td>100.98</td>\n",
       "      <td>28.2</td>\n",
       "      <td>formerly smoked</td>\n",
       "      <td>1</td>\n",
       "    </tr>\n",
       "    <tr>\n",
       "      <th>27</th>\n",
       "      <td>61843</td>\n",
       "      <td>Male</td>\n",
       "      <td>58.0</td>\n",
       "      <td>0</td>\n",
       "      <td>0</td>\n",
       "      <td>Yes</td>\n",
       "      <td>Private</td>\n",
       "      <td>Rural</td>\n",
       "      <td>189.84</td>\n",
       "      <td>NaN</td>\n",
       "      <td>Unknown</td>\n",
       "      <td>1</td>\n",
       "    </tr>\n",
       "    <tr>\n",
       "      <th>28</th>\n",
       "      <td>54827</td>\n",
       "      <td>Male</td>\n",
       "      <td>69.0</td>\n",
       "      <td>0</td>\n",
       "      <td>1</td>\n",
       "      <td>Yes</td>\n",
       "      <td>Self-employed</td>\n",
       "      <td>Urban</td>\n",
       "      <td>195.23</td>\n",
       "      <td>28.3</td>\n",
       "      <td>smokes</td>\n",
       "      <td>1</td>\n",
       "    </tr>\n",
       "    <tr>\n",
       "      <th>29</th>\n",
       "      <td>69160</td>\n",
       "      <td>Male</td>\n",
       "      <td>59.0</td>\n",
       "      <td>0</td>\n",
       "      <td>0</td>\n",
       "      <td>Yes</td>\n",
       "      <td>Private</td>\n",
       "      <td>Rural</td>\n",
       "      <td>211.78</td>\n",
       "      <td>NaN</td>\n",
       "      <td>formerly smoked</td>\n",
       "      <td>1</td>\n",
       "    </tr>\n",
       "    <tr>\n",
       "      <th>30</th>\n",
       "      <td>43717</td>\n",
       "      <td>Male</td>\n",
       "      <td>57.0</td>\n",
       "      <td>1</td>\n",
       "      <td>0</td>\n",
       "      <td>Yes</td>\n",
       "      <td>Private</td>\n",
       "      <td>Urban</td>\n",
       "      <td>212.08</td>\n",
       "      <td>44.2</td>\n",
       "      <td>smokes</td>\n",
       "      <td>1</td>\n",
       "    </tr>\n",
       "    <tr>\n",
       "      <th>31</th>\n",
       "      <td>33879</td>\n",
       "      <td>Male</td>\n",
       "      <td>42.0</td>\n",
       "      <td>0</td>\n",
       "      <td>0</td>\n",
       "      <td>Yes</td>\n",
       "      <td>Private</td>\n",
       "      <td>Rural</td>\n",
       "      <td>83.41</td>\n",
       "      <td>25.4</td>\n",
       "      <td>Unknown</td>\n",
       "      <td>1</td>\n",
       "    </tr>\n",
       "    <tr>\n",
       "      <th>32</th>\n",
       "      <td>39373</td>\n",
       "      <td>Female</td>\n",
       "      <td>82.0</td>\n",
       "      <td>1</td>\n",
       "      <td>0</td>\n",
       "      <td>Yes</td>\n",
       "      <td>Self-employed</td>\n",
       "      <td>Urban</td>\n",
       "      <td>196.92</td>\n",
       "      <td>22.2</td>\n",
       "      <td>never smoked</td>\n",
       "      <td>1</td>\n",
       "    </tr>\n",
       "    <tr>\n",
       "      <th>33</th>\n",
       "      <td>54401</td>\n",
       "      <td>Male</td>\n",
       "      <td>80.0</td>\n",
       "      <td>0</td>\n",
       "      <td>1</td>\n",
       "      <td>Yes</td>\n",
       "      <td>Self-employed</td>\n",
       "      <td>Urban</td>\n",
       "      <td>252.72</td>\n",
       "      <td>30.5</td>\n",
       "      <td>formerly smoked</td>\n",
       "      <td>1</td>\n",
       "    </tr>\n",
       "    <tr>\n",
       "      <th>34</th>\n",
       "      <td>14248</td>\n",
       "      <td>Male</td>\n",
       "      <td>48.0</td>\n",
       "      <td>0</td>\n",
       "      <td>0</td>\n",
       "      <td>No</td>\n",
       "      <td>Govt_job</td>\n",
       "      <td>Urban</td>\n",
       "      <td>84.20</td>\n",
       "      <td>29.7</td>\n",
       "      <td>never smoked</td>\n",
       "      <td>1</td>\n",
       "    </tr>\n",
       "    <tr>\n",
       "      <th>35</th>\n",
       "      <td>712</td>\n",
       "      <td>Female</td>\n",
       "      <td>82.0</td>\n",
       "      <td>1</td>\n",
       "      <td>1</td>\n",
       "      <td>No</td>\n",
       "      <td>Private</td>\n",
       "      <td>Rural</td>\n",
       "      <td>84.03</td>\n",
       "      <td>26.5</td>\n",
       "      <td>formerly smoked</td>\n",
       "      <td>1</td>\n",
       "    </tr>\n",
       "    <tr>\n",
       "      <th>36</th>\n",
       "      <td>47269</td>\n",
       "      <td>Male</td>\n",
       "      <td>74.0</td>\n",
       "      <td>0</td>\n",
       "      <td>0</td>\n",
       "      <td>Yes</td>\n",
       "      <td>Private</td>\n",
       "      <td>Rural</td>\n",
       "      <td>219.72</td>\n",
       "      <td>33.7</td>\n",
       "      <td>formerly smoked</td>\n",
       "      <td>1</td>\n",
       "    </tr>\n",
       "    <tr>\n",
       "      <th>37</th>\n",
       "      <td>24977</td>\n",
       "      <td>Female</td>\n",
       "      <td>72.0</td>\n",
       "      <td>1</td>\n",
       "      <td>0</td>\n",
       "      <td>Yes</td>\n",
       "      <td>Private</td>\n",
       "      <td>Rural</td>\n",
       "      <td>74.63</td>\n",
       "      <td>23.1</td>\n",
       "      <td>formerly smoked</td>\n",
       "      <td>1</td>\n",
       "    </tr>\n",
       "    <tr>\n",
       "      <th>38</th>\n",
       "      <td>47306</td>\n",
       "      <td>Male</td>\n",
       "      <td>58.0</td>\n",
       "      <td>0</td>\n",
       "      <td>0</td>\n",
       "      <td>No</td>\n",
       "      <td>Private</td>\n",
       "      <td>Rural</td>\n",
       "      <td>92.62</td>\n",
       "      <td>32.0</td>\n",
       "      <td>Unknown</td>\n",
       "      <td>1</td>\n",
       "    </tr>\n",
       "    <tr>\n",
       "      <th>39</th>\n",
       "      <td>62602</td>\n",
       "      <td>Female</td>\n",
       "      <td>49.0</td>\n",
       "      <td>0</td>\n",
       "      <td>0</td>\n",
       "      <td>Yes</td>\n",
       "      <td>Private</td>\n",
       "      <td>Urban</td>\n",
       "      <td>60.91</td>\n",
       "      <td>29.9</td>\n",
       "      <td>never smoked</td>\n",
       "      <td>1</td>\n",
       "    </tr>\n",
       "  </tbody>\n",
       "</table>\n",
       "</div>"
      ],
      "text/plain": [
       "       id  gender   age  hypertension  heart_disease ever_married  \\\n",
       "20  70630  Female  71.0             0              0          Yes   \n",
       "21  13861  Female  52.0             1              0          Yes   \n",
       "22  68794  Female  79.0             0              0          Yes   \n",
       "23  64778    Male  82.0             0              1          Yes   \n",
       "24   4219    Male  71.0             0              0          Yes   \n",
       "25  70822    Male  80.0             0              0          Yes   \n",
       "26  38047  Female  65.0             0              0          Yes   \n",
       "27  61843    Male  58.0             0              0          Yes   \n",
       "28  54827    Male  69.0             0              1          Yes   \n",
       "29  69160    Male  59.0             0              0          Yes   \n",
       "30  43717    Male  57.0             1              0          Yes   \n",
       "31  33879    Male  42.0             0              0          Yes   \n",
       "32  39373  Female  82.0             1              0          Yes   \n",
       "33  54401    Male  80.0             0              1          Yes   \n",
       "34  14248    Male  48.0             0              0           No   \n",
       "35    712  Female  82.0             1              1           No   \n",
       "36  47269    Male  74.0             0              0          Yes   \n",
       "37  24977  Female  72.0             1              0          Yes   \n",
       "38  47306    Male  58.0             0              0           No   \n",
       "39  62602  Female  49.0             0              0          Yes   \n",
       "\n",
       "        work_type Residence_type  avg_glucose_level   bmi   smoking_status  \\\n",
       "20       Govt_job          Rural             193.94  22.4           smokes   \n",
       "21  Self-employed          Urban             233.29  48.9     never smoked   \n",
       "22  Self-employed          Urban             228.70  26.6     never smoked   \n",
       "23        Private          Rural             208.30  32.5          Unknown   \n",
       "24        Private          Urban             102.87  27.2  formerly smoked   \n",
       "25  Self-employed          Rural             104.12  23.5     never smoked   \n",
       "26        Private          Rural             100.98  28.2  formerly smoked   \n",
       "27        Private          Rural             189.84   NaN          Unknown   \n",
       "28  Self-employed          Urban             195.23  28.3           smokes   \n",
       "29        Private          Rural             211.78   NaN  formerly smoked   \n",
       "30        Private          Urban             212.08  44.2           smokes   \n",
       "31        Private          Rural              83.41  25.4          Unknown   \n",
       "32  Self-employed          Urban             196.92  22.2     never smoked   \n",
       "33  Self-employed          Urban             252.72  30.5  formerly smoked   \n",
       "34       Govt_job          Urban              84.20  29.7     never smoked   \n",
       "35        Private          Rural              84.03  26.5  formerly smoked   \n",
       "36        Private          Rural             219.72  33.7  formerly smoked   \n",
       "37        Private          Rural              74.63  23.1  formerly smoked   \n",
       "38        Private          Rural              92.62  32.0          Unknown   \n",
       "39        Private          Urban              60.91  29.9     never smoked   \n",
       "\n",
       "    stroke  \n",
       "20       1  \n",
       "21       1  \n",
       "22       1  \n",
       "23       1  \n",
       "24       1  \n",
       "25       1  \n",
       "26       1  \n",
       "27       1  \n",
       "28       1  \n",
       "29       1  \n",
       "30       1  \n",
       "31       1  \n",
       "32       1  \n",
       "33       1  \n",
       "34       1  \n",
       "35       1  \n",
       "36       1  \n",
       "37       1  \n",
       "38       1  \n",
       "39       1  "
      ]
     },
     "execution_count": 8,
     "metadata": {},
     "output_type": "execute_result"
    }
   ],
   "source": [
    "data[20:40]"
   ]
  },
  {
   "cell_type": "code",
   "execution_count": 9,
   "id": "73ef8bb3",
   "metadata": {
    "execution": {
     "iopub.execute_input": "2022-10-01T17:41:44.034157Z",
     "iopub.status.busy": "2022-10-01T17:41:44.033533Z",
     "iopub.status.idle": "2022-10-01T17:41:44.042041Z",
     "shell.execute_reply": "2022-10-01T17:41:44.041228Z"
    },
    "papermill": {
     "duration": 0.027153,
     "end_time": "2022-10-01T17:41:44.044326",
     "exception": false,
     "start_time": "2022-10-01T17:41:44.017173",
     "status": "completed"
    },
    "tags": []
   },
   "outputs": [],
   "source": [
    "df['bmi'] = df['bmi'].fillna(df['bmi'].mode()[0])"
   ]
  },
  {
   "cell_type": "code",
   "execution_count": 10,
   "id": "a39c9280",
   "metadata": {
    "execution": {
     "iopub.execute_input": "2022-10-01T17:41:44.075542Z",
     "iopub.status.busy": "2022-10-01T17:41:44.074904Z",
     "iopub.status.idle": "2022-10-01T17:41:44.097758Z",
     "shell.execute_reply": "2022-10-01T17:41:44.096636Z"
    },
    "papermill": {
     "duration": 0.041154,
     "end_time": "2022-10-01T17:41:44.100129",
     "exception": false,
     "start_time": "2022-10-01T17:41:44.058975",
     "status": "completed"
    },
    "tags": []
   },
   "outputs": [
    {
     "data": {
      "text/html": [
       "<div>\n",
       "<style scoped>\n",
       "    .dataframe tbody tr th:only-of-type {\n",
       "        vertical-align: middle;\n",
       "    }\n",
       "\n",
       "    .dataframe tbody tr th {\n",
       "        vertical-align: top;\n",
       "    }\n",
       "\n",
       "    .dataframe thead th {\n",
       "        text-align: right;\n",
       "    }\n",
       "</style>\n",
       "<table border=\"1\" class=\"dataframe\">\n",
       "  <thead>\n",
       "    <tr style=\"text-align: right;\">\n",
       "      <th></th>\n",
       "      <th>id</th>\n",
       "      <th>gender</th>\n",
       "      <th>age</th>\n",
       "      <th>hypertension</th>\n",
       "      <th>heart_disease</th>\n",
       "      <th>ever_married</th>\n",
       "      <th>work_type</th>\n",
       "      <th>Residence_type</th>\n",
       "      <th>avg_glucose_level</th>\n",
       "      <th>bmi</th>\n",
       "      <th>smoking_status</th>\n",
       "      <th>stroke</th>\n",
       "    </tr>\n",
       "  </thead>\n",
       "  <tbody>\n",
       "    <tr>\n",
       "      <th>20</th>\n",
       "      <td>70630</td>\n",
       "      <td>Female</td>\n",
       "      <td>71.0</td>\n",
       "      <td>0</td>\n",
       "      <td>0</td>\n",
       "      <td>Yes</td>\n",
       "      <td>Govt_job</td>\n",
       "      <td>Rural</td>\n",
       "      <td>193.94</td>\n",
       "      <td>22.4</td>\n",
       "      <td>smokes</td>\n",
       "      <td>1</td>\n",
       "    </tr>\n",
       "    <tr>\n",
       "      <th>21</th>\n",
       "      <td>13861</td>\n",
       "      <td>Female</td>\n",
       "      <td>52.0</td>\n",
       "      <td>1</td>\n",
       "      <td>0</td>\n",
       "      <td>Yes</td>\n",
       "      <td>Self-employed</td>\n",
       "      <td>Urban</td>\n",
       "      <td>233.29</td>\n",
       "      <td>48.9</td>\n",
       "      <td>never smoked</td>\n",
       "      <td>1</td>\n",
       "    </tr>\n",
       "    <tr>\n",
       "      <th>22</th>\n",
       "      <td>68794</td>\n",
       "      <td>Female</td>\n",
       "      <td>79.0</td>\n",
       "      <td>0</td>\n",
       "      <td>0</td>\n",
       "      <td>Yes</td>\n",
       "      <td>Self-employed</td>\n",
       "      <td>Urban</td>\n",
       "      <td>228.70</td>\n",
       "      <td>26.6</td>\n",
       "      <td>never smoked</td>\n",
       "      <td>1</td>\n",
       "    </tr>\n",
       "    <tr>\n",
       "      <th>23</th>\n",
       "      <td>64778</td>\n",
       "      <td>Male</td>\n",
       "      <td>82.0</td>\n",
       "      <td>0</td>\n",
       "      <td>1</td>\n",
       "      <td>Yes</td>\n",
       "      <td>Private</td>\n",
       "      <td>Rural</td>\n",
       "      <td>208.30</td>\n",
       "      <td>32.5</td>\n",
       "      <td>Unknown</td>\n",
       "      <td>1</td>\n",
       "    </tr>\n",
       "    <tr>\n",
       "      <th>24</th>\n",
       "      <td>4219</td>\n",
       "      <td>Male</td>\n",
       "      <td>71.0</td>\n",
       "      <td>0</td>\n",
       "      <td>0</td>\n",
       "      <td>Yes</td>\n",
       "      <td>Private</td>\n",
       "      <td>Urban</td>\n",
       "      <td>102.87</td>\n",
       "      <td>27.2</td>\n",
       "      <td>formerly smoked</td>\n",
       "      <td>1</td>\n",
       "    </tr>\n",
       "    <tr>\n",
       "      <th>25</th>\n",
       "      <td>70822</td>\n",
       "      <td>Male</td>\n",
       "      <td>80.0</td>\n",
       "      <td>0</td>\n",
       "      <td>0</td>\n",
       "      <td>Yes</td>\n",
       "      <td>Self-employed</td>\n",
       "      <td>Rural</td>\n",
       "      <td>104.12</td>\n",
       "      <td>23.5</td>\n",
       "      <td>never smoked</td>\n",
       "      <td>1</td>\n",
       "    </tr>\n",
       "    <tr>\n",
       "      <th>26</th>\n",
       "      <td>38047</td>\n",
       "      <td>Female</td>\n",
       "      <td>65.0</td>\n",
       "      <td>0</td>\n",
       "      <td>0</td>\n",
       "      <td>Yes</td>\n",
       "      <td>Private</td>\n",
       "      <td>Rural</td>\n",
       "      <td>100.98</td>\n",
       "      <td>28.2</td>\n",
       "      <td>formerly smoked</td>\n",
       "      <td>1</td>\n",
       "    </tr>\n",
       "    <tr>\n",
       "      <th>27</th>\n",
       "      <td>61843</td>\n",
       "      <td>Male</td>\n",
       "      <td>58.0</td>\n",
       "      <td>0</td>\n",
       "      <td>0</td>\n",
       "      <td>Yes</td>\n",
       "      <td>Private</td>\n",
       "      <td>Rural</td>\n",
       "      <td>189.84</td>\n",
       "      <td>28.7</td>\n",
       "      <td>Unknown</td>\n",
       "      <td>1</td>\n",
       "    </tr>\n",
       "    <tr>\n",
       "      <th>28</th>\n",
       "      <td>54827</td>\n",
       "      <td>Male</td>\n",
       "      <td>69.0</td>\n",
       "      <td>0</td>\n",
       "      <td>1</td>\n",
       "      <td>Yes</td>\n",
       "      <td>Self-employed</td>\n",
       "      <td>Urban</td>\n",
       "      <td>195.23</td>\n",
       "      <td>28.3</td>\n",
       "      <td>smokes</td>\n",
       "      <td>1</td>\n",
       "    </tr>\n",
       "    <tr>\n",
       "      <th>29</th>\n",
       "      <td>69160</td>\n",
       "      <td>Male</td>\n",
       "      <td>59.0</td>\n",
       "      <td>0</td>\n",
       "      <td>0</td>\n",
       "      <td>Yes</td>\n",
       "      <td>Private</td>\n",
       "      <td>Rural</td>\n",
       "      <td>211.78</td>\n",
       "      <td>28.7</td>\n",
       "      <td>formerly smoked</td>\n",
       "      <td>1</td>\n",
       "    </tr>\n",
       "    <tr>\n",
       "      <th>30</th>\n",
       "      <td>43717</td>\n",
       "      <td>Male</td>\n",
       "      <td>57.0</td>\n",
       "      <td>1</td>\n",
       "      <td>0</td>\n",
       "      <td>Yes</td>\n",
       "      <td>Private</td>\n",
       "      <td>Urban</td>\n",
       "      <td>212.08</td>\n",
       "      <td>44.2</td>\n",
       "      <td>smokes</td>\n",
       "      <td>1</td>\n",
       "    </tr>\n",
       "    <tr>\n",
       "      <th>31</th>\n",
       "      <td>33879</td>\n",
       "      <td>Male</td>\n",
       "      <td>42.0</td>\n",
       "      <td>0</td>\n",
       "      <td>0</td>\n",
       "      <td>Yes</td>\n",
       "      <td>Private</td>\n",
       "      <td>Rural</td>\n",
       "      <td>83.41</td>\n",
       "      <td>25.4</td>\n",
       "      <td>Unknown</td>\n",
       "      <td>1</td>\n",
       "    </tr>\n",
       "    <tr>\n",
       "      <th>32</th>\n",
       "      <td>39373</td>\n",
       "      <td>Female</td>\n",
       "      <td>82.0</td>\n",
       "      <td>1</td>\n",
       "      <td>0</td>\n",
       "      <td>Yes</td>\n",
       "      <td>Self-employed</td>\n",
       "      <td>Urban</td>\n",
       "      <td>196.92</td>\n",
       "      <td>22.2</td>\n",
       "      <td>never smoked</td>\n",
       "      <td>1</td>\n",
       "    </tr>\n",
       "    <tr>\n",
       "      <th>33</th>\n",
       "      <td>54401</td>\n",
       "      <td>Male</td>\n",
       "      <td>80.0</td>\n",
       "      <td>0</td>\n",
       "      <td>1</td>\n",
       "      <td>Yes</td>\n",
       "      <td>Self-employed</td>\n",
       "      <td>Urban</td>\n",
       "      <td>252.72</td>\n",
       "      <td>30.5</td>\n",
       "      <td>formerly smoked</td>\n",
       "      <td>1</td>\n",
       "    </tr>\n",
       "    <tr>\n",
       "      <th>34</th>\n",
       "      <td>14248</td>\n",
       "      <td>Male</td>\n",
       "      <td>48.0</td>\n",
       "      <td>0</td>\n",
       "      <td>0</td>\n",
       "      <td>No</td>\n",
       "      <td>Govt_job</td>\n",
       "      <td>Urban</td>\n",
       "      <td>84.20</td>\n",
       "      <td>29.7</td>\n",
       "      <td>never smoked</td>\n",
       "      <td>1</td>\n",
       "    </tr>\n",
       "    <tr>\n",
       "      <th>35</th>\n",
       "      <td>712</td>\n",
       "      <td>Female</td>\n",
       "      <td>82.0</td>\n",
       "      <td>1</td>\n",
       "      <td>1</td>\n",
       "      <td>No</td>\n",
       "      <td>Private</td>\n",
       "      <td>Rural</td>\n",
       "      <td>84.03</td>\n",
       "      <td>26.5</td>\n",
       "      <td>formerly smoked</td>\n",
       "      <td>1</td>\n",
       "    </tr>\n",
       "    <tr>\n",
       "      <th>36</th>\n",
       "      <td>47269</td>\n",
       "      <td>Male</td>\n",
       "      <td>74.0</td>\n",
       "      <td>0</td>\n",
       "      <td>0</td>\n",
       "      <td>Yes</td>\n",
       "      <td>Private</td>\n",
       "      <td>Rural</td>\n",
       "      <td>219.72</td>\n",
       "      <td>33.7</td>\n",
       "      <td>formerly smoked</td>\n",
       "      <td>1</td>\n",
       "    </tr>\n",
       "    <tr>\n",
       "      <th>37</th>\n",
       "      <td>24977</td>\n",
       "      <td>Female</td>\n",
       "      <td>72.0</td>\n",
       "      <td>1</td>\n",
       "      <td>0</td>\n",
       "      <td>Yes</td>\n",
       "      <td>Private</td>\n",
       "      <td>Rural</td>\n",
       "      <td>74.63</td>\n",
       "      <td>23.1</td>\n",
       "      <td>formerly smoked</td>\n",
       "      <td>1</td>\n",
       "    </tr>\n",
       "    <tr>\n",
       "      <th>38</th>\n",
       "      <td>47306</td>\n",
       "      <td>Male</td>\n",
       "      <td>58.0</td>\n",
       "      <td>0</td>\n",
       "      <td>0</td>\n",
       "      <td>No</td>\n",
       "      <td>Private</td>\n",
       "      <td>Rural</td>\n",
       "      <td>92.62</td>\n",
       "      <td>32.0</td>\n",
       "      <td>Unknown</td>\n",
       "      <td>1</td>\n",
       "    </tr>\n",
       "    <tr>\n",
       "      <th>39</th>\n",
       "      <td>62602</td>\n",
       "      <td>Female</td>\n",
       "      <td>49.0</td>\n",
       "      <td>0</td>\n",
       "      <td>0</td>\n",
       "      <td>Yes</td>\n",
       "      <td>Private</td>\n",
       "      <td>Urban</td>\n",
       "      <td>60.91</td>\n",
       "      <td>29.9</td>\n",
       "      <td>never smoked</td>\n",
       "      <td>1</td>\n",
       "    </tr>\n",
       "  </tbody>\n",
       "</table>\n",
       "</div>"
      ],
      "text/plain": [
       "       id  gender   age  hypertension  heart_disease ever_married  \\\n",
       "20  70630  Female  71.0             0              0          Yes   \n",
       "21  13861  Female  52.0             1              0          Yes   \n",
       "22  68794  Female  79.0             0              0          Yes   \n",
       "23  64778    Male  82.0             0              1          Yes   \n",
       "24   4219    Male  71.0             0              0          Yes   \n",
       "25  70822    Male  80.0             0              0          Yes   \n",
       "26  38047  Female  65.0             0              0          Yes   \n",
       "27  61843    Male  58.0             0              0          Yes   \n",
       "28  54827    Male  69.0             0              1          Yes   \n",
       "29  69160    Male  59.0             0              0          Yes   \n",
       "30  43717    Male  57.0             1              0          Yes   \n",
       "31  33879    Male  42.0             0              0          Yes   \n",
       "32  39373  Female  82.0             1              0          Yes   \n",
       "33  54401    Male  80.0             0              1          Yes   \n",
       "34  14248    Male  48.0             0              0           No   \n",
       "35    712  Female  82.0             1              1           No   \n",
       "36  47269    Male  74.0             0              0          Yes   \n",
       "37  24977  Female  72.0             1              0          Yes   \n",
       "38  47306    Male  58.0             0              0           No   \n",
       "39  62602  Female  49.0             0              0          Yes   \n",
       "\n",
       "        work_type Residence_type  avg_glucose_level   bmi   smoking_status  \\\n",
       "20       Govt_job          Rural             193.94  22.4           smokes   \n",
       "21  Self-employed          Urban             233.29  48.9     never smoked   \n",
       "22  Self-employed          Urban             228.70  26.6     never smoked   \n",
       "23        Private          Rural             208.30  32.5          Unknown   \n",
       "24        Private          Urban             102.87  27.2  formerly smoked   \n",
       "25  Self-employed          Rural             104.12  23.5     never smoked   \n",
       "26        Private          Rural             100.98  28.2  formerly smoked   \n",
       "27        Private          Rural             189.84  28.7          Unknown   \n",
       "28  Self-employed          Urban             195.23  28.3           smokes   \n",
       "29        Private          Rural             211.78  28.7  formerly smoked   \n",
       "30        Private          Urban             212.08  44.2           smokes   \n",
       "31        Private          Rural              83.41  25.4          Unknown   \n",
       "32  Self-employed          Urban             196.92  22.2     never smoked   \n",
       "33  Self-employed          Urban             252.72  30.5  formerly smoked   \n",
       "34       Govt_job          Urban              84.20  29.7     never smoked   \n",
       "35        Private          Rural              84.03  26.5  formerly smoked   \n",
       "36        Private          Rural             219.72  33.7  formerly smoked   \n",
       "37        Private          Rural              74.63  23.1  formerly smoked   \n",
       "38        Private          Rural              92.62  32.0          Unknown   \n",
       "39        Private          Urban              60.91  29.9     never smoked   \n",
       "\n",
       "    stroke  \n",
       "20       1  \n",
       "21       1  \n",
       "22       1  \n",
       "23       1  \n",
       "24       1  \n",
       "25       1  \n",
       "26       1  \n",
       "27       1  \n",
       "28       1  \n",
       "29       1  \n",
       "30       1  \n",
       "31       1  \n",
       "32       1  \n",
       "33       1  \n",
       "34       1  \n",
       "35       1  \n",
       "36       1  \n",
       "37       1  \n",
       "38       1  \n",
       "39       1  "
      ]
     },
     "execution_count": 10,
     "metadata": {},
     "output_type": "execute_result"
    }
   ],
   "source": [
    "df[20:40]"
   ]
  },
  {
   "cell_type": "code",
   "execution_count": 11,
   "id": "d7f9f143",
   "metadata": {
    "execution": {
     "iopub.execute_input": "2022-10-01T17:41:44.132826Z",
     "iopub.status.busy": "2022-10-01T17:41:44.132063Z",
     "iopub.status.idle": "2022-10-01T17:41:44.151591Z",
     "shell.execute_reply": "2022-10-01T17:41:44.150377Z"
    },
    "papermill": {
     "duration": 0.038828,
     "end_time": "2022-10-01T17:41:44.154016",
     "exception": false,
     "start_time": "2022-10-01T17:41:44.115188",
     "status": "completed"
    },
    "tags": []
   },
   "outputs": [
    {
     "data": {
      "text/html": [
       "<div>\n",
       "<style scoped>\n",
       "    .dataframe tbody tr th:only-of-type {\n",
       "        vertical-align: middle;\n",
       "    }\n",
       "\n",
       "    .dataframe tbody tr th {\n",
       "        vertical-align: top;\n",
       "    }\n",
       "\n",
       "    .dataframe thead th {\n",
       "        text-align: right;\n",
       "    }\n",
       "</style>\n",
       "<table border=\"1\" class=\"dataframe\">\n",
       "  <thead>\n",
       "    <tr style=\"text-align: right;\">\n",
       "      <th></th>\n",
       "      <th>gender</th>\n",
       "      <th>age</th>\n",
       "      <th>hypertension</th>\n",
       "      <th>heart_disease</th>\n",
       "      <th>ever_married</th>\n",
       "      <th>work_type</th>\n",
       "      <th>Residence_type</th>\n",
       "      <th>avg_glucose_level</th>\n",
       "      <th>bmi</th>\n",
       "      <th>smoking_status</th>\n",
       "      <th>stroke</th>\n",
       "    </tr>\n",
       "  </thead>\n",
       "  <tbody>\n",
       "    <tr>\n",
       "      <th>0</th>\n",
       "      <td>Male</td>\n",
       "      <td>67.0</td>\n",
       "      <td>0</td>\n",
       "      <td>1</td>\n",
       "      <td>Yes</td>\n",
       "      <td>Private</td>\n",
       "      <td>Urban</td>\n",
       "      <td>228.69</td>\n",
       "      <td>36.6</td>\n",
       "      <td>formerly smoked</td>\n",
       "      <td>1</td>\n",
       "    </tr>\n",
       "    <tr>\n",
       "      <th>1</th>\n",
       "      <td>Female</td>\n",
       "      <td>61.0</td>\n",
       "      <td>0</td>\n",
       "      <td>0</td>\n",
       "      <td>Yes</td>\n",
       "      <td>Self-employed</td>\n",
       "      <td>Rural</td>\n",
       "      <td>202.21</td>\n",
       "      <td>28.7</td>\n",
       "      <td>never smoked</td>\n",
       "      <td>1</td>\n",
       "    </tr>\n",
       "    <tr>\n",
       "      <th>2</th>\n",
       "      <td>Male</td>\n",
       "      <td>80.0</td>\n",
       "      <td>0</td>\n",
       "      <td>1</td>\n",
       "      <td>Yes</td>\n",
       "      <td>Private</td>\n",
       "      <td>Rural</td>\n",
       "      <td>105.92</td>\n",
       "      <td>32.5</td>\n",
       "      <td>never smoked</td>\n",
       "      <td>1</td>\n",
       "    </tr>\n",
       "    <tr>\n",
       "      <th>3</th>\n",
       "      <td>Female</td>\n",
       "      <td>49.0</td>\n",
       "      <td>0</td>\n",
       "      <td>0</td>\n",
       "      <td>Yes</td>\n",
       "      <td>Private</td>\n",
       "      <td>Urban</td>\n",
       "      <td>171.23</td>\n",
       "      <td>34.4</td>\n",
       "      <td>smokes</td>\n",
       "      <td>1</td>\n",
       "    </tr>\n",
       "    <tr>\n",
       "      <th>4</th>\n",
       "      <td>Female</td>\n",
       "      <td>79.0</td>\n",
       "      <td>1</td>\n",
       "      <td>0</td>\n",
       "      <td>Yes</td>\n",
       "      <td>Self-employed</td>\n",
       "      <td>Rural</td>\n",
       "      <td>174.12</td>\n",
       "      <td>24.0</td>\n",
       "      <td>never smoked</td>\n",
       "      <td>1</td>\n",
       "    </tr>\n",
       "  </tbody>\n",
       "</table>\n",
       "</div>"
      ],
      "text/plain": [
       "   gender   age  hypertension  heart_disease ever_married      work_type  \\\n",
       "0    Male  67.0             0              1          Yes        Private   \n",
       "1  Female  61.0             0              0          Yes  Self-employed   \n",
       "2    Male  80.0             0              1          Yes        Private   \n",
       "3  Female  49.0             0              0          Yes        Private   \n",
       "4  Female  79.0             1              0          Yes  Self-employed   \n",
       "\n",
       "  Residence_type  avg_glucose_level   bmi   smoking_status  stroke  \n",
       "0          Urban             228.69  36.6  formerly smoked       1  \n",
       "1          Rural             202.21  28.7     never smoked       1  \n",
       "2          Rural             105.92  32.5     never smoked       1  \n",
       "3          Urban             171.23  34.4           smokes       1  \n",
       "4          Rural             174.12  24.0     never smoked       1  "
      ]
     },
     "execution_count": 11,
     "metadata": {},
     "output_type": "execute_result"
    }
   ],
   "source": [
    "#Removing id column as it is ineffective\n",
    "df.drop(\"id\",inplace=True,axis=1)\n",
    "df.head()"
   ]
  },
  {
   "cell_type": "code",
   "execution_count": 12,
   "id": "b3235620",
   "metadata": {
    "execution": {
     "iopub.execute_input": "2022-10-01T17:41:44.187698Z",
     "iopub.status.busy": "2022-10-01T17:41:44.187021Z",
     "iopub.status.idle": "2022-10-01T17:41:44.198777Z",
     "shell.execute_reply": "2022-10-01T17:41:44.197935Z"
    },
    "papermill": {
     "duration": 0.031113,
     "end_time": "2022-10-01T17:41:44.200996",
     "exception": false,
     "start_time": "2022-10-01T17:41:44.169883",
     "status": "completed"
    },
    "tags": []
   },
   "outputs": [
    {
     "data": {
      "text/plain": [
       "0"
      ]
     },
     "execution_count": 12,
     "metadata": {},
     "output_type": "execute_result"
    }
   ],
   "source": [
    "df.duplicated().sum()"
   ]
  },
  {
   "cell_type": "markdown",
   "id": "0897a269",
   "metadata": {
    "papermill": {
     "duration": 0.01533,
     "end_time": "2022-10-01T17:41:44.232028",
     "exception": false,
     "start_time": "2022-10-01T17:41:44.216698",
     "status": "completed"
    },
    "tags": []
   },
   "source": [
    "No duplicate records"
   ]
  },
  {
   "cell_type": "code",
   "execution_count": 13,
   "id": "66759557",
   "metadata": {
    "execution": {
     "iopub.execute_input": "2022-10-01T17:41:44.266746Z",
     "iopub.status.busy": "2022-10-01T17:41:44.266044Z",
     "iopub.status.idle": "2022-10-01T17:41:44.289018Z",
     "shell.execute_reply": "2022-10-01T17:41:44.287887Z"
    },
    "papermill": {
     "duration": 0.0435,
     "end_time": "2022-10-01T17:41:44.291627",
     "exception": false,
     "start_time": "2022-10-01T17:41:44.248127",
     "status": "completed"
    },
    "tags": []
   },
   "outputs": [
    {
     "data": {
      "text/html": [
       "<div>\n",
       "<style scoped>\n",
       "    .dataframe tbody tr th:only-of-type {\n",
       "        vertical-align: middle;\n",
       "    }\n",
       "\n",
       "    .dataframe tbody tr th {\n",
       "        vertical-align: top;\n",
       "    }\n",
       "\n",
       "    .dataframe thead th {\n",
       "        text-align: right;\n",
       "    }\n",
       "</style>\n",
       "<table border=\"1\" class=\"dataframe\">\n",
       "  <thead>\n",
       "    <tr style=\"text-align: right;\">\n",
       "      <th></th>\n",
       "      <th>gender</th>\n",
       "      <th>ever_married</th>\n",
       "      <th>work_type</th>\n",
       "      <th>Residence_type</th>\n",
       "      <th>smoking_status</th>\n",
       "    </tr>\n",
       "  </thead>\n",
       "  <tbody>\n",
       "    <tr>\n",
       "      <th>count</th>\n",
       "      <td>5110</td>\n",
       "      <td>5110</td>\n",
       "      <td>5110</td>\n",
       "      <td>5110</td>\n",
       "      <td>5110</td>\n",
       "    </tr>\n",
       "    <tr>\n",
       "      <th>unique</th>\n",
       "      <td>3</td>\n",
       "      <td>2</td>\n",
       "      <td>5</td>\n",
       "      <td>2</td>\n",
       "      <td>4</td>\n",
       "    </tr>\n",
       "    <tr>\n",
       "      <th>top</th>\n",
       "      <td>Female</td>\n",
       "      <td>Yes</td>\n",
       "      <td>Private</td>\n",
       "      <td>Urban</td>\n",
       "      <td>never smoked</td>\n",
       "    </tr>\n",
       "    <tr>\n",
       "      <th>freq</th>\n",
       "      <td>2994</td>\n",
       "      <td>3353</td>\n",
       "      <td>2925</td>\n",
       "      <td>2596</td>\n",
       "      <td>1892</td>\n",
       "    </tr>\n",
       "  </tbody>\n",
       "</table>\n",
       "</div>"
      ],
      "text/plain": [
       "        gender ever_married work_type Residence_type smoking_status\n",
       "count     5110         5110      5110           5110           5110\n",
       "unique       3            2         5              2              4\n",
       "top     Female          Yes   Private          Urban   never smoked\n",
       "freq      2994         3353      2925           2596           1892"
      ]
     },
     "execution_count": 13,
     "metadata": {},
     "output_type": "execute_result"
    }
   ],
   "source": [
    "#Checking Summary of categorical columns\n",
    "df.describe(include=\"object\")"
   ]
  },
  {
   "cell_type": "code",
   "execution_count": 14,
   "id": "79cb0506",
   "metadata": {
    "execution": {
     "iopub.execute_input": "2022-10-01T17:41:44.326319Z",
     "iopub.status.busy": "2022-10-01T17:41:44.325681Z",
     "iopub.status.idle": "2022-10-01T17:41:44.333850Z",
     "shell.execute_reply": "2022-10-01T17:41:44.332627Z"
    },
    "papermill": {
     "duration": 0.027963,
     "end_time": "2022-10-01T17:41:44.336038",
     "exception": false,
     "start_time": "2022-10-01T17:41:44.308075",
     "status": "completed"
    },
    "tags": []
   },
   "outputs": [
    {
     "data": {
      "text/plain": [
       "['gender', 'ever_married', 'work_type', 'Residence_type', 'smoking_status']"
      ]
     },
     "execution_count": 14,
     "metadata": {},
     "output_type": "execute_result"
    }
   ],
   "source": [
    "categorical = list(df.dtypes[df.dtypes == 'object'].index)\n",
    "categorical"
   ]
  },
  {
   "cell_type": "code",
   "execution_count": 15,
   "id": "09f52f9a",
   "metadata": {
    "execution": {
     "iopub.execute_input": "2022-10-01T17:41:44.370230Z",
     "iopub.status.busy": "2022-10-01T17:41:44.369581Z",
     "iopub.status.idle": "2022-10-01T17:41:44.409155Z",
     "shell.execute_reply": "2022-10-01T17:41:44.407980Z"
    },
    "papermill": {
     "duration": 0.059515,
     "end_time": "2022-10-01T17:41:44.411385",
     "exception": false,
     "start_time": "2022-10-01T17:41:44.351870",
     "status": "completed"
    },
    "tags": []
   },
   "outputs": [
    {
     "data": {
      "text/html": [
       "<div>\n",
       "<style scoped>\n",
       "    .dataframe tbody tr th:only-of-type {\n",
       "        vertical-align: middle;\n",
       "    }\n",
       "\n",
       "    .dataframe tbody tr th {\n",
       "        vertical-align: top;\n",
       "    }\n",
       "\n",
       "    .dataframe thead th {\n",
       "        text-align: right;\n",
       "    }\n",
       "</style>\n",
       "<table border=\"1\" class=\"dataframe\">\n",
       "  <thead>\n",
       "    <tr style=\"text-align: right;\">\n",
       "      <th></th>\n",
       "      <th>gender</th>\n",
       "      <th>age</th>\n",
       "      <th>hypertension</th>\n",
       "      <th>heart_disease</th>\n",
       "      <th>ever_married</th>\n",
       "      <th>work_type</th>\n",
       "      <th>Residence_type</th>\n",
       "      <th>avg_glucose_level</th>\n",
       "      <th>bmi</th>\n",
       "      <th>smoking_status</th>\n",
       "      <th>stroke</th>\n",
       "    </tr>\n",
       "  </thead>\n",
       "  <tbody>\n",
       "    <tr>\n",
       "      <th>0</th>\n",
       "      <td>male</td>\n",
       "      <td>67.0</td>\n",
       "      <td>0</td>\n",
       "      <td>1</td>\n",
       "      <td>yes</td>\n",
       "      <td>private</td>\n",
       "      <td>urban</td>\n",
       "      <td>228.69</td>\n",
       "      <td>36.6</td>\n",
       "      <td>formerly_smoked</td>\n",
       "      <td>1</td>\n",
       "    </tr>\n",
       "    <tr>\n",
       "      <th>1</th>\n",
       "      <td>female</td>\n",
       "      <td>61.0</td>\n",
       "      <td>0</td>\n",
       "      <td>0</td>\n",
       "      <td>yes</td>\n",
       "      <td>self-employed</td>\n",
       "      <td>rural</td>\n",
       "      <td>202.21</td>\n",
       "      <td>28.7</td>\n",
       "      <td>never_smoked</td>\n",
       "      <td>1</td>\n",
       "    </tr>\n",
       "    <tr>\n",
       "      <th>2</th>\n",
       "      <td>male</td>\n",
       "      <td>80.0</td>\n",
       "      <td>0</td>\n",
       "      <td>1</td>\n",
       "      <td>yes</td>\n",
       "      <td>private</td>\n",
       "      <td>rural</td>\n",
       "      <td>105.92</td>\n",
       "      <td>32.5</td>\n",
       "      <td>never_smoked</td>\n",
       "      <td>1</td>\n",
       "    </tr>\n",
       "    <tr>\n",
       "      <th>3</th>\n",
       "      <td>female</td>\n",
       "      <td>49.0</td>\n",
       "      <td>0</td>\n",
       "      <td>0</td>\n",
       "      <td>yes</td>\n",
       "      <td>private</td>\n",
       "      <td>urban</td>\n",
       "      <td>171.23</td>\n",
       "      <td>34.4</td>\n",
       "      <td>smokes</td>\n",
       "      <td>1</td>\n",
       "    </tr>\n",
       "    <tr>\n",
       "      <th>4</th>\n",
       "      <td>female</td>\n",
       "      <td>79.0</td>\n",
       "      <td>1</td>\n",
       "      <td>0</td>\n",
       "      <td>yes</td>\n",
       "      <td>self-employed</td>\n",
       "      <td>rural</td>\n",
       "      <td>174.12</td>\n",
       "      <td>24.0</td>\n",
       "      <td>never_smoked</td>\n",
       "      <td>1</td>\n",
       "    </tr>\n",
       "  </tbody>\n",
       "</table>\n",
       "</div>"
      ],
      "text/plain": [
       "   gender   age  hypertension  heart_disease ever_married      work_type  \\\n",
       "0    male  67.0             0              1          yes        private   \n",
       "1  female  61.0             0              0          yes  self-employed   \n",
       "2    male  80.0             0              1          yes        private   \n",
       "3  female  49.0             0              0          yes        private   \n",
       "4  female  79.0             1              0          yes  self-employed   \n",
       "\n",
       "  Residence_type  avg_glucose_level   bmi   smoking_status  stroke  \n",
       "0          urban             228.69  36.6  formerly_smoked       1  \n",
       "1          rural             202.21  28.7     never_smoked       1  \n",
       "2          rural             105.92  32.5     never_smoked       1  \n",
       "3          urban             171.23  34.4           smokes       1  \n",
       "4          rural             174.12  24.0     never_smoked       1  "
      ]
     },
     "execution_count": 15,
     "metadata": {},
     "output_type": "execute_result"
    }
   ],
   "source": [
    "for col in categorical:\n",
    "    df[col] = df[col].str.lower().str.replace(\" \", \"_\")\n",
    "    \n",
    "df.head()"
   ]
  },
  {
   "cell_type": "code",
   "execution_count": 16,
   "id": "3ef060f6",
   "metadata": {
    "execution": {
     "iopub.execute_input": "2022-10-01T17:41:44.445838Z",
     "iopub.status.busy": "2022-10-01T17:41:44.445161Z",
     "iopub.status.idle": "2022-10-01T17:41:44.458406Z",
     "shell.execute_reply": "2022-10-01T17:41:44.456798Z"
    },
    "papermill": {
     "duration": 0.034465,
     "end_time": "2022-10-01T17:41:44.461887",
     "exception": false,
     "start_time": "2022-10-01T17:41:44.427422",
     "status": "completed"
    },
    "tags": []
   },
   "outputs": [
    {
     "name": "stdout",
     "output_type": "stream",
     "text": [
      "\n",
      "gender\n",
      "['male' 'female' 'other']\n",
      "No of Unique classes  3\n",
      "\n",
      "ever_married\n",
      "['yes' 'no']\n",
      "No of Unique classes  2\n",
      "\n",
      "work_type\n",
      "['private' 'self-employed' 'govt_job' 'children' 'never_worked']\n",
      "No of Unique classes  5\n",
      "\n",
      "Residence_type\n",
      "['urban' 'rural']\n",
      "No of Unique classes  2\n",
      "\n",
      "smoking_status\n",
      "['formerly_smoked' 'never_smoked' 'smokes' 'unknown']\n",
      "No of Unique classes  4\n"
     ]
    }
   ],
   "source": [
    "for col in categorical:\n",
    "    print('\\n'+col)\n",
    "    print(df[col].unique())\n",
    "    print(\"No of Unique classes \",df[col].nunique())"
   ]
  },
  {
   "cell_type": "code",
   "execution_count": 17,
   "id": "ec2d281e",
   "metadata": {
    "execution": {
     "iopub.execute_input": "2022-10-01T17:41:44.497879Z",
     "iopub.status.busy": "2022-10-01T17:41:44.497032Z",
     "iopub.status.idle": "2022-10-01T17:41:44.517201Z",
     "shell.execute_reply": "2022-10-01T17:41:44.515676Z"
    },
    "papermill": {
     "duration": 0.041201,
     "end_time": "2022-10-01T17:41:44.519730",
     "exception": false,
     "start_time": "2022-10-01T17:41:44.478529",
     "status": "completed"
    },
    "tags": []
   },
   "outputs": [
    {
     "data": {
      "text/html": [
       "<div>\n",
       "<style scoped>\n",
       "    .dataframe tbody tr th:only-of-type {\n",
       "        vertical-align: middle;\n",
       "    }\n",
       "\n",
       "    .dataframe tbody tr th {\n",
       "        vertical-align: top;\n",
       "    }\n",
       "\n",
       "    .dataframe thead th {\n",
       "        text-align: right;\n",
       "    }\n",
       "</style>\n",
       "<table border=\"1\" class=\"dataframe\">\n",
       "  <thead>\n",
       "    <tr style=\"text-align: right;\">\n",
       "      <th></th>\n",
       "      <th>gender</th>\n",
       "      <th>age</th>\n",
       "      <th>hypertension</th>\n",
       "      <th>heart_disease</th>\n",
       "      <th>ever_married</th>\n",
       "      <th>work_type</th>\n",
       "      <th>Residence_type</th>\n",
       "      <th>avg_glucose_level</th>\n",
       "      <th>bmi</th>\n",
       "      <th>smoking_status</th>\n",
       "      <th>stroke</th>\n",
       "    </tr>\n",
       "  </thead>\n",
       "  <tbody>\n",
       "    <tr>\n",
       "      <th>0</th>\n",
       "      <td>male</td>\n",
       "      <td>67.0</td>\n",
       "      <td>0</td>\n",
       "      <td>1</td>\n",
       "      <td>yes</td>\n",
       "      <td>private</td>\n",
       "      <td>urban</td>\n",
       "      <td>228.69</td>\n",
       "      <td>36.6</td>\n",
       "      <td>formerly_smoked</td>\n",
       "      <td>1</td>\n",
       "    </tr>\n",
       "    <tr>\n",
       "      <th>1</th>\n",
       "      <td>female</td>\n",
       "      <td>61.0</td>\n",
       "      <td>0</td>\n",
       "      <td>0</td>\n",
       "      <td>yes</td>\n",
       "      <td>self-employed</td>\n",
       "      <td>rural</td>\n",
       "      <td>202.21</td>\n",
       "      <td>28.7</td>\n",
       "      <td>never_smoked</td>\n",
       "      <td>1</td>\n",
       "    </tr>\n",
       "    <tr>\n",
       "      <th>2</th>\n",
       "      <td>male</td>\n",
       "      <td>80.0</td>\n",
       "      <td>0</td>\n",
       "      <td>1</td>\n",
       "      <td>yes</td>\n",
       "      <td>private</td>\n",
       "      <td>rural</td>\n",
       "      <td>105.92</td>\n",
       "      <td>32.5</td>\n",
       "      <td>never_smoked</td>\n",
       "      <td>1</td>\n",
       "    </tr>\n",
       "    <tr>\n",
       "      <th>3</th>\n",
       "      <td>female</td>\n",
       "      <td>49.0</td>\n",
       "      <td>0</td>\n",
       "      <td>0</td>\n",
       "      <td>yes</td>\n",
       "      <td>private</td>\n",
       "      <td>urban</td>\n",
       "      <td>171.23</td>\n",
       "      <td>34.4</td>\n",
       "      <td>smokes</td>\n",
       "      <td>1</td>\n",
       "    </tr>\n",
       "    <tr>\n",
       "      <th>4</th>\n",
       "      <td>female</td>\n",
       "      <td>79.0</td>\n",
       "      <td>1</td>\n",
       "      <td>0</td>\n",
       "      <td>yes</td>\n",
       "      <td>self-employed</td>\n",
       "      <td>rural</td>\n",
       "      <td>174.12</td>\n",
       "      <td>24.0</td>\n",
       "      <td>never_smoked</td>\n",
       "      <td>1</td>\n",
       "    </tr>\n",
       "  </tbody>\n",
       "</table>\n",
       "</div>"
      ],
      "text/plain": [
       "   gender   age  hypertension  heart_disease ever_married      work_type  \\\n",
       "0    male  67.0             0              1          yes        private   \n",
       "1  female  61.0             0              0          yes  self-employed   \n",
       "2    male  80.0             0              1          yes        private   \n",
       "3  female  49.0             0              0          yes        private   \n",
       "4  female  79.0             1              0          yes  self-employed   \n",
       "\n",
       "  Residence_type  avg_glucose_level   bmi   smoking_status  stroke  \n",
       "0          urban             228.69  36.6  formerly_smoked       1  \n",
       "1          rural             202.21  28.7     never_smoked       1  \n",
       "2          rural             105.92  32.5     never_smoked       1  \n",
       "3          urban             171.23  34.4           smokes       1  \n",
       "4          rural             174.12  24.0     never_smoked       1  "
      ]
     },
     "execution_count": 17,
     "metadata": {},
     "output_type": "execute_result"
    }
   ],
   "source": [
    "df = df[df.gender != 'Other']\n",
    "df.head()"
   ]
  },
  {
   "cell_type": "code",
   "execution_count": 18,
   "id": "09fad315",
   "metadata": {
    "execution": {
     "iopub.execute_input": "2022-10-01T17:41:44.555898Z",
     "iopub.status.busy": "2022-10-01T17:41:44.555441Z",
     "iopub.status.idle": "2022-10-01T17:41:44.562634Z",
     "shell.execute_reply": "2022-10-01T17:41:44.561357Z"
    },
    "papermill": {
     "duration": 0.027303,
     "end_time": "2022-10-01T17:41:44.564922",
     "exception": false,
     "start_time": "2022-10-01T17:41:44.537619",
     "status": "completed"
    },
    "tags": []
   },
   "outputs": [
    {
     "data": {
      "text/plain": [
       "(5110, 11)"
      ]
     },
     "execution_count": 18,
     "metadata": {},
     "output_type": "execute_result"
    }
   ],
   "source": [
    "df.shape"
   ]
  },
  {
   "cell_type": "code",
   "execution_count": 19,
   "id": "3971d092",
   "metadata": {
    "execution": {
     "iopub.execute_input": "2022-10-01T17:41:44.600448Z",
     "iopub.status.busy": "2022-10-01T17:41:44.599700Z",
     "iopub.status.idle": "2022-10-01T17:41:44.609421Z",
     "shell.execute_reply": "2022-10-01T17:41:44.608178Z"
    },
    "papermill": {
     "duration": 0.030294,
     "end_time": "2022-10-01T17:41:44.611913",
     "exception": false,
     "start_time": "2022-10-01T17:41:44.581619",
     "status": "completed"
    },
    "tags": []
   },
   "outputs": [
    {
     "data": {
      "text/plain": [
       "0.32    5\n",
       "0.56    5\n",
       "0.72    5\n",
       "0.88    5\n",
       "0.24    5\n",
       "1.00    5\n",
       "1.56    4\n",
       "1.16    4\n",
       "0.64    4\n",
       "0.80    4\n",
       "1.40    3\n",
       "0.48    3\n",
       "0.16    3\n",
       "0.40    2\n",
       "0.08    2\n",
       "Name: age, dtype: int64"
      ]
     },
     "execution_count": 19,
     "metadata": {},
     "output_type": "execute_result"
    }
   ],
   "source": [
    "df.age.value_counts().iloc[-15:]"
   ]
  },
  {
   "cell_type": "markdown",
   "id": "5de0643e",
   "metadata": {
    "papermill": {
     "duration": 0.016404,
     "end_time": "2022-10-01T17:41:44.645076",
     "exception": false,
     "start_time": "2022-10-01T17:41:44.628672",
     "status": "completed"
    },
    "tags": []
   },
   "source": [
    "Let's drop rows where age < 18"
   ]
  },
  {
   "cell_type": "code",
   "execution_count": 20,
   "id": "ec03401e",
   "metadata": {
    "execution": {
     "iopub.execute_input": "2022-10-01T17:41:44.681001Z",
     "iopub.status.busy": "2022-10-01T17:41:44.680132Z",
     "iopub.status.idle": "2022-10-01T17:41:44.686741Z",
     "shell.execute_reply": "2022-10-01T17:41:44.685623Z"
    },
    "papermill": {
     "duration": 0.027437,
     "end_time": "2022-10-01T17:41:44.689428",
     "exception": false,
     "start_time": "2022-10-01T17:41:44.661991",
     "status": "completed"
    },
    "tags": []
   },
   "outputs": [],
   "source": [
    "df = df[df.age > 18]"
   ]
  },
  {
   "cell_type": "code",
   "execution_count": 21,
   "id": "1ea7c723",
   "metadata": {
    "execution": {
     "iopub.execute_input": "2022-10-01T17:41:44.724596Z",
     "iopub.status.busy": "2022-10-01T17:41:44.724114Z",
     "iopub.status.idle": "2022-10-01T17:41:44.734067Z",
     "shell.execute_reply": "2022-10-01T17:41:44.732845Z"
    },
    "papermill": {
     "duration": 0.030685,
     "end_time": "2022-10-01T17:41:44.736833",
     "exception": false,
     "start_time": "2022-10-01T17:41:44.706148",
     "status": "completed"
    },
    "tags": []
   },
   "outputs": [
    {
     "data": {
      "text/plain": [
       "never_smoked       1727\n",
       "formerly_smoked     857\n",
       "unknown             835\n",
       "smokes              775\n",
       "Name: smoking_status, dtype: int64"
      ]
     },
     "execution_count": 21,
     "metadata": {},
     "output_type": "execute_result"
    }
   ],
   "source": [
    "df.smoking_status.value_counts()"
   ]
  },
  {
   "cell_type": "code",
   "execution_count": 22,
   "id": "b672df8f",
   "metadata": {
    "execution": {
     "iopub.execute_input": "2022-10-01T17:41:44.773037Z",
     "iopub.status.busy": "2022-10-01T17:41:44.772621Z",
     "iopub.status.idle": "2022-10-01T17:41:44.781810Z",
     "shell.execute_reply": "2022-10-01T17:41:44.780953Z"
    },
    "papermill": {
     "duration": 0.030059,
     "end_time": "2022-10-01T17:41:44.784132",
     "exception": false,
     "start_time": "2022-10-01T17:41:44.754073",
     "status": "completed"
    },
    "tags": []
   },
   "outputs": [
    {
     "data": {
      "text/plain": [
       "urban    2141\n",
       "rural    2053\n",
       "Name: Residence_type, dtype: int64"
      ]
     },
     "execution_count": 22,
     "metadata": {},
     "output_type": "execute_result"
    }
   ],
   "source": [
    "df.Residence_type.value_counts()"
   ]
  },
  {
   "cell_type": "markdown",
   "id": "f855d0da",
   "metadata": {
    "papermill": {
     "duration": 0.016784,
     "end_time": "2022-10-01T17:41:44.818334",
     "exception": false,
     "start_time": "2022-10-01T17:41:44.801550",
     "status": "completed"
    },
    "tags": []
   },
   "source": [
    "# Data Visualization"
   ]
  },
  {
   "cell_type": "code",
   "execution_count": 23,
   "id": "5b6bbe1d",
   "metadata": {
    "execution": {
     "iopub.execute_input": "2022-10-01T17:41:44.854046Z",
     "iopub.status.busy": "2022-10-01T17:41:44.853649Z",
     "iopub.status.idle": "2022-10-01T17:41:45.375943Z",
     "shell.execute_reply": "2022-10-01T17:41:45.374747Z"
    },
    "papermill": {
     "duration": 0.543421,
     "end_time": "2022-10-01T17:41:45.378733",
     "exception": false,
     "start_time": "2022-10-01T17:41:44.835312",
     "status": "completed"
    },
    "tags": []
   },
   "outputs": [
    {
     "data": {
      "image/png": "[encoded data removed]",
      "text/plain": [
       "<Figure size 1800x1080 with 2 Axes>"
      ]
     },
     "metadata": {},
     "output_type": "display_data"
    }
   ],
   "source": [
    "corr = df.corr()\n",
    "plt.figure(figsize=(25, 15))\n",
    "sns.heatmap(corr, annot=True)\n",
    "plt.title('Correlation Matrix', fontsize=24)\n",
    "plt.show()"
   ]
  },
  {
   "cell_type": "code",
   "execution_count": 24,
   "id": "8b519b42",
   "metadata": {
    "execution": {
     "iopub.execute_input": "2022-10-01T17:41:45.419644Z",
     "iopub.status.busy": "2022-10-01T17:41:45.419230Z",
     "iopub.status.idle": "2022-10-01T17:41:45.705556Z",
     "shell.execute_reply": "2022-10-01T17:41:45.704422Z"
    },
    "papermill": {
     "duration": 0.310692,
     "end_time": "2022-10-01T17:41:45.708580",
     "exception": false,
     "start_time": "2022-10-01T17:41:45.397888",
     "status": "completed"
    },
    "tags": []
   },
   "outputs": [
    {
     "data": {
      "image/png": "[encoded data removed]",
      "text/plain": [
       "<Figure size 864x288 with 2 Axes>"
      ]
     },
     "metadata": {},
     "output_type": "display_data"
    }
   ],
   "source": [
    "fig, ax = plt.subplots(1,2, figsize=(12,4))\n",
    "\n",
    "sns.countplot(ax=ax[0], data=df[df.hypertension == 1], x='stroke').set(title = 'Hypertension')\n",
    "sns.countplot(ax=ax[1], data=df[df.hypertension == 0], x='stroke').set(title = 'No Hypertension')\n",
    "\n",
    "plt.show()"
   ]
  },
  {
   "cell_type": "code",
   "execution_count": 25,
   "id": "66416455",
   "metadata": {
    "execution": {
     "iopub.execute_input": "2022-10-01T17:41:45.746896Z",
     "iopub.status.busy": "2022-10-01T17:41:45.746458Z",
     "iopub.status.idle": "2022-10-01T17:41:46.400575Z",
     "shell.execute_reply": "2022-10-01T17:41:46.399418Z"
    },
    "papermill": {
     "duration": 0.67691,
     "end_time": "2022-10-01T17:41:46.403965",
     "exception": false,
     "start_time": "2022-10-01T17:41:45.727055",
     "status": "completed"
    },
    "tags": []
   },
   "outputs": [
    {
     "data": {
      "image/png": "[encoded data removed]",
      "text/plain": [
       "<Figure size 864x1152 with 6 Axes>"
      ]
     },
     "metadata": {},
     "output_type": "display_data"
    }
   ],
   "source": [
    "fig, ax = plt.subplots(3,2, figsize=(12,16))\n",
    "\n",
    "sns.countplot(ax=ax[0,0], data=df[df.heart_disease == 1], x='stroke').set(title = 'Heart disease')\n",
    "sns.countplot(ax=ax[0,1], data=df[df.heart_disease == 0], x='stroke').set(title = 'No Heart Disease')\n",
    "\n",
    "sns.countplot(ax=ax[1,0], data=df[df.hypertension == 1], x='stroke').set(title = 'Hypertension')\n",
    "sns.countplot(ax=ax[1,1], data=df[df.hypertension == 0], x='stroke').set(title = 'No Hypertension')\n",
    "\n",
    "sns.countplot(ax=ax[2,0], data=df[(df.heart_disease == 1) & (df.hypertension == 1)], x='stroke').set(title = 'Heart disease & Hypertension')\n",
    "sns.countplot(ax=ax[2,1], data=df[df.heart_disease == 0 & (df.hypertension == 0)], x='stroke').set(title = 'No heart disease & No Hypertension')\n",
    "\n",
    "plt.show()"
   ]
  },
  {
   "cell_type": "markdown",
   "id": "45d541d0",
   "metadata": {
    "papermill": {
     "duration": 0.018778,
     "end_time": "2022-10-01T17:41:46.442084",
     "exception": false,
     "start_time": "2022-10-01T17:41:46.423306",
     "status": "completed"
    },
    "tags": []
   },
   "source": [
    "VISUALING RESIDENCE"
   ]
  },
  {
   "cell_type": "code",
   "execution_count": 26,
   "id": "c0f0e23e",
   "metadata": {
    "execution": {
     "iopub.execute_input": "2022-10-01T17:41:46.484614Z",
     "iopub.status.busy": "2022-10-01T17:41:46.483607Z",
     "iopub.status.idle": "2022-10-01T17:41:46.775069Z",
     "shell.execute_reply": "2022-10-01T17:41:46.773783Z"
    },
    "papermill": {
     "duration": 0.314759,
     "end_time": "2022-10-01T17:41:46.777545",
     "exception": false,
     "start_time": "2022-10-01T17:41:46.462786",
     "status": "completed"
    },
    "tags": []
   },
   "outputs": [
    {
     "data": {
      "image/png": "[encoded data removed]",
      "text/plain": [
       "<Figure size 864x288 with 2 Axes>"
      ]
     },
     "metadata": {},
     "output_type": "display_data"
    }
   ],
   "source": [
    "fig, ax = plt.subplots(1,2, figsize=(12,4))\n",
    "\n",
    "sns.countplot(ax=ax[0], data=df[df.Residence_type == 'urban'], x='stroke').set(title = 'Urban Residence')\n",
    "sns.countplot(ax=ax[1], data=df[df.Residence_type == 'rural'], x='stroke').set(title = 'Rural Residence')\n",
    "\n",
    "plt.show()"
   ]
  },
  {
   "cell_type": "code",
   "execution_count": 27,
   "id": "befdf1a0",
   "metadata": {
    "execution": {
     "iopub.execute_input": "2022-10-01T17:41:46.817878Z",
     "iopub.status.busy": "2022-10-01T17:41:46.817452Z",
     "iopub.status.idle": "2022-10-01T17:41:47.582128Z",
     "shell.execute_reply": "2022-10-01T17:41:47.580919Z"
    },
    "papermill": {
     "duration": 0.787766,
     "end_time": "2022-10-01T17:41:47.584597",
     "exception": false,
     "start_time": "2022-10-01T17:41:46.796831",
     "status": "completed"
    },
    "tags": []
   },
   "outputs": [
    {
     "data": {
      "image/png": "[encoded data removed]",
      "text/plain": [
       "<Figure size 432x288 with 1 Axes>"
      ]
     },
     "metadata": {},
     "output_type": "display_data"
    }
   ],
   "source": [
    "sns.histplot(data=df, x='bmi', hue='gender', multiple='stack')\n",
    "plt.show()"
   ]
  },
  {
   "cell_type": "code",
   "execution_count": 28,
   "id": "031210e4",
   "metadata": {
    "execution": {
     "iopub.execute_input": "2022-10-01T17:41:47.628535Z",
     "iopub.status.busy": "2022-10-01T17:41:47.628127Z",
     "iopub.status.idle": "2022-10-01T17:41:47.903720Z",
     "shell.execute_reply": "2022-10-01T17:41:47.902526Z"
    },
    "papermill": {
     "duration": 0.299164,
     "end_time": "2022-10-01T17:41:47.906041",
     "exception": false,
     "start_time": "2022-10-01T17:41:47.606877",
     "status": "completed"
    },
    "tags": []
   },
   "outputs": [
    {
     "data": {
      "image/png": "[encoded data removed]",
      "text/plain": [
       "<Figure size 864x288 with 2 Axes>"
      ]
     },
     "metadata": {},
     "output_type": "display_data"
    }
   ],
   "source": [
    "fig, ax = plt.subplots(1,2, figsize=(12,4))\n",
    "\n",
    "sns.countplot(ax=ax[0], data=df[df.gender == 'male'], x='stroke').set(title = 'Male')\n",
    "sns.countplot(ax=ax[1], data=df[df.gender == 'female'], x='stroke').set(title = 'Female')\n",
    "\n",
    "plt.show()"
   ]
  },
  {
   "cell_type": "code",
   "execution_count": 29,
   "id": "af391d17",
   "metadata": {
    "execution": {
     "iopub.execute_input": "2022-10-01T17:41:47.947526Z",
     "iopub.status.busy": "2022-10-01T17:41:47.947065Z",
     "iopub.status.idle": "2022-10-01T17:41:47.959739Z",
     "shell.execute_reply": "2022-10-01T17:41:47.958300Z"
    },
    "papermill": {
     "duration": 0.036659,
     "end_time": "2022-10-01T17:41:47.962570",
     "exception": false,
     "start_time": "2022-10-01T17:41:47.925911",
     "status": "completed"
    },
    "tags": []
   },
   "outputs": [
    {
     "name": "stdout",
     "output_type": "stream",
     "text": [
      "0    1542\n",
      "1     108\n",
      "Name: stroke, dtype: int64\n",
      "0    2404\n",
      "1     139\n",
      "Name: stroke, dtype: int64\n"
     ]
    }
   ],
   "source": [
    "print(df[df.gender == 'male'].stroke.value_counts())\n",
    "print(df[df.gender == 'female'].stroke.value_counts())"
   ]
  },
  {
   "cell_type": "code",
   "execution_count": 30,
   "id": "90a38ab1",
   "metadata": {
    "execution": {
     "iopub.execute_input": "2022-10-01T17:41:48.005379Z",
     "iopub.status.busy": "2022-10-01T17:41:48.004141Z",
     "iopub.status.idle": "2022-10-01T17:41:48.424058Z",
     "shell.execute_reply": "2022-10-01T17:41:48.423240Z"
    },
    "papermill": {
     "duration": 0.443437,
     "end_time": "2022-10-01T17:41:48.426363",
     "exception": false,
     "start_time": "2022-10-01T17:41:47.982926",
     "status": "completed"
    },
    "tags": []
   },
   "outputs": [
    {
     "data": {
      "image/png": "[encoded data removed]",
      "text/plain": [
       "<Figure size 864x288 with 2 Axes>"
      ]
     },
     "metadata": {},
     "output_type": "display_data"
    }
   ],
   "source": [
    "fig, ax = plt.subplots(1,2, figsize=(12,4))\n",
    "\n",
    "sns.countplot(ax=ax[0], data=df[df.ever_married == 'yes'], x='stroke')\n",
    "sns.countplot(ax=ax[1], data=df[df.ever_married == 'no'], x='stroke')\n",
    "\n",
    "plt.show()"
   ]
  },
  {
   "cell_type": "code",
   "execution_count": 31,
   "id": "cd8a8788",
   "metadata": {
    "execution": {
     "iopub.execute_input": "2022-10-01T17:41:48.470209Z",
     "iopub.status.busy": "2022-10-01T17:41:48.469341Z",
     "iopub.status.idle": "2022-10-01T17:41:48.941584Z",
     "shell.execute_reply": "2022-10-01T17:41:48.940637Z"
    },
    "papermill": {
     "duration": 0.497062,
     "end_time": "2022-10-01T17:41:48.944047",
     "exception": false,
     "start_time": "2022-10-01T17:41:48.446985",
     "status": "completed"
    },
    "tags": []
   },
   "outputs": [
    {
     "data": {
      "image/png": "[encoded data removed]",
      "text/plain": [
       "<Figure size 864x720 with 4 Axes>"
      ]
     },
     "metadata": {},
     "output_type": "display_data"
    }
   ],
   "source": [
    "fig, ax = plt.subplots(2,2, figsize=(12,10))\n",
    "\n",
    "sns.countplot(ax=ax[0,0], data=df[(df.ever_married == 'yes') & (df.gender == 'male')],\n",
    "              x='stroke').set(title='Married Males')\n",
    "sns.countplot(ax=ax[0,1], data=df[(df.ever_married == 'yes') & (df.gender == 'female')],\n",
    "              x='stroke').set(title='Married Females')\n",
    "sns.countplot(ax=ax[1,0], data=df[(df.ever_married == 'no') & (df.gender == 'male')],\n",
    "              x='stroke').set(title='Unmarried Males')\n",
    "sns.countplot(ax=ax[1,1], data=df[(df.ever_married == 'no') & (df.gender == 'female')],\n",
    "              x='stroke').set(title='Unmarried Females')\n",
    "plt.show()"
   ]
  },
  {
   "cell_type": "code",
   "execution_count": 32,
   "id": "94cd98e2",
   "metadata": {
    "execution": {
     "iopub.execute_input": "2022-10-01T17:41:48.988197Z",
     "iopub.status.busy": "2022-10-01T17:41:48.987582Z",
     "iopub.status.idle": "2022-10-01T17:41:49.420237Z",
     "shell.execute_reply": "2022-10-01T17:41:49.419086Z"
    },
    "papermill": {
     "duration": 0.457756,
     "end_time": "2022-10-01T17:41:49.422804",
     "exception": false,
     "start_time": "2022-10-01T17:41:48.965048",
     "status": "completed"
    },
    "tags": []
   },
   "outputs": [
    {
     "data": {
      "image/png": "[encoded data removed]",
      "text/plain": [
       "<Figure size 432x288 with 1 Axes>"
      ]
     },
     "metadata": {},
     "output_type": "display_data"
    }
   ],
   "source": [
    "sns.histplot(data=df, x='avg_glucose_level', hue='stroke', multiple='stack')\n",
    "\n",
    "plt.show()"
   ]
  },
  {
   "cell_type": "markdown",
   "id": "61bc6f3e",
   "metadata": {
    "papermill": {
     "duration": 0.020772,
     "end_time": "2022-10-01T17:41:49.464874",
     "exception": false,
     "start_time": "2022-10-01T17:41:49.444102",
     "status": "completed"
    },
    "tags": []
   },
   "source": [
    "People having stroke tends to have a **higher** average blood glucose level"
   ]
  },
  {
   "cell_type": "markdown",
   "id": "74a59711",
   "metadata": {
    "papermill": {
     "duration": 0.02105,
     "end_time": "2022-10-01T17:41:49.507696",
     "exception": false,
     "start_time": "2022-10-01T17:41:49.486646",
     "status": "completed"
    },
    "tags": []
   },
   "source": [
    "# Data Preprocessing for ML model"
   ]
  },
  {
   "cell_type": "markdown",
   "id": "c145c9d8",
   "metadata": {
    "papermill": {
     "duration": 0.021278,
     "end_time": "2022-10-01T17:41:49.550197",
     "exception": false,
     "start_time": "2022-10-01T17:41:49.528919",
     "status": "completed"
    },
    "tags": []
   },
   "source": [
    "### One Hot Encoding"
   ]
  },
  {
   "cell_type": "code",
   "execution_count": 33,
   "id": "bb4acb42",
   "metadata": {
    "execution": {
     "iopub.execute_input": "2022-10-01T17:41:49.595132Z",
     "iopub.status.busy": "2022-10-01T17:41:49.594401Z",
     "iopub.status.idle": "2022-10-01T17:41:49.625371Z",
     "shell.execute_reply": "2022-10-01T17:41:49.624326Z"
    },
    "papermill": {
     "duration": 0.056322,
     "end_time": "2022-10-01T17:41:49.627747",
     "exception": false,
     "start_time": "2022-10-01T17:41:49.571425",
     "status": "completed"
    },
    "tags": []
   },
   "outputs": [
    {
     "data": {
      "text/html": [
       "<div>\n",
       "<style scoped>\n",
       "    .dataframe tbody tr th:only-of-type {\n",
       "        vertical-align: middle;\n",
       "    }\n",
       "\n",
       "    .dataframe tbody tr th {\n",
       "        vertical-align: top;\n",
       "    }\n",
       "\n",
       "    .dataframe thead th {\n",
       "        text-align: right;\n",
       "    }\n",
       "</style>\n",
       "<table border=\"1\" class=\"dataframe\">\n",
       "  <thead>\n",
       "    <tr style=\"text-align: right;\">\n",
       "      <th></th>\n",
       "      <th>age</th>\n",
       "      <th>hypertension</th>\n",
       "      <th>heart_disease</th>\n",
       "      <th>avg_glucose_level</th>\n",
       "      <th>bmi</th>\n",
       "      <th>stroke</th>\n",
       "      <th>gender_female</th>\n",
       "      <th>gender_male</th>\n",
       "      <th>gender_other</th>\n",
       "      <th>ever_married_no</th>\n",
       "      <th>...</th>\n",
       "      <th>work_type_govt_job</th>\n",
       "      <th>work_type_never_worked</th>\n",
       "      <th>work_type_private</th>\n",
       "      <th>work_type_self-employed</th>\n",
       "      <th>Residence_type_rural</th>\n",
       "      <th>Residence_type_urban</th>\n",
       "      <th>smoking_status_formerly_smoked</th>\n",
       "      <th>smoking_status_never_smoked</th>\n",
       "      <th>smoking_status_smokes</th>\n",
       "      <th>smoking_status_unknown</th>\n",
       "    </tr>\n",
       "  </thead>\n",
       "  <tbody>\n",
       "    <tr>\n",
       "      <th>0</th>\n",
       "      <td>67.0</td>\n",
       "      <td>0</td>\n",
       "      <td>1</td>\n",
       "      <td>228.69</td>\n",
       "      <td>36.6</td>\n",
       "      <td>1</td>\n",
       "      <td>0</td>\n",
       "      <td>1</td>\n",
       "      <td>0</td>\n",
       "      <td>0</td>\n",
       "      <td>...</td>\n",
       "      <td>0</td>\n",
       "      <td>0</td>\n",
       "      <td>1</td>\n",
       "      <td>0</td>\n",
       "      <td>0</td>\n",
       "      <td>1</td>\n",
       "      <td>1</td>\n",
       "      <td>0</td>\n",
       "      <td>0</td>\n",
       "      <td>0</td>\n",
       "    </tr>\n",
       "    <tr>\n",
       "      <th>1</th>\n",
       "      <td>61.0</td>\n",
       "      <td>0</td>\n",
       "      <td>0</td>\n",
       "      <td>202.21</td>\n",
       "      <td>28.7</td>\n",
       "      <td>1</td>\n",
       "      <td>1</td>\n",
       "      <td>0</td>\n",
       "      <td>0</td>\n",
       "      <td>0</td>\n",
       "      <td>...</td>\n",
       "      <td>0</td>\n",
       "      <td>0</td>\n",
       "      <td>0</td>\n",
       "      <td>1</td>\n",
       "      <td>1</td>\n",
       "      <td>0</td>\n",
       "      <td>0</td>\n",
       "      <td>1</td>\n",
       "      <td>0</td>\n",
       "      <td>0</td>\n",
       "    </tr>\n",
       "    <tr>\n",
       "      <th>2</th>\n",
       "      <td>80.0</td>\n",
       "      <td>0</td>\n",
       "      <td>1</td>\n",
       "      <td>105.92</td>\n",
       "      <td>32.5</td>\n",
       "      <td>1</td>\n",
       "      <td>0</td>\n",
       "      <td>1</td>\n",
       "      <td>0</td>\n",
       "      <td>0</td>\n",
       "      <td>...</td>\n",
       "      <td>0</td>\n",
       "      <td>0</td>\n",
       "      <td>1</td>\n",
       "      <td>0</td>\n",
       "      <td>1</td>\n",
       "      <td>0</td>\n",
       "      <td>0</td>\n",
       "      <td>1</td>\n",
       "      <td>0</td>\n",
       "      <td>0</td>\n",
       "    </tr>\n",
       "    <tr>\n",
       "      <th>3</th>\n",
       "      <td>49.0</td>\n",
       "      <td>0</td>\n",
       "      <td>0</td>\n",
       "      <td>171.23</td>\n",
       "      <td>34.4</td>\n",
       "      <td>1</td>\n",
       "      <td>1</td>\n",
       "      <td>0</td>\n",
       "      <td>0</td>\n",
       "      <td>0</td>\n",
       "      <td>...</td>\n",
       "      <td>0</td>\n",
       "      <td>0</td>\n",
       "      <td>1</td>\n",
       "      <td>0</td>\n",
       "      <td>0</td>\n",
       "      <td>1</td>\n",
       "      <td>0</td>\n",
       "      <td>0</td>\n",
       "      <td>1</td>\n",
       "      <td>0</td>\n",
       "    </tr>\n",
       "    <tr>\n",
       "      <th>4</th>\n",
       "      <td>79.0</td>\n",
       "      <td>1</td>\n",
       "      <td>0</td>\n",
       "      <td>174.12</td>\n",
       "      <td>24.0</td>\n",
       "      <td>1</td>\n",
       "      <td>1</td>\n",
       "      <td>0</td>\n",
       "      <td>0</td>\n",
       "      <td>0</td>\n",
       "      <td>...</td>\n",
       "      <td>0</td>\n",
       "      <td>0</td>\n",
       "      <td>0</td>\n",
       "      <td>1</td>\n",
       "      <td>1</td>\n",
       "      <td>0</td>\n",
       "      <td>0</td>\n",
       "      <td>1</td>\n",
       "      <td>0</td>\n",
       "      <td>0</td>\n",
       "    </tr>\n",
       "  </tbody>\n",
       "</table>\n",
       "<p>5 rows × 21 columns</p>\n",
       "</div>"
      ],
      "text/plain": [
       "    age  hypertension  heart_disease  avg_glucose_level   bmi  stroke  \\\n",
       "0  67.0             0              1             228.69  36.6       1   \n",
       "1  61.0             0              0             202.21  28.7       1   \n",
       "2  80.0             0              1             105.92  32.5       1   \n",
       "3  49.0             0              0             171.23  34.4       1   \n",
       "4  79.0             1              0             174.12  24.0       1   \n",
       "\n",
       "   gender_female  gender_male  gender_other  ever_married_no  ...  \\\n",
       "0              0            1             0                0  ...   \n",
       "1              1            0             0                0  ...   \n",
       "2              0            1             0                0  ...   \n",
       "3              1            0             0                0  ...   \n",
       "4              1            0             0                0  ...   \n",
       "\n",
       "   work_type_govt_job  work_type_never_worked  work_type_private  \\\n",
       "0                   0                       0                  1   \n",
       "1                   0                       0                  0   \n",
       "2                   0                       0                  1   \n",
       "3                   0                       0                  1   \n",
       "4                   0                       0                  0   \n",
       "\n",
       "   work_type_self-employed  Residence_type_rural  Residence_type_urban  \\\n",
       "0                        0                     0                     1   \n",
       "1                        1                     1                     0   \n",
       "2                        0                     1                     0   \n",
       "3                        0                     0                     1   \n",
       "4                        1                     1                     0   \n",
       "\n",
       "   smoking_status_formerly_smoked  smoking_status_never_smoked  \\\n",
       "0                               1                            0   \n",
       "1                               0                            1   \n",
       "2                               0                            1   \n",
       "3                               0                            0   \n",
       "4                               0                            1   \n",
       "\n",
       "   smoking_status_smokes  smoking_status_unknown  \n",
       "0                      0                       0  \n",
       "1                      0                       0  \n",
       "2                      0                       0  \n",
       "3                      1                       0  \n",
       "4                      0                       0  \n",
       "\n",
       "[5 rows x 21 columns]"
      ]
     },
     "execution_count": 33,
     "metadata": {},
     "output_type": "execute_result"
    }
   ],
   "source": [
    "df = pd.get_dummies(\n",
    "    df, columns=['gender','ever_married','work_type','Residence_type','smoking_status'])\n",
    "\n",
    "df.head()"
   ]
  },
  {
   "cell_type": "markdown",
   "id": "32a33399",
   "metadata": {
    "papermill": {
     "duration": 0.021383,
     "end_time": "2022-10-01T17:41:49.672079",
     "exception": false,
     "start_time": "2022-10-01T17:41:49.650696",
     "status": "completed"
    },
    "tags": []
   },
   "source": [
    "Correlation after one hot encoding"
   ]
  },
  {
   "cell_type": "code",
   "execution_count": 34,
   "id": "69a8bfeb",
   "metadata": {
    "execution": {
     "iopub.execute_input": "2022-10-01T17:41:49.717845Z",
     "iopub.status.busy": "2022-10-01T17:41:49.717389Z",
     "iopub.status.idle": "2022-10-01T17:41:51.961741Z",
     "shell.execute_reply": "2022-10-01T17:41:51.960373Z"
    },
    "papermill": {
     "duration": 2.271636,
     "end_time": "2022-10-01T17:41:51.966198",
     "exception": false,
     "start_time": "2022-10-01T17:41:49.694562",
     "status": "completed"
    },
    "tags": []
   },
   "outputs": [
    {
     "data": {
      "image/png": "[encoded data removed]",
      "text/plain": [
       "<Figure size 1080x1080 with 2 Axes>"
      ]
     },
     "metadata": {},
     "output_type": "display_data"
    }
   ],
   "source": [
    "plt.figure(figsize=(15, 15))\n",
    "sns.heatmap(df.corr(), annot=True);\n",
    "plt.title('Correlation Matrix', fontsize=20);\n",
    "plt.show()"
   ]
  },
  {
   "cell_type": "code",
   "execution_count": 35,
   "id": "f4dc4702",
   "metadata": {
    "execution": {
     "iopub.execute_input": "2022-10-01T17:41:52.020925Z",
     "iopub.status.busy": "2022-10-01T17:41:52.020420Z",
     "iopub.status.idle": "2022-10-01T17:41:52.037499Z",
     "shell.execute_reply": "2022-10-01T17:41:52.036245Z"
    },
    "papermill": {
     "duration": 0.047288,
     "end_time": "2022-10-01T17:41:52.040023",
     "exception": false,
     "start_time": "2022-10-01T17:41:51.992735",
     "status": "completed"
    },
    "tags": []
   },
   "outputs": [
    {
     "data": {
      "text/plain": [
       "age                               0.250469\n",
       "avg_glucose_level                 0.127510\n",
       "heart_disease                     0.126038\n",
       "hypertension                      0.115097\n",
       "ever_married_yes                  0.057112\n",
       "smoking_status_formerly_smoked    0.049050\n",
       "work_type_self-employed           0.045410\n",
       "gender_male                       0.022444\n",
       "Residence_type_urban              0.016023\n",
       "gender_other                     -0.003863\n",
       "work_type_never_worked           -0.005464\n",
       "bmi                              -0.008029\n",
       "smoking_status_smokes            -0.009505\n",
       "smoking_status_unknown           -0.010592\n",
       "work_type_govt_job               -0.014468\n",
       "Residence_type_rural             -0.016023\n",
       "gender_female                    -0.022319\n",
       "smoking_status_never_smoked      -0.024096\n",
       "work_type_private                -0.026321\n",
       "ever_married_no                  -0.057112\n",
       "Name: stroke, dtype: float64"
      ]
     },
     "execution_count": 35,
     "metadata": {},
     "output_type": "execute_result"
    }
   ],
   "source": [
    "df.corr()['stroke'].sort_values(ascending=False)[1:] # importance of all features"
   ]
  },
  {
   "cell_type": "code",
   "execution_count": 36,
   "id": "b409afb3",
   "metadata": {
    "execution": {
     "iopub.execute_input": "2022-10-01T17:41:52.095392Z",
     "iopub.status.busy": "2022-10-01T17:41:52.094532Z",
     "iopub.status.idle": "2022-10-01T17:41:52.102050Z",
     "shell.execute_reply": "2022-10-01T17:41:52.101084Z"
    },
    "papermill": {
     "duration": 0.037096,
     "end_time": "2022-10-01T17:41:52.104303",
     "exception": false,
     "start_time": "2022-10-01T17:41:52.067207",
     "status": "completed"
    },
    "tags": []
   },
   "outputs": [
    {
     "data": {
      "text/plain": [
       "Index(['age', 'hypertension', 'heart_disease', 'avg_glucose_level', 'bmi',\n",
       "       'stroke', 'gender_female', 'gender_male', 'gender_other',\n",
       "       'ever_married_no', 'ever_married_yes', 'work_type_govt_job',\n",
       "       'work_type_never_worked', 'work_type_private',\n",
       "       'work_type_self-employed', 'Residence_type_rural',\n",
       "       'Residence_type_urban', 'smoking_status_formerly_smoked',\n",
       "       'smoking_status_never_smoked', 'smoking_status_smokes',\n",
       "       'smoking_status_unknown'],\n",
       "      dtype='object')"
      ]
     },
     "execution_count": 36,
     "metadata": {},
     "output_type": "execute_result"
    }
   ],
   "source": [
    "df.columns"
   ]
  },
  {
   "cell_type": "code",
   "execution_count": 37,
   "id": "37344477",
   "metadata": {
    "execution": {
     "iopub.execute_input": "2022-10-01T17:41:52.158727Z",
     "iopub.status.busy": "2022-10-01T17:41:52.158051Z",
     "iopub.status.idle": "2022-10-01T17:41:52.166546Z",
     "shell.execute_reply": "2022-10-01T17:41:52.165607Z"
    },
    "papermill": {
     "duration": 0.038866,
     "end_time": "2022-10-01T17:41:52.168997",
     "exception": false,
     "start_time": "2022-10-01T17:41:52.130131",
     "status": "completed"
    },
    "tags": []
   },
   "outputs": [],
   "source": [
    "features = df[['age', 'hypertension', 'heart_disease', 'avg_glucose_level', 'bmi',\n",
    "       'gender_female', 'gender_male',\n",
    "       'ever_married_no', 'ever_married_yes', 'work_type_govt_job',\n",
    "       'work_type_never_worked', 'work_type_private',\n",
    "       'work_type_self-employed', 'Residence_type_rural',\n",
    "       'Residence_type_urban', 'smoking_status_formerly_smoked',\n",
    "       'smoking_status_never_smoked', 'smoking_status_smokes']]\n",
    "\n",
    "y = df[['stroke']]"
   ]
  },
  {
   "cell_type": "markdown",
   "id": "8489be95",
   "metadata": {
    "papermill": {
     "duration": 0.025694,
     "end_time": "2022-10-01T17:41:52.221073",
     "exception": false,
     "start_time": "2022-10-01T17:41:52.195379",
     "status": "completed"
    },
    "tags": []
   },
   "source": [
    "Scaling Features"
   ]
  },
  {
   "cell_type": "code",
   "execution_count": 38,
   "id": "a2237869",
   "metadata": {
    "execution": {
     "iopub.execute_input": "2022-10-01T17:41:52.275365Z",
     "iopub.status.busy": "2022-10-01T17:41:52.274731Z",
     "iopub.status.idle": "2022-10-01T17:41:52.501720Z",
     "shell.execute_reply": "2022-10-01T17:41:52.500710Z"
    },
    "papermill": {
     "duration": 0.257047,
     "end_time": "2022-10-01T17:41:52.504243",
     "exception": false,
     "start_time": "2022-10-01T17:41:52.247196",
     "status": "completed"
    },
    "tags": []
   },
   "outputs": [],
   "source": [
    "from sklearn.model_selection import train_test_split\n",
    "from sklearn.preprocessing import MinMaxScaler\n",
    "\n",
    "X_train, X_test, y_train, y_test = train_test_split(features,y,test_size = 0.2,random_state =2)\n",
    "\n",
    "scaler = MinMaxScaler()\n",
    "X_train_scaled = scaler.fit_transform(X_train)\n",
    "X_test_scaled = scaler.transform(X_test)"
   ]
  },
  {
   "cell_type": "code",
   "execution_count": 39,
   "id": "4a08ae71",
   "metadata": {
    "execution": {
     "iopub.execute_input": "2022-10-01T17:41:52.559899Z",
     "iopub.status.busy": "2022-10-01T17:41:52.558768Z",
     "iopub.status.idle": "2022-10-01T17:41:52.566314Z",
     "shell.execute_reply": "2022-10-01T17:41:52.565215Z"
    },
    "papermill": {
     "duration": 0.037853,
     "end_time": "2022-10-01T17:41:52.568516",
     "exception": false,
     "start_time": "2022-10-01T17:41:52.530663",
     "status": "completed"
    },
    "tags": []
   },
   "outputs": [
    {
     "data": {
      "text/plain": [
       "(3355, 18)"
      ]
     },
     "execution_count": 39,
     "metadata": {},
     "output_type": "execute_result"
    }
   ],
   "source": [
    "X_train.shape"
   ]
  },
  {
   "cell_type": "code",
   "execution_count": 40,
   "id": "73e60997",
   "metadata": {
    "execution": {
     "iopub.execute_input": "2022-10-01T17:41:52.623499Z",
     "iopub.status.busy": "2022-10-01T17:41:52.622824Z",
     "iopub.status.idle": "2022-10-01T17:41:52.629900Z",
     "shell.execute_reply": "2022-10-01T17:41:52.628546Z"
    },
    "papermill": {
     "duration": 0.038255,
     "end_time": "2022-10-01T17:41:52.632924",
     "exception": false,
     "start_time": "2022-10-01T17:41:52.594669",
     "status": "completed"
    },
    "tags": []
   },
   "outputs": [
    {
     "data": {
      "text/plain": [
       "(839, 18)"
      ]
     },
     "execution_count": 40,
     "metadata": {},
     "output_type": "execute_result"
    }
   ],
   "source": [
    "X_test.shape"
   ]
  },
  {
   "cell_type": "code",
   "execution_count": 41,
   "id": "68b01c38",
   "metadata": {
    "execution": {
     "iopub.execute_input": "2022-10-01T17:41:52.691532Z",
     "iopub.status.busy": "2022-10-01T17:41:52.690482Z",
     "iopub.status.idle": "2022-10-01T17:41:52.696574Z",
     "shell.execute_reply": "2022-10-01T17:41:52.695720Z"
    },
    "papermill": {
     "duration": 0.035971,
     "end_time": "2022-10-01T17:41:52.698717",
     "exception": false,
     "start_time": "2022-10-01T17:41:52.662746",
     "status": "completed"
    },
    "tags": []
   },
   "outputs": [
    {
     "data": {
      "text/plain": [
       "(839, 1)"
      ]
     },
     "execution_count": 41,
     "metadata": {},
     "output_type": "execute_result"
    }
   ],
   "source": [
    "y_test.shape"
   ]
  },
  {
   "cell_type": "markdown",
   "id": "bda39fcf",
   "metadata": {
    "papermill": {
     "duration": 0.027442,
     "end_time": "2022-10-01T17:41:52.752917",
     "exception": false,
     "start_time": "2022-10-01T17:41:52.725475",
     "status": "completed"
    },
    "tags": []
   },
   "source": [
    "# **Training & Testing K Nearest Neighbour Classifier**"
   ]
  },
  {
   "cell_type": "code",
   "execution_count": 42,
   "id": "08bd4f63",
   "metadata": {
    "execution": {
     "iopub.execute_input": "2022-10-01T17:41:52.809499Z",
     "iopub.status.busy": "2022-10-01T17:41:52.808598Z",
     "iopub.status.idle": "2022-10-01T17:41:53.104696Z",
     "shell.execute_reply": "2022-10-01T17:41:53.103553Z"
    },
    "papermill": {
     "duration": 0.327571,
     "end_time": "2022-10-01T17:41:53.107299",
     "exception": false,
     "start_time": "2022-10-01T17:41:52.779728",
     "status": "completed"
    },
    "tags": []
   },
   "outputs": [
    {
     "data": {
      "text/plain": [
       "KNeighborsClassifier()"
      ]
     },
     "execution_count": 42,
     "metadata": {},
     "output_type": "execute_result"
    }
   ],
   "source": [
    "from sklearn.neighbors import KNeighborsClassifier\n",
    "\n",
    "knn = KNeighborsClassifier()\n",
    "  \n",
    "knn.fit(X_train_scaled, y_train.values.ravel())"
   ]
  },
  {
   "cell_type": "code",
   "execution_count": 43,
   "id": "3eca5260",
   "metadata": {
    "execution": {
     "iopub.execute_input": "2022-10-01T17:41:53.164142Z",
     "iopub.status.busy": "2022-10-01T17:41:53.162930Z",
     "iopub.status.idle": "2022-10-01T17:41:53.971216Z",
     "shell.execute_reply": "2022-10-01T17:41:53.958820Z"
    },
    "papermill": {
     "duration": 0.840239,
     "end_time": "2022-10-01T17:41:53.974892",
     "exception": false,
     "start_time": "2022-10-01T17:41:53.134653",
     "status": "completed"
    },
    "tags": []
   },
   "outputs": [],
   "source": [
    "knn_pred=knn.score(X_test_scaled, y_test)\n",
    "\n",
    "knn_train_accuracy =knn.score(X_train_scaled,y_train)\n",
    "knn_accuracy = knn.score(X_test_scaled,y_test)\n",
    "pred_prob_knn = knn.predict_proba(X_test_scaled)"
   ]
  },
  {
   "cell_type": "code",
   "execution_count": 44,
   "id": "641bf3e0",
   "metadata": {
    "execution": {
     "iopub.execute_input": "2022-10-01T17:41:54.039846Z",
     "iopub.status.busy": "2022-10-01T17:41:54.039271Z",
     "iopub.status.idle": "2022-10-01T17:41:54.605677Z",
     "shell.execute_reply": "2022-10-01T17:41:54.604523Z"
    },
    "papermill": {
     "duration": 0.598552,
     "end_time": "2022-10-01T17:41:54.608622",
     "exception": false,
     "start_time": "2022-10-01T17:41:54.010070",
     "status": "completed"
    },
    "tags": []
   },
   "outputs": [
    {
     "name": "stdout",
     "output_type": "stream",
     "text": [
      "Training score: 0.946\n",
      "Test score: 0.933\n"
     ]
    }
   ],
   "source": [
    "print(\"Training score: {:.3f}\".format(knn.score(X_train_scaled, y_train)))\n",
    "print(\"Test score: {:.3f}\".format(knn.score(X_test_scaled, y_test)))"
   ]
  },
  {
   "cell_type": "markdown",
   "id": "cc6532e2",
   "metadata": {
    "papermill": {
     "duration": 0.026722,
     "end_time": "2022-10-01T17:41:54.667269",
     "exception": false,
     "start_time": "2022-10-01T17:41:54.640547",
     "status": "completed"
    },
    "tags": []
   },
   "source": [
    "### Choosing Optimal Value of **K**"
   ]
  },
  {
   "cell_type": "code",
   "execution_count": 45,
   "id": "7bd29858",
   "metadata": {
    "execution": {
     "iopub.execute_input": "2022-10-01T17:41:54.725012Z",
     "iopub.status.busy": "2022-10-01T17:41:54.723653Z",
     "iopub.status.idle": "2022-10-01T17:41:56.277282Z",
     "shell.execute_reply": "2022-10-01T17:41:56.276428Z"
    },
    "papermill": {
     "duration": 1.584974,
     "end_time": "2022-10-01T17:41:56.279682",
     "exception": false,
     "start_time": "2022-10-01T17:41:54.694708",
     "status": "completed"
    },
    "tags": []
   },
   "outputs": [
    {
     "data": {
      "image/png": "[encoded data removed]",
      "text/plain": [
       "<Figure size 432x288 with 1 Axes>"
      ]
     },
     "metadata": {},
     "output_type": "display_data"
    }
   ],
   "source": [
    "k_range = range(1,11)\n",
    "scores = []\n",
    "\n",
    "for k in k_range:\n",
    "    knn = KNeighborsClassifier(n_neighbors = k)\n",
    "    knn.fit(X_train_scaled, y_train.values.ravel())\n",
    "    scores.append(knn.score(X_test_scaled, y_test))\n",
    "\n",
    "plt.xlabel('k')\n",
    "plt.ylabel('accuracy')\n",
    "plt.scatter(k_range, scores)\n",
    "plt.vlines(k_range,0, scores, colors='blue')\n",
    "plt.ylim(0.70,0.99)\n",
    "plt.xticks([i for i in range(1,11)]);"
   ]
  },
  {
   "cell_type": "code",
   "execution_count": 46,
   "id": "d478c4c5",
   "metadata": {
    "execution": {
     "iopub.execute_input": "2022-10-01T17:41:56.337020Z",
     "iopub.status.busy": "2022-10-01T17:41:56.336269Z",
     "iopub.status.idle": "2022-10-01T17:41:56.722749Z",
     "shell.execute_reply": "2022-10-01T17:41:56.721001Z"
    },
    "papermill": {
     "duration": 0.418645,
     "end_time": "2022-10-01T17:41:56.725940",
     "exception": false,
     "start_time": "2022-10-01T17:41:56.307295",
     "status": "completed"
    },
    "tags": []
   },
   "outputs": [
    {
     "data": {
      "image/png": "[encoded data removed]",
      "text/plain": [
       "<Figure size 1080x1080 with 2 Axes>"
      ]
     },
     "metadata": {},
     "output_type": "display_data"
    },
    {
     "name": "stdout",
     "output_type": "stream",
     "text": [
      "              precision    recall  f1-score   support\n",
      "\n",
      "           0       0.93      1.00      0.97       783\n",
      "           1       0.50      0.02      0.03        56\n",
      "\n",
      "    accuracy                           0.93       839\n",
      "   macro avg       0.72      0.51      0.50       839\n",
      "weighted avg       0.91      0.93      0.90       839\n",
      "\n"
     ]
    }
   ],
   "source": [
    "knn_model=KNeighborsClassifier(n_neighbors = 5)\n",
    "knn_model.fit(X_train_scaled,y_train.values.ravel())\n",
    "y_pred=knn_model.predict(X_test_scaled)\n",
    "from sklearn import metrics\n",
    "\n",
    "knn_cm = metrics.confusion_matrix(y_test, y_pred)\n",
    "\n",
    "plt.figure(figsize=(15,15))\n",
    "sns.heatmap(knn_cm, annot=True, fmt=\".0f\", linewidths=.5, square = True, cmap = 'Blues_r');\n",
    "\n",
    "plt.ylabel('Actual');\n",
    "plt.xlabel('Predicted');\n",
    "all_sample_title = 'Confusion Matrix of KNN Classifier - score:'+str(metrics.accuracy_score(y_test,y_pred))\n",
    "\n",
    "plt.title(all_sample_title, size = 15);\n",
    "\n",
    "plt.show()\n",
    "\n",
    "print(metrics.classification_report(y_test,y_pred))"
   ]
  },
  {
   "cell_type": "markdown",
   "id": "008034b5",
   "metadata": {
    "papermill": {
     "duration": 0.027324,
     "end_time": "2022-10-01T17:41:56.780549",
     "exception": false,
     "start_time": "2022-10-01T17:41:56.753225",
     "status": "completed"
    },
    "tags": []
   },
   "source": [
    "# **Naive Bayes Classifier**"
   ]
  },
  {
   "cell_type": "code",
   "execution_count": 47,
   "id": "1b227945",
   "metadata": {
    "execution": {
     "iopub.execute_input": "2022-10-01T17:41:56.837373Z",
     "iopub.status.busy": "2022-10-01T17:41:56.836220Z",
     "iopub.status.idle": "2022-10-01T17:41:56.857495Z",
     "shell.execute_reply": "2022-10-01T17:41:56.856079Z"
    },
    "papermill": {
     "duration": 0.052304,
     "end_time": "2022-10-01T17:41:56.860089",
     "exception": false,
     "start_time": "2022-10-01T17:41:56.807785",
     "status": "completed"
    },
    "tags": []
   },
   "outputs": [
    {
     "name": "stdout",
     "output_type": "stream",
     "text": [
      "Training accuracy =  0.3290611028315946\n",
      "Testing accuracy =  0.34088200238379024\n"
     ]
    }
   ],
   "source": [
    "from sklearn.naive_bayes import GaussianNB\n",
    "\n",
    "nb_model = GaussianNB()\n",
    "\n",
    "nb_model.fit(X_train_scaled,y_train.values.ravel())\n",
    "\n",
    "nb_score = nb_model.score(X_test_scaled,y_test)\n",
    "\n",
    "nb_train_acc = nb_model.score(X_train_scaled,y_train)\n",
    "pred_prob_nb = nb_model.predict_proba(X_test_scaled)\n",
    "\n",
    "print(\"Training accuracy = \",nb_model.score(X_train_scaled,y_train))\n",
    "\n",
    "nb_accuracy = nb_model.score(X_test_scaled,y_test)\n",
    "print(\"Testing accuracy = \",nb_model.score(X_test_scaled,y_test))"
   ]
  },
  {
   "cell_type": "code",
   "execution_count": 48,
   "id": "15f7c029",
   "metadata": {
    "execution": {
     "iopub.execute_input": "2022-10-01T17:41:56.917162Z",
     "iopub.status.busy": "2022-10-01T17:41:56.916486Z",
     "iopub.status.idle": "2022-10-01T17:41:57.150370Z",
     "shell.execute_reply": "2022-10-01T17:41:57.149132Z"
    },
    "papermill": {
     "duration": 0.26723,
     "end_time": "2022-10-01T17:41:57.154814",
     "exception": false,
     "start_time": "2022-10-01T17:41:56.887584",
     "status": "completed"
    },
    "tags": []
   },
   "outputs": [
    {
     "data": {
      "image/png": "[encoded data removed]",
      "text/plain": [
       "<Figure size 1080x1080 with 2 Axes>"
      ]
     },
     "metadata": {},
     "output_type": "display_data"
    },
    {
     "name": "stdout",
     "output_type": "stream",
     "text": [
      "              precision    recall  f1-score   support\n",
      "\n",
      "           0       0.99      0.30      0.46       783\n",
      "           1       0.09      0.96      0.16        56\n",
      "\n",
      "    accuracy                           0.34       839\n",
      "   macro avg       0.54      0.63      0.31       839\n",
      "weighted avg       0.93      0.34      0.44       839\n",
      "\n"
     ]
    }
   ],
   "source": [
    "y_pred = nb_model.predict(X_test_scaled)\n",
    "\n",
    "nb_cm = metrics.confusion_matrix(y_test, y_pred)\n",
    "\n",
    "plt.figure(figsize=(15,15))\n",
    "\n",
    "sns.heatmap(nb_cm, annot=True, fmt=\".0f\", linewidths=.5, square = True, cmap = 'Blues_r');\n",
    "\n",
    "plt.ylabel('Actual')\n",
    "plt.xlabel('Predicted')\n",
    "\n",
    "all_sample_title = 'Confusion Matrix Naive Bayes Classifier - score:'+str(metrics.accuracy_score(y_test,y_pred))\n",
    "plt.title(all_sample_title, size = 15);\n",
    "plt.show()\n",
    "\n",
    "print(metrics.classification_report(y_test,y_pred))"
   ]
  },
  {
   "cell_type": "code",
   "execution_count": null,
   "id": "e004554f",
   "metadata": {
    "papermill": {
     "duration": 0.028142,
     "end_time": "2022-10-01T17:41:57.212054",
     "exception": false,
     "start_time": "2022-10-01T17:41:57.183912",
     "status": "completed"
    },
    "tags": []
   },
   "outputs": [],
   "source": []
  }
 ],
 "metadata": {
  "kernelspec": {
   "display_name": "Python 3",
   "language": "python",
   "name": "python3"
  },
  "language_info": {
   "codemirror_mode": {
    "name": "ipython",
    "version": 3
   },
   "file_extension": ".py",
   "mimetype": "text/x-python",
   "name": "python",
   "nbconvert_exporter": "python",
   "pygments_lexer": "ipython3",
   "version": "3.7.12"
  },
  "papermill": {
   "default_parameters": {},
   "duration": 24.77783,
   "end_time": "2022-10-01T17:41:58.063031",
   "environment_variables": {},
   "exception": null,
   "input_path": "__notebook__.ipynb",
   "output_path": "__notebook__.ipynb",
   "parameters": {},
   "start_time": "2022-10-01T17:41:33.285201",
   "version": "2.3.4"
  }
 },
 "nbformat": 4,
 "nbformat_minor": 5
}
