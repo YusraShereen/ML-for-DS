{
 "cells": [
  {
   "cell_type": "markdown",
   "id": "bdb078b5",
   "metadata": {
    "id": "t5XfQh5Jz6-v",
    "papermill": {
     "duration": 0.017135,
     "end_time": "2022-12-06T10:10:19.695513",
     "exception": false,
     "start_time": "2022-12-06T10:10:19.678378",
     "status": "completed"
    },
    "tags": []
   },
   "source": [
    "# **ANALYSIS OF STROKE DATASET**"
   ]
  },
  {
   "cell_type": "code",
   "execution_count": 1,
   "id": "7dde5484",
   "metadata": {
    "execution": {
     "iopub.execute_input": "2022-12-06T10:10:19.728733Z",
     "iopub.status.busy": "2022-12-06T10:10:19.728220Z",
     "iopub.status.idle": "2022-12-06T10:10:21.009493Z",
     "shell.execute_reply": "2022-12-06T10:10:21.008188Z"
    },
    "id": "u-CO51huz6-2",
    "papermill": {
     "duration": 1.302834,
     "end_time": "2022-12-06T10:10:21.013117",
     "exception": false,
     "start_time": "2022-12-06T10:10:19.710283",
     "status": "completed"
    },
    "tags": []
   },
   "outputs": [],
   "source": [
    "import pandas as pd\n",
    "import matplotlib.pyplot as plt\n",
    "import seaborn as sns\n",
    "%matplotlib inline\n",
    "plt.style.use('ggplot')"
   ]
  },
  {
   "cell_type": "code",
   "execution_count": 2,
   "id": "a89c30fb",
   "metadata": {
    "execution": {
     "iopub.execute_input": "2022-12-06T10:10:21.046915Z",
     "iopub.status.busy": "2022-12-06T10:10:21.046452Z",
     "iopub.status.idle": "2022-12-06T10:10:21.108815Z",
     "shell.execute_reply": "2022-12-06T10:10:21.107587Z"
    },
    "id": "IGltlQulz6-5",
    "outputId": "9866cca2-3f07-4504-defb-c27fc4d3415c",
    "papermill": {
     "duration": 0.080023,
     "end_time": "2022-12-06T10:10:21.111274",
     "exception": false,
     "start_time": "2022-12-06T10:10:21.031251",
     "status": "completed"
    },
    "tags": []
   },
   "outputs": [
    {
     "data": {
      "text/html": [
       "<div>\n",
       "<style scoped>\n",
       "    .dataframe tbody tr th:only-of-type {\n",
       "        vertical-align: middle;\n",
       "    }\n",
       "\n",
       "    .dataframe tbody tr th {\n",
       "        vertical-align: top;\n",
       "    }\n",
       "\n",
       "    .dataframe thead th {\n",
       "        text-align: right;\n",
       "    }\n",
       "</style>\n",
       "<table border=\"1\" class=\"dataframe\">\n",
       "  <thead>\n",
       "    <tr style=\"text-align: right;\">\n",
       "      <th></th>\n",
       "      <th>id</th>\n",
       "      <th>gender</th>\n",
       "      <th>age</th>\n",
       "      <th>hypertension</th>\n",
       "      <th>heart_disease</th>\n",
       "      <th>ever_married</th>\n",
       "      <th>work_type</th>\n",
       "      <th>Residence_type</th>\n",
       "      <th>avg_glucose_level</th>\n",
       "      <th>bmi</th>\n",
       "      <th>smoking_status</th>\n",
       "      <th>stroke</th>\n",
       "    </tr>\n",
       "  </thead>\n",
       "  <tbody>\n",
       "    <tr>\n",
       "      <th>0</th>\n",
       "      <td>9046</td>\n",
       "      <td>Male</td>\n",
       "      <td>67.0</td>\n",
       "      <td>0</td>\n",
       "      <td>1</td>\n",
       "      <td>Yes</td>\n",
       "      <td>Private</td>\n",
       "      <td>Urban</td>\n",
       "      <td>228.69</td>\n",
       "      <td>36.6</td>\n",
       "      <td>formerly smoked</td>\n",
       "      <td>1</td>\n",
       "    </tr>\n",
       "    <tr>\n",
       "      <th>1</th>\n",
       "      <td>51676</td>\n",
       "      <td>Female</td>\n",
       "      <td>61.0</td>\n",
       "      <td>0</td>\n",
       "      <td>0</td>\n",
       "      <td>Yes</td>\n",
       "      <td>Self-employed</td>\n",
       "      <td>Rural</td>\n",
       "      <td>202.21</td>\n",
       "      <td>NaN</td>\n",
       "      <td>never smoked</td>\n",
       "      <td>1</td>\n",
       "    </tr>\n",
       "    <tr>\n",
       "      <th>2</th>\n",
       "      <td>31112</td>\n",
       "      <td>Male</td>\n",
       "      <td>80.0</td>\n",
       "      <td>0</td>\n",
       "      <td>1</td>\n",
       "      <td>Yes</td>\n",
       "      <td>Private</td>\n",
       "      <td>Rural</td>\n",
       "      <td>105.92</td>\n",
       "      <td>32.5</td>\n",
       "      <td>never smoked</td>\n",
       "      <td>1</td>\n",
       "    </tr>\n",
       "    <tr>\n",
       "      <th>3</th>\n",
       "      <td>60182</td>\n",
       "      <td>Female</td>\n",
       "      <td>49.0</td>\n",
       "      <td>0</td>\n",
       "      <td>0</td>\n",
       "      <td>Yes</td>\n",
       "      <td>Private</td>\n",
       "      <td>Urban</td>\n",
       "      <td>171.23</td>\n",
       "      <td>34.4</td>\n",
       "      <td>smokes</td>\n",
       "      <td>1</td>\n",
       "    </tr>\n",
       "    <tr>\n",
       "      <th>4</th>\n",
       "      <td>1665</td>\n",
       "      <td>Female</td>\n",
       "      <td>79.0</td>\n",
       "      <td>1</td>\n",
       "      <td>0</td>\n",
       "      <td>Yes</td>\n",
       "      <td>Self-employed</td>\n",
       "      <td>Rural</td>\n",
       "      <td>174.12</td>\n",
       "      <td>24.0</td>\n",
       "      <td>never smoked</td>\n",
       "      <td>1</td>\n",
       "    </tr>\n",
       "  </tbody>\n",
       "</table>\n",
       "</div>"
      ],
      "text/plain": [
       "      id  gender   age  hypertension  heart_disease ever_married  \\\n",
       "0   9046    Male  67.0             0              1          Yes   \n",
       "1  51676  Female  61.0             0              0          Yes   \n",
       "2  31112    Male  80.0             0              1          Yes   \n",
       "3  60182  Female  49.0             0              0          Yes   \n",
       "4   1665  Female  79.0             1              0          Yes   \n",
       "\n",
       "       work_type Residence_type  avg_glucose_level   bmi   smoking_status  \\\n",
       "0        Private          Urban             228.69  36.6  formerly smoked   \n",
       "1  Self-employed          Rural             202.21   NaN     never smoked   \n",
       "2        Private          Rural             105.92  32.5     never smoked   \n",
       "3        Private          Urban             171.23  34.4           smokes   \n",
       "4  Self-employed          Rural             174.12  24.0     never smoked   \n",
       "\n",
       "   stroke  \n",
       "0       1  \n",
       "1       1  \n",
       "2       1  \n",
       "3       1  \n",
       "4       1  "
      ]
     },
     "execution_count": 2,
     "metadata": {},
     "output_type": "execute_result"
    }
   ],
   "source": [
    "data = pd.read_csv('../input/stroke/healthcare-dataset-stroke-data.csv')\n",
    "data.head()"
   ]
  },
  {
   "cell_type": "code",
   "execution_count": 3,
   "id": "a62b6d64",
   "metadata": {
    "execution": {
     "iopub.execute_input": "2022-12-06T10:10:21.141503Z",
     "iopub.status.busy": "2022-12-06T10:10:21.140859Z",
     "iopub.status.idle": "2022-12-06T10:10:21.147826Z",
     "shell.execute_reply": "2022-12-06T10:10:21.146824Z"
    },
    "id": "68b1jcuDz6-7",
    "outputId": "f547f42d-c89d-417d-c982-505af646d98d",
    "papermill": {
     "duration": 0.025402,
     "end_time": "2022-12-06T10:10:21.150748",
     "exception": false,
     "start_time": "2022-12-06T10:10:21.125346",
     "status": "completed"
    },
    "tags": []
   },
   "outputs": [
    {
     "data": {
      "text/plain": [
       "(5110, 12)"
      ]
     },
     "execution_count": 3,
     "metadata": {},
     "output_type": "execute_result"
    }
   ],
   "source": [
    "data.shape"
   ]
  },
  {
   "cell_type": "code",
   "execution_count": 4,
   "id": "4b38e57f",
   "metadata": {
    "execution": {
     "iopub.execute_input": "2022-12-06T10:10:21.184822Z",
     "iopub.status.busy": "2022-12-06T10:10:21.183646Z",
     "iopub.status.idle": "2022-12-06T10:10:21.197092Z",
     "shell.execute_reply": "2022-12-06T10:10:21.195711Z"
    },
    "id": "sUCg9PBdz6_A",
    "outputId": "31ce8344-9a4f-487c-9440-125a0b1c8c61",
    "papermill": {
     "duration": 0.035406,
     "end_time": "2022-12-06T10:10:21.200859",
     "exception": false,
     "start_time": "2022-12-06T10:10:21.165453",
     "status": "completed"
    },
    "tags": []
   },
   "outputs": [
    {
     "data": {
      "text/plain": [
       "id                     0\n",
       "gender                 0\n",
       "age                    0\n",
       "hypertension           0\n",
       "heart_disease          0\n",
       "ever_married           0\n",
       "work_type              0\n",
       "Residence_type         0\n",
       "avg_glucose_level      0\n",
       "bmi                  201\n",
       "smoking_status         0\n",
       "stroke                 0\n",
       "dtype: int64"
      ]
     },
     "execution_count": 4,
     "metadata": {},
     "output_type": "execute_result"
    }
   ],
   "source": [
    "data.isnull().sum()"
   ]
  },
  {
   "cell_type": "markdown",
   "id": "31e53545",
   "metadata": {
    "id": "CsqyQuWRz6_B",
    "papermill": {
     "duration": 0.019244,
     "end_time": "2022-12-06T10:10:21.238013",
     "exception": false,
     "start_time": "2022-12-06T10:10:21.218769",
     "status": "completed"
    },
    "tags": []
   },
   "source": [
    "BMI has **201** missing values, replacing them by mode"
   ]
  },
  {
   "cell_type": "code",
   "execution_count": 5,
   "id": "b3533257",
   "metadata": {
    "execution": {
     "iopub.execute_input": "2022-12-06T10:10:21.272385Z",
     "iopub.status.busy": "2022-12-06T10:10:21.271818Z",
     "iopub.status.idle": "2022-12-06T10:10:21.277005Z",
     "shell.execute_reply": "2022-12-06T10:10:21.275663Z"
    },
    "id": "njATzlqOz6_C",
    "papermill": {
     "duration": 0.025711,
     "end_time": "2022-12-06T10:10:21.279730",
     "exception": false,
     "start_time": "2022-12-06T10:10:21.254019",
     "status": "completed"
    },
    "tags": []
   },
   "outputs": [],
   "source": [
    "df = data"
   ]
  },
  {
   "cell_type": "code",
   "execution_count": 6,
   "id": "1b770c5b",
   "metadata": {
    "execution": {
     "iopub.execute_input": "2022-12-06T10:10:21.309233Z",
     "iopub.status.busy": "2022-12-06T10:10:21.308799Z",
     "iopub.status.idle": "2022-12-06T10:10:21.333820Z",
     "shell.execute_reply": "2022-12-06T10:10:21.332554Z"
    },
    "id": "0wyWDvnVz6_D",
    "outputId": "fffc2e07-fc77-4515-edd5-c61ee9bd788c",
    "papermill": {
     "duration": 0.042994,
     "end_time": "2022-12-06T10:10:21.336351",
     "exception": false,
     "start_time": "2022-12-06T10:10:21.293357",
     "status": "completed"
    },
    "tags": []
   },
   "outputs": [
    {
     "data": {
      "text/html": [
       "<div>\n",
       "<style scoped>\n",
       "    .dataframe tbody tr th:only-of-type {\n",
       "        vertical-align: middle;\n",
       "    }\n",
       "\n",
       "    .dataframe tbody tr th {\n",
       "        vertical-align: top;\n",
       "    }\n",
       "\n",
       "    .dataframe thead th {\n",
       "        text-align: right;\n",
       "    }\n",
       "</style>\n",
       "<table border=\"1\" class=\"dataframe\">\n",
       "  <thead>\n",
       "    <tr style=\"text-align: right;\">\n",
       "      <th></th>\n",
       "      <th>id</th>\n",
       "      <th>gender</th>\n",
       "      <th>age</th>\n",
       "      <th>hypertension</th>\n",
       "      <th>heart_disease</th>\n",
       "      <th>ever_married</th>\n",
       "      <th>work_type</th>\n",
       "      <th>Residence_type</th>\n",
       "      <th>avg_glucose_level</th>\n",
       "      <th>bmi</th>\n",
       "      <th>smoking_status</th>\n",
       "      <th>stroke</th>\n",
       "    </tr>\n",
       "  </thead>\n",
       "  <tbody>\n",
       "    <tr>\n",
       "      <th>20</th>\n",
       "      <td>70630</td>\n",
       "      <td>Female</td>\n",
       "      <td>71.0</td>\n",
       "      <td>0</td>\n",
       "      <td>0</td>\n",
       "      <td>Yes</td>\n",
       "      <td>Govt_job</td>\n",
       "      <td>Rural</td>\n",
       "      <td>193.94</td>\n",
       "      <td>22.4</td>\n",
       "      <td>smokes</td>\n",
       "      <td>1</td>\n",
       "    </tr>\n",
       "    <tr>\n",
       "      <th>21</th>\n",
       "      <td>13861</td>\n",
       "      <td>Female</td>\n",
       "      <td>52.0</td>\n",
       "      <td>1</td>\n",
       "      <td>0</td>\n",
       "      <td>Yes</td>\n",
       "      <td>Self-employed</td>\n",
       "      <td>Urban</td>\n",
       "      <td>233.29</td>\n",
       "      <td>48.9</td>\n",
       "      <td>never smoked</td>\n",
       "      <td>1</td>\n",
       "    </tr>\n",
       "    <tr>\n",
       "      <th>22</th>\n",
       "      <td>68794</td>\n",
       "      <td>Female</td>\n",
       "      <td>79.0</td>\n",
       "      <td>0</td>\n",
       "      <td>0</td>\n",
       "      <td>Yes</td>\n",
       "      <td>Self-employed</td>\n",
       "      <td>Urban</td>\n",
       "      <td>228.70</td>\n",
       "      <td>26.6</td>\n",
       "      <td>never smoked</td>\n",
       "      <td>1</td>\n",
       "    </tr>\n",
       "    <tr>\n",
       "      <th>23</th>\n",
       "      <td>64778</td>\n",
       "      <td>Male</td>\n",
       "      <td>82.0</td>\n",
       "      <td>0</td>\n",
       "      <td>1</td>\n",
       "      <td>Yes</td>\n",
       "      <td>Private</td>\n",
       "      <td>Rural</td>\n",
       "      <td>208.30</td>\n",
       "      <td>32.5</td>\n",
       "      <td>Unknown</td>\n",
       "      <td>1</td>\n",
       "    </tr>\n",
       "    <tr>\n",
       "      <th>24</th>\n",
       "      <td>4219</td>\n",
       "      <td>Male</td>\n",
       "      <td>71.0</td>\n",
       "      <td>0</td>\n",
       "      <td>0</td>\n",
       "      <td>Yes</td>\n",
       "      <td>Private</td>\n",
       "      <td>Urban</td>\n",
       "      <td>102.87</td>\n",
       "      <td>27.2</td>\n",
       "      <td>formerly smoked</td>\n",
       "      <td>1</td>\n",
       "    </tr>\n",
       "    <tr>\n",
       "      <th>25</th>\n",
       "      <td>70822</td>\n",
       "      <td>Male</td>\n",
       "      <td>80.0</td>\n",
       "      <td>0</td>\n",
       "      <td>0</td>\n",
       "      <td>Yes</td>\n",
       "      <td>Self-employed</td>\n",
       "      <td>Rural</td>\n",
       "      <td>104.12</td>\n",
       "      <td>23.5</td>\n",
       "      <td>never smoked</td>\n",
       "      <td>1</td>\n",
       "    </tr>\n",
       "    <tr>\n",
       "      <th>26</th>\n",
       "      <td>38047</td>\n",
       "      <td>Female</td>\n",
       "      <td>65.0</td>\n",
       "      <td>0</td>\n",
       "      <td>0</td>\n",
       "      <td>Yes</td>\n",
       "      <td>Private</td>\n",
       "      <td>Rural</td>\n",
       "      <td>100.98</td>\n",
       "      <td>28.2</td>\n",
       "      <td>formerly smoked</td>\n",
       "      <td>1</td>\n",
       "    </tr>\n",
       "    <tr>\n",
       "      <th>27</th>\n",
       "      <td>61843</td>\n",
       "      <td>Male</td>\n",
       "      <td>58.0</td>\n",
       "      <td>0</td>\n",
       "      <td>0</td>\n",
       "      <td>Yes</td>\n",
       "      <td>Private</td>\n",
       "      <td>Rural</td>\n",
       "      <td>189.84</td>\n",
       "      <td>NaN</td>\n",
       "      <td>Unknown</td>\n",
       "      <td>1</td>\n",
       "    </tr>\n",
       "    <tr>\n",
       "      <th>28</th>\n",
       "      <td>54827</td>\n",
       "      <td>Male</td>\n",
       "      <td>69.0</td>\n",
       "      <td>0</td>\n",
       "      <td>1</td>\n",
       "      <td>Yes</td>\n",
       "      <td>Self-employed</td>\n",
       "      <td>Urban</td>\n",
       "      <td>195.23</td>\n",
       "      <td>28.3</td>\n",
       "      <td>smokes</td>\n",
       "      <td>1</td>\n",
       "    </tr>\n",
       "    <tr>\n",
       "      <th>29</th>\n",
       "      <td>69160</td>\n",
       "      <td>Male</td>\n",
       "      <td>59.0</td>\n",
       "      <td>0</td>\n",
       "      <td>0</td>\n",
       "      <td>Yes</td>\n",
       "      <td>Private</td>\n",
       "      <td>Rural</td>\n",
       "      <td>211.78</td>\n",
       "      <td>NaN</td>\n",
       "      <td>formerly smoked</td>\n",
       "      <td>1</td>\n",
       "    </tr>\n",
       "    <tr>\n",
       "      <th>30</th>\n",
       "      <td>43717</td>\n",
       "      <td>Male</td>\n",
       "      <td>57.0</td>\n",
       "      <td>1</td>\n",
       "      <td>0</td>\n",
       "      <td>Yes</td>\n",
       "      <td>Private</td>\n",
       "      <td>Urban</td>\n",
       "      <td>212.08</td>\n",
       "      <td>44.2</td>\n",
       "      <td>smokes</td>\n",
       "      <td>1</td>\n",
       "    </tr>\n",
       "    <tr>\n",
       "      <th>31</th>\n",
       "      <td>33879</td>\n",
       "      <td>Male</td>\n",
       "      <td>42.0</td>\n",
       "      <td>0</td>\n",
       "      <td>0</td>\n",
       "      <td>Yes</td>\n",
       "      <td>Private</td>\n",
       "      <td>Rural</td>\n",
       "      <td>83.41</td>\n",
       "      <td>25.4</td>\n",
       "      <td>Unknown</td>\n",
       "      <td>1</td>\n",
       "    </tr>\n",
       "    <tr>\n",
       "      <th>32</th>\n",
       "      <td>39373</td>\n",
       "      <td>Female</td>\n",
       "      <td>82.0</td>\n",
       "      <td>1</td>\n",
       "      <td>0</td>\n",
       "      <td>Yes</td>\n",
       "      <td>Self-employed</td>\n",
       "      <td>Urban</td>\n",
       "      <td>196.92</td>\n",
       "      <td>22.2</td>\n",
       "      <td>never smoked</td>\n",
       "      <td>1</td>\n",
       "    </tr>\n",
       "    <tr>\n",
       "      <th>33</th>\n",
       "      <td>54401</td>\n",
       "      <td>Male</td>\n",
       "      <td>80.0</td>\n",
       "      <td>0</td>\n",
       "      <td>1</td>\n",
       "      <td>Yes</td>\n",
       "      <td>Self-employed</td>\n",
       "      <td>Urban</td>\n",
       "      <td>252.72</td>\n",
       "      <td>30.5</td>\n",
       "      <td>formerly smoked</td>\n",
       "      <td>1</td>\n",
       "    </tr>\n",
       "    <tr>\n",
       "      <th>34</th>\n",
       "      <td>14248</td>\n",
       "      <td>Male</td>\n",
       "      <td>48.0</td>\n",
       "      <td>0</td>\n",
       "      <td>0</td>\n",
       "      <td>No</td>\n",
       "      <td>Govt_job</td>\n",
       "      <td>Urban</td>\n",
       "      <td>84.20</td>\n",
       "      <td>29.7</td>\n",
       "      <td>never smoked</td>\n",
       "      <td>1</td>\n",
       "    </tr>\n",
       "    <tr>\n",
       "      <th>35</th>\n",
       "      <td>712</td>\n",
       "      <td>Female</td>\n",
       "      <td>82.0</td>\n",
       "      <td>1</td>\n",
       "      <td>1</td>\n",
       "      <td>No</td>\n",
       "      <td>Private</td>\n",
       "      <td>Rural</td>\n",
       "      <td>84.03</td>\n",
       "      <td>26.5</td>\n",
       "      <td>formerly smoked</td>\n",
       "      <td>1</td>\n",
       "    </tr>\n",
       "    <tr>\n",
       "      <th>36</th>\n",
       "      <td>47269</td>\n",
       "      <td>Male</td>\n",
       "      <td>74.0</td>\n",
       "      <td>0</td>\n",
       "      <td>0</td>\n",
       "      <td>Yes</td>\n",
       "      <td>Private</td>\n",
       "      <td>Rural</td>\n",
       "      <td>219.72</td>\n",
       "      <td>33.7</td>\n",
       "      <td>formerly smoked</td>\n",
       "      <td>1</td>\n",
       "    </tr>\n",
       "    <tr>\n",
       "      <th>37</th>\n",
       "      <td>24977</td>\n",
       "      <td>Female</td>\n",
       "      <td>72.0</td>\n",
       "      <td>1</td>\n",
       "      <td>0</td>\n",
       "      <td>Yes</td>\n",
       "      <td>Private</td>\n",
       "      <td>Rural</td>\n",
       "      <td>74.63</td>\n",
       "      <td>23.1</td>\n",
       "      <td>formerly smoked</td>\n",
       "      <td>1</td>\n",
       "    </tr>\n",
       "    <tr>\n",
       "      <th>38</th>\n",
       "      <td>47306</td>\n",
       "      <td>Male</td>\n",
       "      <td>58.0</td>\n",
       "      <td>0</td>\n",
       "      <td>0</td>\n",
       "      <td>No</td>\n",
       "      <td>Private</td>\n",
       "      <td>Rural</td>\n",
       "      <td>92.62</td>\n",
       "      <td>32.0</td>\n",
       "      <td>Unknown</td>\n",
       "      <td>1</td>\n",
       "    </tr>\n",
       "    <tr>\n",
       "      <th>39</th>\n",
       "      <td>62602</td>\n",
       "      <td>Female</td>\n",
       "      <td>49.0</td>\n",
       "      <td>0</td>\n",
       "      <td>0</td>\n",
       "      <td>Yes</td>\n",
       "      <td>Private</td>\n",
       "      <td>Urban</td>\n",
       "      <td>60.91</td>\n",
       "      <td>29.9</td>\n",
       "      <td>never smoked</td>\n",
       "      <td>1</td>\n",
       "    </tr>\n",
       "  </tbody>\n",
       "</table>\n",
       "</div>"
      ],
      "text/plain": [
       "       id  gender   age  hypertension  heart_disease ever_married  \\\n",
       "20  70630  Female  71.0             0              0          Yes   \n",
       "21  13861  Female  52.0             1              0          Yes   \n",
       "22  68794  Female  79.0             0              0          Yes   \n",
       "23  64778    Male  82.0             0              1          Yes   \n",
       "24   4219    Male  71.0             0              0          Yes   \n",
       "25  70822    Male  80.0             0              0          Yes   \n",
       "26  38047  Female  65.0             0              0          Yes   \n",
       "27  61843    Male  58.0             0              0          Yes   \n",
       "28  54827    Male  69.0             0              1          Yes   \n",
       "29  69160    Male  59.0             0              0          Yes   \n",
       "30  43717    Male  57.0             1              0          Yes   \n",
       "31  33879    Male  42.0             0              0          Yes   \n",
       "32  39373  Female  82.0             1              0          Yes   \n",
       "33  54401    Male  80.0             0              1          Yes   \n",
       "34  14248    Male  48.0             0              0           No   \n",
       "35    712  Female  82.0             1              1           No   \n",
       "36  47269    Male  74.0             0              0          Yes   \n",
       "37  24977  Female  72.0             1              0          Yes   \n",
       "38  47306    Male  58.0             0              0           No   \n",
       "39  62602  Female  49.0             0              0          Yes   \n",
       "\n",
       "        work_type Residence_type  avg_glucose_level   bmi   smoking_status  \\\n",
       "20       Govt_job          Rural             193.94  22.4           smokes   \n",
       "21  Self-employed          Urban             233.29  48.9     never smoked   \n",
       "22  Self-employed          Urban             228.70  26.6     never smoked   \n",
       "23        Private          Rural             208.30  32.5          Unknown   \n",
       "24        Private          Urban             102.87  27.2  formerly smoked   \n",
       "25  Self-employed          Rural             104.12  23.5     never smoked   \n",
       "26        Private          Rural             100.98  28.2  formerly smoked   \n",
       "27        Private          Rural             189.84   NaN          Unknown   \n",
       "28  Self-employed          Urban             195.23  28.3           smokes   \n",
       "29        Private          Rural             211.78   NaN  formerly smoked   \n",
       "30        Private          Urban             212.08  44.2           smokes   \n",
       "31        Private          Rural              83.41  25.4          Unknown   \n",
       "32  Self-employed          Urban             196.92  22.2     never smoked   \n",
       "33  Self-employed          Urban             252.72  30.5  formerly smoked   \n",
       "34       Govt_job          Urban              84.20  29.7     never smoked   \n",
       "35        Private          Rural              84.03  26.5  formerly smoked   \n",
       "36        Private          Rural             219.72  33.7  formerly smoked   \n",
       "37        Private          Rural              74.63  23.1  formerly smoked   \n",
       "38        Private          Rural              92.62  32.0          Unknown   \n",
       "39        Private          Urban              60.91  29.9     never smoked   \n",
       "\n",
       "    stroke  \n",
       "20       1  \n",
       "21       1  \n",
       "22       1  \n",
       "23       1  \n",
       "24       1  \n",
       "25       1  \n",
       "26       1  \n",
       "27       1  \n",
       "28       1  \n",
       "29       1  \n",
       "30       1  \n",
       "31       1  \n",
       "32       1  \n",
       "33       1  \n",
       "34       1  \n",
       "35       1  \n",
       "36       1  \n",
       "37       1  \n",
       "38       1  \n",
       "39       1  "
      ]
     },
     "execution_count": 6,
     "metadata": {},
     "output_type": "execute_result"
    }
   ],
   "source": [
    "data[20:40]"
   ]
  },
  {
   "cell_type": "code",
   "execution_count": 7,
   "id": "81c2eb0b",
   "metadata": {
    "execution": {
     "iopub.execute_input": "2022-12-06T10:10:21.367609Z",
     "iopub.status.busy": "2022-12-06T10:10:21.366730Z",
     "iopub.status.idle": "2022-12-06T10:10:21.380329Z",
     "shell.execute_reply": "2022-12-06T10:10:21.379101Z"
    },
    "id": "fHgbLGkwz6_E",
    "papermill": {
     "duration": 0.032172,
     "end_time": "2022-12-06T10:10:21.383163",
     "exception": false,
     "start_time": "2022-12-06T10:10:21.350991",
     "status": "completed"
    },
    "tags": []
   },
   "outputs": [],
   "source": [
    "df['bmi'] = df['bmi'].fillna(df['bmi'].mode()[0])"
   ]
  },
  {
   "cell_type": "code",
   "execution_count": 8,
   "id": "2a0c552d",
   "metadata": {
    "execution": {
     "iopub.execute_input": "2022-12-06T10:10:21.414443Z",
     "iopub.status.busy": "2022-12-06T10:10:21.413431Z",
     "iopub.status.idle": "2022-12-06T10:10:21.437921Z",
     "shell.execute_reply": "2022-12-06T10:10:21.437061Z"
    },
    "id": "ZtpbQ-ooz6_F",
    "outputId": "13e37fcb-ea4f-4ed5-9af1-c4c01126d1d9",
    "papermill": {
     "duration": 0.042574,
     "end_time": "2022-12-06T10:10:21.440126",
     "exception": false,
     "start_time": "2022-12-06T10:10:21.397552",
     "status": "completed"
    },
    "tags": []
   },
   "outputs": [
    {
     "data": {
      "text/html": [
       "<div>\n",
       "<style scoped>\n",
       "    .dataframe tbody tr th:only-of-type {\n",
       "        vertical-align: middle;\n",
       "    }\n",
       "\n",
       "    .dataframe tbody tr th {\n",
       "        vertical-align: top;\n",
       "    }\n",
       "\n",
       "    .dataframe thead th {\n",
       "        text-align: right;\n",
       "    }\n",
       "</style>\n",
       "<table border=\"1\" class=\"dataframe\">\n",
       "  <thead>\n",
       "    <tr style=\"text-align: right;\">\n",
       "      <th></th>\n",
       "      <th>id</th>\n",
       "      <th>gender</th>\n",
       "      <th>age</th>\n",
       "      <th>hypertension</th>\n",
       "      <th>heart_disease</th>\n",
       "      <th>ever_married</th>\n",
       "      <th>work_type</th>\n",
       "      <th>Residence_type</th>\n",
       "      <th>avg_glucose_level</th>\n",
       "      <th>bmi</th>\n",
       "      <th>smoking_status</th>\n",
       "      <th>stroke</th>\n",
       "    </tr>\n",
       "  </thead>\n",
       "  <tbody>\n",
       "    <tr>\n",
       "      <th>20</th>\n",
       "      <td>70630</td>\n",
       "      <td>Female</td>\n",
       "      <td>71.0</td>\n",
       "      <td>0</td>\n",
       "      <td>0</td>\n",
       "      <td>Yes</td>\n",
       "      <td>Govt_job</td>\n",
       "      <td>Rural</td>\n",
       "      <td>193.94</td>\n",
       "      <td>22.4</td>\n",
       "      <td>smokes</td>\n",
       "      <td>1</td>\n",
       "    </tr>\n",
       "    <tr>\n",
       "      <th>21</th>\n",
       "      <td>13861</td>\n",
       "      <td>Female</td>\n",
       "      <td>52.0</td>\n",
       "      <td>1</td>\n",
       "      <td>0</td>\n",
       "      <td>Yes</td>\n",
       "      <td>Self-employed</td>\n",
       "      <td>Urban</td>\n",
       "      <td>233.29</td>\n",
       "      <td>48.9</td>\n",
       "      <td>never smoked</td>\n",
       "      <td>1</td>\n",
       "    </tr>\n",
       "    <tr>\n",
       "      <th>22</th>\n",
       "      <td>68794</td>\n",
       "      <td>Female</td>\n",
       "      <td>79.0</td>\n",
       "      <td>0</td>\n",
       "      <td>0</td>\n",
       "      <td>Yes</td>\n",
       "      <td>Self-employed</td>\n",
       "      <td>Urban</td>\n",
       "      <td>228.70</td>\n",
       "      <td>26.6</td>\n",
       "      <td>never smoked</td>\n",
       "      <td>1</td>\n",
       "    </tr>\n",
       "    <tr>\n",
       "      <th>23</th>\n",
       "      <td>64778</td>\n",
       "      <td>Male</td>\n",
       "      <td>82.0</td>\n",
       "      <td>0</td>\n",
       "      <td>1</td>\n",
       "      <td>Yes</td>\n",
       "      <td>Private</td>\n",
       "      <td>Rural</td>\n",
       "      <td>208.30</td>\n",
       "      <td>32.5</td>\n",
       "      <td>Unknown</td>\n",
       "      <td>1</td>\n",
       "    </tr>\n",
       "    <tr>\n",
       "      <th>24</th>\n",
       "      <td>4219</td>\n",
       "      <td>Male</td>\n",
       "      <td>71.0</td>\n",
       "      <td>0</td>\n",
       "      <td>0</td>\n",
       "      <td>Yes</td>\n",
       "      <td>Private</td>\n",
       "      <td>Urban</td>\n",
       "      <td>102.87</td>\n",
       "      <td>27.2</td>\n",
       "      <td>formerly smoked</td>\n",
       "      <td>1</td>\n",
       "    </tr>\n",
       "    <tr>\n",
       "      <th>25</th>\n",
       "      <td>70822</td>\n",
       "      <td>Male</td>\n",
       "      <td>80.0</td>\n",
       "      <td>0</td>\n",
       "      <td>0</td>\n",
       "      <td>Yes</td>\n",
       "      <td>Self-employed</td>\n",
       "      <td>Rural</td>\n",
       "      <td>104.12</td>\n",
       "      <td>23.5</td>\n",
       "      <td>never smoked</td>\n",
       "      <td>1</td>\n",
       "    </tr>\n",
       "    <tr>\n",
       "      <th>26</th>\n",
       "      <td>38047</td>\n",
       "      <td>Female</td>\n",
       "      <td>65.0</td>\n",
       "      <td>0</td>\n",
       "      <td>0</td>\n",
       "      <td>Yes</td>\n",
       "      <td>Private</td>\n",
       "      <td>Rural</td>\n",
       "      <td>100.98</td>\n",
       "      <td>28.2</td>\n",
       "      <td>formerly smoked</td>\n",
       "      <td>1</td>\n",
       "    </tr>\n",
       "    <tr>\n",
       "      <th>27</th>\n",
       "      <td>61843</td>\n",
       "      <td>Male</td>\n",
       "      <td>58.0</td>\n",
       "      <td>0</td>\n",
       "      <td>0</td>\n",
       "      <td>Yes</td>\n",
       "      <td>Private</td>\n",
       "      <td>Rural</td>\n",
       "      <td>189.84</td>\n",
       "      <td>28.7</td>\n",
       "      <td>Unknown</td>\n",
       "      <td>1</td>\n",
       "    </tr>\n",
       "    <tr>\n",
       "      <th>28</th>\n",
       "      <td>54827</td>\n",
       "      <td>Male</td>\n",
       "      <td>69.0</td>\n",
       "      <td>0</td>\n",
       "      <td>1</td>\n",
       "      <td>Yes</td>\n",
       "      <td>Self-employed</td>\n",
       "      <td>Urban</td>\n",
       "      <td>195.23</td>\n",
       "      <td>28.3</td>\n",
       "      <td>smokes</td>\n",
       "      <td>1</td>\n",
       "    </tr>\n",
       "    <tr>\n",
       "      <th>29</th>\n",
       "      <td>69160</td>\n",
       "      <td>Male</td>\n",
       "      <td>59.0</td>\n",
       "      <td>0</td>\n",
       "      <td>0</td>\n",
       "      <td>Yes</td>\n",
       "      <td>Private</td>\n",
       "      <td>Rural</td>\n",
       "      <td>211.78</td>\n",
       "      <td>28.7</td>\n",
       "      <td>formerly smoked</td>\n",
       "      <td>1</td>\n",
       "    </tr>\n",
       "    <tr>\n",
       "      <th>30</th>\n",
       "      <td>43717</td>\n",
       "      <td>Male</td>\n",
       "      <td>57.0</td>\n",
       "      <td>1</td>\n",
       "      <td>0</td>\n",
       "      <td>Yes</td>\n",
       "      <td>Private</td>\n",
       "      <td>Urban</td>\n",
       "      <td>212.08</td>\n",
       "      <td>44.2</td>\n",
       "      <td>smokes</td>\n",
       "      <td>1</td>\n",
       "    </tr>\n",
       "    <tr>\n",
       "      <th>31</th>\n",
       "      <td>33879</td>\n",
       "      <td>Male</td>\n",
       "      <td>42.0</td>\n",
       "      <td>0</td>\n",
       "      <td>0</td>\n",
       "      <td>Yes</td>\n",
       "      <td>Private</td>\n",
       "      <td>Rural</td>\n",
       "      <td>83.41</td>\n",
       "      <td>25.4</td>\n",
       "      <td>Unknown</td>\n",
       "      <td>1</td>\n",
       "    </tr>\n",
       "    <tr>\n",
       "      <th>32</th>\n",
       "      <td>39373</td>\n",
       "      <td>Female</td>\n",
       "      <td>82.0</td>\n",
       "      <td>1</td>\n",
       "      <td>0</td>\n",
       "      <td>Yes</td>\n",
       "      <td>Self-employed</td>\n",
       "      <td>Urban</td>\n",
       "      <td>196.92</td>\n",
       "      <td>22.2</td>\n",
       "      <td>never smoked</td>\n",
       "      <td>1</td>\n",
       "    </tr>\n",
       "    <tr>\n",
       "      <th>33</th>\n",
       "      <td>54401</td>\n",
       "      <td>Male</td>\n",
       "      <td>80.0</td>\n",
       "      <td>0</td>\n",
       "      <td>1</td>\n",
       "      <td>Yes</td>\n",
       "      <td>Self-employed</td>\n",
       "      <td>Urban</td>\n",
       "      <td>252.72</td>\n",
       "      <td>30.5</td>\n",
       "      <td>formerly smoked</td>\n",
       "      <td>1</td>\n",
       "    </tr>\n",
       "    <tr>\n",
       "      <th>34</th>\n",
       "      <td>14248</td>\n",
       "      <td>Male</td>\n",
       "      <td>48.0</td>\n",
       "      <td>0</td>\n",
       "      <td>0</td>\n",
       "      <td>No</td>\n",
       "      <td>Govt_job</td>\n",
       "      <td>Urban</td>\n",
       "      <td>84.20</td>\n",
       "      <td>29.7</td>\n",
       "      <td>never smoked</td>\n",
       "      <td>1</td>\n",
       "    </tr>\n",
       "    <tr>\n",
       "      <th>35</th>\n",
       "      <td>712</td>\n",
       "      <td>Female</td>\n",
       "      <td>82.0</td>\n",
       "      <td>1</td>\n",
       "      <td>1</td>\n",
       "      <td>No</td>\n",
       "      <td>Private</td>\n",
       "      <td>Rural</td>\n",
       "      <td>84.03</td>\n",
       "      <td>26.5</td>\n",
       "      <td>formerly smoked</td>\n",
       "      <td>1</td>\n",
       "    </tr>\n",
       "    <tr>\n",
       "      <th>36</th>\n",
       "      <td>47269</td>\n",
       "      <td>Male</td>\n",
       "      <td>74.0</td>\n",
       "      <td>0</td>\n",
       "      <td>0</td>\n",
       "      <td>Yes</td>\n",
       "      <td>Private</td>\n",
       "      <td>Rural</td>\n",
       "      <td>219.72</td>\n",
       "      <td>33.7</td>\n",
       "      <td>formerly smoked</td>\n",
       "      <td>1</td>\n",
       "    </tr>\n",
       "    <tr>\n",
       "      <th>37</th>\n",
       "      <td>24977</td>\n",
       "      <td>Female</td>\n",
       "      <td>72.0</td>\n",
       "      <td>1</td>\n",
       "      <td>0</td>\n",
       "      <td>Yes</td>\n",
       "      <td>Private</td>\n",
       "      <td>Rural</td>\n",
       "      <td>74.63</td>\n",
       "      <td>23.1</td>\n",
       "      <td>formerly smoked</td>\n",
       "      <td>1</td>\n",
       "    </tr>\n",
       "    <tr>\n",
       "      <th>38</th>\n",
       "      <td>47306</td>\n",
       "      <td>Male</td>\n",
       "      <td>58.0</td>\n",
       "      <td>0</td>\n",
       "      <td>0</td>\n",
       "      <td>No</td>\n",
       "      <td>Private</td>\n",
       "      <td>Rural</td>\n",
       "      <td>92.62</td>\n",
       "      <td>32.0</td>\n",
       "      <td>Unknown</td>\n",
       "      <td>1</td>\n",
       "    </tr>\n",
       "    <tr>\n",
       "      <th>39</th>\n",
       "      <td>62602</td>\n",
       "      <td>Female</td>\n",
       "      <td>49.0</td>\n",
       "      <td>0</td>\n",
       "      <td>0</td>\n",
       "      <td>Yes</td>\n",
       "      <td>Private</td>\n",
       "      <td>Urban</td>\n",
       "      <td>60.91</td>\n",
       "      <td>29.9</td>\n",
       "      <td>never smoked</td>\n",
       "      <td>1</td>\n",
       "    </tr>\n",
       "  </tbody>\n",
       "</table>\n",
       "</div>"
      ],
      "text/plain": [
       "       id  gender   age  hypertension  heart_disease ever_married  \\\n",
       "20  70630  Female  71.0             0              0          Yes   \n",
       "21  13861  Female  52.0             1              0          Yes   \n",
       "22  68794  Female  79.0             0              0          Yes   \n",
       "23  64778    Male  82.0             0              1          Yes   \n",
       "24   4219    Male  71.0             0              0          Yes   \n",
       "25  70822    Male  80.0             0              0          Yes   \n",
       "26  38047  Female  65.0             0              0          Yes   \n",
       "27  61843    Male  58.0             0              0          Yes   \n",
       "28  54827    Male  69.0             0              1          Yes   \n",
       "29  69160    Male  59.0             0              0          Yes   \n",
       "30  43717    Male  57.0             1              0          Yes   \n",
       "31  33879    Male  42.0             0              0          Yes   \n",
       "32  39373  Female  82.0             1              0          Yes   \n",
       "33  54401    Male  80.0             0              1          Yes   \n",
       "34  14248    Male  48.0             0              0           No   \n",
       "35    712  Female  82.0             1              1           No   \n",
       "36  47269    Male  74.0             0              0          Yes   \n",
       "37  24977  Female  72.0             1              0          Yes   \n",
       "38  47306    Male  58.0             0              0           No   \n",
       "39  62602  Female  49.0             0              0          Yes   \n",
       "\n",
       "        work_type Residence_type  avg_glucose_level   bmi   smoking_status  \\\n",
       "20       Govt_job          Rural             193.94  22.4           smokes   \n",
       "21  Self-employed          Urban             233.29  48.9     never smoked   \n",
       "22  Self-employed          Urban             228.70  26.6     never smoked   \n",
       "23        Private          Rural             208.30  32.5          Unknown   \n",
       "24        Private          Urban             102.87  27.2  formerly smoked   \n",
       "25  Self-employed          Rural             104.12  23.5     never smoked   \n",
       "26        Private          Rural             100.98  28.2  formerly smoked   \n",
       "27        Private          Rural             189.84  28.7          Unknown   \n",
       "28  Self-employed          Urban             195.23  28.3           smokes   \n",
       "29        Private          Rural             211.78  28.7  formerly smoked   \n",
       "30        Private          Urban             212.08  44.2           smokes   \n",
       "31        Private          Rural              83.41  25.4          Unknown   \n",
       "32  Self-employed          Urban             196.92  22.2     never smoked   \n",
       "33  Self-employed          Urban             252.72  30.5  formerly smoked   \n",
       "34       Govt_job          Urban              84.20  29.7     never smoked   \n",
       "35        Private          Rural              84.03  26.5  formerly smoked   \n",
       "36        Private          Rural             219.72  33.7  formerly smoked   \n",
       "37        Private          Rural              74.63  23.1  formerly smoked   \n",
       "38        Private          Rural              92.62  32.0          Unknown   \n",
       "39        Private          Urban              60.91  29.9     never smoked   \n",
       "\n",
       "    stroke  \n",
       "20       1  \n",
       "21       1  \n",
       "22       1  \n",
       "23       1  \n",
       "24       1  \n",
       "25       1  \n",
       "26       1  \n",
       "27       1  \n",
       "28       1  \n",
       "29       1  \n",
       "30       1  \n",
       "31       1  \n",
       "32       1  \n",
       "33       1  \n",
       "34       1  \n",
       "35       1  \n",
       "36       1  \n",
       "37       1  \n",
       "38       1  \n",
       "39       1  "
      ]
     },
     "execution_count": 8,
     "metadata": {},
     "output_type": "execute_result"
    }
   ],
   "source": [
    "df[20:40]"
   ]
  },
  {
   "cell_type": "code",
   "execution_count": 9,
   "id": "296a8896",
   "metadata": {
    "execution": {
     "iopub.execute_input": "2022-12-06T10:10:21.471648Z",
     "iopub.status.busy": "2022-12-06T10:10:21.470957Z",
     "iopub.status.idle": "2022-12-06T10:10:21.491033Z",
     "shell.execute_reply": "2022-12-06T10:10:21.490180Z"
    },
    "id": "hjku4PtMz6_G",
    "outputId": "73ee7589-fc0d-4454-c124-11fe55d70b86",
    "papermill": {
     "duration": 0.038524,
     "end_time": "2022-12-06T10:10:21.493349",
     "exception": false,
     "start_time": "2022-12-06T10:10:21.454825",
     "status": "completed"
    },
    "tags": []
   },
   "outputs": [
    {
     "data": {
      "text/html": [
       "<div>\n",
       "<style scoped>\n",
       "    .dataframe tbody tr th:only-of-type {\n",
       "        vertical-align: middle;\n",
       "    }\n",
       "\n",
       "    .dataframe tbody tr th {\n",
       "        vertical-align: top;\n",
       "    }\n",
       "\n",
       "    .dataframe thead th {\n",
       "        text-align: right;\n",
       "    }\n",
       "</style>\n",
       "<table border=\"1\" class=\"dataframe\">\n",
       "  <thead>\n",
       "    <tr style=\"text-align: right;\">\n",
       "      <th></th>\n",
       "      <th>gender</th>\n",
       "      <th>age</th>\n",
       "      <th>hypertension</th>\n",
       "      <th>heart_disease</th>\n",
       "      <th>ever_married</th>\n",
       "      <th>work_type</th>\n",
       "      <th>Residence_type</th>\n",
       "      <th>avg_glucose_level</th>\n",
       "      <th>bmi</th>\n",
       "      <th>smoking_status</th>\n",
       "      <th>stroke</th>\n",
       "    </tr>\n",
       "  </thead>\n",
       "  <tbody>\n",
       "    <tr>\n",
       "      <th>0</th>\n",
       "      <td>Male</td>\n",
       "      <td>67.0</td>\n",
       "      <td>0</td>\n",
       "      <td>1</td>\n",
       "      <td>Yes</td>\n",
       "      <td>Private</td>\n",
       "      <td>Urban</td>\n",
       "      <td>228.69</td>\n",
       "      <td>36.6</td>\n",
       "      <td>formerly smoked</td>\n",
       "      <td>1</td>\n",
       "    </tr>\n",
       "    <tr>\n",
       "      <th>1</th>\n",
       "      <td>Female</td>\n",
       "      <td>61.0</td>\n",
       "      <td>0</td>\n",
       "      <td>0</td>\n",
       "      <td>Yes</td>\n",
       "      <td>Self-employed</td>\n",
       "      <td>Rural</td>\n",
       "      <td>202.21</td>\n",
       "      <td>28.7</td>\n",
       "      <td>never smoked</td>\n",
       "      <td>1</td>\n",
       "    </tr>\n",
       "    <tr>\n",
       "      <th>2</th>\n",
       "      <td>Male</td>\n",
       "      <td>80.0</td>\n",
       "      <td>0</td>\n",
       "      <td>1</td>\n",
       "      <td>Yes</td>\n",
       "      <td>Private</td>\n",
       "      <td>Rural</td>\n",
       "      <td>105.92</td>\n",
       "      <td>32.5</td>\n",
       "      <td>never smoked</td>\n",
       "      <td>1</td>\n",
       "    </tr>\n",
       "    <tr>\n",
       "      <th>3</th>\n",
       "      <td>Female</td>\n",
       "      <td>49.0</td>\n",
       "      <td>0</td>\n",
       "      <td>0</td>\n",
       "      <td>Yes</td>\n",
       "      <td>Private</td>\n",
       "      <td>Urban</td>\n",
       "      <td>171.23</td>\n",
       "      <td>34.4</td>\n",
       "      <td>smokes</td>\n",
       "      <td>1</td>\n",
       "    </tr>\n",
       "    <tr>\n",
       "      <th>4</th>\n",
       "      <td>Female</td>\n",
       "      <td>79.0</td>\n",
       "      <td>1</td>\n",
       "      <td>0</td>\n",
       "      <td>Yes</td>\n",
       "      <td>Self-employed</td>\n",
       "      <td>Rural</td>\n",
       "      <td>174.12</td>\n",
       "      <td>24.0</td>\n",
       "      <td>never smoked</td>\n",
       "      <td>1</td>\n",
       "    </tr>\n",
       "  </tbody>\n",
       "</table>\n",
       "</div>"
      ],
      "text/plain": [
       "   gender   age  hypertension  heart_disease ever_married      work_type  \\\n",
       "0    Male  67.0             0              1          Yes        Private   \n",
       "1  Female  61.0             0              0          Yes  Self-employed   \n",
       "2    Male  80.0             0              1          Yes        Private   \n",
       "3  Female  49.0             0              0          Yes        Private   \n",
       "4  Female  79.0             1              0          Yes  Self-employed   \n",
       "\n",
       "  Residence_type  avg_glucose_level   bmi   smoking_status  stroke  \n",
       "0          Urban             228.69  36.6  formerly smoked       1  \n",
       "1          Rural             202.21  28.7     never smoked       1  \n",
       "2          Rural             105.92  32.5     never smoked       1  \n",
       "3          Urban             171.23  34.4           smokes       1  \n",
       "4          Rural             174.12  24.0     never smoked       1  "
      ]
     },
     "execution_count": 9,
     "metadata": {},
     "output_type": "execute_result"
    }
   ],
   "source": [
    "#Removing id column as it is ineffective\n",
    "df.drop(\"id\",inplace=True,axis=1)\n",
    "df.head()"
   ]
  },
  {
   "cell_type": "code",
   "execution_count": 10,
   "id": "230d3b9e",
   "metadata": {
    "execution": {
     "iopub.execute_input": "2022-12-06T10:10:21.526134Z",
     "iopub.status.busy": "2022-12-06T10:10:21.525545Z",
     "iopub.status.idle": "2022-12-06T10:10:21.542627Z",
     "shell.execute_reply": "2022-12-06T10:10:21.541391Z"
    },
    "id": "nY-8c9BOz6_H",
    "outputId": "e06af5a1-2d68-4110-f16f-68ab17e05fcd",
    "papermill": {
     "duration": 0.036385,
     "end_time": "2022-12-06T10:10:21.545210",
     "exception": false,
     "start_time": "2022-12-06T10:10:21.508825",
     "status": "completed"
    },
    "tags": []
   },
   "outputs": [
    {
     "data": {
      "text/plain": [
       "0"
      ]
     },
     "execution_count": 10,
     "metadata": {},
     "output_type": "execute_result"
    }
   ],
   "source": [
    "df.duplicated().sum()"
   ]
  },
  {
   "cell_type": "markdown",
   "id": "0387f09f",
   "metadata": {
    "id": "mZ19ifmKz6_I",
    "papermill": {
     "duration": 0.014834,
     "end_time": "2022-12-06T10:10:21.575562",
     "exception": false,
     "start_time": "2022-12-06T10:10:21.560728",
     "status": "completed"
    },
    "tags": []
   },
   "source": [
    "No duplicate records"
   ]
  },
  {
   "cell_type": "code",
   "execution_count": 11,
   "id": "634b2dc9",
   "metadata": {
    "execution": {
     "iopub.execute_input": "2022-12-06T10:10:21.609753Z",
     "iopub.status.busy": "2022-12-06T10:10:21.608990Z",
     "iopub.status.idle": "2022-12-06T10:10:21.618351Z",
     "shell.execute_reply": "2022-12-06T10:10:21.616309Z"
    },
    "id": "V5BbIs4Mz6_K",
    "outputId": "656e6863-7b08-471f-cac0-1b2d147bfe49",
    "papermill": {
     "duration": 0.031002,
     "end_time": "2022-12-06T10:10:21.621777",
     "exception": false,
     "start_time": "2022-12-06T10:10:21.590775",
     "status": "completed"
    },
    "tags": []
   },
   "outputs": [
    {
     "data": {
      "text/plain": [
       "['gender', 'ever_married', 'work_type', 'Residence_type', 'smoking_status']"
      ]
     },
     "execution_count": 11,
     "metadata": {},
     "output_type": "execute_result"
    }
   ],
   "source": [
    "categorical = list(df.dtypes[df.dtypes == 'object'].index)\n",
    "categorical"
   ]
  },
  {
   "cell_type": "code",
   "execution_count": 12,
   "id": "a04013b2",
   "metadata": {
    "execution": {
     "iopub.execute_input": "2022-12-06T10:10:21.661240Z",
     "iopub.status.busy": "2022-12-06T10:10:21.659158Z",
     "iopub.status.idle": "2022-12-06T10:10:21.702309Z",
     "shell.execute_reply": "2022-12-06T10:10:21.701040Z"
    },
    "id": "z2aH4Ih5z6_L",
    "outputId": "15939baa-3664-4407-afb6-f1a3c7fffee0",
    "papermill": {
     "duration": 0.065527,
     "end_time": "2022-12-06T10:10:21.704840",
     "exception": false,
     "start_time": "2022-12-06T10:10:21.639313",
     "status": "completed"
    },
    "tags": []
   },
   "outputs": [
    {
     "data": {
      "text/html": [
       "<div>\n",
       "<style scoped>\n",
       "    .dataframe tbody tr th:only-of-type {\n",
       "        vertical-align: middle;\n",
       "    }\n",
       "\n",
       "    .dataframe tbody tr th {\n",
       "        vertical-align: top;\n",
       "    }\n",
       "\n",
       "    .dataframe thead th {\n",
       "        text-align: right;\n",
       "    }\n",
       "</style>\n",
       "<table border=\"1\" class=\"dataframe\">\n",
       "  <thead>\n",
       "    <tr style=\"text-align: right;\">\n",
       "      <th></th>\n",
       "      <th>gender</th>\n",
       "      <th>age</th>\n",
       "      <th>hypertension</th>\n",
       "      <th>heart_disease</th>\n",
       "      <th>ever_married</th>\n",
       "      <th>work_type</th>\n",
       "      <th>Residence_type</th>\n",
       "      <th>avg_glucose_level</th>\n",
       "      <th>bmi</th>\n",
       "      <th>smoking_status</th>\n",
       "      <th>stroke</th>\n",
       "    </tr>\n",
       "  </thead>\n",
       "  <tbody>\n",
       "    <tr>\n",
       "      <th>0</th>\n",
       "      <td>male</td>\n",
       "      <td>67.0</td>\n",
       "      <td>0</td>\n",
       "      <td>1</td>\n",
       "      <td>yes</td>\n",
       "      <td>private</td>\n",
       "      <td>urban</td>\n",
       "      <td>228.69</td>\n",
       "      <td>36.6</td>\n",
       "      <td>formerly_smoked</td>\n",
       "      <td>1</td>\n",
       "    </tr>\n",
       "    <tr>\n",
       "      <th>1</th>\n",
       "      <td>female</td>\n",
       "      <td>61.0</td>\n",
       "      <td>0</td>\n",
       "      <td>0</td>\n",
       "      <td>yes</td>\n",
       "      <td>self-employed</td>\n",
       "      <td>rural</td>\n",
       "      <td>202.21</td>\n",
       "      <td>28.7</td>\n",
       "      <td>never_smoked</td>\n",
       "      <td>1</td>\n",
       "    </tr>\n",
       "    <tr>\n",
       "      <th>2</th>\n",
       "      <td>male</td>\n",
       "      <td>80.0</td>\n",
       "      <td>0</td>\n",
       "      <td>1</td>\n",
       "      <td>yes</td>\n",
       "      <td>private</td>\n",
       "      <td>rural</td>\n",
       "      <td>105.92</td>\n",
       "      <td>32.5</td>\n",
       "      <td>never_smoked</td>\n",
       "      <td>1</td>\n",
       "    </tr>\n",
       "    <tr>\n",
       "      <th>3</th>\n",
       "      <td>female</td>\n",
       "      <td>49.0</td>\n",
       "      <td>0</td>\n",
       "      <td>0</td>\n",
       "      <td>yes</td>\n",
       "      <td>private</td>\n",
       "      <td>urban</td>\n",
       "      <td>171.23</td>\n",
       "      <td>34.4</td>\n",
       "      <td>smokes</td>\n",
       "      <td>1</td>\n",
       "    </tr>\n",
       "    <tr>\n",
       "      <th>4</th>\n",
       "      <td>female</td>\n",
       "      <td>79.0</td>\n",
       "      <td>1</td>\n",
       "      <td>0</td>\n",
       "      <td>yes</td>\n",
       "      <td>self-employed</td>\n",
       "      <td>rural</td>\n",
       "      <td>174.12</td>\n",
       "      <td>24.0</td>\n",
       "      <td>never_smoked</td>\n",
       "      <td>1</td>\n",
       "    </tr>\n",
       "  </tbody>\n",
       "</table>\n",
       "</div>"
      ],
      "text/plain": [
       "   gender   age  hypertension  heart_disease ever_married      work_type  \\\n",
       "0    male  67.0             0              1          yes        private   \n",
       "1  female  61.0             0              0          yes  self-employed   \n",
       "2    male  80.0             0              1          yes        private   \n",
       "3  female  49.0             0              0          yes        private   \n",
       "4  female  79.0             1              0          yes  self-employed   \n",
       "\n",
       "  Residence_type  avg_glucose_level   bmi   smoking_status  stroke  \n",
       "0          urban             228.69  36.6  formerly_smoked       1  \n",
       "1          rural             202.21  28.7     never_smoked       1  \n",
       "2          rural             105.92  32.5     never_smoked       1  \n",
       "3          urban             171.23  34.4           smokes       1  \n",
       "4          rural             174.12  24.0     never_smoked       1  "
      ]
     },
     "execution_count": 12,
     "metadata": {},
     "output_type": "execute_result"
    }
   ],
   "source": [
    "for col in categorical:\n",
    "    df[col] = df[col].str.lower().str.replace(\" \", \"_\")\n",
    "    \n",
    "df.head()"
   ]
  },
  {
   "cell_type": "code",
   "execution_count": 13,
   "id": "502b34fe",
   "metadata": {
    "execution": {
     "iopub.execute_input": "2022-12-06T10:10:21.739037Z",
     "iopub.status.busy": "2022-12-06T10:10:21.738623Z",
     "iopub.status.idle": "2022-12-06T10:10:21.752357Z",
     "shell.execute_reply": "2022-12-06T10:10:21.750833Z"
    },
    "id": "wuP5P1dIz6_M",
    "outputId": "666d9d3a-1c1c-4326-e2c3-07aea94ee61a",
    "papermill": {
     "duration": 0.034356,
     "end_time": "2022-12-06T10:10:21.754981",
     "exception": false,
     "start_time": "2022-12-06T10:10:21.720625",
     "status": "completed"
    },
    "tags": []
   },
   "outputs": [
    {
     "name": "stdout",
     "output_type": "stream",
     "text": [
      "\n",
      "gender\n",
      "['male' 'female' 'other']\n",
      "No of Unique classes  3\n",
      "\n",
      "ever_married\n",
      "['yes' 'no']\n",
      "No of Unique classes  2\n",
      "\n",
      "work_type\n",
      "['private' 'self-employed' 'govt_job' 'children' 'never_worked']\n",
      "No of Unique classes  5\n",
      "\n",
      "Residence_type\n",
      "['urban' 'rural']\n",
      "No of Unique classes  2\n",
      "\n",
      "smoking_status\n",
      "['formerly_smoked' 'never_smoked' 'smokes' 'unknown']\n",
      "No of Unique classes  4\n"
     ]
    }
   ],
   "source": [
    "for col in categorical:\n",
    "    print('\\n'+col)\n",
    "    print(df[col].unique())\n",
    "    print(\"No of Unique classes \",df[col].nunique())"
   ]
  },
  {
   "cell_type": "code",
   "execution_count": 14,
   "id": "ec620b1f",
   "metadata": {
    "execution": {
     "iopub.execute_input": "2022-12-06T10:10:21.788776Z",
     "iopub.status.busy": "2022-12-06T10:10:21.788385Z",
     "iopub.status.idle": "2022-12-06T10:10:21.808065Z",
     "shell.execute_reply": "2022-12-06T10:10:21.806666Z"
    },
    "id": "ylaXPtakz6_N",
    "outputId": "d59dc2c1-e53c-4db7-f925-0dad19cf30c3",
    "papermill": {
     "duration": 0.040523,
     "end_time": "2022-12-06T10:10:21.811688",
     "exception": false,
     "start_time": "2022-12-06T10:10:21.771165",
     "status": "completed"
    },
    "tags": []
   },
   "outputs": [
    {
     "data": {
      "text/html": [
       "<div>\n",
       "<style scoped>\n",
       "    .dataframe tbody tr th:only-of-type {\n",
       "        vertical-align: middle;\n",
       "    }\n",
       "\n",
       "    .dataframe tbody tr th {\n",
       "        vertical-align: top;\n",
       "    }\n",
       "\n",
       "    .dataframe thead th {\n",
       "        text-align: right;\n",
       "    }\n",
       "</style>\n",
       "<table border=\"1\" class=\"dataframe\">\n",
       "  <thead>\n",
       "    <tr style=\"text-align: right;\">\n",
       "      <th></th>\n",
       "      <th>gender</th>\n",
       "      <th>age</th>\n",
       "      <th>hypertension</th>\n",
       "      <th>heart_disease</th>\n",
       "      <th>ever_married</th>\n",
       "      <th>work_type</th>\n",
       "      <th>Residence_type</th>\n",
       "      <th>avg_glucose_level</th>\n",
       "      <th>bmi</th>\n",
       "      <th>smoking_status</th>\n",
       "      <th>stroke</th>\n",
       "    </tr>\n",
       "  </thead>\n",
       "  <tbody>\n",
       "    <tr>\n",
       "      <th>0</th>\n",
       "      <td>male</td>\n",
       "      <td>67.0</td>\n",
       "      <td>0</td>\n",
       "      <td>1</td>\n",
       "      <td>yes</td>\n",
       "      <td>private</td>\n",
       "      <td>urban</td>\n",
       "      <td>228.69</td>\n",
       "      <td>36.6</td>\n",
       "      <td>formerly_smoked</td>\n",
       "      <td>1</td>\n",
       "    </tr>\n",
       "    <tr>\n",
       "      <th>1</th>\n",
       "      <td>female</td>\n",
       "      <td>61.0</td>\n",
       "      <td>0</td>\n",
       "      <td>0</td>\n",
       "      <td>yes</td>\n",
       "      <td>self-employed</td>\n",
       "      <td>rural</td>\n",
       "      <td>202.21</td>\n",
       "      <td>28.7</td>\n",
       "      <td>never_smoked</td>\n",
       "      <td>1</td>\n",
       "    </tr>\n",
       "    <tr>\n",
       "      <th>2</th>\n",
       "      <td>male</td>\n",
       "      <td>80.0</td>\n",
       "      <td>0</td>\n",
       "      <td>1</td>\n",
       "      <td>yes</td>\n",
       "      <td>private</td>\n",
       "      <td>rural</td>\n",
       "      <td>105.92</td>\n",
       "      <td>32.5</td>\n",
       "      <td>never_smoked</td>\n",
       "      <td>1</td>\n",
       "    </tr>\n",
       "    <tr>\n",
       "      <th>3</th>\n",
       "      <td>female</td>\n",
       "      <td>49.0</td>\n",
       "      <td>0</td>\n",
       "      <td>0</td>\n",
       "      <td>yes</td>\n",
       "      <td>private</td>\n",
       "      <td>urban</td>\n",
       "      <td>171.23</td>\n",
       "      <td>34.4</td>\n",
       "      <td>smokes</td>\n",
       "      <td>1</td>\n",
       "    </tr>\n",
       "    <tr>\n",
       "      <th>4</th>\n",
       "      <td>female</td>\n",
       "      <td>79.0</td>\n",
       "      <td>1</td>\n",
       "      <td>0</td>\n",
       "      <td>yes</td>\n",
       "      <td>self-employed</td>\n",
       "      <td>rural</td>\n",
       "      <td>174.12</td>\n",
       "      <td>24.0</td>\n",
       "      <td>never_smoked</td>\n",
       "      <td>1</td>\n",
       "    </tr>\n",
       "  </tbody>\n",
       "</table>\n",
       "</div>"
      ],
      "text/plain": [
       "   gender   age  hypertension  heart_disease ever_married      work_type  \\\n",
       "0    male  67.0             0              1          yes        private   \n",
       "1  female  61.0             0              0          yes  self-employed   \n",
       "2    male  80.0             0              1          yes        private   \n",
       "3  female  49.0             0              0          yes        private   \n",
       "4  female  79.0             1              0          yes  self-employed   \n",
       "\n",
       "  Residence_type  avg_glucose_level   bmi   smoking_status  stroke  \n",
       "0          urban             228.69  36.6  formerly_smoked       1  \n",
       "1          rural             202.21  28.7     never_smoked       1  \n",
       "2          rural             105.92  32.5     never_smoked       1  \n",
       "3          urban             171.23  34.4           smokes       1  \n",
       "4          rural             174.12  24.0     never_smoked       1  "
      ]
     },
     "execution_count": 14,
     "metadata": {},
     "output_type": "execute_result"
    }
   ],
   "source": [
    "df = df[df.gender != 'Other']\n",
    "df.head()"
   ]
  },
  {
   "cell_type": "code",
   "execution_count": 15,
   "id": "e5653a31",
   "metadata": {
    "execution": {
     "iopub.execute_input": "2022-12-06T10:10:21.845323Z",
     "iopub.status.busy": "2022-12-06T10:10:21.844869Z",
     "iopub.status.idle": "2022-12-06T10:10:21.852500Z",
     "shell.execute_reply": "2022-12-06T10:10:21.851344Z"
    },
    "id": "T3UO9elAz6_O",
    "outputId": "f3b831bb-0057-430a-a182-f555bd5ad5a9",
    "papermill": {
     "duration": 0.027151,
     "end_time": "2022-12-06T10:10:21.854777",
     "exception": false,
     "start_time": "2022-12-06T10:10:21.827626",
     "status": "completed"
    },
    "tags": []
   },
   "outputs": [
    {
     "data": {
      "text/plain": [
       "(5110, 11)"
      ]
     },
     "execution_count": 15,
     "metadata": {},
     "output_type": "execute_result"
    }
   ],
   "source": [
    "df.shape"
   ]
  },
  {
   "cell_type": "code",
   "execution_count": 16,
   "id": "0f0f6168",
   "metadata": {
    "execution": {
     "iopub.execute_input": "2022-12-06T10:10:21.888595Z",
     "iopub.status.busy": "2022-12-06T10:10:21.888200Z",
     "iopub.status.idle": "2022-12-06T10:10:21.899285Z",
     "shell.execute_reply": "2022-12-06T10:10:21.897961Z"
    },
    "id": "AezaA74Mz6_P",
    "outputId": "5c418669-e076-4dee-85c0-2b722cc4e5fb",
    "papermill": {
     "duration": 0.030855,
     "end_time": "2022-12-06T10:10:21.901590",
     "exception": false,
     "start_time": "2022-12-06T10:10:21.870735",
     "status": "completed"
    },
    "tags": []
   },
   "outputs": [
    {
     "data": {
      "text/plain": [
       "0.32    5\n",
       "0.56    5\n",
       "0.72    5\n",
       "0.88    5\n",
       "0.24    5\n",
       "1.00    5\n",
       "1.56    4\n",
       "1.16    4\n",
       "0.64    4\n",
       "0.80    4\n",
       "1.40    3\n",
       "0.48    3\n",
       "0.16    3\n",
       "0.40    2\n",
       "0.08    2\n",
       "Name: age, dtype: int64"
      ]
     },
     "execution_count": 16,
     "metadata": {},
     "output_type": "execute_result"
    }
   ],
   "source": [
    "df.age.value_counts().iloc[-15:]"
   ]
  },
  {
   "cell_type": "markdown",
   "id": "c99e1018",
   "metadata": {
    "id": "YgkIhJFFz6_Q",
    "papermill": {
     "duration": 0.015612,
     "end_time": "2022-12-06T10:10:21.934173",
     "exception": false,
     "start_time": "2022-12-06T10:10:21.918561",
     "status": "completed"
    },
    "tags": []
   },
   "source": [
    "Let's drop rows where age < 18"
   ]
  },
  {
   "cell_type": "code",
   "execution_count": 17,
   "id": "e71b59dd",
   "metadata": {
    "execution": {
     "iopub.execute_input": "2022-12-06T10:10:21.968277Z",
     "iopub.status.busy": "2022-12-06T10:10:21.967841Z",
     "iopub.status.idle": "2022-12-06T10:10:21.974830Z",
     "shell.execute_reply": "2022-12-06T10:10:21.973690Z"
    },
    "id": "pAR3YsI7z6_S",
    "papermill": {
     "duration": 0.02706,
     "end_time": "2022-12-06T10:10:21.977442",
     "exception": false,
     "start_time": "2022-12-06T10:10:21.950382",
     "status": "completed"
    },
    "tags": []
   },
   "outputs": [],
   "source": [
    "df = df[df.age > 18]"
   ]
  },
  {
   "cell_type": "code",
   "execution_count": 18,
   "id": "39027b6d",
   "metadata": {
    "execution": {
     "iopub.execute_input": "2022-12-06T10:10:22.012117Z",
     "iopub.status.busy": "2022-12-06T10:10:22.011498Z",
     "iopub.status.idle": "2022-12-06T10:10:22.022611Z",
     "shell.execute_reply": "2022-12-06T10:10:22.021434Z"
    },
    "id": "ceaLQGrfz6_T",
    "outputId": "00d5b9fb-a022-4da5-c139-f048f7c92257",
    "papermill": {
     "duration": 0.031565,
     "end_time": "2022-12-06T10:10:22.024976",
     "exception": false,
     "start_time": "2022-12-06T10:10:21.993411",
     "status": "completed"
    },
    "tags": []
   },
   "outputs": [
    {
     "data": {
      "text/plain": [
       "never_smoked       1727\n",
       "formerly_smoked     857\n",
       "unknown             835\n",
       "smokes              775\n",
       "Name: smoking_status, dtype: int64"
      ]
     },
     "execution_count": 18,
     "metadata": {},
     "output_type": "execute_result"
    }
   ],
   "source": [
    "df.smoking_status.value_counts()"
   ]
  },
  {
   "cell_type": "code",
   "execution_count": 19,
   "id": "c2ed2a8c",
   "metadata": {
    "execution": {
     "iopub.execute_input": "2022-12-06T10:10:22.059191Z",
     "iopub.status.busy": "2022-12-06T10:10:22.058495Z",
     "iopub.status.idle": "2022-12-06T10:10:22.067573Z",
     "shell.execute_reply": "2022-12-06T10:10:22.066530Z"
    },
    "id": "zuLsZUKlz6_U",
    "outputId": "1559b350-8209-4ff2-ec6b-0f00772d1259",
    "papermill": {
     "duration": 0.028951,
     "end_time": "2022-12-06T10:10:22.069980",
     "exception": false,
     "start_time": "2022-12-06T10:10:22.041029",
     "status": "completed"
    },
    "tags": []
   },
   "outputs": [
    {
     "data": {
      "text/plain": [
       "urban    2141\n",
       "rural    2053\n",
       "Name: Residence_type, dtype: int64"
      ]
     },
     "execution_count": 19,
     "metadata": {},
     "output_type": "execute_result"
    }
   ],
   "source": [
    "df.Residence_type.value_counts()"
   ]
  },
  {
   "cell_type": "markdown",
   "id": "5dbea708",
   "metadata": {
    "papermill": {
     "duration": 0.016186,
     "end_time": "2022-12-06T10:10:22.103109",
     "exception": false,
     "start_time": "2022-12-06T10:10:22.086923",
     "status": "completed"
    },
    "tags": []
   },
   "source": [
    "# Correlation Matrix"
   ]
  },
  {
   "cell_type": "code",
   "execution_count": 20,
   "id": "d011a992",
   "metadata": {
    "execution": {
     "iopub.execute_input": "2022-12-06T10:10:22.137527Z",
     "iopub.status.busy": "2022-12-06T10:10:22.137141Z",
     "iopub.status.idle": "2022-12-06T10:10:22.652659Z",
     "shell.execute_reply": "2022-12-06T10:10:22.651601Z"
    },
    "id": "aRrxFy-Oz6_V",
    "outputId": "c23375a7-8c4f-4dcb-9ab8-29a78ca5de89",
    "papermill": {
     "duration": 0.537799,
     "end_time": "2022-12-06T10:10:22.657032",
     "exception": false,
     "start_time": "2022-12-06T10:10:22.119233",
     "status": "completed"
    },
    "tags": []
   },
   "outputs": [
    {
     "data": {
      "image/png": "[encoded data removed]",
      "text/plain": [
       "<Figure size 1800x1080 with 2 Axes>"
      ]
     },
     "metadata": {},
     "output_type": "display_data"
    }
   ],
   "source": [
    "corr = df.corr()\n",
    "plt.figure(figsize=(25, 15))\n",
    "sns.heatmap(corr, annot=True)\n",
    "plt.title('Correlation Matrix', fontsize=24)\n",
    "plt.show()"
   ]
  },
  {
   "cell_type": "markdown",
   "id": "8be5ad1d",
   "metadata": {
    "id": "yULfueCwz6_l",
    "papermill": {
     "duration": 0.021366,
     "end_time": "2022-12-06T10:10:22.698483",
     "exception": false,
     "start_time": "2022-12-06T10:10:22.677117",
     "status": "completed"
    },
    "tags": []
   },
   "source": [
    "### One Hot Encoding"
   ]
  },
  {
   "cell_type": "code",
   "execution_count": 21,
   "id": "40d94eb8",
   "metadata": {
    "execution": {
     "iopub.execute_input": "2022-12-06T10:10:22.738538Z",
     "iopub.status.busy": "2022-12-06T10:10:22.738025Z",
     "iopub.status.idle": "2022-12-06T10:10:22.770505Z",
     "shell.execute_reply": "2022-12-06T10:10:22.769361Z"
    },
    "id": "LDad3XqYz6_l",
    "outputId": "4f6724ef-60ba-4887-c0c3-2dd19a16a2af",
    "papermill": {
     "duration": 0.053682,
     "end_time": "2022-12-06T10:10:22.773265",
     "exception": false,
     "start_time": "2022-12-06T10:10:22.719583",
     "status": "completed"
    },
    "tags": []
   },
   "outputs": [
    {
     "data": {
      "text/html": [
       "<div>\n",
       "<style scoped>\n",
       "    .dataframe tbody tr th:only-of-type {\n",
       "        vertical-align: middle;\n",
       "    }\n",
       "\n",
       "    .dataframe tbody tr th {\n",
       "        vertical-align: top;\n",
       "    }\n",
       "\n",
       "    .dataframe thead th {\n",
       "        text-align: right;\n",
       "    }\n",
       "</style>\n",
       "<table border=\"1\" class=\"dataframe\">\n",
       "  <thead>\n",
       "    <tr style=\"text-align: right;\">\n",
       "      <th></th>\n",
       "      <th>age</th>\n",
       "      <th>hypertension</th>\n",
       "      <th>heart_disease</th>\n",
       "      <th>avg_glucose_level</th>\n",
       "      <th>bmi</th>\n",
       "      <th>stroke</th>\n",
       "      <th>gender_female</th>\n",
       "      <th>gender_male</th>\n",
       "      <th>gender_other</th>\n",
       "      <th>ever_married_no</th>\n",
       "      <th>...</th>\n",
       "      <th>work_type_govt_job</th>\n",
       "      <th>work_type_never_worked</th>\n",
       "      <th>work_type_private</th>\n",
       "      <th>work_type_self-employed</th>\n",
       "      <th>Residence_type_rural</th>\n",
       "      <th>Residence_type_urban</th>\n",
       "      <th>smoking_status_formerly_smoked</th>\n",
       "      <th>smoking_status_never_smoked</th>\n",
       "      <th>smoking_status_smokes</th>\n",
       "      <th>smoking_status_unknown</th>\n",
       "    </tr>\n",
       "  </thead>\n",
       "  <tbody>\n",
       "    <tr>\n",
       "      <th>0</th>\n",
       "      <td>67.0</td>\n",
       "      <td>0</td>\n",
       "      <td>1</td>\n",
       "      <td>228.69</td>\n",
       "      <td>36.6</td>\n",
       "      <td>1</td>\n",
       "      <td>0</td>\n",
       "      <td>1</td>\n",
       "      <td>0</td>\n",
       "      <td>0</td>\n",
       "      <td>...</td>\n",
       "      <td>0</td>\n",
       "      <td>0</td>\n",
       "      <td>1</td>\n",
       "      <td>0</td>\n",
       "      <td>0</td>\n",
       "      <td>1</td>\n",
       "      <td>1</td>\n",
       "      <td>0</td>\n",
       "      <td>0</td>\n",
       "      <td>0</td>\n",
       "    </tr>\n",
       "    <tr>\n",
       "      <th>1</th>\n",
       "      <td>61.0</td>\n",
       "      <td>0</td>\n",
       "      <td>0</td>\n",
       "      <td>202.21</td>\n",
       "      <td>28.7</td>\n",
       "      <td>1</td>\n",
       "      <td>1</td>\n",
       "      <td>0</td>\n",
       "      <td>0</td>\n",
       "      <td>0</td>\n",
       "      <td>...</td>\n",
       "      <td>0</td>\n",
       "      <td>0</td>\n",
       "      <td>0</td>\n",
       "      <td>1</td>\n",
       "      <td>1</td>\n",
       "      <td>0</td>\n",
       "      <td>0</td>\n",
       "      <td>1</td>\n",
       "      <td>0</td>\n",
       "      <td>0</td>\n",
       "    </tr>\n",
       "    <tr>\n",
       "      <th>2</th>\n",
       "      <td>80.0</td>\n",
       "      <td>0</td>\n",
       "      <td>1</td>\n",
       "      <td>105.92</td>\n",
       "      <td>32.5</td>\n",
       "      <td>1</td>\n",
       "      <td>0</td>\n",
       "      <td>1</td>\n",
       "      <td>0</td>\n",
       "      <td>0</td>\n",
       "      <td>...</td>\n",
       "      <td>0</td>\n",
       "      <td>0</td>\n",
       "      <td>1</td>\n",
       "      <td>0</td>\n",
       "      <td>1</td>\n",
       "      <td>0</td>\n",
       "      <td>0</td>\n",
       "      <td>1</td>\n",
       "      <td>0</td>\n",
       "      <td>0</td>\n",
       "    </tr>\n",
       "    <tr>\n",
       "      <th>3</th>\n",
       "      <td>49.0</td>\n",
       "      <td>0</td>\n",
       "      <td>0</td>\n",
       "      <td>171.23</td>\n",
       "      <td>34.4</td>\n",
       "      <td>1</td>\n",
       "      <td>1</td>\n",
       "      <td>0</td>\n",
       "      <td>0</td>\n",
       "      <td>0</td>\n",
       "      <td>...</td>\n",
       "      <td>0</td>\n",
       "      <td>0</td>\n",
       "      <td>1</td>\n",
       "      <td>0</td>\n",
       "      <td>0</td>\n",
       "      <td>1</td>\n",
       "      <td>0</td>\n",
       "      <td>0</td>\n",
       "      <td>1</td>\n",
       "      <td>0</td>\n",
       "    </tr>\n",
       "    <tr>\n",
       "      <th>4</th>\n",
       "      <td>79.0</td>\n",
       "      <td>1</td>\n",
       "      <td>0</td>\n",
       "      <td>174.12</td>\n",
       "      <td>24.0</td>\n",
       "      <td>1</td>\n",
       "      <td>1</td>\n",
       "      <td>0</td>\n",
       "      <td>0</td>\n",
       "      <td>0</td>\n",
       "      <td>...</td>\n",
       "      <td>0</td>\n",
       "      <td>0</td>\n",
       "      <td>0</td>\n",
       "      <td>1</td>\n",
       "      <td>1</td>\n",
       "      <td>0</td>\n",
       "      <td>0</td>\n",
       "      <td>1</td>\n",
       "      <td>0</td>\n",
       "      <td>0</td>\n",
       "    </tr>\n",
       "  </tbody>\n",
       "</table>\n",
       "<p>5 rows × 21 columns</p>\n",
       "</div>"
      ],
      "text/plain": [
       "    age  hypertension  heart_disease  avg_glucose_level   bmi  stroke  \\\n",
       "0  67.0             0              1             228.69  36.6       1   \n",
       "1  61.0             0              0             202.21  28.7       1   \n",
       "2  80.0             0              1             105.92  32.5       1   \n",
       "3  49.0             0              0             171.23  34.4       1   \n",
       "4  79.0             1              0             174.12  24.0       1   \n",
       "\n",
       "   gender_female  gender_male  gender_other  ever_married_no  ...  \\\n",
       "0              0            1             0                0  ...   \n",
       "1              1            0             0                0  ...   \n",
       "2              0            1             0                0  ...   \n",
       "3              1            0             0                0  ...   \n",
       "4              1            0             0                0  ...   \n",
       "\n",
       "   work_type_govt_job  work_type_never_worked  work_type_private  \\\n",
       "0                   0                       0                  1   \n",
       "1                   0                       0                  0   \n",
       "2                   0                       0                  1   \n",
       "3                   0                       0                  1   \n",
       "4                   0                       0                  0   \n",
       "\n",
       "   work_type_self-employed  Residence_type_rural  Residence_type_urban  \\\n",
       "0                        0                     0                     1   \n",
       "1                        1                     1                     0   \n",
       "2                        0                     1                     0   \n",
       "3                        0                     0                     1   \n",
       "4                        1                     1                     0   \n",
       "\n",
       "   smoking_status_formerly_smoked  smoking_status_never_smoked  \\\n",
       "0                               1                            0   \n",
       "1                               0                            1   \n",
       "2                               0                            1   \n",
       "3                               0                            0   \n",
       "4                               0                            1   \n",
       "\n",
       "   smoking_status_smokes  smoking_status_unknown  \n",
       "0                      0                       0  \n",
       "1                      0                       0  \n",
       "2                      0                       0  \n",
       "3                      1                       0  \n",
       "4                      0                       0  \n",
       "\n",
       "[5 rows x 21 columns]"
      ]
     },
     "execution_count": 21,
     "metadata": {},
     "output_type": "execute_result"
    }
   ],
   "source": [
    "df = pd.get_dummies(\n",
    "    df, columns=['gender','ever_married','work_type','Residence_type','smoking_status'])\n",
    "\n",
    "df.head()"
   ]
  },
  {
   "cell_type": "markdown",
   "id": "599422aa",
   "metadata": {
    "id": "DfMLblb9z6_m",
    "papermill": {
     "duration": 0.017365,
     "end_time": "2022-12-06T10:10:22.808403",
     "exception": false,
     "start_time": "2022-12-06T10:10:22.791038",
     "status": "completed"
    },
    "tags": []
   },
   "source": [
    "Correlation after one hot encoding"
   ]
  },
  {
   "cell_type": "code",
   "execution_count": 22,
   "id": "123524f3",
   "metadata": {
    "execution": {
     "iopub.execute_input": "2022-12-06T10:10:22.845802Z",
     "iopub.status.busy": "2022-12-06T10:10:22.844782Z",
     "iopub.status.idle": "2022-12-06T10:10:25.191699Z",
     "shell.execute_reply": "2022-12-06T10:10:25.190722Z"
    },
    "id": "yEE4n3mEz6_n",
    "outputId": "93632fdb-4542-4de9-9661-45b0291d1e64",
    "papermill": {
     "duration": 2.371716,
     "end_time": "2022-12-06T10:10:25.197580",
     "exception": false,
     "start_time": "2022-12-06T10:10:22.825864",
     "status": "completed"
    },
    "tags": []
   },
   "outputs": [
    {
     "data": {
      "image/png": "[encoded data removed]",
      "text/plain": [
       "<Figure size 1080x1080 with 2 Axes>"
      ]
     },
     "metadata": {},
     "output_type": "display_data"
    }
   ],
   "source": [
    "plt.figure(figsize=(15, 15))\n",
    "sns.heatmap(df.corr(), annot=True);\n",
    "plt.title('Correlation Matrix', fontsize=20);\n",
    "plt.show()"
   ]
  },
  {
   "cell_type": "code",
   "execution_count": 23,
   "id": "cfb54823",
   "metadata": {
    "execution": {
     "iopub.execute_input": "2022-12-06T10:10:25.247166Z",
     "iopub.status.busy": "2022-12-06T10:10:25.246405Z",
     "iopub.status.idle": "2022-12-06T10:10:25.262190Z",
     "shell.execute_reply": "2022-12-06T10:10:25.261250Z"
    },
    "id": "0yuoRFpqz6_n",
    "outputId": "712f1ed0-ea7b-4e36-df74-6e5efed7fb73",
    "papermill": {
     "duration": 0.04218,
     "end_time": "2022-12-06T10:10:25.264421",
     "exception": false,
     "start_time": "2022-12-06T10:10:25.222241",
     "status": "completed"
    },
    "tags": []
   },
   "outputs": [
    {
     "data": {
      "text/plain": [
       "age                               0.250469\n",
       "avg_glucose_level                 0.127510\n",
       "heart_disease                     0.126038\n",
       "hypertension                      0.115097\n",
       "ever_married_yes                  0.057112\n",
       "smoking_status_formerly_smoked    0.049050\n",
       "work_type_self-employed           0.045410\n",
       "gender_male                       0.022444\n",
       "Residence_type_urban              0.016023\n",
       "gender_other                     -0.003863\n",
       "work_type_never_worked           -0.005464\n",
       "bmi                              -0.008029\n",
       "smoking_status_smokes            -0.009505\n",
       "smoking_status_unknown           -0.010592\n",
       "work_type_govt_job               -0.014468\n",
       "Residence_type_rural             -0.016023\n",
       "gender_female                    -0.022319\n",
       "smoking_status_never_smoked      -0.024096\n",
       "work_type_private                -0.026321\n",
       "ever_married_no                  -0.057112\n",
       "Name: stroke, dtype: float64"
      ]
     },
     "execution_count": 23,
     "metadata": {},
     "output_type": "execute_result"
    }
   ],
   "source": [
    "df.corr()['stroke'].sort_values(ascending=False)[1:] # importance of all features"
   ]
  },
  {
   "cell_type": "code",
   "execution_count": 24,
   "id": "9dd52383",
   "metadata": {
    "execution": {
     "iopub.execute_input": "2022-12-06T10:10:25.309985Z",
     "iopub.status.busy": "2022-12-06T10:10:25.309211Z",
     "iopub.status.idle": "2022-12-06T10:10:25.315784Z",
     "shell.execute_reply": "2022-12-06T10:10:25.314951Z"
    },
    "id": "u_dh3fDfz6_o",
    "outputId": "37e77965-5aa0-4093-fc44-f9973fff8c9a",
    "papermill": {
     "duration": 0.032033,
     "end_time": "2022-12-06T10:10:25.318115",
     "exception": false,
     "start_time": "2022-12-06T10:10:25.286082",
     "status": "completed"
    },
    "tags": []
   },
   "outputs": [
    {
     "data": {
      "text/plain": [
       "Index(['age', 'hypertension', 'heart_disease', 'avg_glucose_level', 'bmi',\n",
       "       'stroke', 'gender_female', 'gender_male', 'gender_other',\n",
       "       'ever_married_no', 'ever_married_yes', 'work_type_govt_job',\n",
       "       'work_type_never_worked', 'work_type_private',\n",
       "       'work_type_self-employed', 'Residence_type_rural',\n",
       "       'Residence_type_urban', 'smoking_status_formerly_smoked',\n",
       "       'smoking_status_never_smoked', 'smoking_status_smokes',\n",
       "       'smoking_status_unknown'],\n",
       "      dtype='object')"
      ]
     },
     "execution_count": 24,
     "metadata": {},
     "output_type": "execute_result"
    }
   ],
   "source": [
    "df.columns"
   ]
  },
  {
   "cell_type": "code",
   "execution_count": 25,
   "id": "0e71fc02",
   "metadata": {
    "execution": {
     "iopub.execute_input": "2022-12-06T10:10:25.364759Z",
     "iopub.status.busy": "2022-12-06T10:10:25.364031Z",
     "iopub.status.idle": "2022-12-06T10:10:25.371879Z",
     "shell.execute_reply": "2022-12-06T10:10:25.370971Z"
    },
    "id": "voTPTfykz6_p",
    "papermill": {
     "duration": 0.033675,
     "end_time": "2022-12-06T10:10:25.374249",
     "exception": false,
     "start_time": "2022-12-06T10:10:25.340574",
     "status": "completed"
    },
    "tags": []
   },
   "outputs": [],
   "source": [
    "features = df[['age', 'hypertension', 'heart_disease', 'avg_glucose_level', 'bmi',\n",
    "       'gender_female', 'gender_male',\n",
    "       'ever_married_no', 'ever_married_yes', 'work_type_govt_job',\n",
    "       'work_type_never_worked', 'work_type_private',\n",
    "       'work_type_self-employed', 'Residence_type_rural',\n",
    "       'Residence_type_urban', 'smoking_status_formerly_smoked',\n",
    "       'smoking_status_never_smoked', 'smoking_status_smokes']]\n",
    "\n",
    "y = df[['stroke']]"
   ]
  },
  {
   "cell_type": "markdown",
   "id": "d17e2d30",
   "metadata": {
    "id": "Pm2eyP0wz6_p",
    "papermill": {
     "duration": 0.023045,
     "end_time": "2022-12-06T10:10:25.419317",
     "exception": false,
     "start_time": "2022-12-06T10:10:25.396272",
     "status": "completed"
    },
    "tags": []
   },
   "source": [
    "Scaling Features"
   ]
  },
  {
   "cell_type": "code",
   "execution_count": 26,
   "id": "cfca454f",
   "metadata": {
    "execution": {
     "iopub.execute_input": "2022-12-06T10:10:25.465270Z",
     "iopub.status.busy": "2022-12-06T10:10:25.464467Z",
     "iopub.status.idle": "2022-12-06T10:10:25.681710Z",
     "shell.execute_reply": "2022-12-06T10:10:25.680443Z"
    },
    "id": "O-SNBwaVz6_q",
    "papermill": {
     "duration": 0.243345,
     "end_time": "2022-12-06T10:10:25.684408",
     "exception": false,
     "start_time": "2022-12-06T10:10:25.441063",
     "status": "completed"
    },
    "tags": []
   },
   "outputs": [],
   "source": [
    "from sklearn.model_selection import train_test_split\n",
    "from sklearn.preprocessing import MinMaxScaler\n",
    "\n",
    "X_train, X_test, y_train, y_test = train_test_split(features,y,test_size = 0.2,random_state =2)\n",
    "\n",
    "scaler = MinMaxScaler()\n",
    "X_train_scaled = scaler.fit_transform(X_train)\n",
    "X_test_scaled = scaler.transform(X_test)"
   ]
  },
  {
   "cell_type": "code",
   "execution_count": 27,
   "id": "63e50e65",
   "metadata": {
    "execution": {
     "iopub.execute_input": "2022-12-06T10:10:25.730168Z",
     "iopub.status.busy": "2022-12-06T10:10:25.729746Z",
     "iopub.status.idle": "2022-12-06T10:10:25.736740Z",
     "shell.execute_reply": "2022-12-06T10:10:25.735549Z"
    },
    "id": "ZPF29hbxz6_r",
    "outputId": "f884f1c0-15e1-44b8-d0d4-214a83eba437",
    "papermill": {
     "duration": 0.032473,
     "end_time": "2022-12-06T10:10:25.739099",
     "exception": false,
     "start_time": "2022-12-06T10:10:25.706626",
     "status": "completed"
    },
    "tags": []
   },
   "outputs": [
    {
     "data": {
      "text/plain": [
       "(3355, 18)"
      ]
     },
     "execution_count": 27,
     "metadata": {},
     "output_type": "execute_result"
    }
   ],
   "source": [
    "X_train.shape"
   ]
  },
  {
   "cell_type": "code",
   "execution_count": 28,
   "id": "8974f36c",
   "metadata": {
    "execution": {
     "iopub.execute_input": "2022-12-06T10:10:25.784656Z",
     "iopub.status.busy": "2022-12-06T10:10:25.784272Z",
     "iopub.status.idle": "2022-12-06T10:10:25.791175Z",
     "shell.execute_reply": "2022-12-06T10:10:25.789966Z"
    },
    "id": "uEo8l1wzz6_r",
    "outputId": "debb2bab-e0b9-4796-c6ff-11cafb9d175b",
    "papermill": {
     "duration": 0.032744,
     "end_time": "2022-12-06T10:10:25.793722",
     "exception": false,
     "start_time": "2022-12-06T10:10:25.760978",
     "status": "completed"
    },
    "tags": []
   },
   "outputs": [
    {
     "data": {
      "text/plain": [
       "(839, 18)"
      ]
     },
     "execution_count": 28,
     "metadata": {},
     "output_type": "execute_result"
    }
   ],
   "source": [
    "X_test.shape"
   ]
  },
  {
   "cell_type": "code",
   "execution_count": 29,
   "id": "e5dc3ea6",
   "metadata": {
    "execution": {
     "iopub.execute_input": "2022-12-06T10:10:25.840299Z",
     "iopub.status.busy": "2022-12-06T10:10:25.839602Z",
     "iopub.status.idle": "2022-12-06T10:10:25.846369Z",
     "shell.execute_reply": "2022-12-06T10:10:25.845406Z"
    },
    "id": "-IJfYi80z6_s",
    "outputId": "b5c1bb5e-72b6-45dd-9923-eb27424079c1",
    "papermill": {
     "duration": 0.032419,
     "end_time": "2022-12-06T10:10:25.848517",
     "exception": false,
     "start_time": "2022-12-06T10:10:25.816098",
     "status": "completed"
    },
    "tags": []
   },
   "outputs": [
    {
     "data": {
      "text/plain": [
       "(839, 1)"
      ]
     },
     "execution_count": 29,
     "metadata": {},
     "output_type": "execute_result"
    }
   ],
   "source": [
    "y_test.shape"
   ]
  },
  {
   "cell_type": "markdown",
   "id": "c653595b",
   "metadata": {
    "papermill": {
     "duration": 0.021736,
     "end_time": "2022-12-06T10:10:25.892403",
     "exception": false,
     "start_time": "2022-12-06T10:10:25.870667",
     "status": "completed"
    },
    "tags": []
   },
   "source": [
    "# **DEFINING MODELS**"
   ]
  },
  {
   "cell_type": "code",
   "execution_count": 30,
   "id": "9691f4db",
   "metadata": {
    "execution": {
     "iopub.execute_input": "2022-12-06T10:10:25.938649Z",
     "iopub.status.busy": "2022-12-06T10:10:25.938220Z",
     "iopub.status.idle": "2022-12-06T10:10:26.150152Z",
     "shell.execute_reply": "2022-12-06T10:10:26.149133Z"
    },
    "id": "O8YdzNt56Znb",
    "papermill": {
     "duration": 0.238297,
     "end_time": "2022-12-06T10:10:26.152933",
     "exception": false,
     "start_time": "2022-12-06T10:10:25.914636",
     "status": "completed"
    },
    "tags": []
   },
   "outputs": [],
   "source": [
    "from sklearn import model_selection\n",
    "from sklearn.neighbors import KNeighborsClassifier\n",
    "from sklearn.naive_bayes import GaussianNB\n",
    "from sklearn.svm import SVC\n",
    "from sklearn.linear_model import LogisticRegression\n",
    "from sklearn.ensemble import RandomForestClassifier\n",
    "from sklearn.tree import DecisionTreeClassifier\n",
    "from sklearn.ensemble import VotingClassifier\n",
    "from sklearn.ensemble import StackingClassifier\n",
    "\n",
    "models = []\n",
    "models.append(('KNN', KNeighborsClassifier()))\n",
    "models.append(('NB', GaussianNB()))\n",
    "models.append(('SVM-Linear', SVC(kernel=\"linear\", C=1.0)))"
   ]
  },
  {
   "cell_type": "code",
   "execution_count": 31,
   "id": "edf464fc",
   "metadata": {
    "execution": {
     "iopub.execute_input": "2022-12-06T10:10:26.199940Z",
     "iopub.status.busy": "2022-12-06T10:10:26.199289Z",
     "iopub.status.idle": "2022-12-06T10:10:26.203855Z",
     "shell.execute_reply": "2022-12-06T10:10:26.202981Z"
    },
    "papermill": {
     "duration": 0.030778,
     "end_time": "2022-12-06T10:10:26.206128",
     "exception": false,
     "start_time": "2022-12-06T10:10:26.175350",
     "status": "completed"
    },
    "tags": []
   },
   "outputs": [],
   "source": [
    "lr = LogisticRegression()\n",
    "rf = RandomForestClassifier(n_estimators=100)\n",
    "dt = DecisionTreeClassifier()"
   ]
  },
  {
   "cell_type": "code",
   "execution_count": 32,
   "id": "d81fd07e",
   "metadata": {
    "execution": {
     "iopub.execute_input": "2022-12-06T10:10:26.253198Z",
     "iopub.status.busy": "2022-12-06T10:10:26.252442Z",
     "iopub.status.idle": "2022-12-06T10:10:26.257586Z",
     "shell.execute_reply": "2022-12-06T10:10:26.256698Z"
    },
    "papermill": {
     "duration": 0.031261,
     "end_time": "2022-12-06T10:10:26.260024",
     "exception": false,
     "start_time": "2022-12-06T10:10:26.228763",
     "status": "completed"
    },
    "tags": []
   },
   "outputs": [],
   "source": [
    "models.append(('Ensemble Learning',\n",
    "               StackingClassifier(\n",
    "                   estimators=[('logistics_regression', lr),  ('decision_tree', dt)], \n",
    "                   final_estimator= rf)\n",
    "              ))"
   ]
  },
  {
   "cell_type": "markdown",
   "id": "b64eb6c4",
   "metadata": {
    "papermill": {
     "duration": 0.022045,
     "end_time": "2022-12-06T10:10:26.304444",
     "exception": false,
     "start_time": "2022-12-06T10:10:26.282399",
     "status": "completed"
    },
    "tags": []
   },
   "source": [
    "# Appending Logistic Regression to models list"
   ]
  },
  {
   "cell_type": "code",
   "execution_count": 33,
   "id": "2fedae1e",
   "metadata": {
    "execution": {
     "iopub.execute_input": "2022-12-06T10:10:26.351659Z",
     "iopub.status.busy": "2022-12-06T10:10:26.350876Z",
     "iopub.status.idle": "2022-12-06T10:10:26.355627Z",
     "shell.execute_reply": "2022-12-06T10:10:26.354775Z"
    },
    "papermill": {
     "duration": 0.030863,
     "end_time": "2022-12-06T10:10:26.357994",
     "exception": false,
     "start_time": "2022-12-06T10:10:26.327131",
     "status": "completed"
    },
    "tags": []
   },
   "outputs": [],
   "source": [
    "models.append(('Logistic Regression', LogisticRegression()))"
   ]
  },
  {
   "cell_type": "code",
   "execution_count": 34,
   "id": "30cf686f",
   "metadata": {
    "execution": {
     "iopub.execute_input": "2022-12-06T10:10:26.406103Z",
     "iopub.status.busy": "2022-12-06T10:10:26.405650Z",
     "iopub.status.idle": "2022-12-06T10:10:26.410772Z",
     "shell.execute_reply": "2022-12-06T10:10:26.409576Z"
    },
    "papermill": {
     "duration": 0.031742,
     "end_time": "2022-12-06T10:10:26.413279",
     "exception": false,
     "start_time": "2022-12-06T10:10:26.381537",
     "status": "completed"
    },
    "tags": []
   },
   "outputs": [],
   "source": [
    "#  models.append(('Ensemble Learning',VotingClassifier(\n",
    "#     estimators=[('logistics_regression', lr), ('random_forest', rf), ('decision_tree', dt)],\n",
    "#     voting='soft')\n",
    "#               ))"
   ]
  },
  {
   "cell_type": "markdown",
   "id": "5421fd58",
   "metadata": {
    "papermill": {
     "duration": 0.022083,
     "end_time": "2022-12-06T10:10:26.457701",
     "exception": false,
     "start_time": "2022-12-06T10:10:26.435618",
     "status": "completed"
    },
    "tags": []
   },
   "source": [
    "# **TRAINING MODELS**"
   ]
  },
  {
   "cell_type": "code",
   "execution_count": 35,
   "id": "f2fdecbd",
   "metadata": {
    "execution": {
     "iopub.execute_input": "2022-12-06T10:10:26.504576Z",
     "iopub.status.busy": "2022-12-06T10:10:26.504170Z",
     "iopub.status.idle": "2022-12-06T10:10:31.828545Z",
     "shell.execute_reply": "2022-12-06T10:10:31.826802Z"
    },
    "id": "TLUgq1PA61-W",
    "outputId": "43864fac-2447-4fe7-edff-2ff93b9d46e8",
    "papermill": {
     "duration": 5.352008,
     "end_time": "2022-12-06T10:10:31.832375",
     "exception": false,
     "start_time": "2022-12-06T10:10:26.480367",
     "status": "completed"
    },
    "tags": []
   },
   "outputs": [
    {
     "name": "stdout",
     "output_type": "stream",
     "text": [
      "KNN: 0.943964 (0.009547)\n",
      "NB: 0.441729 (0.213723)\n"
     ]
    },
    {
     "name": "stderr",
     "output_type": "stream",
     "text": [
      "/opt/conda/lib/python3.7/site-packages/sklearn/metrics/_classification.py:1318: UndefinedMetricWarning: Precision is ill-defined and being set to 0.0 due to no predicted samples. Use `zero_division` parameter to control this behavior.\n",
      "  _warn_prf(average, modifier, msg_start, len(result))\n"
     ]
    },
    {
     "name": "stdout",
     "output_type": "stream",
     "text": [
      "SVM-Linear: 0.943070 (0.008504)\n",
      "Ensemble Learning: 0.900149 (0.008892)\n",
      "Logistic Regression: 0.943070 (0.008504)\n"
     ]
    },
    {
     "name": "stderr",
     "output_type": "stream",
     "text": [
      "/opt/conda/lib/python3.7/site-packages/sklearn/metrics/_classification.py:1318: UndefinedMetricWarning: Precision is ill-defined and being set to 0.0 due to no predicted samples. Use `zero_division` parameter to control this behavior.\n",
      "  _warn_prf(average, modifier, msg_start, len(result))\n"
     ]
    }
   ],
   "source": [
    "from sklearn import metrics\n",
    "from sklearn.metrics import roc_curve, roc_auc_score,accuracy_score, precision_score, recall_score, f1_score, plot_roc_curve\n",
    "\n",
    "results = []  # accuracy\n",
    "CM = []\n",
    "names = []\n",
    "scoring = 'accuracy'\n",
    "seed = 5\n",
    "\n",
    "# Defining model_performance as a DataFrame to store evaluation metrics\n",
    "\n",
    "model_performance = pd.DataFrame(columns=['Classifiers', 'fpr','tpr','auc','Accuracy','Precision','Recall','F1-Score'])\n",
    "\n",
    "for name, model in models:\n",
    "    \n",
    "    mod = model.fit(X_train_scaled, y_train.values.ravel())\n",
    "    y_pred = mod.predict(X_test_scaled)\n",
    "\n",
    "    CM.append([name, metrics.confusion_matrix(y_test, y_pred)])   # maintaining list of confusion matrix for each model\n",
    "    \n",
    "    kfold = model_selection.KFold(n_splits=5, random_state=seed, shuffle = True)\n",
    "    cv_results = model_selection.cross_val_score(model, X_train_scaled, y_train.values.ravel(), cv=kfold, scoring=scoring)\n",
    "    \n",
    "    fpr, tpr, _ = roc_curve(y_test,  y_pred)\n",
    "    auc = roc_auc_score(y_test, y_pred)\n",
    "\n",
    "    model_performance = model_performance.append({'Classifiers':name,\n",
    "                    'fpr':fpr, \n",
    "                    'tpr':tpr, \n",
    "                    'auc':auc,\n",
    "                    'Accuracy':cv_results.mean(),\n",
    "                    'Precision': precision_score(y_test, y_pred),\n",
    "                    'Recall': recall_score(y_test, y_pred),\n",
    "                    'F1-Score': f1_score(y_test, y_pred)}, ignore_index=True)\n",
    "\n",
    "    results.append(cv_results)\n",
    "    names.append(name)\n",
    "    msg = \"%s: %f (%f)\" % (name, cv_results.mean(), cv_results.std())\n",
    "    print(msg)\n",
    "    \n",
    "# Set name of the classifiers as index labels\n",
    "model_performance.set_index('Classifiers', inplace=True)"
   ]
  },
  {
   "cell_type": "markdown",
   "id": "8d157094",
   "metadata": {
    "papermill": {
     "duration": 0.038331,
     "end_time": "2022-12-06T10:10:31.908955",
     "exception": false,
     "start_time": "2022-12-06T10:10:31.870624",
     "status": "completed"
    },
    "tags": []
   },
   "source": [
    "# **EVALUATING MODELS**"
   ]
  },
  {
   "cell_type": "markdown",
   "id": "992146a0",
   "metadata": {
    "papermill": {
     "duration": 0.022101,
     "end_time": "2022-12-06T10:10:31.961318",
     "exception": false,
     "start_time": "2022-12-06T10:10:31.939217",
     "status": "completed"
    },
    "tags": []
   },
   "source": [
    "# Comparision on the basis of accuracy"
   ]
  },
  {
   "cell_type": "code",
   "execution_count": 36,
   "id": "fb4b7874",
   "metadata": {
    "execution": {
     "iopub.execute_input": "2022-12-06T10:10:32.008434Z",
     "iopub.status.busy": "2022-12-06T10:10:32.008038Z",
     "iopub.status.idle": "2022-12-06T10:10:32.271879Z",
     "shell.execute_reply": "2022-12-06T10:10:32.270484Z"
    },
    "id": "irSCuh3z-Wip",
    "papermill": {
     "duration": 0.290731,
     "end_time": "2022-12-06T10:10:32.274563",
     "exception": false,
     "start_time": "2022-12-06T10:10:31.983832",
     "status": "completed"
    },
    "tags": []
   },
   "outputs": [
    {
     "data": {
      "image/png": "[encoded data removed]",
      "text/plain": [
       "<Figure size 1440x720 with 1 Axes>"
      ]
     },
     "metadata": {},
     "output_type": "display_data"
    }
   ],
   "source": [
    "fig = plt.figure(figsize=(20,10))\n",
    "fig.suptitle('Comparision of classification algorithms')\n",
    "ax = fig.add_subplot(111)\n",
    "plt.boxplot(results)\n",
    "ax.set_xticklabels(names)\n",
    "plt.show()"
   ]
  },
  {
   "cell_type": "markdown",
   "id": "d67445b0",
   "metadata": {
    "papermill": {
     "duration": 0.024063,
     "end_time": "2022-12-06T10:10:32.322291",
     "exception": false,
     "start_time": "2022-12-06T10:10:32.298228",
     "status": "completed"
    },
    "tags": []
   },
   "source": [
    "# Confusion Matrix"
   ]
  },
  {
   "cell_type": "code",
   "execution_count": 37,
   "id": "de9b3b59",
   "metadata": {
    "execution": {
     "iopub.execute_input": "2022-12-06T10:10:32.372569Z",
     "iopub.status.busy": "2022-12-06T10:10:32.371357Z",
     "iopub.status.idle": "2022-12-06T10:10:34.307459Z",
     "shell.execute_reply": "2022-12-06T10:10:34.306405Z"
    },
    "papermill": {
     "duration": 1.963865,
     "end_time": "2022-12-06T10:10:34.310161",
     "exception": false,
     "start_time": "2022-12-06T10:10:32.346296",
     "status": "completed"
    },
    "tags": []
   },
   "outputs": [
    {
     "data": {
      "image/png": "[encoded data removed]",
      "text/plain": [
       "<Figure size 1080x1440 with 11 Axes>"
      ]
     },
     "metadata": {},
     "output_type": "display_data"
    }
   ],
   "source": [
    "sns.set()\n",
    "\n",
    "fig, axs = plt.subplots(3, 2, figsize=(15,20))\n",
    "sns.heatmap(CM[0][1], annot=True, fmt=\".0f\", linewidths=.5, square = True, cmap = 'Blues', ax = axs[0,0]);\n",
    "axs[0, 0].set_title(CM[0][0])\n",
    "sns.heatmap(CM[1][1], annot=True, fmt=\".0f\", linewidths=.5, square = True, cmap = 'YlGnBu',ax = axs[0,1]);\n",
    "axs[0, 1].set_title(CM[1][0])\n",
    "sns.heatmap(CM[2][1], annot=True, fmt=\".0f\", linewidths=.5, square = True, cmap = 'BuPu',ax = axs[1,0]);\n",
    "axs[1, 0].set_title(CM[2][0])\n",
    "sns.heatmap(CM[3][1], annot=True, fmt=\".0f\", linewidths=.5, square = True, cmap = 'Greens' ,ax = axs[1,1]);\n",
    "axs[1, 1].set_title(CM[3][0])\n",
    "sns.heatmap(CM[4][1], annot=True, fmt=\".0f\", linewidths=.5, square = True, cmap = 'YlGnBu' ,ax = axs[2,0]);\n",
    "axs[2, 0].set_title(CM[4][0])\n",
    "\n",
    "for ax in axs.flat:\n",
    "    ax.set(xlabel='Predicted', ylabel='Actual')\n",
    "\n",
    "# Hide x labels and tick labels for top plots and y ticks for right plots.\n",
    "for ax in axs.flat:\n",
    "    ax.label_outer()"
   ]
  },
  {
   "cell_type": "markdown",
   "id": "cb50484f",
   "metadata": {
    "papermill": {
     "duration": 0.023621,
     "end_time": "2022-12-06T10:10:34.358684",
     "exception": false,
     "start_time": "2022-12-06T10:10:34.335063",
     "status": "completed"
    },
    "tags": []
   },
   "source": [
    "# ROC_AUC CURVE ANALYSIS"
   ]
  },
  {
   "cell_type": "code",
   "execution_count": 38,
   "id": "53e95bd0",
   "metadata": {
    "execution": {
     "iopub.execute_input": "2022-12-06T10:10:34.408393Z",
     "iopub.status.busy": "2022-12-06T10:10:34.407966Z",
     "iopub.status.idle": "2022-12-06T10:10:34.805339Z",
     "shell.execute_reply": "2022-12-06T10:10:34.804444Z"
    },
    "id": "awUtvzCrV5SO",
    "papermill": {
     "duration": 0.425416,
     "end_time": "2022-12-06T10:10:34.808498",
     "exception": false,
     "start_time": "2022-12-06T10:10:34.383082",
     "status": "completed"
    },
    "tags": []
   },
   "outputs": [
    {
     "data": {
      "image/png": "[encoded data removed]",
      "text/plain": [
       "<Figure size 1440x1080 with 1 Axes>"
      ]
     },
     "metadata": {},
     "output_type": "display_data"
    }
   ],
   "source": [
    "import numpy as np\n",
    "\n",
    "model_performance['auc']= round(model_performance['auc'],3)\n",
    "\n",
    "sns.set_theme(style = 'white')\n",
    "\n",
    "fig = plt.figure(figsize=(20,15))\n",
    "\n",
    "for i in model_performance.index:\n",
    "    plt.plot(model_performance.loc[i]['fpr'], \n",
    "             model_performance.loc[i]['tpr'], \n",
    "             label=\"{}, AUC={:.3f}\".format(i, model_performance.loc[i]['auc']))\n",
    "    \n",
    "plt.plot([0,1], [0,1], color='black', linestyle='--')\n",
    "\n",
    "plt.xticks(np.arange(0.0, 1.1, step=0.1))\n",
    "plt.xlabel(\"Flase Positive Rate\", fontsize=15)\n",
    "\n",
    "plt.yticks(np.arange(0.0, 1.1, step=0.1))\n",
    "plt.ylabel(\"True Positive Rate\", fontsize=15)\n",
    "\n",
    "plt.title('ROC Curve Analysis', fontweight='bold', fontsize=15)\n",
    "plt.legend(prop={'size':13}, loc='lower right')\n",
    "\n",
    "plt.show()"
   ]
  },
  {
   "cell_type": "code",
   "execution_count": 39,
   "id": "dc3d1603",
   "metadata": {
    "execution": {
     "iopub.execute_input": "2022-12-06T10:10:34.864818Z",
     "iopub.status.busy": "2022-12-06T10:10:34.864094Z",
     "iopub.status.idle": "2022-12-06T10:10:34.871452Z",
     "shell.execute_reply": "2022-12-06T10:10:34.870166Z"
    },
    "papermill": {
     "duration": 0.038781,
     "end_time": "2022-12-06T10:10:34.874196",
     "exception": false,
     "start_time": "2022-12-06T10:10:34.835415",
     "status": "completed"
    },
    "tags": []
   },
   "outputs": [],
   "source": [
    "performance = model_performance.reset_index()\n",
    "performance = performance[['Classifiers','auc','Accuracy','Precision','Recall','F1-Score']]"
   ]
  },
  {
   "cell_type": "code",
   "execution_count": 40,
   "id": "5e7e9eda",
   "metadata": {
    "execution": {
     "iopub.execute_input": "2022-12-06T10:10:34.927839Z",
     "iopub.status.busy": "2022-12-06T10:10:34.927414Z",
     "iopub.status.idle": "2022-12-06T10:10:34.940985Z",
     "shell.execute_reply": "2022-12-06T10:10:34.940085Z"
    },
    "papermill": {
     "duration": 0.04298,
     "end_time": "2022-12-06T10:10:34.943021",
     "exception": false,
     "start_time": "2022-12-06T10:10:34.900041",
     "status": "completed"
    },
    "tags": []
   },
   "outputs": [
    {
     "data": {
      "text/html": [
       "<div>\n",
       "<style scoped>\n",
       "    .dataframe tbody tr th:only-of-type {\n",
       "        vertical-align: middle;\n",
       "    }\n",
       "\n",
       "    .dataframe tbody tr th {\n",
       "        vertical-align: top;\n",
       "    }\n",
       "\n",
       "    .dataframe thead th {\n",
       "        text-align: right;\n",
       "    }\n",
       "</style>\n",
       "<table border=\"1\" class=\"dataframe\">\n",
       "  <thead>\n",
       "    <tr style=\"text-align: right;\">\n",
       "      <th></th>\n",
       "      <th>Classifiers</th>\n",
       "      <th>auc</th>\n",
       "      <th>Accuracy</th>\n",
       "      <th>Precision</th>\n",
       "      <th>Recall</th>\n",
       "      <th>F1-Score</th>\n",
       "    </tr>\n",
       "  </thead>\n",
       "  <tbody>\n",
       "    <tr>\n",
       "      <th>0</th>\n",
       "      <td>KNN</td>\n",
       "      <td>0.508</td>\n",
       "      <td>0.943964</td>\n",
       "      <td>0.500000</td>\n",
       "      <td>0.017857</td>\n",
       "      <td>0.034483</td>\n",
       "    </tr>\n",
       "    <tr>\n",
       "      <th>1</th>\n",
       "      <td>NB</td>\n",
       "      <td>0.630</td>\n",
       "      <td>0.441729</td>\n",
       "      <td>0.089256</td>\n",
       "      <td>0.964286</td>\n",
       "      <td>0.163389</td>\n",
       "    </tr>\n",
       "    <tr>\n",
       "      <th>2</th>\n",
       "      <td>SVM-Linear</td>\n",
       "      <td>0.500</td>\n",
       "      <td>0.943070</td>\n",
       "      <td>0.000000</td>\n",
       "      <td>0.000000</td>\n",
       "      <td>0.000000</td>\n",
       "    </tr>\n",
       "    <tr>\n",
       "      <th>3</th>\n",
       "      <td>Ensemble Learning</td>\n",
       "      <td>0.544</td>\n",
       "      <td>0.900149</td>\n",
       "      <td>0.194444</td>\n",
       "      <td>0.125000</td>\n",
       "      <td>0.152174</td>\n",
       "    </tr>\n",
       "    <tr>\n",
       "      <th>4</th>\n",
       "      <td>Logistic Regression</td>\n",
       "      <td>0.500</td>\n",
       "      <td>0.943070</td>\n",
       "      <td>0.000000</td>\n",
       "      <td>0.000000</td>\n",
       "      <td>0.000000</td>\n",
       "    </tr>\n",
       "  </tbody>\n",
       "</table>\n",
       "</div>"
      ],
      "text/plain": [
       "           Classifiers    auc  Accuracy  Precision    Recall  F1-Score\n",
       "0                  KNN  0.508  0.943964   0.500000  0.017857  0.034483\n",
       "1                   NB  0.630  0.441729   0.089256  0.964286  0.163389\n",
       "2           SVM-Linear  0.500  0.943070   0.000000  0.000000  0.000000\n",
       "3    Ensemble Learning  0.544  0.900149   0.194444  0.125000  0.152174\n",
       "4  Logistic Regression  0.500  0.943070   0.000000  0.000000  0.000000"
      ]
     },
     "execution_count": 40,
     "metadata": {},
     "output_type": "execute_result"
    }
   ],
   "source": [
    "performance"
   ]
  },
  {
   "cell_type": "code",
   "execution_count": 41,
   "id": "c99836a5",
   "metadata": {
    "execution": {
     "iopub.execute_input": "2022-12-06T10:10:34.997395Z",
     "iopub.status.busy": "2022-12-06T10:10:34.996294Z",
     "iopub.status.idle": "2022-12-06T10:10:35.002793Z",
     "shell.execute_reply": "2022-12-06T10:10:35.001731Z"
    },
    "papermill": {
     "duration": 0.036333,
     "end_time": "2022-12-06T10:10:35.005436",
     "exception": false,
     "start_time": "2022-12-06T10:10:34.969103",
     "status": "completed"
    },
    "tags": []
   },
   "outputs": [],
   "source": [
    "performance['Accuracy'] = round(performance['Accuracy'],3)"
   ]
  },
  {
   "cell_type": "code",
   "execution_count": 42,
   "id": "7d52b407",
   "metadata": {
    "execution": {
     "iopub.execute_input": "2022-12-06T10:10:35.060461Z",
     "iopub.status.busy": "2022-12-06T10:10:35.060036Z",
     "iopub.status.idle": "2022-12-06T10:10:35.075542Z",
     "shell.execute_reply": "2022-12-06T10:10:35.074421Z"
    },
    "papermill": {
     "duration": 0.045705,
     "end_time": "2022-12-06T10:10:35.078034",
     "exception": false,
     "start_time": "2022-12-06T10:10:35.032329",
     "status": "completed"
    },
    "tags": []
   },
   "outputs": [
    {
     "data": {
      "text/html": [
       "<div>\n",
       "<style scoped>\n",
       "    .dataframe tbody tr th:only-of-type {\n",
       "        vertical-align: middle;\n",
       "    }\n",
       "\n",
       "    .dataframe tbody tr th {\n",
       "        vertical-align: top;\n",
       "    }\n",
       "\n",
       "    .dataframe thead th {\n",
       "        text-align: right;\n",
       "    }\n",
       "</style>\n",
       "<table border=\"1\" class=\"dataframe\">\n",
       "  <thead>\n",
       "    <tr style=\"text-align: right;\">\n",
       "      <th></th>\n",
       "      <th>Classifiers</th>\n",
       "      <th>auc</th>\n",
       "      <th>Accuracy</th>\n",
       "      <th>Precision</th>\n",
       "      <th>Recall</th>\n",
       "      <th>F1-Score</th>\n",
       "    </tr>\n",
       "  </thead>\n",
       "  <tbody>\n",
       "    <tr>\n",
       "      <th>0</th>\n",
       "      <td>KNN</td>\n",
       "      <td>0.508</td>\n",
       "      <td>0.944</td>\n",
       "      <td>0.500000</td>\n",
       "      <td>0.017857</td>\n",
       "      <td>0.034483</td>\n",
       "    </tr>\n",
       "    <tr>\n",
       "      <th>2</th>\n",
       "      <td>SVM-Linear</td>\n",
       "      <td>0.500</td>\n",
       "      <td>0.943</td>\n",
       "      <td>0.000000</td>\n",
       "      <td>0.000000</td>\n",
       "      <td>0.000000</td>\n",
       "    </tr>\n",
       "    <tr>\n",
       "      <th>4</th>\n",
       "      <td>Logistic Regression</td>\n",
       "      <td>0.500</td>\n",
       "      <td>0.943</td>\n",
       "      <td>0.000000</td>\n",
       "      <td>0.000000</td>\n",
       "      <td>0.000000</td>\n",
       "    </tr>\n",
       "    <tr>\n",
       "      <th>3</th>\n",
       "      <td>Ensemble Learning</td>\n",
       "      <td>0.544</td>\n",
       "      <td>0.900</td>\n",
       "      <td>0.194444</td>\n",
       "      <td>0.125000</td>\n",
       "      <td>0.152174</td>\n",
       "    </tr>\n",
       "    <tr>\n",
       "      <th>1</th>\n",
       "      <td>NB</td>\n",
       "      <td>0.630</td>\n",
       "      <td>0.442</td>\n",
       "      <td>0.089256</td>\n",
       "      <td>0.964286</td>\n",
       "      <td>0.163389</td>\n",
       "    </tr>\n",
       "  </tbody>\n",
       "</table>\n",
       "</div>"
      ],
      "text/plain": [
       "           Classifiers    auc  Accuracy  Precision    Recall  F1-Score\n",
       "0                  KNN  0.508     0.944   0.500000  0.017857  0.034483\n",
       "2           SVM-Linear  0.500     0.943   0.000000  0.000000  0.000000\n",
       "4  Logistic Regression  0.500     0.943   0.000000  0.000000  0.000000\n",
       "3    Ensemble Learning  0.544     0.900   0.194444  0.125000  0.152174\n",
       "1                   NB  0.630     0.442   0.089256  0.964286  0.163389"
      ]
     },
     "execution_count": 42,
     "metadata": {},
     "output_type": "execute_result"
    }
   ],
   "source": [
    "performance.sort_values('Accuracy',ascending = False).head()"
   ]
  },
  {
   "cell_type": "code",
   "execution_count": 43,
   "id": "053f8fa1",
   "metadata": {
    "execution": {
     "iopub.execute_input": "2022-12-06T10:10:35.132566Z",
     "iopub.status.busy": "2022-12-06T10:10:35.132149Z",
     "iopub.status.idle": "2022-12-06T10:10:35.150691Z",
     "shell.execute_reply": "2022-12-06T10:10:35.149478Z"
    },
    "papermill": {
     "duration": 0.048951,
     "end_time": "2022-12-06T10:10:35.153364",
     "exception": false,
     "start_time": "2022-12-06T10:10:35.104413",
     "status": "completed"
    },
    "tags": []
   },
   "outputs": [
    {
     "data": {
      "text/html": [
       "<div>\n",
       "<style scoped>\n",
       "    .dataframe tbody tr th:only-of-type {\n",
       "        vertical-align: middle;\n",
       "    }\n",
       "\n",
       "    .dataframe tbody tr th {\n",
       "        vertical-align: top;\n",
       "    }\n",
       "\n",
       "    .dataframe thead th {\n",
       "        text-align: right;\n",
       "    }\n",
       "</style>\n",
       "<table border=\"1\" class=\"dataframe\">\n",
       "  <thead>\n",
       "    <tr style=\"text-align: right;\">\n",
       "      <th></th>\n",
       "      <th>Classifiers</th>\n",
       "      <th>auc</th>\n",
       "      <th>Accuracy</th>\n",
       "      <th>Precision</th>\n",
       "      <th>Recall</th>\n",
       "      <th>F1-Score</th>\n",
       "    </tr>\n",
       "  </thead>\n",
       "  <tbody>\n",
       "    <tr>\n",
       "      <th>1</th>\n",
       "      <td>NB</td>\n",
       "      <td>0.630</td>\n",
       "      <td>0.442</td>\n",
       "      <td>0.089256</td>\n",
       "      <td>0.964286</td>\n",
       "      <td>0.163389</td>\n",
       "    </tr>\n",
       "    <tr>\n",
       "      <th>3</th>\n",
       "      <td>Ensemble Learning</td>\n",
       "      <td>0.544</td>\n",
       "      <td>0.900</td>\n",
       "      <td>0.194444</td>\n",
       "      <td>0.125000</td>\n",
       "      <td>0.152174</td>\n",
       "    </tr>\n",
       "    <tr>\n",
       "      <th>0</th>\n",
       "      <td>KNN</td>\n",
       "      <td>0.508</td>\n",
       "      <td>0.944</td>\n",
       "      <td>0.500000</td>\n",
       "      <td>0.017857</td>\n",
       "      <td>0.034483</td>\n",
       "    </tr>\n",
       "    <tr>\n",
       "      <th>2</th>\n",
       "      <td>SVM-Linear</td>\n",
       "      <td>0.500</td>\n",
       "      <td>0.943</td>\n",
       "      <td>0.000000</td>\n",
       "      <td>0.000000</td>\n",
       "      <td>0.000000</td>\n",
       "    </tr>\n",
       "    <tr>\n",
       "      <th>4</th>\n",
       "      <td>Logistic Regression</td>\n",
       "      <td>0.500</td>\n",
       "      <td>0.943</td>\n",
       "      <td>0.000000</td>\n",
       "      <td>0.000000</td>\n",
       "      <td>0.000000</td>\n",
       "    </tr>\n",
       "  </tbody>\n",
       "</table>\n",
       "</div>"
      ],
      "text/plain": [
       "           Classifiers    auc  Accuracy  Precision    Recall  F1-Score\n",
       "1                   NB  0.630     0.442   0.089256  0.964286  0.163389\n",
       "3    Ensemble Learning  0.544     0.900   0.194444  0.125000  0.152174\n",
       "0                  KNN  0.508     0.944   0.500000  0.017857  0.034483\n",
       "2           SVM-Linear  0.500     0.943   0.000000  0.000000  0.000000\n",
       "4  Logistic Regression  0.500     0.943   0.000000  0.000000  0.000000"
      ]
     },
     "execution_count": 43,
     "metadata": {},
     "output_type": "execute_result"
    }
   ],
   "source": [
    "performance.sort_values(['auc','Accuracy'],ascending = False).head()"
   ]
  },
  {
   "cell_type": "markdown",
   "id": "297651be",
   "metadata": {
    "papermill": {
     "duration": 0.026635,
     "end_time": "2022-12-06T10:10:35.206735",
     "exception": false,
     "start_time": "2022-12-06T10:10:35.180100",
     "status": "completed"
    },
    "tags": []
   },
   "source": [
    "# Evaluating Models using different Metrics"
   ]
  },
  {
   "cell_type": "code",
   "execution_count": 44,
   "id": "5d0fa6d2",
   "metadata": {
    "execution": {
     "iopub.execute_input": "2022-12-06T10:10:35.261294Z",
     "iopub.status.busy": "2022-12-06T10:10:35.260878Z",
     "iopub.status.idle": "2022-12-06T10:10:35.615205Z",
     "shell.execute_reply": "2022-12-06T10:10:35.614116Z"
    },
    "papermill": {
     "duration": 0.38467,
     "end_time": "2022-12-06T10:10:35.617740",
     "exception": false,
     "start_time": "2022-12-06T10:10:35.233070",
     "status": "completed"
    },
    "tags": []
   },
   "outputs": [
    {
     "data": {
      "text/plain": [
       "<AxesSubplot:title={'center':'Classifiers Performance'}, xlabel='Classifiers'>"
      ]
     },
     "execution_count": 44,
     "metadata": {},
     "output_type": "execute_result"
    },
    {
     "data": {
      "text/plain": [
       "<Figure size 432x288 with 0 Axes>"
      ]
     },
     "metadata": {},
     "output_type": "display_data"
    },
    {
     "data": {
      "image/png": "[encoded data removed]",
      "text/plain": [
       "<Figure size 1440x720 with 1 Axes>"
      ]
     },
     "metadata": {},
     "output_type": "display_data"
    }
   ],
   "source": [
    "plt.figure()\n",
    "plt.rcParams.update({'font.size': 22}) \n",
    "\n",
    "performance.plot(x='Classifiers',\n",
    "        kind='bar',\n",
    "        stacked=False,\n",
    "        title='Classifiers Performance',\n",
    "        figsize = (20,10))"
   ]
  },
  {
   "cell_type": "code",
   "execution_count": null,
   "id": "c5f2b098",
   "metadata": {
    "papermill": {
     "duration": 0.027231,
     "end_time": "2022-12-06T10:10:35.671866",
     "exception": false,
     "start_time": "2022-12-06T10:10:35.644635",
     "status": "completed"
    },
    "tags": []
   },
   "outputs": [],
   "source": []
  }
 ],
 "metadata": {
  "kernelspec": {
   "display_name": "Python 3",
   "language": "python",
   "name": "python3"
  },
  "language_info": {
   "codemirror_mode": {
    "name": "ipython",
    "version": 3
   },
   "file_extension": ".py",
   "mimetype": "text/x-python",
   "name": "python",
   "nbconvert_exporter": "python",
   "pygments_lexer": "ipython3",
   "version": "3.7.12"
  },
  "papermill": {
   "default_parameters": {},
   "duration": 26.081188,
   "end_time": "2022-12-06T10:10:36.521425",
   "environment_variables": {},
   "exception": null,
   "input_path": "__notebook__.ipynb",
   "output_path": "__notebook__.ipynb",
   "parameters": {},
   "start_time": "2022-12-06T10:10:10.440237",
   "version": "2.3.4"
  }
 },
 "nbformat": 4,
 "nbformat_minor": 5
}
